{
 "cells": [
  {
   "cell_type": "code",
   "execution_count": 1,
   "id": "93f14448",
   "metadata": {},
   "outputs": [],
   "source": [
    "%load_ext autoreload\n",
    "%autoreload 2"
   ]
  },
  {
   "cell_type": "code",
   "execution_count": 2,
   "id": "5346d562",
   "metadata": {},
   "outputs": [],
   "source": [
    "import matplotlib.pyplot as plt\n",
    "%matplotlib inline"
   ]
  },
  {
   "cell_type": "code",
   "execution_count": 3,
   "id": "aacf2477",
   "metadata": {},
   "outputs": [
    {
     "name": "stdout",
     "output_type": "stream",
     "text": [
      "tf: 2.8.0, keras: 2.8.0\n"
     ]
    }
   ],
   "source": [
    "import os\n",
    "os.environ['TF_CPP_MIN_LOG_LEVEL'] = '1'\n",
    "import tensorflow as tf\n",
    "import tensorflow.keras as keras\n",
    "physical_devices = tf.config.list_physical_devices('GPU')\n",
    "tf.config.experimental.set_memory_growth(physical_devices[0], True)\n",
    "print(f'tf: {tf.__version__}, keras: {keras.__version__}')"
   ]
  },
  {
   "cell_type": "code",
   "execution_count": 4,
   "id": "f35626aa",
   "metadata": {},
   "outputs": [],
   "source": [
    "from tensorflow.keras import layers"
   ]
  },
  {
   "cell_type": "code",
   "execution_count": 5,
   "id": "f38fb67d",
   "metadata": {},
   "outputs": [
    {
     "data": {
      "text/plain": [
       "'0.15.2'"
      ]
     },
     "execution_count": 5,
     "metadata": {},
     "output_type": "execute_result"
    }
   ],
   "source": [
    "# for managing all model metadata, use neptune.ai:\n",
    "import neptune.new as neptune\n",
    "from neptune.new.integrations.tensorflow_keras import NeptuneCallback\n",
    "neptune.__version__"
   ]
  },
  {
   "cell_type": "code",
   "execution_count": 6,
   "id": "258aabd0",
   "metadata": {},
   "outputs": [],
   "source": [
    "import numpy as np\n",
    "\n",
    "import sys\n",
    "sys.path.insert(0, '..')\n",
    "import ml_utils\n",
    "import pose_utils\n",
    "from pose_utils import DEG_TO_RAD\n",
    "from pose_utils import RAD_TO_SCALED\n",
    "from pose_utils import MAX_DEPTH\n",
    "from pose_utils import METERS_TO_SCALED\n",
    "from pose_utils import INTENSITY_TO_SCALED"
   ]
  },
  {
   "cell_type": "code",
   "execution_count": 7,
   "id": "e0dc3884",
   "metadata": {},
   "outputs": [],
   "source": [
    "# tf_data_path = '/data/all_around_zones_3500_tf_data'\n",
    "# tf_data_path = '/data/all_around_scout_4501_tf_data'\n",
    "# tf_data_path = '/data/face_to_face_zones_2500_tf_data'\n",
    "# tf_data_path = '/data/hopper_4500_tf_data'\n",
    "tf_data_path = '/data/t_formation_zones_3500_tf_data'"
   ]
  },
  {
   "cell_type": "code",
   "execution_count": 8,
   "id": "d3eab0c0",
   "metadata": {},
   "outputs": [],
   "source": [
    "ds_train = ml_utils.load_dataset(tf_data_path + '_train', compression='GZIP')\n",
    "ds_val = ml_utils.load_dataset(tf_data_path + '_val', compression='GZIP')\n",
    "ds_test = ml_utils.load_dataset(tf_data_path + '_test', compression='GZIP')\n",
    "\n",
    "n_channels = 4"
   ]
  },
  {
   "cell_type": "code",
   "execution_count": 9,
   "id": "d5d21ec0",
   "metadata": {},
   "outputs": [],
   "source": [
    "### (optional) \n",
    "### test performance with a subset of input data \n",
    "### (instead of RGBD, try other combinations and color spaces)\n",
    "# import cv2\n",
    "# def remove_band(image, b):\n",
    "#     image = np.delete(image, b, -1)\n",
    "#     return image\n",
    "\n",
    "# def rgb_to_hsv(image):\n",
    "#     image = image.numpy() * 255.\n",
    "#     hsv = cv2.cvtColor(image.astype('uint8'), cv2.COLOR_RGB2HSV) / 255.\n",
    "#     return hsv\n",
    "\n",
    "# def rgbd_to_hsvd(image):\n",
    "#     image = image.numpy()\n",
    "#     img = image[:,:,:3] * 255.\n",
    "#     hsv = cv2.cvtColor(img.astype('uint8'), cv2.COLOR_RGB2HSV) / 255.\n",
    "#     image[:,:,:3] = hsv\n",
    "#     return image\n",
    "\n",
    "# def rgbd_to_hvd(image):\n",
    "#     img = image[:,:,:3].numpy() * 255.\n",
    "#     hsv = cv2.cvtColor(img.astype('uint8'), cv2.COLOR_RGB2HSV) / 255.\n",
    "#     hv = remove_band(hsv, 1)\n",
    "#     image = remove_band(image, 1)\n",
    "#     image[:,:,:2] = hv\n",
    "#     return image\n",
    "\n",
    "# def rgbd_to_hv(image):\n",
    "#     image = image.numpy()\n",
    "#     img = image[:,:,:3] * 255.\n",
    "#     hsv = cv2.cvtColor(img.astype('uint8'), cv2.COLOR_RGB2HSV) / 255.\n",
    "#     image[:,:,:3] = hsv\n",
    "#     return remove_band(image, 1)[:,:,:2]\n",
    "\n",
    "# def rgbd_to_hd(image):\n",
    "#     image = image.numpy()\n",
    "#     img = image[:,:,:3] * 255.\n",
    "#     hsv = cv2.cvtColor(img.astype('uint8'), cv2.COLOR_RGB2HSV) / 255.\n",
    "#     image[:,:,:3] = hsv\n",
    "#     image = remove_band(image, 1) # remove s\n",
    "#     image = remove_band(image, 1) # remove v\n",
    "#     return image\n",
    "\n",
    "# n_channels = 1\n",
    "# mapper = lambda image, label: (image[:,:,-1], label)  # only Depth\n",
    "# n_channels = 3\n",
    "# mapper = lambda image, label: (image[:,:,:3], label)  # only RGB\n",
    "# n_channels = 3\n",
    "# mapper = lambda image, label: (tf.py_function(func=remove_band, inp=[image, 1], Tout=tf.float64), label)  # only Red + Blue + Depth\n",
    "# n_channels = 2\n",
    "# mapper = lambda image, label: (tf.py_function(func=remove_band, inp=[image[:,:,:3], 1], Tout=tf.float64), label)  # only Red + Blue\n",
    "# n_channels = 3\n",
    "# mapper = lambda image, label: (tf.py_function(func=rgb_to_hsv, inp=[image[:,:,:3]], Tout=tf.float64), label)  # HSV\n",
    "# n_channels = 4\n",
    "# mapper = lambda image, label: (tf.py_function(func=rgbd_to_hsvd, inp=[image], Tout=tf.float64), label)  # HSV + Depth\n",
    "# n_channels = 3\n",
    "# mapper = lambda image, label: (tf.py_function(func=rgbd_to_hvd, inp=[image], Tout=tf.float64), label)  # only Hue and Value + Depth\n",
    "# n_channels = 2\n",
    "# mapper = lambda image, label: (tf.py_function(func=rgbd_to_hv, inp=[image], Tout=tf.float64), label)  # only Hue and Value\n",
    "# n_channels = 2\n",
    "# mapper = lambda image, label: (tf.py_function(func=rgbd_to_hd, inp=[image], Tout=tf.float64), label)  # only Hue + Depth\n",
    "# ds_train = ds_train.map(mapper)\n",
    "# ds_val = ds_val.map(mapper)\n",
    "# ds_test = ds_test.map(mapper)"
   ]
  },
  {
   "cell_type": "code",
   "execution_count": 10,
   "id": "4a67f212",
   "metadata": {},
   "outputs": [
    {
     "name": "stdout",
     "output_type": "stream",
     "text": [
      "img shape: (480, 640, 4), found 4 channels\n",
      "raw:   d = 0.162 , theta = -0.410    , yaw = 0.042 \n",
      "human: d = 4.05 m, theta = -73.8 deg, yaw = 7.5 deg\n"
     ]
    },
    {
     "data": {
      "image/png": "[encoded data removed]",
      "text/plain": [
       "<Figure size 1440x360 with 4 Axes>"
      ]
     },
     "metadata": {
      "needs_background": "light"
     },
     "output_type": "display_data"
    }
   ],
   "source": [
    "for image, label in ds_train.take(1):\n",
    "    pose_utils.show_rgbd(image, format='rgbd')\n",
    "    d, theta, yaw = label.numpy()\n",
    "    print(f\"raw:   d = {d:.3f} , theta = {theta:.3f}    , yaw = {yaw:.3f} \")\n",
    "    print(f\"human: d = {d / METERS_TO_SCALED:.2f} m, theta = {theta / RAD_TO_SCALED / DEG_TO_RAD:.1f} deg, yaw = {yaw / RAD_TO_SCALED / DEG_TO_RAD:.1f} deg\")"
   ]
  },
  {
   "cell_type": "code",
   "execution_count": 11,
   "id": "50f23d87",
   "metadata": {},
   "outputs": [],
   "source": [
    "PROJECT = 'ljburtz/relative-pose'\n",
    "PARAMS = {\n",
    "    'height': 120,\n",
    "    'width': 160,\n",
    "    'channels': n_channels,\n",
    "    'pool_size' : 2,\n",
    "    'patience': 8,\n",
    "    'batch_size': 12,\n",
    "    'epochs': 300,\n",
    "    'alpha': 0.5,\n",
    "    'beta': 5.,\n",
    "    'description': 'test run'\n",
    "}\n",
    "# TAGS = ['all_around']\n",
    "# TAGS = ['all_around_scout']\n",
    "# TAGS = ['face_to_face']\n",
    "# TAGS = ['hopper']\n",
    "TAGS = ['t_formation']"
   ]
  },
  {
   "cell_type": "markdown",
   "id": "b4530f43",
   "metadata": {},
   "source": [
    "## Build the model"
   ]
  },
  {
   "cell_type": "code",
   "execution_count": 12,
   "id": "2e802f33",
   "metadata": {},
   "outputs": [],
   "source": [
    "def make_basic_model(input_shape, height, width, n_outputs, pool_size):\n",
    "\n",
    "    model = keras.Sequential(\n",
    "    [\n",
    "        keras.Input(shape=input_shape),\n",
    "        layers.experimental.preprocessing.Resizing(height, width),\n",
    "        layers.Conv2D(32, kernel_size=(3, 3), activation=\"relu\", padding=\"same\"),\n",
    "        layers.MaxPooling2D(pool_size=pool_size),\n",
    "        layers.Conv2D(64, kernel_size=(3, 3), activation=\"relu\", padding=\"same\"),\n",
    "        layers.MaxPooling2D(pool_size=pool_size),        \n",
    "        layers.Conv2D(128, kernel_size=(3, 3), activation=\"relu\", padding=\"same\"),\n",
    "        layers.MaxPooling2D(pool_size=pool_size),\n",
    "        layers.Flatten(),\n",
    "\n",
    "        layers.Dense(16, activation=\"relu\"),\n",
    "        layers.BatchNormalization(),\n",
    "        layers.Dense(16, activation=\"relu\"),\n",
    "        layers.BatchNormalization(),\n",
    "        layers.Dropout(0.5),\n",
    "        layers.Dense(n_outputs, activation=\"linear\"),\n",
    "    ]\n",
    ")\n",
    "    return model"
   ]
  },
  {
   "cell_type": "code",
   "execution_count": 13,
   "id": "31a844de",
   "metadata": {},
   "outputs": [],
   "source": [
    "def make_xception_model(input_shape, height, width, n_outputs, pool_size):\n",
    "    inputs = keras.Input(shape=input_shape)\n",
    "    # Image resizing layer\n",
    "    x = layers.experimental.preprocessing.Resizing(height, width)(inputs)\n",
    "\n",
    "    # Entry block\n",
    "    x = layers.Conv2D(32, 3, strides=2, padding=\"same\")(x)\n",
    "    x = layers.BatchNormalization()(x)\n",
    "    x = layers.Activation(\"relu\")(x)\n",
    "\n",
    "    x = layers.Conv2D(64, 3, padding=\"same\")(x)\n",
    "    x = layers.BatchNormalization()(x)\n",
    "    x = layers.Activation(\"relu\")(x)\n",
    "\n",
    "    previous_block_activation = x  # Set aside residual\n",
    "\n",
    "    for size in [64]:\n",
    "        x = layers.Activation(\"relu\")(x)\n",
    "        x = layers.SeparableConv2D(size, 3, padding=\"same\")(x)\n",
    "        x = layers.BatchNormalization()(x)\n",
    "\n",
    "        x = layers.Activation(\"relu\")(x)\n",
    "        x = layers.SeparableConv2D(size, 3, padding=\"same\")(x)\n",
    "        x = layers.BatchNormalization()(x)\n",
    "\n",
    "        x = layers.MaxPooling2D(pool_size, strides=2, padding=\"same\")(x)\n",
    "\n",
    "        # Project residual\n",
    "        residual = layers.Conv2D(size, 1, strides=2, padding=\"same\")(previous_block_activation)\n",
    "        x = layers.add([x, residual])  # Add back residual\n",
    "        previous_block_activation = x  # Set aside next residual\n",
    "\n",
    "    x = layers.SeparableConv2D(128, 3, padding=\"same\")(x)\n",
    "    x = layers.BatchNormalization()(x)\n",
    "    x = layers.Activation(\"relu\")(x)\n",
    "\n",
    "    x = layers.GlobalAveragePooling2D()(x)\n",
    "    x = layers.Flatten()(x)\n",
    "    \n",
    "    x = layers.Dense(n_outputs*3)(x)\n",
    "    x = layers.BatchNormalization()(x)\n",
    "    x = layers.Activation(\"relu\")(x)\n",
    "    x = layers.Dropout(0.5)(x)\n",
    "\n",
    "    outputs = layers.Dense(n_outputs, activation='linear')(x)\n",
    "    \n",
    "    return keras.Model(inputs, outputs)"
   ]
  },
  {
   "cell_type": "code",
   "execution_count": 16,
   "id": "7c78c6d8",
   "metadata": {
    "scrolled": true
   },
   "outputs": [
    {
     "name": "stdout",
     "output_type": "stream",
     "text": [
      "Model: \"sequential_1\"\n",
      "_________________________________________________________________\n",
      " Layer (type)                Output Shape              Param #   \n",
      "=================================================================\n",
      " resizing_2 (Resizing)       (None, 120, 160, 4)       0         \n",
      "                                                                 \n",
      " conv2d_6 (Conv2D)           (None, 120, 160, 32)      1184      \n",
      "                                                                 \n",
      " max_pooling2d_4 (MaxPooling  (None, 60, 80, 32)       0         \n",
      " 2D)                                                             \n",
      "                                                                 \n",
      " conv2d_7 (Conv2D)           (None, 60, 80, 64)        18496     \n",
      "                                                                 \n",
      " max_pooling2d_5 (MaxPooling  (None, 30, 40, 64)       0         \n",
      " 2D)                                                             \n",
      "                                                                 \n",
      " conv2d_8 (Conv2D)           (None, 30, 40, 128)       73856     \n",
      "                                                                 \n",
      " max_pooling2d_6 (MaxPooling  (None, 15, 20, 128)      0         \n",
      " 2D)                                                             \n",
      "                                                                 \n",
      " flatten_2 (Flatten)         (None, 38400)             0         \n",
      "                                                                 \n",
      " dense_5 (Dense)             (None, 16)                614416    \n",
      "                                                                 \n",
      " batch_normalization_8 (Batc  (None, 16)               64        \n",
      " hNormalization)                                                 \n",
      "                                                                 \n",
      " dense_6 (Dense)             (None, 16)                272       \n",
      "                                                                 \n",
      " batch_normalization_9 (Batc  (None, 16)               64        \n",
      " hNormalization)                                                 \n",
      "                                                                 \n",
      " dropout_2 (Dropout)         (None, 16)                0         \n",
      "                                                                 \n",
      " dense_7 (Dense)             (None, 3)                 51        \n",
      "                                                                 \n",
      "=================================================================\n",
      "Total params: 708,403\n",
      "Trainable params: 708,339\n",
      "Non-trainable params: 64\n",
      "_________________________________________________________________\n"
     ]
    },
    {
     "data": {
      "image/png": "[encoded data removed]",
      "text/plain": [
       "<IPython.core.display.Image object>"
      ]
     },
     "execution_count": 16,
     "metadata": {},
     "output_type": "execute_result"
    }
   ],
   "source": [
    "# input_shape = (28, 28, 1) # for MNIST\n",
    "# input_shape = (32, 32, 3)  # for CIFAR\n",
    "input_shape = (480, 640, n_channels)\n",
    "height, width = PARAMS['height'], PARAMS['width']\n",
    "pool_size = PARAMS['pool_size']\n",
    "n_outputs = 3\n",
    "\n",
    "model = make_basic_model(input_shape, height, width, n_outputs, pool_size)\n",
    "# model = make_xception_model(input_shape, height, width, n_outputs, pool_size)\n",
    "model.summary()\n",
    "keras.utils.plot_model(model, show_shapes=True)"
   ]
  },
  {
   "cell_type": "markdown",
   "id": "bcca27f2",
   "metadata": {},
   "source": [
    "## Train the model"
   ]
  },
  {
   "cell_type": "code",
   "execution_count": 16,
   "id": "e5850466",
   "metadata": {},
   "outputs": [],
   "source": [
    "batch_size = PARAMS['batch_size']\n",
    "buffer_size = tf.data.experimental.AUTOTUNE\n",
    "\n",
    "ds_train_b = ds_train.batch(batch_size, drop_remainder=True)\n",
    "ds_train_b = ds_train_b.prefetch(buffer_size)\n",
    "ds_val_b = ds_val.batch(batch_size, drop_remainder=True)\n",
    "ds_val_b = ds_val_b.prefetch(buffer_size)\n",
    "ds_test_b = ds_test.batch(batch_size, drop_remainder=True)\n",
    "ds_test_b = ds_test_b.prefetch(buffer_size)"
   ]
  },
  {
   "cell_type": "code",
   "execution_count": null,
   "id": "b6f2aee0",
   "metadata": {},
   "outputs": [],
   "source": [
    "epochs = PARAMS['epochs']\n",
    "alpha = PARAMS['alpha']\n",
    "beta = PARAMS['beta']\n",
    "\n",
    "def pose_loss(y_true, y_pred):\n",
    "    pose_loss = \\\n",
    "        ml_utils.distance_loss(y_true, y_pred) +  \\\n",
    "        alpha * ml_utils.theta_loss(y_true, y_pred) + \\\n",
    "        beta * ml_utils.orientation_loss(y_true, y_pred)\n",
    "    return pose_loss\n",
    "\n",
    "def theta_loss(y_true, y_pred):\n",
    "    return alpha * ml_utils.theta_loss(y_true, y_pred)\n",
    "\n",
    "def orientation_loss(y_true, y_pred):\n",
    "    return beta * ml_utils.orientation_loss(y_true, y_pred)\n",
    "\n",
    "model.compile(\n",
    "    loss=pose_loss, \n",
    "    optimizer='adam', \n",
    "    metrics=[\n",
    "        ml_utils.distance_loss,     # intermediate loss, for tuning alpha and beta\n",
    "        theta_loss,                 # intermediate loss, for tuning alpha and beta\n",
    "        orientation_loss,           # intermediate loss, for tuning alpha and beta\n",
    "        ml_utils.distance_diff,     # intermediate errors: human understandable\n",
    "        ml_utils.theta_diff,        # intermediate errors: human understandable\n",
    "        ml_utils.orientation_diff,  # intermediate errors: human understandable\n",
    "    ]\n",
    ")"
   ]
  },
  {
   "cell_type": "code",
   "execution_count": 17,
   "id": "eb324b5a",
   "metadata": {},
   "outputs": [
    {
     "data": {
      "text/plain": [
       "({'height': 120,\n",
       "  'width': 160,\n",
       "  'channels': 4,\n",
       "  'pool_size': 2,\n",
       "  'patience': 8,\n",
       "  'batch_size': 12,\n",
       "  'epochs': 300,\n",
       "  'alpha': 0.5,\n",
       "  'beta': 5.0,\n",
       "  'description': 'test run'},\n",
       " ['t_formation'])"
      ]
     },
     "execution_count": 17,
     "metadata": {},
     "output_type": "execute_result"
    }
   ],
   "source": [
    "PARAMS, TAGS"
   ]
  },
  {
   "cell_type": "code",
   "execution_count": 20,
   "id": "791e39c1",
   "metadata": {},
   "outputs": [
    {
     "name": "stdout",
     "output_type": "stream",
     "text": [
      "https://app.neptune.ai/ljburtz/relative-pose/e/POSE-143\n",
      "Remember to stop your run once you’ve finished logging your metadata (https://docs.neptune.ai/api-reference/run#.stop). It will be stopped automatically only when the notebook kernel/interactive console is terminated.\n",
      "POSE-143\n"
     ]
    }
   ],
   "source": [
    "run = neptune.init(project=PROJECT,\n",
    "                   tags=TAGS,\n",
    "#                    mode='debug'\n",
    "                  )\n",
    "run_id = run['sys/id'].fetch()\n",
    "print(run_id)\n",
    "run.assign({'parameters': PARAMS}, wait=True)  # synchronous call to make sure parameters are synced with the neptune server"
   ]
  },
  {
   "cell_type": "code",
   "execution_count": 21,
   "id": "a5c0714a",
   "metadata": {},
   "outputs": [],
   "source": [
    "callbacks = [\n",
    "    NeptuneCallback(run=run, base_namespace='metrics'),  # for model metadata logging\n",
    "    keras.callbacks.ModelCheckpoint(\n",
    "        '/tmp/best_model_loss.h5', \n",
    "        save_weights_only=True,\n",
    "        save_best_only=True, \n",
    "        monitor='val_loss', \n",
    "        mode='min'\n",
    "    ),\n",
    "    keras.callbacks.ReduceLROnPlateau(),\n",
    "    keras.callbacks.EarlyStopping(\n",
    "        monitor='val_loss',\n",
    "#         min_delta=0.0003,\n",
    "        mode='min', \n",
    "        patience=PARAMS['patience'], \n",
    "        verbose=1, \n",
    "        restore_best_weights=True\n",
    "    )\n",
    "]"
   ]
  },
  {
   "cell_type": "code",
   "execution_count": 22,
   "id": "a5b50486",
   "metadata": {
    "scrolled": true
   },
   "outputs": [
    {
     "name": "stdout",
     "output_type": "stream",
     "text": [
      "Epoch 1/300\n",
      "139/139 [==============================] - 29s 171ms/step - loss: 0.0378 - distance_loss: 0.0092 - theta_loss: 0.0102 - orientation_loss: 0.0183 - distance_diff: 1.2575 - theta_diff: 17.6616 - orientation_diff: 7.0749 - val_loss: 0.0070 - val_distance_loss: 4.0292e-04 - val_theta_loss: 0.0022 - val_orientation_loss: 0.0044 - val_distance_diff: 0.3802 - val_theta_diff: 9.7708 - val_orientation_diff: 3.7496 - lr: 0.0010\n",
      "Epoch 2/300\n",
      "139/139 [==============================] - 21s 154ms/step - loss: 0.0064 - distance_loss: 6.8726e-04 - theta_loss: 0.0023 - orientation_loss: 0.0034 - distance_diff: 0.5202 - theta_diff: 9.7148 - orientation_diff: 3.4727 - val_loss: 0.0059 - val_distance_loss: 2.7336e-04 - val_theta_loss: 0.0018 - val_orientation_loss: 0.0038 - val_distance_diff: 0.3250 - val_theta_diff: 8.4910 - val_orientation_diff: 3.0707 - lr: 0.0010\n",
      "Epoch 3/300\n",
      "139/139 [==============================] - 22s 155ms/step - loss: 0.0047 - distance_loss: 5.0423e-04 - theta_loss: 0.0019 - orientation_loss: 0.0023 - distance_diff: 0.4427 - theta_diff: 8.8269 - orientation_diff: 2.8137 - val_loss: 0.0056 - val_distance_loss: 2.7789e-04 - val_theta_loss: 0.0021 - val_orientation_loss: 0.0033 - val_distance_diff: 0.3159 - val_theta_diff: 9.1970 - val_orientation_diff: 3.0399 - lr: 0.0010\n",
      "Epoch 4/300\n",
      "139/139 [==============================] - 21s 153ms/step - loss: 0.0044 - distance_loss: 4.6583e-04 - theta_loss: 0.0019 - orientation_loss: 0.0021 - distance_diff: 0.4223 - theta_diff: 8.7886 - orientation_diff: 2.7392 - val_loss: 0.0042 - val_distance_loss: 2.1207e-04 - val_theta_loss: 0.0019 - val_orientation_loss: 0.0022 - val_distance_diff: 0.2799 - val_theta_diff: 8.9439 - val_orientation_diff: 2.3411 - lr: 0.0010\n",
      "Epoch 5/300\n",
      "139/139 [==============================] - 21s 154ms/step - loss: 0.0036 - distance_loss: 3.6569e-04 - theta_loss: 0.0015 - orientation_loss: 0.0017 - distance_diff: 0.3706 - theta_diff: 7.7675 - orientation_diff: 2.4412 - val_loss: 0.0041 - val_distance_loss: 2.6235e-04 - val_theta_loss: 0.0017 - val_orientation_loss: 0.0022 - val_distance_diff: 0.3325 - val_theta_diff: 8.4801 - val_orientation_diff: 2.4004 - lr: 0.0010\n",
      "Epoch 6/300\n",
      "139/139 [==============================] - 21s 154ms/step - loss: 0.0035 - distance_loss: 3.4883e-04 - theta_loss: 0.0015 - orientation_loss: 0.0016 - distance_diff: 0.3691 - theta_diff: 7.7519 - orientation_diff: 2.4415 - val_loss: 0.0043 - val_distance_loss: 1.4164e-04 - val_theta_loss: 0.0013 - val_orientation_loss: 0.0028 - val_distance_diff: 0.2246 - val_theta_diff: 7.2507 - val_orientation_diff: 2.6820 - lr: 0.0010\n",
      "Epoch 7/300\n",
      "139/139 [==============================] - 22s 155ms/step - loss: 0.0031 - distance_loss: 2.8332e-04 - theta_loss: 0.0012 - orientation_loss: 0.0016 - distance_diff: 0.3288 - theta_diff: 6.9692 - orientation_diff: 2.4190 - val_loss: 0.0035 - val_distance_loss: 2.3331e-04 - val_theta_loss: 0.0015 - val_orientation_loss: 0.0018 - val_distance_diff: 0.3165 - val_theta_diff: 8.0793 - val_orientation_diff: 2.1016 - lr: 0.0010\n",
      "Epoch 8/300\n",
      "139/139 [==============================] - 21s 154ms/step - loss: 0.0033 - distance_loss: 3.2545e-04 - theta_loss: 0.0014 - orientation_loss: 0.0016 - distance_diff: 0.3578 - theta_diff: 7.4897 - orientation_diff: 2.3889 - val_loss: 0.0034 - val_distance_loss: 1.7121e-04 - val_theta_loss: 0.0011 - val_orientation_loss: 0.0021 - val_distance_diff: 0.2478 - val_theta_diff: 6.7039 - val_orientation_diff: 2.3567 - lr: 0.0010\n",
      "Epoch 9/300\n",
      "139/139 [==============================] - 22s 155ms/step - loss: 0.0030 - distance_loss: 3.0439e-04 - theta_loss: 0.0012 - orientation_loss: 0.0016 - distance_diff: 0.3438 - theta_diff: 6.7116 - orientation_diff: 2.3422 - val_loss: 0.0029 - val_distance_loss: 1.5029e-04 - val_theta_loss: 8.2189e-04 - val_orientation_loss: 0.0019 - val_distance_diff: 0.2351 - val_theta_diff: 5.7536 - val_orientation_diff: 2.1092 - lr: 0.0010\n",
      "Epoch 10/300\n",
      "139/139 [==============================] - 21s 152ms/step - loss: 0.0028 - distance_loss: 2.6797e-04 - theta_loss: 0.0011 - orientation_loss: 0.0014 - distance_diff: 0.3233 - theta_diff: 6.6016 - orientation_diff: 2.3115 - val_loss: 0.0032 - val_distance_loss: 1.4669e-04 - val_theta_loss: 9.4572e-04 - val_orientation_loss: 0.0021 - val_distance_diff: 0.2320 - val_theta_diff: 6.2373 - val_orientation_diff: 2.1732 - lr: 0.0010\n",
      "Epoch 11/300\n",
      "139/139 [==============================] - 21s 155ms/step - loss: 0.0026 - distance_loss: 2.3491e-04 - theta_loss: 9.4853e-04 - orientation_loss: 0.0015 - distance_diff: 0.2996 - theta_diff: 6.1266 - orientation_diff: 2.2607 - val_loss: 0.0032 - val_distance_loss: 1.2810e-04 - val_theta_loss: 0.0014 - val_orientation_loss: 0.0016 - val_distance_diff: 0.2086 - val_theta_diff: 8.0646 - val_orientation_diff: 1.9935 - lr: 0.0010\n",
      "Epoch 12/300\n",
      "139/139 [==============================] - 22s 155ms/step - loss: 0.0028 - distance_loss: 3.0002e-04 - theta_loss: 0.0012 - orientation_loss: 0.0013 - distance_diff: 0.3383 - theta_diff: 7.1207 - orientation_diff: 2.1719 - val_loss: 0.0031 - val_distance_loss: 1.4922e-04 - val_theta_loss: 7.0201e-04 - val_orientation_loss: 0.0022 - val_distance_diff: 0.2226 - val_theta_diff: 5.2413 - val_orientation_diff: 2.2288 - lr: 0.0010\n",
      "Epoch 13/300\n",
      "139/139 [==============================] - 21s 153ms/step - loss: 0.0026 - distance_loss: 2.5821e-04 - theta_loss: 9.3995e-04 - orientation_loss: 0.0014 - distance_diff: 0.3174 - theta_diff: 6.2460 - orientation_diff: 2.2194 - val_loss: 0.0039 - val_distance_loss: 1.6535e-04 - val_theta_loss: 0.0011 - val_orientation_loss: 0.0026 - val_distance_diff: 0.2405 - val_theta_diff: 6.9074 - val_orientation_diff: 2.6720 - lr: 0.0010\n",
      "Epoch 14/300\n",
      "139/139 [==============================] - 21s 152ms/step - loss: 0.0019 - distance_loss: 2.2138e-04 - theta_loss: 6.3448e-04 - orientation_loss: 0.0010 - distance_diff: 0.2944 - theta_diff: 5.0488 - orientation_diff: 1.9353 - val_loss: 0.0022 - val_distance_loss: 1.5948e-04 - val_theta_loss: 5.4702e-04 - val_orientation_loss: 0.0015 - val_distance_diff: 0.2440 - val_theta_diff: 4.6536 - val_orientation_diff: 1.8768 - lr: 0.0010\n",
      "Epoch 15/300\n",
      "139/139 [==============================] - 21s 152ms/step - loss: 0.0022 - distance_loss: 2.3521e-04 - theta_loss: 7.4795e-04 - orientation_loss: 0.0012 - distance_diff: 0.2975 - theta_diff: 5.5357 - orientation_diff: 2.0977 - val_loss: 0.0029 - val_distance_loss: 1.5122e-04 - val_theta_loss: 7.9433e-04 - val_orientation_loss: 0.0019 - val_distance_diff: 0.2185 - val_theta_diff: 5.4690 - val_orientation_diff: 2.1082 - lr: 0.0010\n",
      "Epoch 16/300\n",
      "139/139 [==============================] - 22s 155ms/step - loss: 0.0023 - distance_loss: 2.2167e-04 - theta_loss: 6.9625e-04 - orientation_loss: 0.0013 - distance_diff: 0.2913 - theta_diff: 5.2499 - orientation_diff: 2.1603 - val_loss: 0.0024 - val_distance_loss: 1.1456e-04 - val_theta_loss: 5.2725e-04 - val_orientation_loss: 0.0018 - val_distance_diff: 0.1967 - val_theta_diff: 4.5388 - val_orientation_diff: 2.0132 - lr: 0.0010\n",
      "Epoch 17/300\n",
      "139/139 [==============================] - 22s 157ms/step - loss: 0.0021 - distance_loss: 2.2741e-04 - theta_loss: 7.2485e-04 - orientation_loss: 0.0012 - distance_diff: 0.2967 - theta_diff: 5.3786 - orientation_diff: 2.0534 - val_loss: 0.0025 - val_distance_loss: 1.5159e-04 - val_theta_loss: 5.2600e-04 - val_orientation_loss: 0.0018 - val_distance_diff: 0.2290 - val_theta_diff: 4.4946 - val_orientation_diff: 2.1575 - lr: 0.0010\n",
      "Epoch 18/300\n",
      "139/139 [==============================] - 22s 157ms/step - loss: 0.0018 - distance_loss: 2.1150e-04 - theta_loss: 5.8553e-04 - orientation_loss: 0.0010 - distance_diff: 0.2849 - theta_diff: 4.8856 - orientation_diff: 1.9684 - val_loss: 0.0024 - val_distance_loss: 1.0958e-04 - val_theta_loss: 4.6622e-04 - val_orientation_loss: 0.0019 - val_distance_diff: 0.1846 - val_theta_diff: 4.3013 - val_orientation_diff: 2.2036 - lr: 0.0010\n",
      "Epoch 19/300\n",
      "139/139 [==============================] - 22s 158ms/step - loss: 0.0020 - distance_loss: 1.8737e-04 - theta_loss: 6.3342e-04 - orientation_loss: 0.0012 - distance_diff: 0.2653 - theta_diff: 5.0352 - orientation_diff: 2.0472 - val_loss: 0.0028 - val_distance_loss: 1.7812e-04 - val_theta_loss: 6.2264e-04 - val_orientation_loss: 0.0020 - val_distance_diff: 0.2529 - val_theta_diff: 5.0780 - val_orientation_diff: 2.3646 - lr: 0.0010\n"
     ]
    },
    {
     "name": "stdout",
     "output_type": "stream",
     "text": [
      "Epoch 20/300\n",
      "139/139 [==============================] - 22s 158ms/step - loss: 0.0019 - distance_loss: 1.8688e-04 - theta_loss: 6.4424e-04 - orientation_loss: 0.0010 - distance_diff: 0.2679 - theta_diff: 5.1264 - orientation_diff: 1.9292 - val_loss: 0.0039 - val_distance_loss: 2.5290e-04 - val_theta_loss: 9.4012e-04 - val_orientation_loss: 0.0027 - val_distance_diff: 0.2995 - val_theta_diff: 6.0764 - val_orientation_diff: 2.7419 - lr: 0.0010\n",
      "Epoch 21/300\n",
      "139/139 [==============================] - 22s 156ms/step - loss: 0.0024 - distance_loss: 2.2749e-04 - theta_loss: 8.1363e-04 - orientation_loss: 0.0013 - distance_diff: 0.2950 - theta_diff: 5.7083 - orientation_diff: 2.2181 - val_loss: 0.0041 - val_distance_loss: 3.1045e-04 - val_theta_loss: 9.1408e-04 - val_orientation_loss: 0.0029 - val_distance_diff: 0.3384 - val_theta_diff: 5.9827 - val_orientation_diff: 2.6690 - lr: 0.0010\n",
      "Epoch 22/300\n",
      "139/139 [==============================] - ETA: 0s - loss: 0.0020 - distance_loss: 2.2884e-04 - theta_loss: 5.8197e-04 - orientation_loss: 0.0012 - distance_diff: 0.2984 - theta_diff: 4.8070 - orientation_diff: 2.0838Restoring model weights from the end of the best epoch: 14.\n",
      "139/139 [==============================] - 22s 158ms/step - loss: 0.0020 - distance_loss: 2.2884e-04 - theta_loss: 5.8197e-04 - orientation_loss: 0.0012 - distance_diff: 0.2984 - theta_diff: 4.8070 - orientation_diff: 2.0838 - val_loss: 0.0031 - val_distance_loss: 1.4819e-04 - val_theta_loss: 4.5396e-04 - val_orientation_loss: 0.0025 - val_distance_diff: 0.2320 - val_theta_diff: 4.2278 - val_orientation_diff: 2.6401 - lr: 0.0010\n",
      "Epoch 22: early stopping\n"
     ]
    }
   ],
   "source": [
    "history = model.fit(\n",
    "    ds_train_b, \n",
    "    epochs=epochs, \n",
    "    validation_data=ds_val_b,\n",
    "    callbacks=callbacks,\n",
    ")"
   ]
  },
  {
   "cell_type": "code",
   "execution_count": 23,
   "id": "1e97576c",
   "metadata": {},
   "outputs": [
    {
     "name": "stdout",
     "output_type": "stream",
     "text": [
      "POSE-143\n"
     ]
    }
   ],
   "source": [
    "import json\n",
    "path = f\"/tmp/model_\"\n",
    "\n",
    "# save full model (e.g for resuming training later on)\n",
    "model.save(path + 'end.h5')\n",
    "\n",
    "# save model weights and architecture (e.g for inference only)\n",
    "model.save_weights(path + 'relative_pose_weights.h5')\n",
    "json_config = model.to_json()\n",
    "with open(path + 'relative_pose_config.json', 'w') as out_:\n",
    "    json.dump(json_config, out_)\n",
    "\n",
    "# log artifacts to Neptune    \n",
    "run[\"model/model_end\"].upload(path + 'end.h5')\n",
    "run['model/model_relative_pose_weights'].upload(path + \"relative_pose_weights.h5\")\n",
    "run['model/model_relative_pose_config'].upload(path + \"relative_pose_config.json\")\n",
    "\n",
    "# log additional metrics\n",
    "min_loss, min_loss_epoch, min_pdiff, min_pdiff_epoch = ml_utils.get_best_metrics(history, accuracy_metric='distance_diff')\n",
    "run['metrics/min_loss'] = min_loss\n",
    "run['metrics/min_loss_epoch'] = min_loss_epoch\n",
    "run[\"metrics/min_pdiff\"] = min_pdiff\n",
    "run['metrics/min_pdiff_epoch'] = min_pdiff_epoch\n",
    "print(run['sys/id'].fetch())"
   ]
  },
  {
   "cell_type": "markdown",
   "id": "b0a23587",
   "metadata": {},
   "source": [
    "evaluate model on test dataset"
   ]
  },
  {
   "cell_type": "code",
   "execution_count": 24,
   "id": "7c542928",
   "metadata": {
    "scrolled": true
   },
   "outputs": [
    {
     "name": "stdout",
     "output_type": "stream",
     "text": [
      "20/20 [==============================] - 3s 132ms/step - loss: 0.0015 - distance_loss: 1.3818e-04 - theta_loss: 5.3027e-04 - orientation_loss: 8.6247e-04 - distance_diff: 0.2292 - theta_diff: 4.7054 - orientation_diff: 1.7038\n",
      "test loss, test metrics: [0.001530918525531888, 0.00013818212028127164, 0.0005302670178934932, 0.0008624695474281907, 0.22918100655078888, 4.705419063568115, 1.703779935836792]\n"
     ]
    }
   ],
   "source": [
    "results = model.evaluate(ds_test_b)\n",
    "print(\"test loss, test metrics:\", results)\n",
    "run['test/avg_position_diff'] = results[-3]\n",
    "run['test/avg_theta_diff'] = results[-2]\n",
    "run['test/avg_orientation_diff'] = results[-1]"
   ]
  },
  {
   "cell_type": "code",
   "execution_count": 25,
   "id": "13bf9668",
   "metadata": {},
   "outputs": [],
   "source": [
    "n_pred = 100\n",
    "d_true, theta_true, yaw_true, d_list, theta_list, yaw_list = ml_utils.predict_and_scale(\n",
    "    model,\n",
    "    ds_test,\n",
    "    ds_test_b,\n",
    "    n_pred,\n",
    "    batch_size\n",
    ")"
   ]
  },
  {
   "cell_type": "code",
   "execution_count": 31,
   "id": "6cc13b4c",
   "metadata": {},
   "outputs": [
    {
     "data": {
      "application/vnd.plotly.v1+json": {
       "config": {
        "plotlyServerURL": "https://plot.ly"
       },
       "data": [
        {
         "customdata": [
          -2.0514231920242363,
          -21.79243594408036,
          4.036228358745576,
          13.712391257286074,
          -9.441163167357432,
          7.917808592319482,
          8.511776989325888,
          4.723783135414134,
          1.5661056339740842,
          -8.982975482940674,
          8.26322481036187,
          0.6296519190072992,
          -2.9748527705669447,
          -3.102229535579679,
          -10.17851952463388,
          -7.271319776773453,
          -17.30144441127777,
          2.4720843415707416,
          6.136868745088578,
          -3.944862596690643,
          -13.367519527673723,
          7.974480986595154,
          10.176394879817968,
          9.708985090255734,
          -13.341147378087042,
          -0.18885433673859212,
          -13.120908513665192,
          14.18756872415543,
          0.3443004190921838,
          6.040350794792171,
          1.9455993175506587,
          -3.35967063903809,
          -7.902949154376985,
          -0.203685024753205,
          -2.964170873165126,
          -12.53903411328793,
          13.485299348831177,
          12.671798095107068,
          6.5113466978073165,
          -5.188542902469637,
          -12.06903129816055,
          4.242492914199831,
          6.615456473082298,
          -15.047070533037184,
          -10.660797134041788,
          1.964276880025873,
          2.764043211936949,
          6.27570365555584,
          3.0022622644901227,
          5.364919602870941,
          11.579510718584055,
          -4.030097499489783,
          -6.584949195384985,
          5.857275277376179,
          2.9954487830400516,
          -9.577210843563075,
          2.906909063458441,
          -6.271327883005141,
          -0.7034260779619136,
          4.940793626010427,
          0.40189750492573495,
          -8.764822036027908,
          0.9607109427452231,
          -10.632995367050167,
          2.800593674182896,
          5.600994229316714,
          -3.4916272759437614,
          3.1432874500751433,
          -6.921088993549334,
          -6.5536846965551385,
          -4.143161326646798,
          -4.942447543144218,
          -2.1648806333541857,
          -5.426989942789072,
          -13.570919483900063,
          8.110587000846865,
          1.4075535535812367,
          -7.240591049194342,
          -0.8815857768058808,
          -5.616956055164335,
          2.108599841594695,
          10.12589030899108,
          -16.903484389185905,
          4.151753783226011,
          4.959741085767757,
          -13.904232233762745,
          -9.861461967229857,
          -3.6737519502639637,
          -16.809211447834954,
          -2.3858068138360933,
          -21.89191237092018,
          -2.894983291625982,
          4.577272832393649,
          -0.9220522642135532,
          14.843811392784126,
          -0.9617945551872296,
          0.27656525373458984,
          4.408168941736225,
          -2.0281040668487558,
          -5.75969651341439,
          -5.150503814220423,
          1.7356889694929165,
          -7.967995405197131,
          5.733522176742554,
          -2.398731708526605,
          0.6974132359027909,
          -11.58806897699832,
          0.7425092160701702,
          3.2230442762374882,
          10.9540356695652,
          -0.8458667993545467,
          5.109966248273862,
          -10.388315543532363,
          -1.0930028557777478,
          -0.5375576019287021,
          4.935532137751582,
          -2.24804453551769,
          -7.475830167531957,
          -2.9232122004032135,
          0.8097159862518333,
          5.250169336795803,
          8.440587222576147,
          5.062611848115919,
          5.5268445611000105,
          4.042384028434759,
          0.8130643889308,
          5.584758818149569,
          2.405008077621459,
          -2.0042887330055157,
          1.6503497958183346,
          -7.987232878804213,
          -4.962134957313538,
          -0.09439229965209904,
          8.168900907039644,
          -13.420220240950588,
          2.5049263983964924,
          -2.1361183002591075,
          -10.6389207020402,
          0.42403444647789107,
          -5.635966211557377,
          -2.0927446335554065,
          -21.715641617774963,
          14.47033524513244,
          -10.792751088738445,
          3.1058582291007033,
          7.715340703725813,
          -10.283643007278444,
          6.011316552758224,
          -3.045364022254942,
          -0.13630717992781471,
          5.0961112976074325,
          8.94641160964966,
          -3.25015738606453,
          0.10372630320489262,
          12.19496101140976,
          5.567235946655275,
          10.006002187728887,
          12.343607693910606,
          -2.8381446003913897,
          -5.573903918266285,
          -1.3696673512458768,
          8.446359336376188,
          -1.227743625640875,
          -19.740721983835098,
          4.373486638069154,
          -1.6912548243999448,
          -4.9884366989135644,
          5.941810458898552,
          -14.633245915174482,
          -6.7965915799141,
          -8.546370863914502,
          14.952075406908993,
          2.8449265658855496,
          -9.604246169328695,
          3.2333010435104352,
          -5.016801729798312,
          5.073671936988828,
          9.239216297864914,
          -10.269616395235069,
          -12.706899493932713,
          4.321393445134159,
          8.603288009762775,
          3.149023354053494,
          -6.006819829344747,
          -0.5641362816095266,
          4.837520867586141,
          2.0231486856937417,
          8.706223145127291,
          16.19088616222143,
          -3.0983255803585004,
          7.951034456491483,
          1.7984694242477435,
          3.677464127540597,
          -6.116874217987057,
          -13.825671672821038,
          -1.7196004092693271,
          -4.958962574601173,
          -2.238283306360243,
          9.238628894090642,
          -4.339114464819434,
          0.9644164144992977,
          3.360368013381954,
          -5.491796135902396,
          -1.3269491493701866,
          -8.097133040428162,
          8.696930631995201,
          7.759395064786067,
          -18.175930380821224,
          0.10755926370621095,
          -0.20717415958642607,
          -1.043239831924426,
          6.477347016334537,
          -8.052649274468408,
          -18.401708006858815,
          -1.706059277057645,
          2.0939549803733946,
          -18.871998488903042,
          7.053072452545176,
          1.0220081359148097,
          6.179222166538245,
          8.949474021792406,
          9.292687056586148,
          7.104702293872841,
          -5.451846560463301,
          -6.863703131675718,
          2.101962296292186,
          0.5068436264991769,
          7.824649438261996,
          -6.662434190511713,
          -4.36311453580855,
          10.236159861087804,
          1.8290352076292067,
          1.266214549541481,
          -6.978756487369539,
          13.46965536475181,
          12.421471886336795,
          4.639720022678376,
          4.186491072177879,
          4.242500960826871,
          -3.6380852758884505
         ],
         "hovertemplate": "yaw = %{customdata:.1f} deg",
         "mode": "markers",
         "name": "predict",
         "type": "scatter",
         "x": [
          -2.25527572437235,
          -0.6863305711204967,
          -1.09260276821096,
          0.4081790927555591,
          -0.6600280277042457,
          1.0516864449685956,
          0.4903492025103539,
          2.594424108304924,
          -0.4498042933038507,
          0.39034291090775386,
          2.6925091416034626,
          0.6228280113528276,
          1.0620208499891084,
          1.0768334669244688,
          -0.18323219431154508,
          -0.4999215766138868,
          -0.5060032535048913,
          0.20367073291542806,
          -0.22989123447202106,
          -0.12265894022923911,
          -0.29526786496042134,
          -0.4628024545209806,
          -0.0030524172543846457,
          -1.1143909736946838,
          -0.9421895821190641,
          -2.494425168708397,
          -1.3686537351314112,
          -0.5738751496763375,
          -0.3602586863588421,
          -0.33016679908830987,
          0.35900333624671965,
          -3.2370946442718345,
          0.2630304739688972,
          -0.010749279416039051,
          -1.3251270119304928,
          -2.408934633348917,
          -0.2224904645941831,
          1.108492504872508,
          1.6653700471832218,
          -2.2692917527904357,
          0.4846594941832578,
          -1.0644245764781992,
          0.22313947238223325,
          0.05353842992369966,
          -0.1670502518308575,
          1.3433799966462585,
          1.2037435017197402,
          0.18365102442974282,
          -0.5253748606656754,
          -2.528377967299379,
          -0.012308885208018617,
          -0.5194432678406667,
          -1.2949003053577928,
          3.112570156812654,
          -0.16529274329774415,
          -4.081889856468741,
          0.5192850662554145,
          -1.230325197938268,
          -0.12424761384550086,
          0.696117551131128,
          0.3373156119905225,
          -0.13311353090408407,
          -0.19260642994285243,
          -0.036013601527973775,
          1.7631245162795643,
          -1.2053634698371443,
          0.6443321522781589,
          1.1770412652375035,
          -2.896362065068729,
          -1.352997735649258,
          -0.5013291545663245,
          -1.032777244848888,
          -2.6719145748868542,
          0.25191666097486054,
          -2.47298466897649,
          -0.3091823072022874,
          -2.324196606117152,
          0.9793585510499738,
          -0.21634985100489673,
          -3.274558299282272,
          -0.5708235016735524,
          0.43349563160909343,
          -0.571853151108375,
          0.3587279622184036,
          1.529630302768509,
          -0.41276528691433834,
          -3.624292517893809,
          -2.3828863834772975,
          -0.6855390390031194,
          -0.5245327351976405,
          -0.4451949141131461,
          -0.9757599026864278,
          1.79335767169546,
          0.4920554761633703,
          -0.4114591257806073,
          -2.831573849664427,
          -0.5338775027763384,
          -0.4235666485826993,
          -0.8695891164396862,
          -0.2065237343335903,
          -0.18178903768527338,
          -0.48581325582349877,
          -2.8736359626307526,
          2.0309405034731327,
          -1.874177451988565,
          -1.4711068850267262,
          -1.517957124854914,
          0.41895291846493243,
          -1.5889608245260904,
          2.599335912808736,
          1.3117229188430148,
          1.5564412526212388,
          -1.1401199632687395,
          -2.6500950012191455,
          -3.2584046956152517,
          0.24539408640992597,
          -0.3267647144969337,
          -2.0948341131763555,
          0.025294868367888898,
          -0.13664801260656295,
          0.625871958621663,
          2.189365863192863,
          1.0655509855552574,
          -1.6029806316372774,
          0.24471345992182336,
          -0.3512627844146724,
          -0.7120871041453264,
          -0.8045975952088763,
          -1.4657500000599208,
          -0.6709368935213398,
          -0.03604794918009845,
          0.5625622499618069,
          -1.0502509931299226,
          -1.1113410057519215,
          -2.286359693967341,
          0.5659921382885774,
          0.05754176983530723,
          -1.0605515573247037,
          0.22107251667868658,
          -1.1646453490464952,
          -0.9822032051885954,
          0.004997817598215485,
          2.9155499487479553,
          -1.0591598902915733,
          0.021971108028117928,
          1.6152986667480276,
          0.5872507008499324,
          1.6256782388643862,
          -0.6228475263490783,
          -0.8975879421898907,
          1.5363955605385151,
          -0.7982534927734665,
          -0.9458576915649033,
          0.069087124169333,
          3.113978037872331,
          0.9797856958916231,
          3.7379649021310097,
          -0.3769530405405801,
          -0.2086265050465583,
          1.1195334440995288,
          -3.7079819399322735,
          -0.8688894665433201,
          -3.5532529125013754,
          -1.20702763484709,
          0.564618427276725,
          -0.3567437034574371,
          0.46532878742680756,
          -0.40402050047770277,
          -2.3011962490945015,
          -0.12542677031175112,
          -1.7466214801811997,
          3.1875366899499427,
          0.9756837042544332,
          -2.1438209823763326,
          0.27412402867089264,
          0.11833488082407653,
          -0.5169154908729338,
          -0.41093255675031926,
          -2.244106750975613,
          0.2535211333983897,
          0.23556655609228655,
          0.4404481268741431,
          -1.1707272340627823,
          -0.11664549180098154,
          -0.4380646661678239,
          0.025243761429036445,
          1.0879248876610876,
          0.7005626056698411,
          0.5345115417364871,
          1.133442928759755,
          -0.673165888082883,
          0.8109589777668187,
          0.006151986415215279,
          -2.9017968024228264,
          0.5868714858352712,
          -1.374289225159343,
          0.017281577529270148,
          -0.8161923054273393,
          -0.585754781893443,
          -0.13907924217190296,
          1.3232037939213175,
          -0.6421208117667179,
          -0.4468741362998535,
          0.3505661122472412,
          0.515565171859632,
          0.3529435465817803,
          0.7882089159345803,
          -0.19220808936063138,
          0.3313348764809122,
          0.16044085719185347,
          0.9001972015891597,
          -0.49529765090175865,
          -0.05257467849180422,
          -0.06119887887772698,
          0.4177700611971918,
          -3.1099521737048628,
          -0.7644483936285263,
          -0.7455093469023044,
          -0.785865815967342,
          -1.1203941600386929,
          0.5515553070031494,
          0.3037211141957941,
          -0.9960468116397045,
          -0.4548844385813938,
          0.3123829180172675,
          0.06520542710313534,
          -2.4993939806137258,
          1.513484627971392,
          0.6850672454841993,
          -2.9581362253438876,
          -0.7165551959211062,
          -0.2337584022138973,
          -0.11188341528481863,
          -0.5303562494330021,
          0.05454363116552562,
          0.8608676281457428,
          -1.112652092807238,
          0.7306890760861665,
          -0.3014582160192563,
          0.42021760782328266
         ],
         "y": [
          -6.0217098348432,
          -3.9250926272896725,
          -3.2188676611310387,
          -2.417010819444764,
          -5.017146900369991,
          -3.059893494459369,
          -3.381205154049921,
          -5.977159154081255,
          -2.114521602402437,
          -2.4138865164230237,
          -5.489065744223065,
          -5.027248980860364,
          -3.822447975349659,
          -5.725525244553708,
          -0.7090101605828938,
          -2.450122862670663,
          -4.391179567428127,
          -4.377201706692908,
          -2.2779803268720156,
          -5.987954894422695,
          -6.207980025852088,
          -4.611799613684888,
          -6.015124142545031,
          -4.574961750070518,
          -4.732487570908206,
          -5.469427226397552,
          -3.283539676068756,
          -3.1311593710798835,
          -3.2144151290784246,
          -4.803195125192153,
          -0.4826861925779281,
          -5.580931256427202,
          -0.9055295721420187,
          -1.3718521051664327,
          -2.432016280201845,
          -5.592311583677667,
          -2.4844051889353613,
          -3.06451083094738,
          -5.184922955923347,
          -3.7922464223633106,
          -4.3955414072973555,
          -4.446737936984537,
          -2.324139255511428,
          -2.7516057634897897,
          -5.0005652132094465,
          -4.73697219462965,
          -5.1938076850884345,
          -1.5086975065437516,
          -2.286224003746143,
          -5.665731136042691,
          -2.5715240919073903,
          -5.294270840759193,
          -5.104836946889578,
          -6.201129436953239,
          -1.7640861294334214,
          -5.525277219401777,
          -6.037710591716963,
          -5.56390769967872,
          -1.092744759380183,
          -5.3526119331375535,
          -4.886211005323831,
          -2.0949472504793434,
          -5.876473830786174,
          -0.44686072018372414,
          -4.797287116016162,
          -3.1097388525429825,
          -3.712760653494235,
          -3.9430662209205884,
          -4.472619754550262,
          -5.417400092325916,
          -3.888659626631493,
          -3.753729375613135,
          -5.035647775762008,
          -1.3269892065622864,
          -5.306868255259215,
          -4.976124681212267,
          -4.328500153378277,
          -5.18954167503313,
          -0.9760186377663363,
          -5.936978119462664,
          -2.5617630650713283,
          -2.226798439974631,
          -3.6508659795580325,
          -1.6689843903724544,
          -4.624646429276018,
          -0.9672509210737301,
          -5.959529874062336,
          -4.532061506132835,
          -2.724423934876914,
          -2.620495011040691,
          -2.2746804216921204,
          -1.911098498277411,
          -5.412376439418594,
          -0.6403337181235202,
          -2.788031287967805,
          -6.240923701775089,
          -0.9331551352652351,
          -3.559915026142814,
          -2.5849527433717374,
          -2.9852285097712286,
          -5.982291431012515,
          -5.916356290953004,
          -5.132485150597583,
          -5.024499229690821,
          -4.267741098598844,
          -5.846283220706527,
          -4.271493188395222,
          -4.528601515796156,
          -3.555114339792466,
          -6.595347792964468,
          -4.3183381645379955,
          -5.671199037231459,
          -4.241203071411524,
          -5.3803089610676444,
          -5.783867679529783,
          -1.8113947806444621,
          -3.8695462517027575,
          -5.196043984242292,
          -1.0236249984593604,
          -1.3913045224258742,
          -1.5668565235351748,
          -5.505884310768725,
          -2.851520313340836,
          -4.4915669130763,
          -0.848406980143075,
          -5.927028432253263,
          -3.173074528683215,
          -3.9462641700608003,
          -3.7342539701147746,
          -2.5402955568638137,
          -1.3498601211575123,
          -3.172244637285402,
          -3.5145678916246608,
          -2.921143929905423,
          -5.930445154584015,
          -3.2880508858092967,
          -1.492175604810675,
          -4.573750165347466,
          -1.4624380630669036,
          -2.773424945283154,
          -5.80402656499146,
          -3.5924485578717693,
          -6.147537572875814,
          -3.4592973603567314,
          -1.5745269230888779,
          -4.777323188991513,
          -0.632750716263757,
          -6.3480725500027155,
          -2.3840455937635356,
          -5.149795449526445,
          -5.340074083705411,
          -5.6796993026389115,
          -2.4243439986562354,
          -2.7226734724218873,
          -6.313283976432269,
          -4.993744552024807,
          -6.4019417440413,
          -2.9090562530704207,
          -1.8987919262677537,
          -6.242286532558084,
          -5.191589167632986,
          -5.364393770380624,
          -5.177079438518841,
          -3.371441748522998,
          -3.561607092534763,
          -1.215817707788977,
          -5.750450986461387,
          -6.915730036638091,
          -5.85207707900814,
          -0.5977052194529298,
          -3.5668469948094828,
          -6.8199470346837066,
          -3.1519136984076996,
          -5.36773757025015,
          -1.0888416684815814,
          -1.349052663323837,
          -1.3263846462468194,
          -2.159510961994748,
          -4.980182777062063,
          -3.9721333772763945,
          -5.255848285125121,
          -3.120254668986272,
          -2.9893613811408346,
          -3.9059127098325566,
          -3.260872045183512,
          -3.2673978195485356,
          -4.068116383057395,
          -3.1271898525205355,
          -2.6371268307325986,
          -5.413817033123523,
          -4.641163733036058,
          -3.8294150233534117,
          -1.4519959746653137,
          -4.939292918553825,
          -1.5942122689056744,
          -4.213592829917774,
          -2.246240545460643,
          -2.6264092610200223,
          -3.622443487652039,
          -1.4372310006558686,
          -4.500475513480839,
          -2.4398208387927016,
          -1.7766799333288428,
          -1.6587886097940245,
          -3.5667829083512532,
          -1.2868092396913506,
          -5.415327758630208,
          -4.138780307173802,
          -3.28864457058104,
          -3.2669346429636783,
          -3.9560858967681494,
          -0.923141920138226,
          -4.577403345574043,
          -5.062626712421477,
          -0.3644372468908997,
          -6.460101263902169,
          -5.870296611572,
          -6.265179791419358,
          -5.794336986988585,
          -2.6217225467676197,
          -2.0444790723699082,
          -1.6803926643067422,
          -5.0818189497045845,
          -5.709894002094498,
          -1.0202638168554916,
          -1.845745446359984,
          -5.549752642294551,
          -5.757451204201056,
          -4.975529552719437,
          -5.818097070678983,
          -2.6546596729636214,
          -1.9002008072083871,
          -1.4666914640813942,
          -1.1671618315064043,
          -4.246080534534857,
          -4.4366871736661535,
          -2.3640398056977814,
          -1.9794553769624486,
          -0.6239111761782651,
          -1.9672232359034574
         ]
        },
        {
         "marker": {
          "color": "red"
         },
         "mode": "markers",
         "name": "ground truth",
         "type": "scatter",
         "x": [
          -1.9160083342855503,
          -0.8868689677633831,
          -1.0907761773491609,
          0.5363045730514803,
          -1.8282829921346,
          1.0331710866603472,
          0.24024931953531206,
          2.952401974892819,
          -0.3783240736682838,
          0.60120598450768,
          3.4390258206169904,
          0.737076803239281,
          1.253342275117249,
          1.1609843868419376,
          -0.22461740032811833,
          -0.7562112772901373,
          -0.5932856964726329,
          0.011160160670766764,
          -0.25546218116342206,
          0.7170948190156187,
          -1.2857181417039978,
          0.34117659900445774,
          1.3364809082519997,
          -1.720085613203235,
          -0.6545905854068291,
          -2.094933207132126,
          -1.4788814528807162,
          0.07618137338327387,
          -0.6252657637288523,
          0.22644339811059985,
          0.6692966206408004,
          -3.6399919693471796,
          0.14740974375625476,
          -0.11965896325915994,
          -1.1945506450155559,
          -3.318483865018939,
          0.03602790566187535,
          1.3253280779396768,
          2.0620874098401862,
          -1.8758061235425816,
          -0.06567962417860154,
          -0.8097670637449986,
          0.0738693117690149,
          0.025730501616562814,
          -0.3286880343417977,
          1.650847287095881,
          1.2594313166237963,
          0.027480016150159988,
          -0.7387456753236441,
          -2.294588779374407,
          -0.02667350002843403,
          -0.44494830411965663,
          -1.2456923380291554,
          3.3091370260289685,
          0.14212687238097219,
          -4.548250533030807,
          0.8836752971337648,
          -1.0438101182212005,
          -0.08617655866489826,
          0.8170636939244387,
          0.39358503343728185,
          -0.48702290996656844,
          0.6256595399815971,
          -0.28795750905716294,
          2.250653255821625,
          -1.2843523283430593,
          1.1207984100431865,
          1.6230039528120803,
          -2.8323007549359542,
          -1.2597001518299638,
          -0.5301125636035624,
          -0.9724642529035016,
          -2.9274721939294333,
          0.28553705771232646,
          -3.0947760310777848,
          -0.7046626818540637,
          -1.8945356462128031,
          1.2624180192576968,
          -0.2466037563488631,
          -3.8363677568479146,
          -0.839349382281289,
          0.5517795277185489,
          -0.5636971649557571,
          0.5295617416792211,
          2.18298928624119,
          -0.40877873515706814,
          -3.4179461953402455,
          -2.7081480189722686,
          -0.7974895328262482,
          -0.5965764001986351,
          -0.45890414881432834,
          -0.3853420263588895,
          2.849908063568957,
          0.6039030907802672,
          0.01787350764367306,
          -3.8433614711296586,
          -0.47124107270562565,
          -0.5786939922870891,
          -1.02533381727462,
          -0.27174352326228207,
          -1.1991062188362727,
          -1.1434251389637238,
          -3.2860066944611797,
          2.426266051486594,
          -1.4209884879246075,
          -0.9145795027813965,
          -1.257957100211273,
          0.2397839427276115,
          -1.7119885889909765,
          4.47916806494881,
          1.4026159541471503,
          2.6505779715060673,
          -1.2190232172017177,
          -3.9878970872050625,
          -2.5876419981566947,
          0.1786799428697863,
          -0.43436143205622035,
          -2.5574799161118875,
          0.04802920991763107,
          0.054589454446776105,
          0.5584168992608197,
          2.357600238604566,
          1.2943227253160074,
          -2.233556430745453,
          0.125370762029011,
          0.38077235455761105,
          -0.9087649306891966,
          -0.7401050474548143,
          -1.9083861979019832,
          -0.4370309051936108,
          0.009834884492097998,
          0.5135734004337579,
          -1.5439164286693308,
          -1.20296462505352,
          -2.775570200510062,
          0.5774028359207777,
          0.0647980541248909,
          -1.418872768336794,
          0.11930692545890637,
          -1.358217980879844,
          -0.6649822608390898,
          -0.17030761029529307,
          3.223285904551011,
          -1.6248214731672264,
          0.06308435522924086,
          2.759724275483457,
          0.8121586663208988,
          2.015756012965926,
          -0.6823065677247178,
          -0.580948569570236,
          1.3075816943674363,
          0.01544354036583793,
          -1.1933856105307101,
          -0.227281341868129,
          5.194196219002173,
          1.4500029810336832,
          4.131826694048143,
          -0.3928219284121292,
          -0.4274373144784816,
          0.9786081171239256,
          -3.1255897358750433,
          -0.17423551304996443,
          -2.962901196004382,
          -1.4263023531730392,
          0.5157661132680078,
          -0.19909740900498657,
          0.6478352865787538,
          1.5753575034756702,
          -2.1806289177817613,
          -0.14217995869701472,
          -1.5525614772467726,
          4.016123286548721,
          1.038518750525667,
          -2.578414380726696,
          0.23003528381818772,
          0.04268445373311852,
          -0.49678996062752623,
          -0.3690276197668355,
          -2.934515378347046,
          0.6284900680397686,
          0.26896913819379914,
          0.7455858692902493,
          -0.943899291151712,
          -0.21582911964928905,
          0.26219777515136283,
          -0.38950852390931007,
          1.3267070967840728,
          0.6617172873938332,
          0.7453565737334361,
          1.2070290921760665,
          -0.8535956868802456,
          0.9968447725324298,
          0.03736089975172786,
          -2.412840552418717,
          0.588617122720197,
          -1.881435060176756,
          0.015055593883974256,
          -0.7023639609225562,
          -0.5999809872079568,
          -0.18610306585256553,
          1.5521400280767463,
          -0.6687341527973623,
          -0.3067280997538081,
          0.2975807242344632,
          0.9743299953975245,
          0.21052611258420567,
          1.2938261753560703,
          -0.07895488912768865,
          0.2884642798258221,
          -0.12026019355250579,
          1.2656549710223022,
          -0.5828393934898369,
          -0.28401312505482035,
          -0.0546269912281825,
          0.6912834803516359,
          -5.193391297429218,
          -1.1223583886172532,
          0.4941824955591249,
          -0.24539315599034237,
          -0.9448234561380076,
          0.8307313606287926,
          0.19419760958383875,
          -0.3267320373105487,
          -0.7747625228102717,
          0.11050688539743209,
          0.04692539226283975,
          -1.7173877708438148,
          2.4507954110408847,
          0.9363730281730377,
          -2.625709928596238,
          -0.9844958571676222,
          -0.018229493434174328,
          -0.1434075384685369,
          -0.4364534178065108,
          0.4966586592496519,
          1.2939098444103663,
          -0.8623638403964161,
          0.5532763885291718,
          -0.5708870776175986,
          0.6296358124190252
         ],
         "y": [
          -6.025695483920559,
          -3.456448785419918,
          -3.174783930079692,
          -2.229845490032148,
          -4.613908587270353,
          -2.7270642291530267,
          -3.1039579865256033,
          -5.70921414601128,
          -1.8079899860434592,
          -2.1086450115441395,
          -4.880430059432009,
          -4.721650122423186,
          -3.357520339961866,
          -5.540757820074929,
          -1.04628371722023,
          -2.258109771768233,
          -4.13213651580048,
          -3.725521314632054,
          -2.2639946460276863,
          -5.887127681277981,
          -5.940264645957805,
          -4.431482105901976,
          -5.8503220568481655,
          -3.326746248093304,
          -4.297976974157425,
          -5.226844202379884,
          -3.137551086794981,
          -2.896608150799119,
          -3.1033659607236554,
          -4.687873509497297,
          -0.8840851928814774,
          -5.0727597836092215,
          -0.912527979581196,
          -1.724857757110195,
          -2.4447119593532065,
          -5.021150177435948,
          -2.1306689455981433,
          -2.700686093614193,
          -4.8998145765150305,
          -3.7463059880615983,
          -4.050839612202398,
          -4.010036430008508,
          -2.213016521300109,
          -2.586552859243982,
          -4.607351421444435,
          -4.492858473620703,
          -5.073015402091889,
          -1.5634448349679668,
          -2.1508168636112375,
          -5.432647537716127,
          -2.3523941915344997,
          -5.0995935167293585,
          -4.976146323054517,
          -5.88313187829596,
          -1.7708078122890414,
          -5.932464132362617,
          -6.089629713772752,
          -5.572936252527174,
          -1.0416143559717483,
          -4.943921247295076,
          -4.6388427927099976,
          -2.2243099903712866,
          -5.937528275692381,
          -1.0725864696721945,
          -4.666878702563219,
          -2.792996444851313,
          -3.090921407834069,
          -3.532386113177649,
          -4.406382033666268,
          -4.991497851551584,
          -3.5702923455578204,
          -3.5643905081753244,
          -4.589601921518101,
          -1.5577564552090277,
          -4.831730352219439,
          -4.804105159447032,
          -3.6462991838735475,
          -5.052463343061147,
          -0.9252254149215414,
          -5.5908581268956,
          -2.0829908671451265,
          -2.1333258567000284,
          -3.456703586364695,
          -1.7286514033722558,
          -3.839346276893731,
          -1.1917982525189006,
          -6.050994121321975,
          -4.39380258653537,
          -2.6082521009996116,
          -2.535208883771211,
          -2.3028725806483763,
          -1.4285537118285776,
          -5.049415411482725,
          -0.9125169561549825,
          -2.762888860254114,
          -6.21604450562421,
          -0.953441456152663,
          -3.5134904205750197,
          -2.367681703097181,
          -2.9505929851821024,
          -5.651305103479837,
          -6.171226880869497,
          -4.714052645406274,
          -4.644318407803806,
          -3.9984835022694,
          -5.410792952920252,
          -4.088929554630283,
          -4.435318953292722,
          -3.1720890735499223,
          -6.4308343248921584,
          -3.8210498431760085,
          -5.1058548030472375,
          -3.8479096763515614,
          -5.044561886823058,
          -6.169972703836444,
          -1.4399401924209219,
          -3.5091444405419323,
          -4.75976110917977,
          -1.0271953328472616,
          -1.6341261844420263,
          -1.6918484902734428,
          -5.354440269005722,
          -2.5358335442253295,
          -4.042260518791725,
          -1.0231358000758173,
          -6.19603379192589,
          -2.8521267142352147,
          -3.7230802088419064,
          -3.4528873648484635,
          -2.3085281218865963,
          -1.3836758871245582,
          -2.8229636377534675,
          -2.985197121265853,
          -2.48531244020195,
          -5.472851845680551,
          -2.956461283421654,
          -1.537742960160935,
          -4.210316694374083,
          -1.602641189235715,
          -2.7556286907307177,
          -5.824971851005798,
          -3.2759329513989703,
          -5.498402048981475,
          -3.218541947822595,
          -1.3615110811921947,
          -3.938477238144874,
          -0.7890706087065336,
          -6.1700801242693535,
          -2.0655259871364375,
          -5.233534575512452,
          -5.233515842525186,
          -5.679033559766064,
          -2.381981373367141,
          -2.6234939029896416,
          -6.52076903359772,
          -4.993521895304869,
          -6.135753525441817,
          -2.3678736585781266,
          -1.8881225817975515,
          -5.710839974866803,
          -5.1112512470482105,
          -5.324742897399205,
          -5.033721248169005,
          -2.9572133133028577,
          -3.331497646104384,
          -1.1168691005901354,
          -5.392743326853317,
          -6.589725813668949,
          -5.665126630129862,
          -1.032507075680528,
          -3.2131895814140554,
          -6.517933372680577,
          -2.7355570052132543,
          -5.103478751790943,
          -1.261934983220301,
          -1.451775225081127,
          -1.2238368288095345,
          -1.8348131364965354,
          -4.2649628103537225,
          -3.5224116500264198,
          -5.250917112601164,
          -2.763736320887213,
          -2.921468617134114,
          -3.5411983274960277,
          -3.2211847848778508,
          -2.9389643935481287,
          -3.731737955002591,
          -3.0958326945754986,
          -2.394581851244621,
          -4.9734060608278705,
          -4.610470433800951,
          -3.406464228773592,
          -1.6565834080715236,
          -4.8164787035239405,
          -1.124381052593068,
          -3.6912705886917427,
          -2.242861821028834,
          -2.5102784379474246,
          -3.3669492725052885,
          -1.2646833528048669,
          -4.202712061389981,
          -2.216444507421218,
          -1.5431815669692146,
          -1.6176138051948383,
          -3.262901613568878,
          -1.0173994917696971,
          -4.767106262064168,
          -3.807751419235279,
          -3.121585711824886,
          -3.0608438499616866,
          -3.643787691682273,
          -0.9954948761207217,
          -4.420149994557283,
          -4.5382374846263,
          -0.7769076872972106,
          -6.21092980135887,
          -5.688495668906994,
          -6.435814494223989,
          -5.826458868855538,
          -2.241860022656726,
          -2.1033597370246038,
          -1.740123616171212,
          -5.017608501379393,
          -5.542055861800522,
          -0.6795876216950609,
          -1.904037045767382,
          -5.568908335321875,
          -5.371336139225627,
          -4.772011832070376,
          -5.712686251984339,
          -2.5060238111187,
          -1.7692006757052117,
          -1.404290984988077,
          -0.7995989517391079,
          -3.713196753624598,
          -4.081266905483362,
          -2.29552575809607,
          -1.7319604746260155,
          -0.8582057005626577,
          -1.9832661935674025
         ]
        }
       ],
       "layout": {
        "annotations": [
         {
          "font": {
           "size": 20
          },
          "showarrow": false,
          "text": "excavator",
          "x": 0,
          "xref": "x",
          "y": 0,
          "yref": "y"
         },
         {
          "arrowcolor": "blue",
          "arrowhead": 0,
          "arrowsize": 1,
          "arrowwidth": 1,
          "ax": 7.424905115380605,
          "ay": -18.570696918198706,
          "opacity": 0.5,
          "showarrow": true,
          "x": -0.6863305711204967,
          "y": -3.9250926272896725
         },
         {
          "arrowcolor": "blue",
          "arrowhead": 0,
          "arrowsize": 1,
          "arrowwidth": 1,
          "ax": -1.4077444727814035,
          "ay": -19.95039487076267,
          "opacity": 0.5,
          "showarrow": true,
          "x": -1.09260276821096,
          "y": -3.2188676611310387
         },
         {
          "arrowcolor": "blue",
          "arrowhead": 0,
          "arrowsize": 1,
          "arrowwidth": 1,
          "ax": -4.740965114834056,
          "ay": -19.429957534177127,
          "opacity": 0.5,
          "showarrow": true,
          "x": 0.4081790927555591,
          "y": -2.417010819444764
         },
         {
          "arrowcolor": "blue",
          "arrowhead": 0,
          "arrowsize": 1,
          "arrowwidth": 1,
          "ax": 3.2806941166409014,
          "ay": -19.72909136562142,
          "opacity": 0.5,
          "showarrow": true,
          "x": -0.6600280277042457,
          "y": -5.017146900369991
         },
         {
          "arrowcolor": "blue",
          "arrowhead": 0,
          "arrowsize": 1,
          "arrowwidth": 1,
          "ax": -2.7550481625820087,
          "ay": -19.809333901518585,
          "opacity": 0.5,
          "showarrow": true,
          "x": 1.0516864449685956,
          "y": -3.059893494459369
         },
         {
          "arrowcolor": "blue",
          "arrowhead": 0,
          "arrowsize": 1,
          "arrowwidth": 1,
          "ax": -2.9602539497294456,
          "ay": -19.779709213057487,
          "opacity": 0.5,
          "showarrow": true,
          "x": 0.4903492025103539,
          "y": -3.381205154049921
         },
         {
          "arrowcolor": "blue",
          "arrowhead": 0,
          "arrowsize": 1,
          "arrowwidth": 1,
          "ax": -1.6470439955567255,
          "ay": -19.932065775445867,
          "opacity": 0.5,
          "showarrow": true,
          "x": 2.594424108304924,
          "y": -5.977159154081255
         },
         {
          "arrowcolor": "blue",
          "arrowhead": 0,
          "arrowsize": 1,
          "arrowwidth": 1,
          "ax": -0.5466059246195301,
          "ay": -19.992529153740676,
          "opacity": 0.5,
          "showarrow": true,
          "x": -0.4498042933038507,
          "y": -2.114521602402437
         },
         {
          "arrowcolor": "blue",
          "arrowhead": 0,
          "arrowsize": 1,
          "arrowwidth": 1,
          "ax": 3.1228196494739784,
          "ay": -19.754695579452985,
          "opacity": 0.5,
          "showarrow": true,
          "x": 0.39034291090775386,
          "y": -2.4138865164230237
         },
         {
          "arrowcolor": "blue",
          "arrowhead": 0,
          "arrowsize": 1,
          "arrowwidth": 1,
          "ax": -2.8744209204007394,
          "ay": -19.792364799901062,
          "opacity": 0.5,
          "showarrow": true,
          "x": 2.6925091416034626,
          "y": -5.489065744223065
         },
         {
          "arrowcolor": "blue",
          "arrowhead": 0,
          "arrowsize": 1,
          "arrowwidth": 1,
          "ax": -0.219785558617536,
          "ay": -19.99879232124338,
          "opacity": 0.5,
          "showarrow": true,
          "x": 0.6228280113528276,
          "y": -5.027248980860364
         },
         {
          "arrowcolor": "blue",
          "arrowhead": 0,
          "arrowsize": 1,
          "arrowwidth": 1,
          "ax": 1.0379530152931755,
          "ay": -19.973048178433952,
          "opacity": 0.5,
          "showarrow": true,
          "x": 1.0620208499891084,
          "y": -3.822447975349659
         },
         {
          "arrowcolor": "blue",
          "arrowhead": 0,
          "arrowsize": 1,
          "arrowwidth": 1,
          "ax": 1.0823533747663194,
          "ay": -19.970691304312226,
          "opacity": 0.5,
          "showarrow": true,
          "x": 1.0768334669244688,
          "y": -5.725525244553708
         },
         {
          "arrowcolor": "blue",
          "arrowhead": 0,
          "arrowsize": 1,
          "arrowwidth": 1,
          "ax": 3.534314960182827,
          "ay": -19.685238575192017,
          "opacity": 0.5,
          "showarrow": true,
          "x": -0.18323219431154508,
          "y": -0.7090101605828938
         },
         {
          "arrowcolor": "blue",
          "arrowhead": 0,
          "arrowsize": 1,
          "arrowwidth": 1,
          "ax": 2.531361714610076,
          "ay": -19.839158446612757,
          "opacity": 0.5,
          "showarrow": true,
          "x": -0.4999215766138868,
          "y": -2.450122862670663
         },
         {
          "arrowcolor": "blue",
          "arrowhead": 0,
          "arrowsize": 1,
          "arrowwidth": 1,
          "ax": 5.947978864953855,
          "ay": -19.095066049167315,
          "opacity": 0.5,
          "showarrow": true,
          "x": -0.5060032535048913,
          "y": -4.391179567428127
         },
         {
          "arrowcolor": "blue",
          "arrowhead": 0,
          "arrowsize": 1,
          "arrowwidth": 1,
          "ax": -0.8626525156101286,
          "ay": -19.98138710493622,
          "opacity": 0.5,
          "showarrow": true,
          "x": 0.20367073291542806,
          "y": -4.377201706692908
         },
         {
          "arrowcolor": "blue",
          "arrowhead": 0,
          "arrowsize": 1,
          "arrowwidth": 1,
          "ax": -2.138077737187134,
          "ay": -19.885387187322873,
          "opacity": 0.5,
          "showarrow": true,
          "x": -0.22989123447202106,
          "y": -2.2779803268720156
         },
         {
          "arrowcolor": "blue",
          "arrowhead": 0,
          "arrowsize": 1,
          "arrowwidth": 1,
          "ax": 1.3759291309846486,
          "ay": -19.95261434064488,
          "opacity": 0.5,
          "showarrow": true,
          "x": -0.12265894022923911,
          "y": -5.987954894422695
         },
         {
          "arrowcolor": "blue",
          "arrowhead": 0,
          "arrowsize": 1,
          "arrowwidth": 1,
          "ax": 4.623928164314979,
          "ay": -19.45814195475135,
          "opacity": 0.5,
          "showarrow": true,
          "x": -0.29526786496042134,
          "y": -6.207980025852088
         },
         {
          "arrowcolor": "blue",
          "arrowhead": 0,
          "arrowsize": 1,
          "arrowwidth": 1,
          "ax": -2.77464061754974,
          "ay": -19.80659913875785,
          "opacity": 0.5,
          "showarrow": true,
          "x": -0.4628024545209806,
          "y": -4.611799613684888
         },
         {
          "arrowcolor": "blue",
          "arrowhead": 0,
          "arrowsize": 1,
          "arrowwidth": 1,
          "ax": -3.533584988801648,
          "ay": -19.685369621292754,
          "opacity": 0.5,
          "showarrow": true,
          "x": -0.0030524172543846457,
          "y": -6.015124142545031
         },
         {
          "arrowcolor": "blue",
          "arrowhead": 0,
          "arrowsize": 1,
          "arrowwidth": 1,
          "ax": -3.372879098552512,
          "ay": -19.713540691274808,
          "opacity": 0.5,
          "showarrow": true,
          "x": -1.1143909736946838,
          "y": -4.574961750070518
         },
         {
          "arrowcolor": "blue",
          "arrowhead": 0,
          "arrowsize": 1,
          "arrowwidth": 1,
          "ax": 4.614971464876608,
          "ay": -19.460268199035045,
          "opacity": 0.5,
          "showarrow": true,
          "x": -0.9421895821190641,
          "y": -4.732487570908206
         },
         {
          "arrowcolor": "blue",
          "arrowhead": 0,
          "arrowsize": 1,
          "arrowwidth": 1,
          "ax": 0.06592248028618734,
          "ay": -19.999891355369734,
          "opacity": 0.5,
          "showarrow": true,
          "x": -2.494425168708397,
          "y": -5.469427226397552
         },
         {
          "arrowcolor": "blue",
          "arrowhead": 0,
          "arrowsize": 1,
          "arrowwidth": 1,
          "ax": 4.540134359802369,
          "ay": -19.47786384578509,
          "opacity": 0.5,
          "showarrow": true,
          "x": -1.3686537351314112,
          "y": -3.283539676068756
         },
         {
          "arrowcolor": "blue",
          "arrowhead": 0,
          "arrowsize": 1,
          "arrowwidth": 1,
          "ax": -4.901940855085705,
          "ay": -19.38997101218157,
          "opacity": 0.5,
          "showarrow": true,
          "x": -0.5738751496763375,
          "y": -3.1311593710798835
         },
         {
          "arrowcolor": "blue",
          "arrowhead": 0,
          "arrowsize": 1,
          "arrowwidth": 1,
          "ax": -0.12018279527601484,
          "ay": -19.999638899133146,
          "opacity": 0.5,
          "showarrow": true,
          "x": -0.3602586863588421,
          "y": -3.2144151290784246
         },
         {
          "arrowcolor": "blue",
          "arrowhead": 0,
          "arrowsize": 1,
          "arrowwidth": 1,
          "ax": -2.104576670692918,
          "ay": -19.888960682679603,
          "opacity": 0.5,
          "showarrow": true,
          "x": -0.33016679908830987,
          "y": -4.803195125192153
         },
         {
          "arrowcolor": "blue",
          "arrowhead": 0,
          "arrowsize": 1,
          "arrowwidth": 1,
          "ax": -0.6790117696445748,
          "ay": -19.988470252039903,
          "opacity": 0.5,
          "showarrow": true,
          "x": 0.35900333624671965,
          "y": -0.4826861925779281
         },
         {
          "arrowcolor": "blue",
          "arrowhead": 0,
          "arrowsize": 1,
          "arrowwidth": 1,
          "ax": 1.1720743551707844,
          "ay": -19.965626504218466,
          "opacity": 0.5,
          "showarrow": true,
          "x": -3.2370946442718345,
          "y": -5.580931256427202
         },
         {
          "arrowcolor": "blue",
          "arrowhead": 0,
          "arrowsize": 1,
          "arrowwidth": 1,
          "ax": 2.7499105961572265,
          "ay": -19.810047746362002,
          "opacity": 0.5,
          "showarrow": true,
          "x": 0.2630304739688972,
          "y": -0.9055295721420187
         },
         {
          "arrowcolor": "blue",
          "arrowhead": 0,
          "arrowsize": 1,
          "arrowwidth": 1,
          "ax": 0.0710993366217367,
          "ay": -19.999873621709014,
          "opacity": 0.5,
          "showarrow": true,
          "x": -0.010749279416039051,
          "y": -1.3718521051664327
         },
         {
          "arrowcolor": "blue",
          "arrowhead": 0,
          "arrowsize": 1,
          "arrowwidth": 1,
          "ax": 1.0342293364193051,
          "ay": -19.97324134134692,
          "opacity": 0.5,
          "showarrow": true,
          "x": -1.3251270119304928,
          "y": -2.432016280201845
         },
         {
          "arrowcolor": "blue",
          "arrowhead": 0,
          "arrowsize": 1,
          "arrowwidth": 1,
          "ax": 4.342093770927788,
          "ay": -19.522966518551172,
          "opacity": 0.5,
          "showarrow": true,
          "x": -2.408934633348917,
          "y": -5.592311583677667
         },
         {
          "arrowcolor": "blue",
          "arrowhead": 0,
          "arrowsize": 1,
          "arrowwidth": 1,
          "ax": -4.663917411816348,
          "ay": -19.448595691611164,
          "opacity": 0.5,
          "showarrow": true,
          "x": -0.2224904645941831,
          "y": -2.4844051889353613
         },
         {
          "arrowcolor": "blue",
          "arrowhead": 0,
          "arrowsize": 1,
          "arrowwidth": 1,
          "ax": -4.3873200787193065,
          "ay": -19.512852752144326,
          "opacity": 0.5,
          "showarrow": true,
          "x": 1.108492504872508,
          "y": -3.06451083094738
         },
         {
          "arrowcolor": "blue",
          "arrowhead": 0,
          "arrowsize": 1,
          "arrowwidth": 1,
          "ax": -2.2679995154161747,
          "ay": -19.87098835483711,
          "opacity": 0.5,
          "showarrow": true,
          "x": 1.6653700471832218,
          "y": -5.184922955923347
         },
         {
          "arrowcolor": "blue",
          "arrowhead": 0,
          "arrowsize": 1,
          "arrowwidth": 1,
          "ax": 1.8086687456980444,
          "ay": -19.918050039306937,
          "opacity": 0.5,
          "showarrow": true,
          "x": -2.2692917527904357,
          "y": -3.7922464223633106
         },
         {
          "arrowcolor": "blue",
          "arrowhead": 0,
          "arrowsize": 1,
          "arrowwidth": 1,
          "ax": 4.181800695747604,
          "ay": -19.557927879533782,
          "opacity": 0.5,
          "showarrow": true,
          "x": 0.4846594941832578,
          "y": -4.3955414072973555
         },
         {
          "arrowcolor": "blue",
          "arrowhead": 0,
          "arrowsize": 1,
          "arrowwidth": 1,
          "ax": -1.4795565297043098,
          "ay": -19.945197729664386,
          "opacity": 0.5,
          "showarrow": true,
          "x": -1.0644245764781992,
          "y": -4.446737936984537
         },
         {
          "arrowcolor": "blue",
          "arrowhead": 0,
          "arrowsize": 1,
          "arrowwidth": 1,
          "ax": -2.3041024969725736,
          "ay": -19.8668344655973,
          "opacity": 0.5,
          "showarrow": true,
          "x": 0.22313947238223325,
          "y": -2.324139255511428
         },
         {
          "arrowcolor": "blue",
          "arrowhead": 0,
          "arrowsize": 1,
          "arrowwidth": 1,
          "ax": 5.192250006025384,
          "ay": -19.314257424890283,
          "opacity": 0.5,
          "showarrow": true,
          "x": 0.05353842992369966,
          "y": -2.7516057634897897
         },
         {
          "arrowcolor": "blue",
          "arrowhead": 0,
          "arrowsize": 1,
          "arrowwidth": 1,
          "ax": 3.699884990937576,
          "ay": -19.654792063357853,
          "opacity": 0.5,
          "showarrow": true,
          "x": -0.1670502518308575,
          "y": -5.0005652132094465
         },
         {
          "arrowcolor": "blue",
          "arrowhead": 0,
          "arrowsize": 1,
          "arrowwidth": 1,
          "ax": -0.685527674155517,
          "ay": -19.98824784236895,
          "opacity": 0.5,
          "showarrow": true,
          "x": 1.3433799966462585,
          "y": -4.73697219462965
         },
         {
          "arrowcolor": "blue",
          "arrowhead": 0,
          "arrowsize": 1,
          "arrowwidth": 1,
          "ax": -0.9644589020564687,
          "ay": -19.976731940591385,
          "opacity": 0.5,
          "showarrow": true,
          "x": 1.2037435017197402,
          "y": -5.1938076850884345
         },
         {
          "arrowcolor": "blue",
          "arrowhead": 0,
          "arrowsize": 1,
          "arrowwidth": 1,
          "ax": -2.186256217897492,
          "ay": -19.880147981081645,
          "opacity": 0.5,
          "showarrow": true,
          "x": 0.18365102442974282,
          "y": -1.5086975065437516
         },
         {
          "arrowcolor": "blue",
          "arrowhead": 0,
          "arrowsize": 1,
          "arrowwidth": 1,
          "ax": -1.0475077210928279,
          "ay": -19.972549350902877,
          "opacity": 0.5,
          "showarrow": true,
          "x": -0.5253748606656754,
          "y": -2.286224003746143
         },
         {
          "arrowcolor": "blue",
          "arrowhead": 0,
          "arrowsize": 1,
          "arrowwidth": 1,
          "ax": -1.869974891069023,
          "ay": -19.912387950890555,
          "opacity": 0.5,
          "showarrow": true,
          "x": -2.528377967299379,
          "y": -5.665731136042691
         },
         {
          "arrowcolor": "blue",
          "arrowhead": 0,
          "arrowsize": 1,
          "arrowwidth": 1,
          "ax": -4.014552137515118,
          "ay": -19.5929418703566,
          "opacity": 0.5,
          "showarrow": true,
          "x": -0.012308885208018617,
          "y": -2.5715240919073903
         },
         {
          "arrowcolor": "blue",
          "arrowhead": 0,
          "arrowsize": 1,
          "arrowwidth": 1,
          "ax": 1.405609699057868,
          "ay": -19.950545390387564,
          "opacity": 0.5,
          "showarrow": true,
          "x": -0.5194432678406667,
          "y": -5.294270840759193
         },
         {
          "arrowcolor": "blue",
          "arrowhead": 0,
          "arrowsize": 1,
          "arrowwidth": 1,
          "ax": 2.293524026340595,
          "ay": -19.868058474360257,
          "opacity": 0.5,
          "showarrow": true,
          "x": -1.2949003053577928,
          "y": -5.104836946889578
         },
         {
          "arrowcolor": "blue",
          "arrowhead": 0,
          "arrowsize": 1,
          "arrowwidth": 1,
          "ax": -2.041015424723838,
          "ay": -19.8955838325001,
          "opacity": 0.5,
          "showarrow": true,
          "x": 3.112570156812654,
          "y": -6.201129436953239
         },
         {
          "arrowcolor": "blue",
          "arrowhead": 0,
          "arrowsize": 1,
          "arrowwidth": 1,
          "ax": -1.0451326243628962,
          "ay": -19.972673776875553,
          "opacity": 0.5,
          "showarrow": true,
          "x": -0.16529274329774415,
          "y": -1.7640861294334214
         },
         {
          "arrowcolor": "blue",
          "arrowhead": 0,
          "arrowsize": 1,
          "arrowwidth": 1,
          "ax": 3.3275311547788586,
          "ay": -19.721245812929165,
          "opacity": 0.5,
          "showarrow": true,
          "x": -4.081889856468741,
          "y": -5.525277219401777
         },
         {
          "arrowcolor": "blue",
          "arrowhead": 0,
          "arrowsize": 1,
          "arrowwidth": 1,
          "ax": -1.0142674237338354,
          "ay": -19.974264982550732,
          "opacity": 0.5,
          "showarrow": true,
          "x": 0.5192850662554145,
          "y": -6.037710591716963
         },
         {
          "arrowcolor": "blue",
          "arrowhead": 0,
          "arrowsize": 1,
          "arrowwidth": 1,
          "ax": 2.184737932051642,
          "ay": -19.8803148910739,
          "opacity": 0.5,
          "showarrow": true,
          "x": -1.230325197938268,
          "y": -5.56390769967872
         },
         {
          "arrowcolor": "blue",
          "arrowhead": 0,
          "arrowsize": 1,
          "arrowwidth": 1,
          "ax": 0.24553585383228432,
          "ay": -19.998492746816765,
          "opacity": 0.5,
          "showarrow": true,
          "x": -0.12424761384550086,
          "y": -1.092744759380183
         },
         {
          "arrowcolor": "blue",
          "arrowhead": 0,
          "arrowsize": 1,
          "arrowwidth": 1,
          "ax": -1.7225256485614358,
          "ay": -19.925684565154796,
          "opacity": 0.5,
          "showarrow": true,
          "x": 0.696117551131128,
          "y": -5.3526119331375535
         },
         {
          "arrowcolor": "blue",
          "arrowhead": 0,
          "arrowsize": 1,
          "arrowwidth": 1,
          "ax": -0.1402875439119733,
          "ay": -19.999507979073464,
          "opacity": 0.5,
          "showarrow": true,
          "x": 0.3373156119905225,
          "y": -4.886211005323831
         },
         {
          "arrowcolor": "blue",
          "arrowhead": 0,
          "arrowsize": 1,
          "arrowwidth": 1,
          "ax": 3.0475812725552576,
          "ay": -19.766442481821823,
          "opacity": 0.5,
          "showarrow": true,
          "x": -0.13311353090408407,
          "y": -2.0949472504793434
         },
         {
          "arrowcolor": "blue",
          "arrowhead": 0,
          "arrowsize": 1,
          "arrowwidth": 1,
          "ax": -0.33533566835411566,
          "ay": -19.997188552132258,
          "opacity": 0.5,
          "showarrow": true,
          "x": -0.19260642994285243,
          "y": -5.876473830786174
         },
         {
          "arrowcolor": "blue",
          "arrowhead": 0,
          "arrowsize": 1,
          "arrowwidth": 1,
          "ax": 3.6903474143704034,
          "ay": -19.656585053392405,
          "opacity": 0.5,
          "showarrow": true,
          "x": -0.036013601527973775,
          "y": -0.44686072018372414
         },
         {
          "arrowcolor": "blue",
          "arrowhead": 0,
          "arrowsize": 1,
          "arrowwidth": 1,
          "ax": -0.9772023798375161,
          "ay": -19.976112622550964,
          "opacity": 0.5,
          "showarrow": true,
          "x": 1.7631245162795643,
          "y": -4.797287116016162
         },
         {
          "arrowcolor": "blue",
          "arrowhead": 0,
          "arrowsize": 1,
          "arrowwidth": 1,
          "ax": -1.9520033900530631,
          "ay": -19.904514130347955,
          "opacity": 0.5,
          "showarrow": true,
          "x": -1.2053634698371443,
          "y": -3.1097388525429825
         },
         {
          "arrowcolor": "blue",
          "arrowhead": 0,
          "arrowsize": 1,
          "arrowwidth": 1,
          "ax": 1.218053596925997,
          "ay": -19.96287417770837,
          "opacity": 0.5,
          "showarrow": true,
          "x": 0.6443321522781589,
          "y": -3.712760653494235
         },
         {
          "arrowcolor": "blue",
          "arrowhead": 0,
          "arrowsize": 1,
          "arrowwidth": 1,
          "ax": -1.0966640089931106,
          "ay": -19.969910566934924,
          "opacity": 0.5,
          "showarrow": true,
          "x": 1.1770412652375035,
          "y": -3.9430662209205884
         },
         {
          "arrowcolor": "blue",
          "arrowhead": 0,
          "arrowsize": 1,
          "arrowwidth": 1,
          "ax": 2.410044744790263,
          "ay": -19.854261112620357,
          "opacity": 0.5,
          "showarrow": true,
          "x": -2.896362065068729,
          "y": -4.472619754550262
         },
         {
          "arrowcolor": "blue",
          "arrowhead": 0,
          "arrowsize": 1,
          "arrowwidth": 1,
          "ax": 2.282682312881183,
          "ay": -19.86930702008652,
          "opacity": 0.5,
          "showarrow": true,
          "x": -1.352997735649258,
          "y": -5.417400092325916
         },
         {
          "arrowcolor": "blue",
          "arrowhead": 0,
          "arrowsize": 1,
          "arrowwidth": 1,
          "ax": 1.4449760671589678,
          "ay": -19.94773280764854,
          "opacity": 0.5,
          "showarrow": true,
          "x": -0.5013291545663245,
          "y": -3.888659626631493
         },
         {
          "arrowcolor": "blue",
          "arrowhead": 0,
          "arrowsize": 1,
          "arrowwidth": 1,
          "ax": 1.723100828622893,
          "ay": -19.925634833911793,
          "opacity": 0.5,
          "showarrow": true,
          "x": -1.032777244848888,
          "y": -3.753729375613135
         },
         {
          "arrowcolor": "blue",
          "arrowhead": 0,
          "arrowsize": 1,
          "arrowwidth": 1,
          "ax": 0.7555061025952661,
          "ay": -19.9857251689535,
          "opacity": 0.5,
          "showarrow": true,
          "x": -2.6719145748868542,
          "y": -5.035647775762008
         },
         {
          "arrowcolor": "blue",
          "arrowhead": 0,
          "arrowsize": 1,
          "arrowwidth": 1,
          "ax": 1.8915455126103866,
          "ay": -19.91035046335758,
          "opacity": 0.5,
          "showarrow": true,
          "x": 0.25191666097486054,
          "y": -1.3269892065622864
         },
         {
          "arrowcolor": "blue",
          "arrowhead": 0,
          "arrowsize": 1,
          "arrowwidth": 1,
          "ax": 4.692975265954637,
          "ay": -19.441604438758084,
          "opacity": 0.5,
          "showarrow": true,
          "x": -2.47298466897649,
          "y": -5.306868255259215
         },
         {
          "arrowcolor": "blue",
          "arrowhead": 0,
          "arrowsize": 1,
          "arrowwidth": 1,
          "ax": -2.8216832829008087,
          "ay": -19.799952107290515,
          "opacity": 0.5,
          "showarrow": true,
          "x": -0.3091823072022874,
          "y": -4.976124681212267
         },
         {
          "arrowcolor": "blue",
          "arrowhead": 0,
          "arrowsize": 1,
          "arrowwidth": 1,
          "ax": -0.49127945932521355,
          "ay": -19.99396520185141,
          "opacity": 0.5,
          "showarrow": true,
          "x": -2.324196606117152,
          "y": -4.328500153378277
         },
         {
          "arrowcolor": "blue",
          "arrowhead": 0,
          "arrowsize": 1,
          "arrowwidth": 1,
          "ax": 2.5207212637753407,
          "ay": -19.84051320682887,
          "opacity": 0.5,
          "showarrow": true,
          "x": 0.9793585510499738,
          "y": -5.18954167503313
         },
         {
          "arrowcolor": "blue",
          "arrowhead": 0,
          "arrowsize": 1,
          "arrowwidth": 1,
          "ax": 0.3077193466229891,
          "ay": -19.997632579975907,
          "opacity": 0.5,
          "showarrow": true,
          "x": -0.21634985100489673,
          "y": -0.9760186377663363
         },
         {
          "arrowcolor": "blue",
          "arrowhead": 0,
          "arrowsize": 1,
          "arrowwidth": 1,
          "ax": 1.957548441480711,
          "ay": -19.90396955632862,
          "opacity": 0.5,
          "showarrow": true,
          "x": -3.274558299282272,
          "y": -5.936978119462664
         },
         {
          "arrowcolor": "blue",
          "arrowhead": 0,
          "arrowsize": 1,
          "arrowwidth": 1,
          "ax": -0.7358740607819496,
          "ay": -19.986457649285136,
          "opacity": 0.5,
          "showarrow": true,
          "x": -0.5708235016735524,
          "y": -2.5617630650713283
         },
         {
          "arrowcolor": "blue",
          "arrowhead": 0,
          "arrowsize": 1,
          "arrowwidth": 1,
          "ax": -3.5162315348715785,
          "ay": -19.688476726074434,
          "opacity": 0.5,
          "showarrow": true,
          "x": 0.43349563160909343,
          "y": -2.226798439974631
         },
         {
          "arrowcolor": "blue",
          "arrowhead": 0,
          "arrowsize": 1,
          "arrowwidth": 1,
          "ax": 5.815207615658431,
          "ay": -19.135918070131577,
          "opacity": 0.5,
          "showarrow": true,
          "x": -0.571853151108375,
          "y": -3.6508659795580325
         },
         {
          "arrowcolor": "blue",
          "arrowhead": 0,
          "arrowsize": 1,
          "arrowwidth": 1,
          "ax": -1.4479675457256689,
          "ay": -19.947515885105222,
          "opacity": 0.5,
          "showarrow": true,
          "x": 0.3587279622184036,
          "y": -1.6689843903724544
         },
         {
          "arrowcolor": "blue",
          "arrowhead": 0,
          "arrowsize": 1,
          "arrowwidth": 1,
          "ax": -1.7291148896229411,
          "ay": -19.925113844053296,
          "opacity": 0.5,
          "showarrow": true,
          "x": 1.529630302768509,
          "y": -4.624646429276018
         },
         {
          "arrowcolor": "blue",
          "arrowhead": 0,
          "arrowsize": 1,
          "arrowwidth": 1,
          "ax": 4.805994903344187,
          "ay": -19.413974682919253,
          "opacity": 0.5,
          "showarrow": true,
          "x": -0.41276528691433834,
          "y": -0.9672509210737301
         },
         {
          "arrowcolor": "blue",
          "arrowhead": 0,
          "arrowsize": 1,
          "arrowwidth": 1,
          "ax": 3.4253292315567596,
          "ay": -19.704494909929632,
          "opacity": 0.5,
          "showarrow": true,
          "x": -3.624292517893809,
          "y": -5.959529874062336
         },
         {
          "arrowcolor": "blue",
          "arrowhead": 0,
          "arrowsize": 1,
          "arrowwidth": 1,
          "ax": 1.2815028298692057,
          "ay": -19.958901535330977,
          "opacity": 0.5,
          "showarrow": true,
          "x": -2.3828863834772975,
          "y": -4.532061506132835
         },
         {
          "arrowcolor": "blue",
          "arrowhead": 0,
          "arrowsize": 1,
          "arrowwidth": 1,
          "ax": 5.7837140310744415,
          "ay": -19.14546034982582,
          "opacity": 0.5,
          "showarrow": true,
          "x": -0.6855390390031194,
          "y": -2.724423934876914
         },
         {
          "arrowcolor": "blue",
          "arrowhead": 0,
          "arrowsize": 1,
          "arrowwidth": 1,
          "ax": 0.8325630381523057,
          "ay": -19.98266345579344,
          "opacity": 0.5,
          "showarrow": true,
          "x": -0.5245327351976405,
          "y": -2.620495011040691
         },
         {
          "arrowcolor": "blue",
          "arrowhead": 0,
          "arrowsize": 1,
          "arrowwidth": 1,
          "ax": 7.457136188647712,
          "ay": -18.5577778805535,
          "opacity": 0.5,
          "showarrow": true,
          "x": -0.4451949141131461,
          "y": -2.2746804216921204
         },
         {
          "arrowcolor": "blue",
          "arrowhead": 0,
          "arrowsize": 1,
          "arrowwidth": 1,
          "ax": 1.0101098786955467,
          "ay": -19.974475663530235,
          "opacity": 0.5,
          "showarrow": true,
          "x": -0.9757599026864278,
          "y": -1.911098498277411
         },
         {
          "arrowcolor": "blue",
          "arrowhead": 0,
          "arrowsize": 1,
          "arrowwidth": 1,
          "ax": -1.5960706365630468,
          "ay": -19.936212241122966,
          "opacity": 0.5,
          "showarrow": true,
          "x": 1.79335767169546,
          "y": -5.412376439418594
         },
         {
          "arrowcolor": "blue",
          "arrowhead": 0,
          "arrowsize": 1,
          "arrowwidth": 1,
          "ax": 0.3218430654938902,
          "ay": -19.997410258360794,
          "opacity": 0.5,
          "showarrow": true,
          "x": 0.4920554761633703,
          "y": -0.6403337181235202
         },
         {
          "arrowcolor": "blue",
          "arrowhead": 0,
          "arrowsize": 1,
          "arrowwidth": 1,
          "ax": -5.1236993528331345,
          "ay": -19.332555571930403,
          "opacity": 0.5,
          "showarrow": true,
          "x": -0.4114591257806073,
          "y": -2.788031287967805
         },
         {
          "arrowcolor": "blue",
          "arrowhead": 0,
          "arrowsize": 1,
          "arrowwidth": 1,
          "ax": 0.335713867220892,
          "ay": -19.997182206484883,
          "opacity": 0.5,
          "showarrow": true,
          "x": -2.831573849664427,
          "y": -6.240923701775089
         },
         {
          "arrowcolor": "blue",
          "arrowhead": 0,
          "arrowsize": 1,
          "arrowwidth": 1,
          "ax": -0.09653911059621467,
          "ay": -19.99976700364595,
          "opacity": 0.5,
          "showarrow": true,
          "x": -0.5338775027763384,
          "y": -0.9331551352652351
         },
         {
          "arrowcolor": "blue",
          "arrowhead": 0,
          "arrowsize": 1,
          "arrowwidth": 1,
          "ax": -1.5372236414527272,
          "ay": -19.94083607766131,
          "opacity": 0.5,
          "showarrow": true,
          "x": -0.4235666485826993,
          "y": -3.559915026142814
         },
         {
          "arrowcolor": "blue",
          "arrowhead": 0,
          "arrowsize": 1,
          "arrowwidth": 1,
          "ax": 0.7077940435929091,
          "ay": -19.987471765880105,
          "opacity": 0.5,
          "showarrow": true,
          "x": -0.8695891164396862,
          "y": -2.5849527433717374
         },
         {
          "arrowcolor": "blue",
          "arrowhead": 0,
          "arrowsize": 1,
          "arrowwidth": 1,
          "ax": 2.0071288950661708,
          "ay": -19.89903097134608,
          "opacity": 0.5,
          "showarrow": true,
          "x": -0.2065237343335903,
          "y": -2.9852285097712286
         },
         {
          "arrowcolor": "blue",
          "arrowhead": 0,
          "arrowsize": 1,
          "arrowwidth": 1,
          "ax": 1.7954446085552245,
          "ay": -19.91924643799584,
          "opacity": 0.5,
          "showarrow": true,
          "x": -0.18178903768527338,
          "y": -5.982291431012515
         },
         {
          "arrowcolor": "blue",
          "arrowhead": 0,
          "arrowsize": 1,
          "arrowwidth": 1,
          "ax": -0.6057770831054214,
          "ay": -19.99082374804961,
          "opacity": 0.5,
          "showarrow": true,
          "x": -0.48581325582349877,
          "y": -5.916356290953004
         },
         {
          "arrowcolor": "blue",
          "arrowhead": 0,
          "arrowsize": 1,
          "arrowwidth": 1,
          "ax": 2.772398596754695,
          "ay": -19.8069130866148,
          "opacity": 0.5,
          "showarrow": true,
          "x": -2.8736359626307526,
          "y": -5.132485150597583
         },
         {
          "arrowcolor": "blue",
          "arrowhead": 0,
          "arrowsize": 1,
          "arrowwidth": 1,
          "ax": -1.9980382443725677,
          "ay": -19.89994580831879,
          "opacity": 0.5,
          "showarrow": true,
          "x": 2.0309405034731327,
          "y": -5.024499229690821
         },
         {
          "arrowcolor": "blue",
          "arrowhead": 0,
          "arrowsize": 1,
          "arrowwidth": 1,
          "ax": 0.8370707454753656,
          "ay": -19.982475136155415,
          "opacity": 0.5,
          "showarrow": true,
          "x": -1.874177451988565,
          "y": -4.267741098598844
         },
         {
          "arrowcolor": "blue",
          "arrowhead": 0,
          "arrowsize": 1,
          "arrowwidth": 1,
          "ax": -0.24343713283439647,
          "ay": -19.998518404180782,
          "opacity": 0.5,
          "showarrow": true,
          "x": -1.4711068850267262,
          "y": -5.846283220706527
         },
         {
          "arrowcolor": "blue",
          "arrowhead": 0,
          "arrowsize": 1,
          "arrowwidth": 1,
          "ax": 4.017478686284189,
          "ay": -19.592341998986548,
          "opacity": 0.5,
          "showarrow": true,
          "x": -1.517957124854914,
          "y": -4.271493188395222
         },
         {
          "arrowcolor": "blue",
          "arrowhead": 0,
          "arrowsize": 1,
          "arrowwidth": 1,
          "ax": -0.2591773563486348,
          "ay": -19.998320606939878,
          "opacity": 0.5,
          "showarrow": true,
          "x": 0.41895291846493243,
          "y": -4.528601515796156
         },
         {
          "arrowcolor": "blue",
          "arrowhead": 0,
          "arrowsize": 1,
          "arrowwidth": 1,
          "ax": -1.1244614367835586,
          "ay": -19.968364642032824,
          "opacity": 0.5,
          "showarrow": true,
          "x": -1.5889608245260904,
          "y": -3.555114339792466
         },
         {
          "arrowcolor": "blue",
          "arrowhead": 0,
          "arrowsize": 1,
          "arrowwidth": 1,
          "ax": -3.8004288872272345,
          "ay": -19.635598800982077,
          "opacity": 0.5,
          "showarrow": true,
          "x": 2.599335912808736,
          "y": -6.595347792964468
         },
         {
          "arrowcolor": "blue",
          "arrowhead": 0,
          "arrowsize": 1,
          "arrowwidth": 1,
          "ax": 0.2952524882765631,
          "ay": -19.997820530451975,
          "opacity": 0.5,
          "showarrow": true,
          "x": 1.3117229188430148,
          "y": -4.3183381645379955
         },
         {
          "arrowcolor": "blue",
          "arrowhead": 0,
          "arrowsize": 1,
          "arrowwidth": 1,
          "ax": -1.7813510146978828,
          "ay": -19.92051175453168,
          "opacity": 0.5,
          "showarrow": true,
          "x": 1.5564412526212388,
          "y": -5.671199037231459
         },
         {
          "arrowcolor": "blue",
          "arrowhead": 0,
          "arrowsize": 1,
          "arrowwidth": 1,
          "ax": 3.606371191364779,
          "ay": -19.67216528067244,
          "opacity": 0.5,
          "showarrow": true,
          "x": -1.1401199632687395,
          "y": -4.241203071411524
         },
         {
          "arrowcolor": "blue",
          "arrowhead": 0,
          "arrowsize": 1,
          "arrowwidth": 1,
          "ax": 0.38150683115496586,
          "ay": -19.996360982383322,
          "opacity": 0.5,
          "showarrow": true,
          "x": -2.6500950012191455,
          "y": -5.3803089610676444
         },
         {
          "arrowcolor": "blue",
          "arrowhead": 0,
          "arrowsize": 1,
          "arrowwidth": 1,
          "ax": 0.18764024859666567,
          "ay": -19.999119759057063,
          "opacity": 0.5,
          "showarrow": true,
          "x": -3.2584046956152517,
          "y": -5.783867679529783
         },
         {
          "arrowcolor": "blue",
          "arrowhead": 0,
          "arrowsize": 1,
          "arrowwidth": 1,
          "ax": -1.7206958598359166,
          "ay": -19.925842661176052,
          "opacity": 0.5,
          "showarrow": true,
          "x": 0.24539408640992597,
          "y": -1.8113947806444621
         },
         {
          "arrowcolor": "blue",
          "arrowhead": 0,
          "arrowsize": 1,
          "arrowwidth": 1,
          "ax": 0.7845142551007318,
          "ay": -19.98460751137094,
          "opacity": 0.5,
          "showarrow": true,
          "x": -0.3267647144969337,
          "y": -3.8695462517027575
         },
         {
          "arrowcolor": "blue",
          "arrowhead": 0,
          "arrowsize": 1,
          "arrowwidth": 1,
          "ax": 2.602158927784755,
          "ay": -19.829996694769015,
          "opacity": 0.5,
          "showarrow": true,
          "x": -2.0948341131763555,
          "y": -5.196043984242292
         },
         {
          "arrowcolor": "blue",
          "arrowhead": 0,
          "arrowsize": 1,
          "arrowwidth": 1,
          "ax": 1.019950928229051,
          "ay": -19.973975570827275,
          "opacity": 0.5,
          "showarrow": true,
          "x": 0.025294868367888898,
          "y": -1.0236249984593604
         },
         {
          "arrowcolor": "blue",
          "arrowhead": 0,
          "arrowsize": 1,
          "arrowwidth": 1,
          "ax": -0.2826347911634714,
          "ay": -19.99800283965436,
          "opacity": 0.5,
          "showarrow": true,
          "x": -0.13664801260656295,
          "y": -1.3913045224258742
         },
         {
          "arrowcolor": "blue",
          "arrowhead": 0,
          "arrowsize": 1,
          "arrowwidth": 1,
          "ax": -1.830091234983243,
          "ay": -19.916093142773697,
          "opacity": 0.5,
          "showarrow": true,
          "x": 0.625871958621663,
          "y": -1.5668565235351748
         },
         {
          "arrowcolor": "blue",
          "arrowhead": 0,
          "arrowsize": 1,
          "arrowwidth": 1,
          "ax": -2.9356754649518053,
          "ay": -19.783372047365436,
          "opacity": 0.5,
          "showarrow": true,
          "x": 2.189365863192863,
          "y": -5.505884310768725
         },
         {
          "arrowcolor": "blue",
          "arrowhead": 0,
          "arrowsize": 1,
          "arrowwidth": 1,
          "ax": -1.764886300458786,
          "ay": -19.92197721980559,
          "opacity": 0.5,
          "showarrow": true,
          "x": 1.0655509855552574,
          "y": -2.851520313340836
         },
         {
          "arrowcolor": "blue",
          "arrowhead": 0,
          "arrowsize": 1,
          "arrowwidth": 1,
          "ax": -1.9262422192016606,
          "ay": -19.907023657818993,
          "opacity": 0.5,
          "showarrow": true,
          "x": -1.6029806316372774,
          "y": -4.4915669130763
         },
         {
          "arrowcolor": "blue",
          "arrowhead": 0,
          "arrowsize": 1,
          "arrowwidth": 1,
          "ax": -1.409887869315988,
          "ay": -19.950243512196927,
          "opacity": 0.5,
          "showarrow": true,
          "x": 0.24471345992182336,
          "y": -0.848406980143075
         },
         {
          "arrowcolor": "blue",
          "arrowhead": 0,
          "arrowsize": 1,
          "arrowwidth": 1,
          "ax": -0.2838034869934233,
          "ay": -19.997986288143373,
          "opacity": 0.5,
          "showarrow": true,
          "x": -0.3512627844146724,
          "y": -5.927028432253263
         },
         {
          "arrowcolor": "blue",
          "arrowhead": 0,
          "arrowsize": 1,
          "arrowwidth": 1,
          "ax": -1.9463631411639695,
          "ay": -19.905066453612214,
          "opacity": 0.5,
          "showarrow": true,
          "x": -0.7120871041453264,
          "y": -3.173074528683215
         },
         {
          "arrowcolor": "blue",
          "arrowhead": 0,
          "arrowsize": 1,
          "arrowwidth": 1,
          "ax": -0.839259686832665,
          "ay": -19.982383320766758,
          "opacity": 0.5,
          "showarrow": true,
          "x": -0.8045975952088763,
          "y": -3.9462641700608003
         },
         {
          "arrowcolor": "blue",
          "arrowhead": 0,
          "arrowsize": 1,
          "arrowwidth": 1,
          "ax": 0.6994860703643907,
          "ay": -19.987764238087415,
          "opacity": 0.5,
          "showarrow": true,
          "x": -1.4657500000599208,
          "y": -3.7342539701147746
         },
         {
          "arrowcolor": "blue",
          "arrowhead": 0,
          "arrowsize": 1,
          "arrowwidth": 1,
          "ax": -0.5760010985020487,
          "ay": -19.99170384770954,
          "opacity": 0.5,
          "showarrow": true,
          "x": -0.6709368935213398,
          "y": -2.5402955568638137
         },
         {
          "arrowcolor": "blue",
          "arrowhead": 0,
          "arrowsize": 1,
          "arrowwidth": 1,
          "ax": 2.7790487551117513,
          "ay": -19.80598111724617,
          "opacity": 0.5,
          "showarrow": true,
          "x": -0.03604794918009845,
          "y": -1.3498601211575123
         },
         {
          "arrowcolor": "blue",
          "arrowhead": 0,
          "arrowsize": 1,
          "arrowwidth": 1,
          "ax": 1.7299473781063488,
          "ay": -19.925041582616156,
          "opacity": 0.5,
          "showarrow": true,
          "x": 0.5625622499618069,
          "y": -3.172244637285402
         },
         {
          "arrowcolor": "blue",
          "arrowhead": 0,
          "arrowsize": 1,
          "arrowwidth": 1,
          "ax": 0.032949113444560106,
          "ay": -19.999972858879666,
          "opacity": 0.5,
          "showarrow": true,
          "x": -1.0502509931299226,
          "y": -3.5145678916246608
         },
         {
          "arrowcolor": "blue",
          "arrowhead": 0,
          "arrowsize": 1,
          "arrowwidth": 1,
          "ax": -2.841833608573352,
          "ay": -19.797070029203386,
          "opacity": 0.5,
          "showarrow": true,
          "x": -1.1113410057519215,
          "y": -2.921143929905423
         },
         {
          "arrowcolor": "blue",
          "arrowhead": 0,
          "arrowsize": 1,
          "arrowwidth": 1,
          "ax": 4.6418238235354545,
          "ay": -19.453880630641763,
          "opacity": 0.5,
          "showarrow": true,
          "x": -2.286359693967341,
          "y": -5.930445154584015
         },
         {
          "arrowcolor": "blue",
          "arrowhead": 0,
          "arrowsize": 1,
          "arrowwidth": 1,
          "ax": -0.8741057448117394,
          "ay": -19.98088934824692,
          "opacity": 0.5,
          "showarrow": true,
          "x": 0.5659921382885774,
          "y": -3.2880508858092967
         },
         {
          "arrowcolor": "blue",
          "arrowhead": 0,
          "arrowsize": 1,
          "arrowwidth": 1,
          "ax": 0.7454732254893168,
          "ay": -19.98610191283129,
          "opacity": 0.5,
          "showarrow": true,
          "x": 0.05754176983530723,
          "y": -1.492175604810675
         },
         {
          "arrowcolor": "blue",
          "arrowhead": 0,
          "arrowsize": 1,
          "arrowwidth": 1,
          "ax": 3.692380211922015,
          "ay": -19.656203305079206,
          "opacity": 0.5,
          "showarrow": true,
          "x": -1.0605515573247037,
          "y": -4.573750165347466
         },
         {
          "arrowcolor": "blue",
          "arrowhead": 0,
          "arrowsize": 1,
          "arrowwidth": 1,
          "ax": -0.1480145934786381,
          "ay": -19.99945228450313,
          "opacity": 0.5,
          "showarrow": true,
          "x": 0.22107251667868658,
          "y": -1.4624380630669036
         },
         {
          "arrowcolor": "blue",
          "arrowhead": 0,
          "arrowsize": 1,
          "arrowwidth": 1,
          "ax": 1.964152268095587,
          "ay": -19.903318966135647,
          "opacity": 0.5,
          "showarrow": true,
          "x": -1.1646453490464952,
          "y": -2.773424945283154
         },
         {
          "arrowcolor": "blue",
          "arrowhead": 0,
          "arrowsize": 1,
          "arrowwidth": 1,
          "ax": 0.730343268514432,
          "ay": -19.9866605192097,
          "opacity": 0.5,
          "showarrow": true,
          "x": -0.9822032051885954,
          "y": -5.80402656499146
         },
         {
          "arrowcolor": "blue",
          "arrowhead": 0,
          "arrowsize": 1,
          "arrowwidth": 1,
          "ax": 7.40000789151706,
          "ay": -18.580631937732505,
          "opacity": 0.5,
          "showarrow": true,
          "x": 0.004997817598215485,
          "y": -3.5924485578717693
         },
         {
          "arrowcolor": "blue",
          "arrowhead": 0,
          "arrowsize": 1,
          "arrowwidth": 1,
          "ax": -4.997574287159962,
          "ay": -19.36554288534968,
          "opacity": 0.5,
          "showarrow": true,
          "x": 2.9155499487479553,
          "y": -6.147537572875814
         },
         {
          "arrowcolor": "blue",
          "arrowhead": 0,
          "arrowsize": 1,
          "arrowwidth": 1,
          "ax": 3.7451407337622875,
          "ay": -19.646218997158577,
          "opacity": 0.5,
          "showarrow": true,
          "x": -1.0591598902915733,
          "y": -3.4592973603567314
         },
         {
          "arrowcolor": "blue",
          "arrowhead": 0,
          "arrowsize": 1,
          "arrowwidth": 1,
          "ax": -1.0836181693872007,
          "ay": -19.9706227159539,
          "opacity": 0.5,
          "showarrow": true,
          "x": 0.021971108028117928,
          "y": -1.5745269230888779
         },
         {
          "arrowcolor": "blue",
          "arrowhead": 0,
          "arrowsize": 1,
          "arrowwidth": 1,
          "ax": -2.685030243836208,
          "ay": -19.818945799150995,
          "opacity": 0.5,
          "showarrow": true,
          "x": 1.6152986667480276,
          "y": -4.777323188991513
         },
         {
          "arrowcolor": "blue",
          "arrowhead": 0,
          "arrowsize": 1,
          "arrowwidth": 1,
          "ax": 3.5704265001801927,
          "ay": -19.678720857993056,
          "opacity": 0.5,
          "showarrow": true,
          "x": 0.5872507008499324,
          "y": -0.632750716263757
         },
         {
          "arrowcolor": "blue",
          "arrowhead": 0,
          "arrowsize": 1,
          "arrowwidth": 1,
          "ax": -2.0944978069323907,
          "ay": -19.890024608751883,
          "opacity": 0.5,
          "showarrow": true,
          "x": 1.6256782388643862,
          "y": -6.3480725500027155
         },
         {
          "arrowcolor": "blue",
          "arrowhead": 0,
          "arrowsize": 1,
          "arrowwidth": 1,
          "ax": 1.0625321247743442,
          "ay": -19.971755693574426,
          "opacity": 0.5,
          "showarrow": true,
          "x": -0.6228475263490783,
          "y": -2.3840455937635356
         },
         {
          "arrowcolor": "blue",
          "arrowhead": 0,
          "arrowsize": 1,
          "arrowwidth": 1,
          "ax": 0.04758013679552055,
          "ay": -19.999943403184485,
          "opacity": 0.5,
          "showarrow": true,
          "x": -0.8975879421898907,
          "y": -5.149795449526445
         },
         {
          "arrowcolor": "blue",
          "arrowhead": 0,
          "arrowsize": 1,
          "arrowwidth": 1,
          "ax": -1.7765338939375064,
          "ay": -19.920941928626046,
          "opacity": 0.5,
          "showarrow": true,
          "x": 1.5363955605385151,
          "y": -5.340074083705411
         },
         {
          "arrowcolor": "blue",
          "arrowhead": 0,
          "arrowsize": 1,
          "arrowwidth": 1,
          "ax": -3.1102123583873764,
          "ay": -19.756684415299407,
          "opacity": 0.5,
          "showarrow": true,
          "x": -0.7982534927734665,
          "y": -5.6796993026389115
         },
         {
          "arrowcolor": "blue",
          "arrowhead": 0,
          "arrowsize": 1,
          "arrowwidth": 1,
          "ax": 1.1339106010051652,
          "ay": -19.967830296477583,
          "opacity": 0.5,
          "showarrow": true,
          "x": -0.9458576915649033,
          "y": -2.4243439986562354
         },
         {
          "arrowcolor": "blue",
          "arrowhead": 0,
          "arrowsize": 1,
          "arrowwidth": 1,
          "ax": -0.036207290459168186,
          "ay": -19.99996722577609,
          "opacity": 0.5,
          "showarrow": true,
          "x": 0.069087124169333,
          "y": -2.7226734724218873
         },
         {
          "arrowcolor": "blue",
          "arrowhead": 0,
          "arrowsize": 1,
          "arrowwidth": 1,
          "ax": -4.22477669798797,
          "ay": -19.548689517513388,
          "opacity": 0.5,
          "showarrow": true,
          "x": 3.113978037872331,
          "y": -6.313283976432269
         },
         {
          "arrowcolor": "blue",
          "arrowhead": 0,
          "arrowsize": 1,
          "arrowwidth": 1,
          "ax": -1.9402754478921627,
          "ay": -19.905660782458515,
          "opacity": 0.5,
          "showarrow": true,
          "x": 0.9797856958916231,
          "y": -4.993744552024807
         },
         {
          "arrowcolor": "blue",
          "arrowhead": 0,
          "arrowsize": 1,
          "arrowwidth": 1,
          "ax": -3.4750268628727077,
          "ay": -19.69579113166854,
          "opacity": 0.5,
          "showarrow": true,
          "x": 3.7379649021310097,
          "y": -6.4019417440413
         },
         {
          "arrowcolor": "blue",
          "arrowhead": 0,
          "arrowsize": 1,
          "arrowwidth": 1,
          "ax": -4.275479035528243,
          "ay": -19.537663089959313,
          "opacity": 0.5,
          "showarrow": true,
          "x": -0.3769530405405801,
          "y": -2.9090562530704207
         },
         {
          "arrowcolor": "blue",
          "arrowhead": 0,
          "arrowsize": 1,
          "arrowwidth": 1,
          "ax": 0.9902942595366172,
          "ay": -19.975467886373245,
          "opacity": 0.5,
          "showarrow": true,
          "x": -0.2086265050465583,
          "y": -1.8987919262677537
         },
         {
          "arrowcolor": "blue",
          "arrowhead": 0,
          "arrowsize": 1,
          "arrowwidth": 1,
          "ax": 1.9425920169133373,
          "ay": -19.905434842168724,
          "opacity": 0.5,
          "showarrow": true,
          "x": 1.1195334440995288,
          "y": -6.242286532558084
         },
         {
          "arrowcolor": "blue",
          "arrowhead": 0,
          "arrowsize": 1,
          "arrowwidth": 1,
          "ax": 0.47805856389303036,
          "ay": -19.994285683902003,
          "opacity": 0.5,
          "showarrow": true,
          "x": -3.7079819399322735,
          "y": -5.191589167632986
         },
         {
          "arrowcolor": "blue",
          "arrowhead": 0,
          "arrowsize": 1,
          "arrowwidth": 1,
          "ax": -2.9376684742456947,
          "ay": -19.783076200010527,
          "opacity": 0.5,
          "showarrow": true,
          "x": -0.8688894665433201,
          "y": -5.364393770380624
         },
         {
          "arrowcolor": "blue",
          "arrowhead": 0,
          "arrowsize": 1,
          "arrowwidth": 1,
          "ax": 0.428530576524771,
          "ay": -19.995408511580436,
          "opacity": 0.5,
          "showarrow": true,
          "x": -3.5532529125013754,
          "y": -5.177079438518841
         },
         {
          "arrowcolor": "blue",
          "arrowhead": 0,
          "arrowsize": 1,
          "arrowwidth": 1,
          "ax": 6.755286142496644,
          "ay": -18.82461444845532,
          "opacity": 0.5,
          "showarrow": true,
          "x": -1.20702763484709,
          "y": -3.371441748522998
         },
         {
          "arrowcolor": "blue",
          "arrowhead": 0,
          "arrowsize": 1,
          "arrowwidth": 1,
          "ax": -1.5251527658659567,
          "ay": -19.941762937131998,
          "opacity": 0.5,
          "showarrow": true,
          "x": 0.564618427276725,
          "y": -3.561607092534763
         },
         {
          "arrowcolor": "blue",
          "arrowhead": 0,
          "arrowsize": 1,
          "arrowwidth": 1,
          "ax": 0.5902735762346836,
          "ay": -19.99128752995162,
          "opacity": 0.5,
          "showarrow": true,
          "x": -0.3567437034574371,
          "y": -1.215817707788977
         },
         {
          "arrowcolor": "blue",
          "arrowhead": 0,
          "arrowsize": 1,
          "arrowwidth": 1,
          "ax": 1.7390938254982253,
          "ay": -19.924245347468343,
          "opacity": 0.5,
          "showarrow": true,
          "x": 0.46532878742680756,
          "y": -5.750450986461387
         },
         {
          "arrowcolor": "blue",
          "arrowhead": 0,
          "arrowsize": 1,
          "arrowwidth": 1,
          "ax": -2.070367480187711,
          "ay": -19.89255082931752,
          "opacity": 0.5,
          "showarrow": true,
          "x": -0.40402050047770277,
          "y": -6.915730036638091
         },
         {
          "arrowcolor": "blue",
          "arrowhead": 0,
          "arrowsize": 1,
          "arrowwidth": 1,
          "ax": 5.052616593672889,
          "ay": -19.35125488327156,
          "opacity": 0.5,
          "showarrow": true,
          "x": -2.3011962490945015,
          "y": -5.85207707900814
         },
         {
          "arrowcolor": "blue",
          "arrowhead": 0,
          "arrowsize": 1,
          "arrowwidth": 1,
          "ax": 2.3668979682633595,
          "ay": -19.859450999658343,
          "opacity": 0.5,
          "showarrow": true,
          "x": -0.12542677031175112,
          "y": -0.5977052194529298
         },
         {
          "arrowcolor": "blue",
          "arrowhead": 0,
          "arrowsize": 1,
          "arrowwidth": 1,
          "ax": 2.9721959431671103,
          "ay": -19.777918274566233,
          "opacity": 0.5,
          "showarrow": true,
          "x": -1.7466214801811997,
          "y": -3.5668469948094828
         },
         {
          "arrowcolor": "blue",
          "arrowhead": 0,
          "arrowsize": 1,
          "arrowwidth": 1,
          "ax": -5.160220275664153,
          "ay": -19.322839509415395,
          "opacity": 0.5,
          "showarrow": true,
          "x": 3.1875366899499427,
          "y": -6.8199470346837066
         },
         {
          "arrowcolor": "blue",
          "arrowhead": 0,
          "arrowsize": 1,
          "arrowwidth": 1,
          "ax": -0.9926587013381428,
          "ay": -19.97535052765427,
          "opacity": 0.5,
          "showarrow": true,
          "x": 0.9756837042544332,
          "y": -3.1519136984076996
         },
         {
          "arrowcolor": "blue",
          "arrowhead": 0,
          "arrowsize": 1,
          "arrowwidth": 1,
          "ax": 3.3368363612972978,
          "ay": -19.719673503836827,
          "opacity": 0.5,
          "showarrow": true,
          "x": -2.1438209823763326,
          "y": -5.36773757025015
         },
         {
          "arrowcolor": "blue",
          "arrowhead": 0,
          "arrowsize": 1,
          "arrowwidth": 1,
          "ax": -1.1280360427542713,
          "ay": -19.96816302733547,
          "opacity": 0.5,
          "showarrow": true,
          "x": 0.27412402867089264,
          "y": -1.0888416684815814
         },
         {
          "arrowcolor": "blue",
          "arrowhead": 0,
          "arrowsize": 1,
          "arrowwidth": 1,
          "ax": 1.7489573722682783,
          "ay": -19.923381944589337,
          "opacity": 0.5,
          "showarrow": true,
          "x": 0.11833488082407653,
          "y": -1.349052663323837
         },
         {
          "arrowcolor": "blue",
          "arrowhead": 0,
          "arrowsize": 1,
          "arrowwidth": 1,
          "ax": -1.7687319057560227,
          "ay": -19.921636163868687,
          "opacity": 0.5,
          "showarrow": true,
          "x": -0.5169154908729338,
          "y": -1.3263846462468194
         },
         {
          "arrowcolor": "blue",
          "arrowhead": 0,
          "arrowsize": 1,
          "arrowwidth": 1,
          "ax": -3.2111359815668132,
          "ay": -19.740532052300082,
          "opacity": 0.5,
          "showarrow": true,
          "x": -0.41093255675031926,
          "y": -2.159510961994748
         },
         {
          "arrowcolor": "blue",
          "arrowhead": 0,
          "arrowsize": 1,
          "arrowwidth": 1,
          "ax": 3.565608834503053,
          "ay": -19.67959434641156,
          "opacity": 0.5,
          "showarrow": true,
          "x": -2.244106750975613,
          "y": -4.980182777062063
         },
         {
          "arrowcolor": "blue",
          "arrowhead": 0,
          "arrowsize": 1,
          "arrowwidth": 1,
          "ax": 4.399273510829566,
          "ay": -19.510161264759276,
          "opacity": 0.5,
          "showarrow": true,
          "x": 0.2535211333983897,
          "y": -3.9721333772763945
         },
         {
          "arrowcolor": "blue",
          "arrowhead": 0,
          "arrowsize": 1,
          "arrowwidth": 1,
          "ax": -1.5070211323012153,
          "ay": -19.943141360046507,
          "opacity": 0.5,
          "showarrow": true,
          "x": 0.23556655609228655,
          "y": -5.255848285125121
         },
         {
          "arrowcolor": "blue",
          "arrowhead": 0,
          "arrowsize": 1,
          "arrowwidth": 1,
          "ax": -2.991841691212586,
          "ay": -19.774955961890843,
          "opacity": 0.5,
          "showarrow": true,
          "x": 0.4404481268741431,
          "y": -3.120254668986272
         },
         {
          "arrowcolor": "blue",
          "arrowhead": 0,
          "arrowsize": 1,
          "arrowwidth": 1,
          "ax": -1.0986631994288645,
          "ay": -19.969800679381372,
          "opacity": 0.5,
          "showarrow": true,
          "x": -1.1707272340627823,
          "y": -2.9893613811408346
         },
         {
          "arrowcolor": "blue",
          "arrowhead": 0,
          "arrowsize": 1,
          "arrowwidth": 1,
          "ax": 2.092936779058951,
          "ay": -19.890188929189748,
          "opacity": 0.5,
          "showarrow": true,
          "x": -0.11664549180098154,
          "y": -3.9059127098325566
         },
         {
          "arrowcolor": "blue",
          "arrowhead": 0,
          "arrowsize": 1,
          "arrowwidth": 1,
          "ax": 0.19691752916909025,
          "ay": -19.99903056367248,
          "opacity": 0.5,
          "showarrow": true,
          "x": -0.4380646661678239,
          "y": -3.260872045183512
         },
         {
          "arrowcolor": "blue",
          "arrowhead": 0,
          "arrowsize": 1,
          "arrowwidth": 1,
          "ax": -1.6866078265051447,
          "ay": -19.92875696172673,
          "opacity": 0.5,
          "showarrow": true,
          "x": 0.025243761429036445,
          "y": -3.2673978195485356
         },
         {
          "arrowcolor": "blue",
          "arrowhead": 0,
          "arrowsize": 1,
          "arrowwidth": 1,
          "ax": -0.7060653701493074,
          "ay": -19.98753290661646,
          "opacity": 0.5,
          "showarrow": true,
          "x": 1.0879248876610876,
          "y": -4.068116383057395
         },
         {
          "arrowcolor": "blue",
          "arrowhead": 0,
          "arrowsize": 1,
          "arrowwidth": 1,
          "ax": -3.027363679956574,
          "ay": -19.76954903757999,
          "opacity": 0.5,
          "showarrow": true,
          "x": 0.7005626056698411,
          "y": -3.1271898525205355
         },
         {
          "arrowcolor": "blue",
          "arrowhead": 0,
          "arrowsize": 1,
          "arrowwidth": 1,
          "ax": -5.576767039542627,
          "ay": -19.206761033205755,
          "opacity": 0.5,
          "showarrow": true,
          "x": 0.5345115417364871,
          "y": -2.6371268307325986
         },
         {
          "arrowcolor": "blue",
          "arrowhead": 0,
          "arrowsize": 1,
          "arrowwidth": 1,
          "ax": 1.0809926318085477,
          "ay": -19.97076500612772,
          "opacity": 0.5,
          "showarrow": true,
          "x": 1.133442928759755,
          "y": -5.413817033123523
         },
         {
          "arrowcolor": "blue",
          "arrowhead": 0,
          "arrowsize": 1,
          "arrowwidth": 1,
          "ax": -2.7665351458210816,
          "ay": -19.807732916387394,
          "opacity": 0.5,
          "showarrow": true,
          "x": -0.673165888082883,
          "y": -4.641163733036058
         },
         {
          "arrowcolor": "blue",
          "arrowhead": 0,
          "arrowsize": 1,
          "arrowwidth": 1,
          "ax": -0.6276811732427601,
          "ay": -19.990147982062478,
          "opacity": 0.5,
          "showarrow": true,
          "x": 0.8109589777668187,
          "y": -3.8294150233534117
         },
         {
          "arrowcolor": "blue",
          "arrowhead": 0,
          "arrowsize": 1,
          "arrowwidth": 1,
          "ax": -1.2827959587386615,
          "ay": -19.958818465235957,
          "opacity": 0.5,
          "showarrow": true,
          "x": 0.006151986415215279,
          "y": -1.4519959746653137
         },
         {
          "arrowcolor": "blue",
          "arrowhead": 0,
          "arrowsize": 1,
          "arrowwidth": 1,
          "ax": 2.131138197005201,
          "ay": -19.886132102177775,
          "opacity": 0.5,
          "showarrow": true,
          "x": -2.9017968024228264,
          "y": -4.939292918553825
         },
         {
          "arrowcolor": "blue",
          "arrowhead": 0,
          "arrowsize": 1,
          "arrowwidth": 1,
          "ax": 4.77937110799213,
          "ay": -19.42054612548499,
          "opacity": 0.5,
          "showarrow": true,
          "x": 0.5868714858352712,
          "y": -1.5942122689056744
         },
         {
          "arrowcolor": "blue",
          "arrowhead": 0,
          "arrowsize": 1,
          "arrowwidth": 1,
          "ax": 0.6001636690173687,
          "ay": -19.9909930611361,
          "opacity": 0.5,
          "showarrow": true,
          "x": -1.374289225159343,
          "y": -4.213592829917774
         },
         {
          "arrowcolor": "blue",
          "arrowhead": 0,
          "arrowsize": 1,
          "arrowwidth": 1,
          "ax": 1.7288441553227951,
          "ay": -19.925137336706268,
          "opacity": 0.5,
          "showarrow": true,
          "x": 0.017281577529270148,
          "y": -2.246240545460643
         },
         {
          "arrowcolor": "blue",
          "arrowhead": 0,
          "arrowsize": 1,
          "arrowwidth": 1,
          "ax": 0.781109554325752,
          "ay": -19.984740875581576,
          "opacity": 0.5,
          "showarrow": true,
          "x": -0.8161923054273393,
          "y": -2.6264092610200223
         },
         {
          "arrowcolor": "blue",
          "arrowhead": 0,
          "arrowsize": 1,
          "arrowwidth": 1,
          "ax": -3.2109335988991727,
          "ay": -19.740564972245867,
          "opacity": 0.5,
          "showarrow": true,
          "x": -0.585754781893443,
          "y": -3.622443487652039
         },
         {
          "arrowcolor": "blue",
          "arrowhead": 0,
          "arrowsize": 1,
          "arrowwidth": 1,
          "ax": 1.5131892771114066,
          "ay": -19.942674299392124,
          "opacity": 0.5,
          "showarrow": true,
          "x": -0.13907924217190296,
          "y": -1.4372310006558686
         },
         {
          "arrowcolor": "blue",
          "arrowhead": 0,
          "arrowsize": 1,
          "arrowwidth": 1,
          "ax": -0.33662893947702394,
          "ay": -19.997166823255405,
          "opacity": 0.5,
          "showarrow": true,
          "x": 1.3232037939213175,
          "y": -4.500475513480839
         },
         {
          "arrowcolor": "blue",
          "arrowhead": 0,
          "arrowsize": 1,
          "arrowwidth": 1,
          "ax": -1.1723173662760829,
          "ay": -19.965612236861848,
          "opacity": 0.5,
          "showarrow": true,
          "x": -0.6421208117667179,
          "y": -2.4398208387927016
         },
         {
          "arrowcolor": "blue",
          "arrowhead": 0,
          "arrowsize": 1,
          "arrowwidth": 1,
          "ax": 1.9140645258215083,
          "ay": -19.90819823567647,
          "opacity": 0.5,
          "showarrow": true,
          "x": -0.4468741362998535,
          "y": -1.7766799333288428
         },
         {
          "arrowcolor": "blue",
          "arrowhead": 0,
          "arrowsize": 1,
          "arrowwidth": 1,
          "ax": 0.46315122737876835,
          "ay": -19.99463655435071,
          "opacity": 0.5,
          "showarrow": true,
          "x": 0.3505661122472412,
          "y": -1.6587886097940245
         },
         {
          "arrowcolor": "blue",
          "arrowhead": 0,
          "arrowsize": 1,
          "arrowwidth": 1,
          "ax": 2.817033861444363,
          "ay": -19.800614137533106,
          "opacity": 0.5,
          "showarrow": true,
          "x": 0.515565171859632,
          "y": -3.5667829083512532
         },
         {
          "arrowcolor": "blue",
          "arrowhead": 0,
          "arrowsize": 1,
          "arrowwidth": 1,
          "ax": -3.024157316833815,
          "ay": -19.770039770396025,
          "opacity": 0.5,
          "showarrow": true,
          "x": 0.3529435465817803,
          "y": -1.2868092396913506
         },
         {
          "arrowcolor": "blue",
          "arrowhead": 0,
          "arrowsize": 1,
          "arrowwidth": 1,
          "ax": -2.700268110225098,
          "ay": -19.81687543819412,
          "opacity": 0.5,
          "showarrow": true,
          "x": 0.7882089159345803,
          "y": -5.415327758630208
         },
         {
          "arrowcolor": "blue",
          "arrowhead": 0,
          "arrowsize": 1,
          "arrowwidth": 1,
          "ax": 6.238716266110453,
          "ay": -19.0020635550713,
          "opacity": 0.5,
          "showarrow": true,
          "x": -0.19220808936063138,
          "y": -4.138780307173802
         },
         {
          "arrowcolor": "blue",
          "arrowhead": 0,
          "arrowsize": 1,
          "arrowwidth": 1,
          "ax": -0.03754524380156585,
          "ay": -19.99996475883565,
          "opacity": 0.5,
          "showarrow": true,
          "x": 0.3313348764809122,
          "y": -3.28864457058104
         },
         {
          "arrowcolor": "blue",
          "arrowhead": 0,
          "arrowsize": 1,
          "arrowwidth": 1,
          "ax": 0.07231726661082005,
          "ay": -19.999869254896392,
          "opacity": 0.5,
          "showarrow": true,
          "x": 0.16044085719185347,
          "y": -3.2669346429636783
         },
         {
          "arrowcolor": "blue",
          "arrowhead": 0,
          "arrowsize": 1,
          "arrowwidth": 1,
          "ax": 0.3641392777963068,
          "ay": -19.9966847898937,
          "opacity": 0.5,
          "showarrow": true,
          "x": 0.9001972015891597,
          "y": -3.9560858967681494
         },
         {
          "arrowcolor": "blue",
          "arrowhead": 0,
          "arrowsize": 1,
          "arrowwidth": 1,
          "ax": -2.2562075453991537,
          "ay": -19.87233070155798,
          "opacity": 0.5,
          "showarrow": true,
          "x": -0.49529765090175865,
          "y": -0.923141920138226
         },
         {
          "arrowcolor": "blue",
          "arrowhead": 0,
          "arrowsize": 1,
          "arrowwidth": 1,
          "ax": 2.8016600511980796,
          "ay": -19.802795281412187,
          "opacity": 0.5,
          "showarrow": true,
          "x": -0.05257467849180422,
          "y": -4.577403345574043
         },
         {
          "arrowcolor": "blue",
          "arrowhead": 0,
          "arrowsize": 1,
          "arrowwidth": 1,
          "ax": 6.313546462530681,
          "ay": -18.977332032334427,
          "opacity": 0.5,
          "showarrow": true,
          "x": -0.06119887887772698,
          "y": -5.062626712421477
         },
         {
          "arrowcolor": "blue",
          "arrowhead": 0,
          "arrowsize": 1,
          "arrowwidth": 1,
          "ax": 0.595439034145331,
          "ay": -19.991134343918958,
          "opacity": 0.5,
          "showarrow": true,
          "x": 0.4177700611971918,
          "y": -0.3644372468908997
         },
         {
          "arrowcolor": "blue",
          "arrowhead": 0,
          "arrowsize": 1,
          "arrowwidth": 1,
          "ax": -0.7307654773023841,
          "ay": -19.98664508658677,
          "opacity": 0.5,
          "showarrow": true,
          "x": -3.1099521737048628,
          "y": -6.460101263902169
         },
         {
          "arrowcolor": "blue",
          "arrowhead": 0,
          "arrowsize": 1,
          "arrowwidth": 1,
          "ax": 6.469100201104784,
          "ay": -18.924871005850108,
          "opacity": 0.5,
          "showarrow": true,
          "x": -0.7644483936285263,
          "y": -5.870296611572
         },
         {
          "arrowcolor": "blue",
          "arrowhead": 0,
          "arrowsize": 1,
          "arrowwidth": 1,
          "ax": -2.4557735122404805,
          "ay": -19.84865679225116,
          "opacity": 0.5,
          "showarrow": true,
          "x": -0.7455093469023044,
          "y": -6.265179791419358
         },
         {
          "arrowcolor": "blue",
          "arrowhead": 0,
          "arrowsize": 1,
          "arrowwidth": 1,
          "ax": -0.3567292214358459,
          "ay": -19.996818353492483,
          "opacity": 0.5,
          "showarrow": true,
          "x": -0.785865815967342,
          "y": -5.794336986988585
         },
         {
          "arrowcolor": "blue",
          "arrowhead": 0,
          "arrowsize": 1,
          "arrowwidth": 1,
          "ax": -2.1527765622192168,
          "ay": -19.883801273226396,
          "opacity": 0.5,
          "showarrow": true,
          "x": -1.1203941600386929,
          "y": -2.6217225467676197
         },
         {
          "arrowcolor": "blue",
          "arrowhead": 0,
          "arrowsize": 1,
          "arrowwidth": 1,
          "ax": -3.1112683324258503,
          "ay": -19.75651814879444,
          "opacity": 0.5,
          "showarrow": true,
          "x": 0.5515553070031494,
          "y": -2.0444790723699082
         },
         {
          "arrowcolor": "blue",
          "arrowhead": 0,
          "arrowsize": 1,
          "arrowwidth": 1,
          "ax": -3.2295572503331367,
          "ay": -19.73752669325163,
          "opacity": 0.5,
          "showarrow": true,
          "x": 0.3037211141957941,
          "y": -1.6803926643067422
         },
         {
          "arrowcolor": "blue",
          "arrowhead": 0,
          "arrowsize": 1,
          "arrowwidth": 1,
          "ax": -2.4736583502568683,
          "ay": -19.846435810144968,
          "opacity": 0.5,
          "showarrow": true,
          "x": -0.9960468116397045,
          "y": -5.0818189497045845
         },
         {
          "arrowcolor": "blue",
          "arrowhead": 0,
          "arrowsize": 1,
          "arrowwidth": 1,
          "ax": 1.9001830380813576,
          "ay": -19.909527980888647,
          "opacity": 0.5,
          "showarrow": true,
          "x": -0.4548844385813938,
          "y": -5.709894002094498
         },
         {
          "arrowcolor": "blue",
          "arrowhead": 0,
          "arrowsize": 1,
          "arrowwidth": 1,
          "ax": 2.390158062647732,
          "ay": -19.856664987745553,
          "opacity": 0.5,
          "showarrow": true,
          "x": 0.3123829180172675,
          "y": -1.0202638168554916
         },
         {
          "arrowcolor": "blue",
          "arrowhead": 0,
          "arrowsize": 1,
          "arrowwidth": 1,
          "ax": -0.7335586842946076,
          "ay": -19.986542763987373,
          "opacity": 0.5,
          "showarrow": true,
          "x": 0.06520542710313534,
          "y": -1.845745446359984
         },
         {
          "arrowcolor": "blue",
          "arrowhead": 0,
          "arrowsize": 1,
          "arrowwidth": 1,
          "ax": -0.17691949405945556,
          "ay": -19.99921747200679,
          "opacity": 0.5,
          "showarrow": true,
          "x": -2.4993939806137258,
          "y": -5.549752642294551
         },
         {
          "arrowcolor": "blue",
          "arrowhead": 0,
          "arrowsize": 1,
          "arrowwidth": 1,
          "ax": -2.7228358662195227,
          "ay": -19.813787241353648,
          "opacity": 0.5,
          "showarrow": true,
          "x": 1.513484627971392,
          "y": -5.757451204201056
         },
         {
          "arrowcolor": "blue",
          "arrowhead": 0,
          "arrowsize": 1,
          "arrowwidth": 1,
          "ax": 2.320390853019995,
          "ay": -19.86493861780653,
          "opacity": 0.5,
          "showarrow": true,
          "x": 0.6850672454841993,
          "y": -4.975529552719437
         },
         {
          "arrowcolor": "blue",
          "arrowhead": 0,
          "arrowsize": 1,
          "arrowwidth": 1,
          "ax": 1.5215427366996213,
          "ay": -19.94203870471614,
          "opacity": 0.5,
          "showarrow": true,
          "x": -2.9581362253438876,
          "y": -5.818097070678983
         },
         {
          "arrowcolor": "blue",
          "arrowhead": 0,
          "arrowsize": 1,
          "arrowwidth": 1,
          "ax": -3.554116787137771,
          "ay": -19.68167304533295,
          "opacity": 0.5,
          "showarrow": true,
          "x": -0.7165551959211062,
          "y": -2.6546596729636214
         },
         {
          "arrowcolor": "blue",
          "arrowhead": 0,
          "arrowsize": 1,
          "arrowwidth": 1,
          "ax": -0.6383452987978646,
          "ay": -19.9898102862309,
          "opacity": 0.5,
          "showarrow": true,
          "x": -0.2337584022138973,
          "y": -1.9002008072083871
         },
         {
          "arrowcolor": "blue",
          "arrowhead": 0,
          "arrowsize": 1,
          "arrowwidth": 1,
          "ax": -0.44195628175547147,
          "ay": -19.99511626985492,
          "opacity": 0.5,
          "showarrow": true,
          "x": -0.11188341528481863,
          "y": -1.4666914640813942
         },
         {
          "arrowcolor": "blue",
          "arrowhead": 0,
          "arrowsize": 1,
          "arrowwidth": 1,
          "ax": 2.4300265890900294,
          "ay": -19.851825376431144,
          "opacity": 0.5,
          "showarrow": true,
          "x": -0.5303562494330021,
          "y": -1.1671618315064043
         },
         {
          "arrowcolor": "blue",
          "arrowhead": 0,
          "arrowsize": 1,
          "arrowwidth": 1,
          "ax": -4.658607012325463,
          "ay": -19.449868398133496,
          "opacity": 0.5,
          "showarrow": true,
          "x": 0.05454363116552562,
          "y": -4.246080534534857
         },
         {
          "arrowcolor": "blue",
          "arrowhead": 0,
          "arrowsize": 1,
          "arrowwidth": 1,
          "ax": -4.302026500196987,
          "ay": -19.531834731832102,
          "opacity": 0.5,
          "showarrow": true,
          "x": 0.8608676281457428,
          "y": -4.4366871736661535
         },
         {
          "arrowcolor": "blue",
          "arrowhead": 0,
          "arrowsize": 1,
          "arrowwidth": 1,
          "ax": -1.6177983429978537,
          "ay": -19.934460828459677,
          "opacity": 0.5,
          "showarrow": true,
          "x": -1.112652092807238,
          "y": -2.3640398056977814
         },
         {
          "arrowcolor": "blue",
          "arrowhead": 0,
          "arrowsize": 1,
          "arrowwidth": 1,
          "ax": -1.4600610601019928,
          "ay": -19.94663434519152,
          "opacity": 0.5,
          "showarrow": true,
          "x": 0.7306890760861665,
          "y": -1.9794553769624486
         },
         {
          "arrowcolor": "blue",
          "arrowhead": 0,
          "arrowsize": 1,
          "arrowwidth": 1,
          "ax": -1.4795593308105672,
          "ay": -19.94519752187507,
          "opacity": 0.5,
          "showarrow": true,
          "x": -0.3014582160192563,
          "y": -0.6239111761782651
         },
         {
          "arrowcolor": "blue",
          "arrowhead": 0,
          "arrowsize": 1,
          "arrowwidth": 1,
          "ax": 1.2690781481852456,
          "ay": -19.959695404835184,
          "opacity": 0.5,
          "showarrow": true,
          "x": 0.42021760782328266,
          "y": -1.9672232359034574
         },
         {
          "arrowcolor": "red",
          "arrowhead": 0,
          "arrowsize": 1,
          "arrowwidth": 1,
          "ax": -0.9158871460585999,
          "ay": -19.979017762034367,
          "opacity": 0.5,
          "showarrow": true,
          "x": -1.9160083342855503,
          "y": -6.025695483920559
         },
         {
          "arrowcolor": "red",
          "arrowhead": 0,
          "arrowsize": 1,
          "arrowwidth": 1,
          "ax": 8.501980608960887,
          "ay": -18.102936936443573,
          "opacity": 0.5,
          "showarrow": true,
          "x": -0.8868689677633831,
          "y": -3.456448785419918
         },
         {
          "arrowcolor": "red",
          "arrowhead": 0,
          "arrowsize": 1,
          "arrowwidth": 1,
          "ax": -1.2981635967282559,
          "ay": -19.957824813243793,
          "opacity": 0.5,
          "showarrow": true,
          "x": -1.0907761773491609,
          "y": -3.174783930079692
         },
         {
          "arrowcolor": "red",
          "arrowhead": 0,
          "arrowsize": 1,
          "arrowwidth": 1,
          "ax": -6.050661972967118,
          "ay": -19.062777596375867,
          "opacity": 0.5,
          "showarrow": true,
          "x": 0.5363045730514803,
          "y": -2.229845490032148
         },
         {
          "arrowcolor": "red",
          "arrowhead": 0,
          "arrowsize": 1,
          "arrowwidth": 1,
          "ax": 7.781808695184718,
          "ay": -18.42399124596914,
          "opacity": 0.5,
          "showarrow": true,
          "x": -1.8282829921346,
          "y": -4.613908587270353
         },
         {
          "arrowcolor": "red",
          "arrowhead": 0,
          "arrowsize": 1,
          "arrowwidth": 1,
          "ax": -3.4479547347817716,
          "ay": -19.700548422490577,
          "opacity": 0.5,
          "showarrow": true,
          "x": 1.0331710866603472,
          "y": -2.7270642291530267
         },
         {
          "arrowcolor": "red",
          "arrowhead": 0,
          "arrowsize": 1,
          "arrowwidth": 1,
          "ax": -1.1082119042855396,
          "ay": -19.969273055752424,
          "opacity": 0.5,
          "showarrow": true,
          "x": 0.24024931953531206,
          "y": -3.1039579865256033
         },
         {
          "arrowcolor": "red",
          "arrowhead": 0,
          "arrowsize": 1,
          "arrowwidth": 1,
          "ax": -1.8802186831162953,
          "ay": -19.91142329678269,
          "opacity": 0.5,
          "showarrow": true,
          "x": 2.952401974892819,
          "y": -5.70921414601128
         },
         {
          "arrowcolor": "red",
          "arrowhead": 0,
          "arrowsize": 1,
          "arrowwidth": 1,
          "ax": -0.7606532771285697,
          "ay": -19.985529930226857,
          "opacity": 0.5,
          "showarrow": true,
          "x": -0.3783240736682838,
          "y": -1.8079899860434592
         },
         {
          "arrowcolor": "red",
          "arrowhead": 0,
          "arrowsize": 1,
          "arrowwidth": 1,
          "ax": 0.65065246047729,
          "ay": -19.98941348253307,
          "opacity": 0.5,
          "showarrow": true,
          "x": 0.60120598450768,
          "y": -2.1086450115441395
         },
         {
          "arrowcolor": "red",
          "arrowhead": 0,
          "arrowsize": 1,
          "arrowwidth": 1,
          "ax": -5.1064122874060605,
          "ay": -19.337128885928966,
          "opacity": 0.5,
          "showarrow": true,
          "x": 3.4390258206169904,
          "y": -4.880430059432009
         },
         {
          "arrowcolor": "red",
          "arrowhead": 0,
          "arrowsize": 1,
          "arrowwidth": 1,
          "ax": -0.5369876681227372,
          "ay": -19.99278980643482,
          "opacity": 0.5,
          "showarrow": true,
          "x": 0.737076803239281,
          "y": -4.721650122423186
         },
         {
          "arrowcolor": "red",
          "arrowhead": 0,
          "arrowsize": 1,
          "arrowwidth": 1,
          "ax": -0.2169158354889381,
          "ay": -19.998823653413073,
          "opacity": 0.5,
          "showarrow": true,
          "x": 1.253342275117249,
          "y": -3.357520339961866
         },
         {
          "arrowcolor": "red",
          "arrowhead": 0,
          "arrowsize": 1,
          "arrowwidth": 1,
          "ax": 1.2562161342054807,
          "ay": -19.960509037200474,
          "opacity": 0.5,
          "showarrow": true,
          "x": 1.1609843868419376,
          "y": -5.540757820074929
         },
         {
          "arrowcolor": "red",
          "arrowhead": 0,
          "arrowsize": 1,
          "arrowwidth": 1,
          "ax": 2.0077970416231756,
          "ay": -19.89896356697125,
          "opacity": 0.5,
          "showarrow": true,
          "x": -0.22461740032811833,
          "y": -1.04628371722023
         },
         {
          "arrowcolor": "red",
          "arrowhead": 0,
          "arrowsize": 1,
          "arrowwidth": 1,
          "ax": 5.01753003073404,
          "ay": -19.360382031114007,
          "opacity": 0.5,
          "showarrow": true,
          "x": -0.7562112772901373,
          "y": -2.258109771768233
         },
         {
          "arrowcolor": "red",
          "arrowhead": 0,
          "arrowsize": 1,
          "arrowwidth": 1,
          "ax": 6.27421688592778,
          "ay": -18.99037130938568,
          "opacity": 0.5,
          "showarrow": true,
          "x": -0.5932856964726329,
          "y": -4.13213651580048
         },
         {
          "arrowcolor": "red",
          "arrowhead": 0,
          "arrowsize": 1,
          "arrowwidth": 1,
          "ax": -0.1698672358942893,
          "ay": -19.999278615044332,
          "opacity": 0.5,
          "showarrow": true,
          "x": 0.011160160670766764,
          "y": -3.725521314632054
         },
         {
          "arrowcolor": "red",
          "arrowhead": 0,
          "arrowsize": 1,
          "arrowwidth": 1,
          "ax": -2.3395675572394357,
          "ay": -19.86268923497301,
          "opacity": 0.5,
          "showarrow": true,
          "x": -0.25546218116342206,
          "y": -2.2639946460276863
         },
         {
          "arrowcolor": "red",
          "arrowhead": 0,
          "arrowsize": 1,
          "arrowwidth": 1,
          "ax": -1.747569830429523,
          "ay": -19.92350370009684,
          "opacity": 0.5,
          "showarrow": true,
          "x": 0.7170948190156187,
          "y": -5.887127681277981
         },
         {
          "arrowcolor": "red",
          "arrowhead": 0,
          "arrowsize": 1,
          "arrowwidth": 1,
          "ax": 7.71605178535059,
          "ay": -18.45162715984116,
          "opacity": 0.5,
          "showarrow": true,
          "x": -1.2857181417039978,
          "y": -5.940264645957805
         },
         {
          "arrowcolor": "red",
          "arrowhead": 0,
          "arrowsize": 1,
          "arrowwidth": 1,
          "ax": -7.013358570752443,
          "ay": -18.72999737207812,
          "opacity": 0.5,
          "showarrow": true,
          "x": 0.34117659900445774,
          "y": -4.431482105901976
         },
         {
          "arrowcolor": "red",
          "arrowhead": 0,
          "arrowsize": 1,
          "arrowwidth": 1,
          "ax": -8.391624775354314,
          "ay": -18.15435577567157,
          "opacity": 0.5,
          "showarrow": true,
          "x": 1.3364809082519997,
          "y": -5.8503220568481655
         },
         {
          "arrowcolor": "red",
          "arrowhead": 0,
          "arrowsize": 1,
          "arrowwidth": 1,
          "ax": -2.237709595963166,
          "ay": -19.874422149187996,
          "opacity": 0.5,
          "showarrow": true,
          "x": -1.720085613203235,
          "y": -3.326746248093304
         },
         {
          "arrowcolor": "red",
          "arrowhead": 0,
          "arrowsize": 1,
          "arrowwidth": 1,
          "ax": 3.331626709490212,
          "ay": -19.72055433979003,
          "opacity": 0.5,
          "showarrow": true,
          "x": -0.6545905854068291,
          "y": -4.297976974157425
         },
         {
          "arrowcolor": "red",
          "arrowhead": 0,
          "arrowsize": 1,
          "arrowwidth": 1,
          "ax": -1.9718972212779826,
          "ay": -19.90255313643745,
          "opacity": 0.5,
          "showarrow": true,
          "x": -2.094933207132126,
          "y": -5.226844202379884
         },
         {
          "arrowcolor": "red",
          "arrowhead": 0,
          "arrowsize": 1,
          "arrowwidth": 1,
          "ax": 5.0330971424426085,
          "ay": -19.356340903040948,
          "opacity": 0.5,
          "showarrow": true,
          "x": -1.4788814528807162,
          "y": -3.137551086794981
         },
         {
          "arrowcolor": "red",
          "arrowhead": 0,
          "arrowsize": 1,
          "arrowwidth": 1,
          "ax": -8.32089198136129,
          "ay": -18.186884192585527,
          "opacity": 0.5,
          "showarrow": true,
          "x": 0.07618137338327387,
          "y": -2.896608150799119
         },
         {
          "arrowcolor": "red",
          "arrowhead": 0,
          "arrowsize": 1,
          "arrowwidth": 1,
          "ax": 1.5240024070657032,
          "ay": -19.94185088358796,
          "opacity": 0.5,
          "showarrow": true,
          "x": -0.6252657637288523,
          "y": -3.1033659607236554
         },
         {
          "arrowcolor": "red",
          "arrowhead": 0,
          "arrowsize": 1,
          "arrowwidth": 1,
          "ax": -4.324741897088014,
          "ay": -19.526817649672758,
          "opacity": 0.5,
          "showarrow": true,
          "x": 0.22644339811059985,
          "y": -4.687873509497297
         },
         {
          "arrowcolor": "red",
          "arrowhead": 0,
          "arrowsize": 1,
          "arrowwidth": 1,
          "ax": -1.6622509721669885,
          "ay": -19.9308033381881,
          "opacity": 0.5,
          "showarrow": true,
          "x": 0.6692966206408004,
          "y": -0.8840851928814774
         },
         {
          "arrowcolor": "red",
          "arrowhead": 0,
          "arrowsize": 1,
          "arrowwidth": 1,
          "ax": 2.6694077167283377,
          "ay": -19.821056037503936,
          "opacity": 0.5,
          "showarrow": true,
          "x": -3.6399919693471796,
          "y": -5.0727597836092215
         },
         {
          "arrowcolor": "red",
          "arrowhead": 0,
          "arrowsize": 1,
          "arrowwidth": 1,
          "ax": 4.116808704985624,
          "ay": -19.57171137347357,
          "opacity": 0.5,
          "showarrow": true,
          "x": 0.14740974375625476,
          "y": -0.912527979581196
         },
         {
          "arrowcolor": "red",
          "arrowhead": 0,
          "arrowsize": 1,
          "arrowwidth": 1,
          "ax": 1.1539670445519998,
          "ay": -19.966681248021363,
          "opacity": 0.5,
          "showarrow": true,
          "x": -0.11965896325915994,
          "y": -1.724857757110195
         },
         {
          "arrowcolor": "red",
          "arrowhead": 0,
          "arrowsize": 1,
          "arrowwidth": 1,
          "ax": 0.9488935030106558,
          "ay": -19.977477346250303,
          "opacity": 0.5,
          "showarrow": true,
          "x": -1.1945506450155559,
          "y": -2.4447119593532065
         },
         {
          "arrowcolor": "red",
          "arrowhead": 0,
          "arrowsize": 1,
          "arrowwidth": 1,
          "ax": 6.891330666376777,
          "ay": -18.77523799174474,
          "opacity": 0.5,
          "showarrow": true,
          "x": -3.318483865018939,
          "y": -5.021150177435948
         },
         {
          "arrowcolor": "red",
          "arrowhead": 0,
          "arrowsize": 1,
          "arrowwidth": 1,
          "ax": -7.800055039645718,
          "ay": -18.416273819057356,
          "opacity": 0.5,
          "showarrow": true,
          "x": 0.03602790566187535,
          "y": -2.1306689455981433
         },
         {
          "arrowcolor": "red",
          "arrowhead": 0,
          "arrowsize": 1,
          "arrowwidth": 1,
          "ax": -6.707775708145016,
          "ay": -18.841596138576467,
          "opacity": 0.5,
          "showarrow": true,
          "x": 1.3253280779396768,
          "y": -2.700686093614193
         },
         {
          "arrowcolor": "red",
          "arrowhead": 0,
          "arrowsize": 1,
          "arrowwidth": 1,
          "ax": -1.665119083759237,
          "ay": -19.930563926715692,
          "opacity": 0.5,
          "showarrow": true,
          "x": 2.0620874098401862,
          "y": -4.8998145765150305
         },
         {
          "arrowcolor": "red",
          "arrowhead": 0,
          "arrowsize": 1,
          "arrowwidth": 1,
          "ax": 0.2216605542995907,
          "ay": -19.9987716272442,
          "opacity": 0.5,
          "showarrow": true,
          "x": -1.8758061235425816,
          "y": -3.7463059880615983
         },
         {
          "arrowcolor": "red",
          "arrowhead": 0,
          "arrowsize": 1,
          "arrowwidth": 1,
          "ax": 7.330567693914361,
          "ay": -18.608137394294438,
          "opacity": 0.5,
          "showarrow": true,
          "x": -0.06567962417860154,
          "y": -4.050839612202398
         },
         {
          "arrowcolor": "red",
          "arrowhead": 0,
          "arrowsize": 1,
          "arrowwidth": 1,
          "ax": -3.112165683715335,
          "ay": -19.756376812490306,
          "opacity": 0.5,
          "showarrow": true,
          "x": -0.8097670637449986,
          "y": -4.010036430008508
         },
         {
          "arrowcolor": "red",
          "arrowhead": 0,
          "arrowsize": 1,
          "arrowwidth": 1,
          "ax": -1.7169960114004739,
          "ay": -19.926161815483553,
          "opacity": 0.5,
          "showarrow": true,
          "x": 0.0738693117690149,
          "y": -2.213016521300109
         },
         {
          "arrowcolor": "red",
          "arrowhead": 0,
          "arrowsize": 1,
          "arrowwidth": 1,
          "ax": 4.755669421836502,
          "ay": -19.426363744926874,
          "opacity": 0.5,
          "showarrow": true,
          "x": 0.025730501616562814,
          "y": -2.586552859243982
         },
         {
          "arrowcolor": "red",
          "arrowhead": 0,
          "arrowsize": 1,
          "arrowwidth": 1,
          "ax": 4.625974934096666,
          "ay": -19.457655457662657,
          "opacity": 0.5,
          "showarrow": true,
          "x": -0.3286880343417977,
          "y": -4.607351421444435
         },
         {
          "arrowcolor": "red",
          "arrowhead": 0,
          "arrowsize": 1,
          "arrowwidth": 1,
          "ax": -2.2132326311033825,
          "ay": -19.87716280862586,
          "opacity": 0.5,
          "showarrow": true,
          "x": 1.650847287095881,
          "y": -4.492858473620703
         },
         {
          "arrowcolor": "red",
          "arrowhead": 0,
          "arrowsize": 1,
          "arrowwidth": 1,
          "ax": -1.0717318740540163,
          "ay": -19.97126412599204,
          "opacity": 0.5,
          "showarrow": true,
          "x": 1.2594313166237963,
          "y": -5.073015402091889
         },
         {
          "arrowcolor": "red",
          "arrowhead": 0,
          "arrowsize": 1,
          "arrowwidth": 1,
          "ax": -0.5129678996165375,
          "ay": -19.99342051610887,
          "opacity": 0.5,
          "showarrow": true,
          "x": 0.027480016150159988,
          "y": -1.5634448349679668
         },
         {
          "arrowcolor": "red",
          "arrowhead": 0,
          "arrowsize": 1,
          "arrowwidth": 1,
          "ax": 1.2541566683434464,
          "ay": -19.960638543174156,
          "opacity": 0.5,
          "showarrow": true,
          "x": -0.7387456753236441,
          "y": -2.1508168636112375
         },
         {
          "arrowcolor": "red",
          "arrowhead": 0,
          "arrowsize": 1,
          "arrowwidth": 1,
          "ax": -2.9908648083428635,
          "ay": -19.77510373419609,
          "opacity": 0.5,
          "showarrow": true,
          "x": -2.294588779374407,
          "y": -5.432647537716127
         },
         {
          "arrowcolor": "red",
          "arrowhead": 0,
          "arrowsize": 1,
          "arrowwidth": 1,
          "ax": -4.4991093135822835,
          "ay": -19.487380926754554,
          "opacity": 0.5,
          "showarrow": true,
          "x": -0.02667350002843403,
          "y": -2.3523941915344997
         },
         {
          "arrowcolor": "red",
          "arrowhead": 0,
          "arrowsize": 1,
          "arrowwidth": 1,
          "ax": 1.2199976463175428,
          "ay": -19.962755464689227,
          "opacity": 0.5,
          "showarrow": true,
          "x": -0.44494830411965663,
          "y": -5.0995935167293585
         },
         {
          "arrowcolor": "red",
          "arrowhead": 0,
          "arrowsize": 1,
          "arrowwidth": 1,
          "ax": 2.1744126109474284,
          "ay": -19.881446873840765,
          "opacity": 0.5,
          "showarrow": true,
          "x": -1.2456923380291554,
          "y": -4.976146323054517
         },
         {
          "arrowcolor": "red",
          "arrowhead": 0,
          "arrowsize": 1,
          "arrowwidth": 1,
          "ax": -3.673643694465204,
          "ay": -19.659713680674905,
          "opacity": 0.5,
          "showarrow": true,
          "x": 3.3091370260289685,
          "y": -5.88313187829596
         },
         {
          "arrowcolor": "red",
          "arrowhead": 0,
          "arrowsize": 1,
          "arrowwidth": 1,
          "ax": -4.6806227560815215,
          "ay": -19.444582037556163,
          "opacity": 0.5,
          "showarrow": true,
          "x": 0.14212687238097219,
          "y": -1.7708078122890414
         },
         {
          "arrowcolor": "red",
          "arrowhead": 0,
          "arrowsize": 1,
          "arrowwidth": 1,
          "ax": 3.318321691320482,
          "ay": -19.72279749814696,
          "opacity": 0.5,
          "showarrow": true,
          "x": -4.548250533030807,
          "y": -5.932464132362617
         },
         {
          "arrowcolor": "red",
          "arrowhead": 0,
          "arrowsize": 1,
          "arrowwidth": 1,
          "ax": -1.780253754520674,
          "ay": -19.920609844317394,
          "opacity": 0.5,
          "showarrow": true,
          "x": 0.8836752971337648,
          "y": -6.089629713772752
         },
         {
          "arrowcolor": "red",
          "arrowhead": 0,
          "arrowsize": 1,
          "arrowwidth": 1,
          "ax": 1.2878782580225185,
          "ay": -19.958491165228722,
          "opacity": 0.5,
          "showarrow": true,
          "x": -1.0438101182212005,
          "y": -5.572936252527174
         },
         {
          "arrowcolor": "red",
          "arrowhead": 0,
          "arrowsize": 1,
          "arrowwidth": 1,
          "ax": -1.9743576081733503,
          "ay": -19.902309213632673,
          "opacity": 0.5,
          "showarrow": true,
          "x": -0.08617655866489826,
          "y": -1.0416143559717483
         },
         {
          "arrowcolor": "red",
          "arrowhead": 0,
          "arrowsize": 1,
          "arrowwidth": 1,
          "ax": -2.234225836863681,
          "ay": -19.87481408491387,
          "opacity": 0.5,
          "showarrow": true,
          "x": 0.8170636939244387,
          "y": -4.943921247295076
         },
         {
          "arrowcolor": "red",
          "arrowhead": 0,
          "arrowsize": 1,
          "arrowwidth": 1,
          "ax": -0.5114870054411638,
          "ay": -19.993458456286767,
          "opacity": 0.5,
          "showarrow": true,
          "x": 0.39358503343728185,
          "y": -4.6388427927099976
         },
         {
          "arrowcolor": "red",
          "arrowhead": 0,
          "arrowsize": 1,
          "arrowwidth": 1,
          "ax": 6.021669841214968,
          "ay": -19.07195565020541,
          "opacity": 0.5,
          "showarrow": true,
          "x": -0.48702290996656844,
          "y": -2.2243099903712866
         },
         {
          "arrowcolor": "red",
          "arrowhead": 0,
          "arrowsize": 1,
          "arrowwidth": 1,
          "ax": -3.4951829595221207,
          "ay": -19.692224254244774,
          "opacity": 0.5,
          "showarrow": true,
          "x": 0.6256595399815971,
          "y": -5.937528275692381
         },
         {
          "arrowcolor": "red",
          "arrowhead": 0,
          "arrowsize": 1,
          "arrowwidth": 1,
          "ax": 7.8635161167498815,
          "ay": -18.38926627904482,
          "opacity": 0.5,
          "showarrow": true,
          "x": -0.28795750905716294,
          "y": -1.0725864696721945
         },
         {
          "arrowcolor": "red",
          "arrowhead": 0,
          "arrowsize": 1,
          "arrowwidth": 1,
          "ax": -1.191129167227415,
          "ay": -19.964498774248757,
          "opacity": 0.5,
          "showarrow": true,
          "x": 2.250653255821625,
          "y": -4.666878702563219
         },
         {
          "arrowcolor": "red",
          "arrowhead": 0,
          "arrowsize": 1,
          "arrowwidth": 1,
          "ax": -0.2626660605193111,
          "ay": -19.998275089133344,
          "opacity": 0.5,
          "showarrow": true,
          "x": -1.2843523283430593,
          "y": -2.792996444851313
         },
         {
          "arrowcolor": "red",
          "arrowhead": 0,
          "arrowsize": 1,
          "arrowwidth": 1,
          "ax": -3.0280503838319777,
          "ay": -19.769443868581003,
          "opacity": 0.5,
          "showarrow": true,
          "x": 1.1207984100431865,
          "y": -3.090921407834069
         },
         {
          "arrowcolor": "red",
          "arrowhead": 0,
          "arrowsize": 1,
          "arrowwidth": 1,
          "ax": -3.0055661109456104,
          "ay": -19.77287466082601,
          "opacity": 0.5,
          "showarrow": true,
          "x": 1.6230039528120803,
          "y": -3.532386113177649
         },
         {
          "arrowcolor": "red",
          "arrowhead": 0,
          "arrowsize": 1,
          "arrowwidth": 1,
          "ax": 2.0124297571032375,
          "ay": -19.898495583152144,
          "opacity": 0.5,
          "showarrow": true,
          "x": -2.8323007549359542,
          "y": -4.406382033666268
         },
         {
          "arrowcolor": "red",
          "arrowhead": 0,
          "arrowsize": 1,
          "arrowwidth": 1,
          "ax": 1.7463024807921532,
          "ay": -19.92361482376075,
          "opacity": 0.5,
          "showarrow": true,
          "x": -1.2597001518299638,
          "y": -4.991497851551584
         },
         {
          "arrowcolor": "red",
          "arrowhead": 0,
          "arrowsize": 1,
          "arrowwidth": 1,
          "ax": 1.4242326791707565,
          "ay": -19.94922457830334,
          "opacity": 0.5,
          "showarrow": true,
          "x": -0.5301125636035624,
          "y": -3.5702923455578204
         },
         {
          "arrowcolor": "red",
          "arrowhead": 0,
          "arrowsize": 1,
          "arrowwidth": 1,
          "ax": 1.312235130028005,
          "ay": -19.956904543629015,
          "opacity": 0.5,
          "showarrow": true,
          "x": -0.9724642529035016,
          "y": -3.5643905081753244
         },
         {
          "arrowcolor": "red",
          "arrowhead": 0,
          "arrowsize": 1,
          "arrowwidth": 1,
          "ax": 2.442368563859332,
          "ay": -19.850310722965315,
          "opacity": 0.5,
          "showarrow": true,
          "x": -2.9274721939294333,
          "y": -4.589601921518101
         },
         {
          "arrowcolor": "red",
          "arrowhead": 0,
          "arrowsize": 1,
          "arrowwidth": 1,
          "ax": 1.6081866674778391,
          "ay": -19.935238539895792,
          "opacity": 0.5,
          "showarrow": true,
          "x": 0.28553705771232646,
          "y": -1.5577564552090277
         },
         {
          "arrowcolor": "red",
          "arrowhead": 0,
          "arrowsize": 1,
          "arrowwidth": 1,
          "ax": 6.695171638622535,
          "ay": -18.84607855044079,
          "opacity": 0.5,
          "showarrow": true,
          "x": -3.0947760310777848,
          "y": -4.831730352219439
         },
         {
          "arrowcolor": "red",
          "arrowhead": 0,
          "arrowsize": 1,
          "arrowwidth": 1,
          "ax": -1.422774988877002,
          "ay": -19.949328593489707,
          "opacity": 0.5,
          "showarrow": true,
          "x": -0.7046626818540637,
          "y": -4.804105159447032
         },
         {
          "arrowcolor": "red",
          "arrowhead": 0,
          "arrowsize": 1,
          "arrowwidth": 1,
          "ax": -1.7013406998553098,
          "ay": -19.927504606021696,
          "opacity": 0.5,
          "showarrow": true,
          "x": -1.8945356462128031,
          "y": -3.6462991838735475
         },
         {
          "arrowcolor": "red",
          "arrowhead": 0,
          "arrowsize": 1,
          "arrowwidth": 1,
          "ax": 1.9892746430891617,
          "ay": -19.90082376170299,
          "opacity": 0.5,
          "showarrow": true,
          "x": 1.2624180192576968,
          "y": -5.052463343061147
         },
         {
          "arrowcolor": "red",
          "arrowhead": 0,
          "arrowsize": 1,
          "arrowwidth": 1,
          "ax": -0.5130670235776862,
          "ay": -19.99341797265583,
          "opacity": 0.5,
          "showarrow": true,
          "x": -0.2466037563488631,
          "y": -0.9252254149215414
         },
         {
          "arrowcolor": "red",
          "arrowhead": 0,
          "arrowsize": 1,
          "arrowwidth": 1,
          "ax": 3.1928836840872705,
          "ay": -19.74349244130555,
          "opacity": 0.5,
          "showarrow": true,
          "x": -3.8363677568479146,
          "y": -5.5908581268956
         },
         {
          "arrowcolor": "red",
          "arrowhead": 0,
          "arrowsize": 1,
          "arrowwidth": 1,
          "ax": 1.9519693794394737,
          "ay": -19.904517465684282,
          "opacity": 0.5,
          "showarrow": true,
          "x": -0.839349382281289,
          "y": -2.0829908671451265
         },
         {
          "arrowcolor": "red",
          "arrowhead": 0,
          "arrowsize": 1,
          "arrowwidth": 1,
          "ax": -5.534185144394784,
          "ay": -19.219073723454002,
          "opacity": 0.5,
          "showarrow": true,
          "x": 0.5517795277185489,
          "y": -2.1333258567000284
         },
         {
          "arrowcolor": "red",
          "arrowhead": 0,
          "arrowsize": 1,
          "arrowwidth": 1,
          "ax": 5.5499210105697925,
          "ay": -19.214535559737996,
          "opacity": 0.5,
          "showarrow": true,
          "x": -0.5636971649557571,
          "y": -3.456703586364695
         },
         {
          "arrowcolor": "red",
          "arrowhead": 0,
          "arrowsize": 1,
          "arrowwidth": 1,
          "ax": -3.0923753000760263,
          "ay": -19.759484178578138,
          "opacity": 0.5,
          "showarrow": true,
          "x": 0.5295617416792211,
          "y": -1.7286514033722558
         },
         {
          "arrowcolor": "red",
          "arrowhead": 0,
          "arrowsize": 1,
          "arrowwidth": 1,
          "ax": -5.863381613088774,
          "ay": -19.12121220161767,
          "opacity": 0.5,
          "showarrow": true,
          "x": 2.18298928624119,
          "y": -3.839346276893731
         },
         {
          "arrowcolor": "red",
          "arrowhead": 0,
          "arrowsize": 1,
          "arrowwidth": 1,
          "ax": 3.0935528300387958,
          "ay": -19.759299858237867,
          "opacity": 0.5,
          "showarrow": true,
          "x": -0.40877873515706814,
          "y": -1.1917982525189006
         },
         {
          "arrowcolor": "red",
          "arrowhead": 0,
          "arrowsize": 1,
          "arrowwidth": 1,
          "ax": 2.3510367378903663,
          "ay": -19.861334956570513,
          "opacity": 0.5,
          "showarrow": true,
          "x": -3.4179461953402455,
          "y": -6.050994121321975
         },
         {
          "arrowcolor": "red",
          "arrowhead": 0,
          "arrowsize": 1,
          "arrowwidth": 1,
          "ax": 2.2283245145284285,
          "ay": -19.87547659448577,
          "opacity": 0.5,
          "showarrow": true,
          "x": -2.7081480189722686,
          "y": -4.39380258653537
         },
         {
          "arrowcolor": "red",
          "arrowhead": 0,
          "arrowsize": 1,
          "arrowwidth": 1,
          "ax": 6.7524846211951175,
          "ay": -18.825619549978253,
          "opacity": 0.5,
          "showarrow": true,
          "x": -0.7974895328262482,
          "y": -2.6082521009996116
         },
         {
          "arrowcolor": "red",
          "arrowhead": 0,
          "arrowsize": 1,
          "arrowwidth": 1,
          "ax": 1.0078701394886864,
          "ay": -19.97458880132272,
          "opacity": 0.5,
          "showarrow": true,
          "x": -0.5965764001986351,
          "y": -2.535208883771211
         },
         {
          "arrowcolor": "red",
          "arrowhead": 0,
          "arrowsize": 1,
          "arrowwidth": 1,
          "ax": 7.919737747930191,
          "ay": -18.36512330489533,
          "opacity": 0.5,
          "showarrow": true,
          "x": -0.45890414881432834,
          "y": -2.3028725806483763
         },
         {
          "arrowcolor": "red",
          "arrowhead": 0,
          "arrowsize": 1,
          "arrowwidth": 1,
          "ax": -1.6332208447485876,
          "ay": -19.933203196482964,
          "opacity": 0.5,
          "showarrow": true,
          "x": -0.3853420263588895,
          "y": -1.4285537118285776
         },
         {
          "arrowcolor": "red",
          "arrowhead": 0,
          "arrowsize": 1,
          "arrowwidth": 1,
          "ax": -2.325453862556859,
          "ay": -19.86434656194659,
          "opacity": 0.5,
          "showarrow": true,
          "x": 2.849908063568957,
          "y": -5.049415411482725
         },
         {
          "arrowcolor": "red",
          "arrowhead": 0,
          "arrowsize": 1,
          "arrowwidth": 1,
          "ax": 0.5010183252239675,
          "ay": -19.993723531093195,
          "opacity": 0.5,
          "showarrow": true,
          "x": 0.6039030907802672,
          "y": -0.9125169561549825
         },
         {
          "arrowcolor": "red",
          "arrowhead": 0,
          "arrowsize": 1,
          "arrowwidth": 1,
          "ax": -8.019332843719711,
          "ay": -18.321853092458696,
          "opacity": 0.5,
          "showarrow": true,
          "x": 0.01787350764367306,
          "y": -2.762888860254114
         },
         {
          "arrowcolor": "red",
          "arrowhead": 0,
          "arrowsize": 1,
          "arrowwidth": 1,
          "ax": 2.198694105794786,
          "ay": -19.87877622564184,
          "opacity": 0.5,
          "showarrow": true,
          "x": -3.8433614711296586,
          "y": -6.21604450562421
         },
         {
          "arrowcolor": "red",
          "arrowhead": 0,
          "arrowsize": 1,
          "arrowwidth": 1,
          "ax": -2.5223689488623675,
          "ay": -19.84030380023993,
          "opacity": 0.5,
          "showarrow": true,
          "x": -0.47124107270562565,
          "y": -0.953441456152663
         },
         {
          "arrowcolor": "red",
          "arrowhead": 0,
          "arrowsize": 1,
          "arrowwidth": 1,
          "ax": -1.0873227784041513,
          "ay": -19.970421356986023,
          "opacity": 0.5,
          "showarrow": true,
          "x": -0.5786939922870891,
          "y": -3.5134904205750197
         },
         {
          "arrowcolor": "red",
          "arrowhead": 0,
          "arrowsize": 1,
          "arrowwidth": 1,
          "ax": 3.022742447364733,
          "ay": -19.770256146466576,
          "opacity": 0.5,
          "showarrow": true,
          "x": -1.02533381727462,
          "y": -2.367681703097181
         },
         {
          "arrowcolor": "red",
          "arrowhead": 0,
          "arrowsize": 1,
          "arrowwidth": 1,
          "ax": 2.7173882603363135,
          "ay": -19.814535095292708,
          "opacity": 0.5,
          "showarrow": true,
          "x": -0.27174352326228207,
          "y": -2.9505929851821024
         },
         {
          "arrowcolor": "red",
          "arrowhead": 0,
          "arrowsize": 1,
          "arrowwidth": 1,
          "ax": 5.344704619542319,
          "ay": -19.272626508336714,
          "opacity": 0.5,
          "showarrow": true,
          "x": -1.1991062188362727,
          "y": -5.651305103479837
         },
         {
          "arrowcolor": "red",
          "arrowhead": 0,
          "arrowsize": 1,
          "arrowwidth": 1,
          "ax": 0.7792064016091905,
          "ay": -19.984815170115816,
          "opacity": 0.5,
          "showarrow": true,
          "x": -1.1434251389637238,
          "y": -6.171226880869497
         },
         {
          "arrowcolor": "red",
          "arrowhead": 0,
          "arrowsize": 1,
          "arrowwidth": 1,
          "ax": 3.973785798427516,
          "ay": -19.601250634289023,
          "opacity": 0.5,
          "showarrow": true,
          "x": -3.2860066944611797,
          "y": -4.714052645406274
         },
         {
          "arrowcolor": "red",
          "arrowhead": 0,
          "arrowsize": 1,
          "arrowwidth": 1,
          "ax": -3.5329329982619107,
          "ay": -19.685486644474707,
          "opacity": 0.5,
          "showarrow": true,
          "x": 2.426266051486594,
          "y": -4.644318407803806
         },
         {
          "arrowcolor": "red",
          "arrowhead": 0,
          "arrowsize": 1,
          "arrowwidth": 1,
          "ax": -1.753944128608368,
          "ay": -19.92294355745958,
          "opacity": 0.5,
          "showarrow": true,
          "x": -1.4209884879246075,
          "y": -3.9984835022694
         },
         {
          "arrowcolor": "red",
          "arrowhead": 0,
          "arrowsize": 1,
          "arrowwidth": 1,
          "ax": -2.0739135997181193,
          "ay": -19.892181438467333,
          "opacity": 0.5,
          "showarrow": true,
          "x": -0.9145795027813965,
          "y": -5.410792952920252
         },
         {
          "arrowcolor": "red",
          "arrowhead": 0,
          "arrowsize": 1,
          "arrowwidth": 1,
          "ax": 3.1533612899342858,
          "ay": -19.74984335571156,
          "opacity": 0.5,
          "showarrow": true,
          "x": -1.257957100211273,
          "y": -4.088929554630283
         },
         {
          "arrowcolor": "red",
          "arrowhead": 0,
          "arrowsize": 1,
          "arrowwidth": 1,
          "ax": 0.3875014634809828,
          "ay": -19.996245713028237,
          "opacity": 0.5,
          "showarrow": true,
          "x": 0.2397839427276115,
          "y": -4.435318953292722
         },
         {
          "arrowcolor": "red",
          "arrowhead": 0,
          "arrowsize": 1,
          "arrowwidth": 1,
          "ax": -1.7556518231692853,
          "ay": -19.922793144431388,
          "opacity": 0.5,
          "showarrow": true,
          "x": -1.7119885889909765,
          "y": -3.1720890735499223
         },
         {
          "arrowcolor": "red",
          "arrowhead": 0,
          "arrowsize": 1,
          "arrowwidth": 1,
          "ax": -8.003819183244042,
          "ay": -18.328635477905458,
          "opacity": 0.5,
          "showarrow": true,
          "x": 4.47916806494881,
          "y": -6.4308343248921584
         },
         {
          "arrowcolor": "red",
          "arrowhead": 0,
          "arrowsize": 1,
          "arrowwidth": 1,
          "ax": -1.0104240629945147,
          "ay": -19.974459772742833,
          "opacity": 0.5,
          "showarrow": true,
          "x": 1.4026159541471503,
          "y": -3.8210498431760085
         },
         {
          "arrowcolor": "red",
          "arrowhead": 0,
          "arrowsize": 1,
          "arrowwidth": 1,
          "ax": -5.909107874225706,
          "ay": -19.107130714232415,
          "opacity": 0.5,
          "showarrow": true,
          "x": 2.6505779715060673,
          "y": -5.1058548030472375
         },
         {
          "arrowcolor": "red",
          "arrowhead": 0,
          "arrowsize": 1,
          "arrowwidth": 1,
          "ax": 3.6277360275703674,
          "ay": -19.668236609169313,
          "opacity": 0.5,
          "showarrow": true,
          "x": -1.2190232172017177,
          "y": -3.8479096763515614
         },
         {
          "arrowcolor": "red",
          "arrowhead": 0,
          "arrowsize": 1,
          "arrowwidth": 1,
          "ax": 2.4295628522500823,
          "ay": -19.851882136134257,
          "opacity": 0.5,
          "showarrow": true,
          "x": -3.9878970872050625,
          "y": -5.044561886823058
         },
         {
          "arrowcolor": "red",
          "arrowhead": 0,
          "arrowsize": 1,
          "arrowwidth": 1,
          "ax": -2.981658006048444,
          "ay": -19.77649401524363,
          "opacity": 0.5,
          "showarrow": true,
          "x": -2.5876419981566947,
          "y": -6.169972703836444
         },
         {
          "arrowcolor": "red",
          "arrowhead": 0,
          "arrowsize": 1,
          "arrowwidth": 1,
          "ax": -2.448369972385766,
          "ay": -19.849571392811477,
          "opacity": 0.5,
          "showarrow": true,
          "x": 0.1786799428697863,
          "y": -1.4399401924209219
         },
         {
          "arrowcolor": "red",
          "arrowhead": 0,
          "arrowsize": 1,
          "arrowwidth": 1,
          "ax": 1.1905474915377356,
          "ay": -19.96453346989088,
          "opacity": 0.5,
          "showarrow": true,
          "x": -0.43436143205622035,
          "y": -3.5091444405419323
         },
         {
          "arrowcolor": "red",
          "arrowhead": 0,
          "arrowsize": 1,
          "arrowwidth": 1,
          "ax": 4.0203427788154285,
          "ay": -19.59175448858082,
          "opacity": 0.5,
          "showarrow": true,
          "x": -2.5574799161118875,
          "y": -4.75976110917977
         },
         {
          "arrowcolor": "red",
          "arrowhead": 0,
          "arrowsize": 1,
          "arrowwidth": 1,
          "ax": 1.166954024132559,
          "ay": -19.965926432438863,
          "opacity": 0.5,
          "showarrow": true,
          "x": 0.04802920991763107,
          "y": -1.0271953328472616
         },
         {
          "arrowcolor": "red",
          "arrowhead": 0,
          "arrowsize": 1,
          "arrowwidth": 1,
          "ax": -3.1088661924823926,
          "ay": -19.756896289580506,
          "opacity": 0.5,
          "showarrow": true,
          "x": 0.054589454446776105,
          "y": -1.6341261844420263
         },
         {
          "arrowcolor": "red",
          "arrowhead": 0,
          "arrowsize": 1,
          "arrowwidth": 1,
          "ax": -2.2261993809247884,
          "ay": -19.875714737245804,
          "opacity": 0.5,
          "showarrow": true,
          "x": 0.5584168992608197,
          "y": -1.6918484902734428
         },
         {
          "arrowcolor": "red",
          "arrowhead": 0,
          "arrowsize": 1,
          "arrowwidth": 1,
          "ax": -3.3454494428439165,
          "ay": -19.71821411855991,
          "opacity": 0.5,
          "showarrow": true,
          "x": 2.357600238604566,
          "y": -5.354440269005722
         },
         {
          "arrowcolor": "red",
          "arrowhead": 0,
          "arrowsize": 1,
          "arrowwidth": 1,
          "ax": -4.097076779555722,
          "ay": -19.575851497761864,
          "opacity": 0.5,
          "showarrow": true,
          "x": 1.2943227253160074,
          "y": -2.5358335442253295
         },
         {
          "arrowcolor": "red",
          "arrowhead": 0,
          "arrowsize": 1,
          "arrowwidth": 1,
          "ax": -0.668173134964411,
          "ay": -19.98883550039151,
          "opacity": 0.5,
          "showarrow": true,
          "x": -2.233556430745453,
          "y": -4.042260518791725
         },
         {
          "arrowcolor": "red",
          "arrowhead": 0,
          "arrowsize": 1,
          "arrowwidth": 1,
          "ax": 2.1019873487381586,
          "ay": -19.889234504770283,
          "opacity": 0.5,
          "showarrow": true,
          "x": 0.125370762029011,
          "y": -1.0231358000758173
         },
         {
          "arrowcolor": "red",
          "arrowhead": 0,
          "arrowsize": 1,
          "arrowwidth": 1,
          "ax": -2.595496074244126,
          "ay": -19.83086987826261,
          "opacity": 0.5,
          "showarrow": true,
          "x": 0.38077235455761105,
          "y": -6.19603379192589
         },
         {
          "arrowcolor": "red",
          "arrowhead": 0,
          "arrowsize": 1,
          "arrowwidth": 1,
          "ax": 0.18832509807154707,
          "ay": -19.999113321780953,
          "opacity": 0.5,
          "showarrow": true,
          "x": -0.9087649306891966,
          "y": -2.8521267142352147
         },
         {
          "arrowcolor": "red",
          "arrowhead": 0,
          "arrowsize": 1,
          "arrowwidth": 1,
          "ax": -1.4058266094274319,
          "ay": -19.95053010684743,
          "opacity": 0.5,
          "showarrow": true,
          "x": -0.7401050474548143,
          "y": -3.7230802088419064
         },
         {
          "arrowcolor": "red",
          "arrowhead": 0,
          "arrowsize": 1,
          "arrowwidth": 1,
          "ax": 3.0869680488539326,
          "ay": -19.760329659835,
          "opacity": 0.5,
          "showarrow": true,
          "x": -1.9083861979019832,
          "y": -3.4528873648484635
         },
         {
          "arrowcolor": "red",
          "arrowhead": 0,
          "arrowsize": 1,
          "arrowwidth": 1,
          "ax": -2.198977471041325,
          "ay": -19.878744881955015,
          "opacity": 0.5,
          "showarrow": true,
          "x": -0.4370309051936108,
          "y": -2.3085281218865963
         },
         {
          "arrowcolor": "red",
          "arrowhead": 0,
          "arrowsize": 1,
          "arrowwidth": 1,
          "ax": 1.1091149481000313,
          "ay": -19.969222920081318,
          "opacity": 0.5,
          "showarrow": true,
          "x": 0.009834884492097998,
          "y": -1.3836758871245582
         },
         {
          "arrowcolor": "red",
          "arrowhead": 0,
          "arrowsize": 1,
          "arrowwidth": 1,
          "ax": 2.040458458984854,
          "ay": -19.895640961707095,
          "opacity": 0.5,
          "showarrow": true,
          "x": 0.5135734004337579,
          "y": -2.8229636377534675
         },
         {
          "arrowcolor": "red",
          "arrowhead": 0,
          "arrowsize": 1,
          "arrowwidth": 1,
          "ax": 3.0633919397720737,
          "ay": -19.76399832582819,
          "opacity": 0.5,
          "showarrow": true,
          "x": -1.5439164286693308,
          "y": -2.985197121265853
         },
         {
          "arrowcolor": "red",
          "arrowhead": 0,
          "arrowsize": 1,
          "arrowwidth": 1,
          "ax": -0.9046285041793829,
          "ay": -19.979530706936693,
          "opacity": 0.5,
          "showarrow": true,
          "x": -1.20296462505352,
          "y": -2.48531244020195
         },
         {
          "arrowcolor": "red",
          "arrowhead": 0,
          "arrowsize": 1,
          "arrowwidth": 1,
          "ax": 6.619668947201078,
          "ay": -18.872731202172666,
          "opacity": 0.5,
          "showarrow": true,
          "x": -2.775570200510062,
          "y": -5.472851845680551
         },
         {
          "arrowcolor": "red",
          "arrowhead": 0,
          "arrowsize": 1,
          "arrowwidth": 1,
          "ax": -1.041032912259404,
          "ay": -19.972887885220622,
          "opacity": 0.5,
          "showarrow": true,
          "x": 0.5774028359207777,
          "y": -2.956461283421654
         },
         {
          "arrowcolor": "red",
          "arrowhead": 0,
          "arrowsize": 1,
          "arrowwidth": 1,
          "ax": 0.45635162594117085,
          "ay": -19.994792901990778,
          "opacity": 0.5,
          "showarrow": true,
          "x": 0.0647980541248909,
          "y": -1.537742960160935
         },
         {
          "arrowcolor": "red",
          "arrowhead": 0,
          "arrowsize": 1,
          "arrowwidth": 1,
          "ax": 5.043622296730392,
          "ay": -19.353601063572743,
          "opacity": 0.5,
          "showarrow": true,
          "x": -1.418872768336794,
          "y": -4.210316694374083
         },
         {
          "arrowcolor": "red",
          "arrowhead": 0,
          "arrowsize": 1,
          "arrowwidth": 1,
          "ax": 1.2018846691882057,
          "ay": -19.96385416802002,
          "opacity": 0.5,
          "showarrow": true,
          "x": 0.11930692545890637,
          "y": -1.602641189235715
         },
         {
          "arrowcolor": "red",
          "arrowhead": 0,
          "arrowsize": 1,
          "arrowwidth": 1,
          "ax": 2.9821486815158975,
          "ay": -19.776420030969533,
          "opacity": 0.5,
          "showarrow": true,
          "x": -1.358217980879844,
          "y": -2.7556286907307177
         },
         {
          "arrowcolor": "red",
          "arrowhead": 0,
          "arrowsize": 1,
          "arrowwidth": 1,
          "ax": -0.1942956372464591,
          "ay": -19.999056207865085,
          "opacity": 0.5,
          "showarrow": true,
          "x": -0.6649822608390898,
          "y": -5.824971851005798
         },
         {
          "arrowcolor": "red",
          "arrowhead": 0,
          "arrowsize": 1,
          "arrowwidth": 1,
          "ax": 7.219124179506261,
          "ay": -18.651655317447513,
          "opacity": 0.5,
          "showarrow": true,
          "x": -0.17030761029529307,
          "y": -3.2759329513989703
         },
         {
          "arrowcolor": "red",
          "arrowhead": 0,
          "arrowsize": 1,
          "arrowwidth": 1,
          "ax": -6.660268795702178,
          "ay": -18.858441599692057,
          "opacity": 0.5,
          "showarrow": true,
          "x": 3.223285904551011,
          "y": -5.498402048981475
         },
         {
          "arrowcolor": "red",
          "arrowhead": 0,
          "arrowsize": 1,
          "arrowwidth": 1,
          "ax": 6.870221833711191,
          "ay": -18.782972394048766,
          "opacity": 0.5,
          "showarrow": true,
          "x": -1.6248214731672264,
          "y": -3.218541947822595
         },
         {
          "arrowcolor": "red",
          "arrowhead": 0,
          "arrowsize": 1,
          "arrowwidth": 1,
          "ax": -2.4246540375651007,
          "ay": -19.8524822830325,
          "opacity": 0.5,
          "showarrow": true,
          "x": 0.06308435522924086,
          "y": -1.3615110811921947
         },
         {
          "arrowcolor": "red",
          "arrowhead": 0,
          "arrowsize": 1,
          "arrowwidth": 1,
          "ax": -5.872236938164961,
          "ay": -19.118494536496616,
          "opacity": 0.5,
          "showarrow": true,
          "x": 2.759724275483457,
          "y": -3.938477238144874
         },
         {
          "arrowcolor": "red",
          "arrowhead": 0,
          "arrowsize": 1,
          "arrowwidth": 1,
          "ax": 1.5547013967867973,
          "ay": -19.939481025513906,
          "opacity": 0.5,
          "showarrow": true,
          "x": 0.8121586663208988,
          "y": -0.7890706087065336
         },
         {
          "arrowcolor": "red",
          "arrowhead": 0,
          "arrowsize": 1,
          "arrowwidth": 1,
          "ax": -3.7900026867206904,
          "ay": -19.637613898705972,
          "opacity": 0.5,
          "showarrow": true,
          "x": 2.015756012965926,
          "y": -6.1700801242693535
         },
         {
          "arrowcolor": "red",
          "arrowhead": 0,
          "arrowsize": 1,
          "arrowwidth": 1,
          "ax": 2.776980654065466,
          "ay": -19.80627118987686,
          "opacity": 0.5,
          "showarrow": true,
          "x": -0.6823065677247178,
          "y": -2.0655259871364375
         },
         {
          "arrowcolor": "red",
          "arrowhead": 0,
          "arrowsize": 1,
          "arrowwidth": 1,
          "ax": -1.8335226837266314,
          "ay": -19.915777528589235,
          "opacity": 0.5,
          "showarrow": true,
          "x": -0.580948569570236,
          "y": -5.233534575512452
         },
         {
          "arrowcolor": "red",
          "arrowhead": 0,
          "arrowsize": 1,
          "arrowwidth": 1,
          "ax": -0.5976949028957421,
          "ay": -19.991067025125307,
          "opacity": 0.5,
          "showarrow": true,
          "x": 1.3075816943674363,
          "y": -5.233515842525186
         },
         {
          "arrowcolor": "red",
          "arrowhead": 0,
          "arrowsize": 1,
          "arrowwidth": 1,
          "ax": -6.355249221829913,
          "ay": -18.96340706013638,
          "opacity": 0.5,
          "showarrow": true,
          "x": 0.01544354036583793,
          "y": -5.679033559766064
         },
         {
          "arrowcolor": "red",
          "arrowhead": 0,
          "arrowsize": 1,
          "arrowwidth": 1,
          "ax": 3.0945379507504884,
          "ay": -19.75914560074309,
          "opacity": 0.5,
          "showarrow": true,
          "x": -1.1933856105307101,
          "y": -2.381981373367141
         },
         {
          "arrowcolor": "red",
          "arrowhead": 0,
          "arrowsize": 1,
          "arrowwidth": 1,
          "ax": 2.7305351397287625,
          "ay": -19.81272767315764,
          "opacity": 0.5,
          "showarrow": true,
          "x": -0.227281341868129,
          "y": -2.6234939029896416
         },
         {
          "arrowcolor": "red",
          "arrowhead": 0,
          "arrowsize": 1,
          "arrowwidth": 1,
          "ax": -7.28833445110576,
          "ay": -18.62471962013992,
          "opacity": 0.5,
          "showarrow": true,
          "x": 5.194196219002173,
          "y": -6.52076903359772
         },
         {
          "arrowcolor": "red",
          "arrowhead": 0,
          "arrowsize": 1,
          "arrowwidth": 1,
          "ax": -3.795086765176671,
          "ay": -19.636632003599313,
          "opacity": 0.5,
          "showarrow": true,
          "x": 1.4500029810336832,
          "y": -4.993521895304869
         },
         {
          "arrowcolor": "red",
          "arrowhead": 0,
          "arrowsize": 1,
          "arrowwidth": 1,
          "ax": -5.412904167705638,
          "ay": -19.25358326315481,
          "opacity": 0.5,
          "showarrow": true,
          "x": 4.131826694048143,
          "y": -6.135753525441817
         },
         {
          "arrowcolor": "red",
          "arrowhead": 0,
          "arrowsize": 1,
          "arrowwidth": 1,
          "ax": -3.1358658207267878,
          "ay": -19.752628826422004,
          "opacity": 0.5,
          "showarrow": true,
          "x": -0.3928219284121292,
          "y": -2.3678736585781266
         },
         {
          "arrowcolor": "red",
          "arrowhead": 0,
          "arrowsize": 1,
          "arrowwidth": 1,
          "ax": 3.268568091135694,
          "ay": -19.73110393854357,
          "opacity": 0.5,
          "showarrow": true,
          "x": -0.4274373144784816,
          "y": -1.8881225817975515
         },
         {
          "arrowcolor": "red",
          "arrowhead": 0,
          "arrowsize": 1,
          "arrowwidth": 1,
          "ax": 2.499368984899302,
          "ay": -19.843214323222018,
          "opacity": 0.5,
          "showarrow": true,
          "x": 0.9786081171239256,
          "y": -5.710839974866803
         },
         {
          "arrowcolor": "red",
          "arrowhead": 0,
          "arrowsize": 1,
          "arrowwidth": 1,
          "ax": -0.02182813781051656,
          "ay": -19.999988088306445,
          "opacity": 0.5,
          "showarrow": true,
          "x": -3.1255897358750433,
          "y": -5.1112512470482105
         },
         {
          "arrowcolor": "red",
          "arrowhead": 0,
          "arrowsize": 1,
          "arrowwidth": 1,
          "ax": -6.035864498714686,
          "ay": -19.067468100226513,
          "opacity": 0.5,
          "showarrow": true,
          "x": -0.17423551304996443,
          "y": -5.324742897399205
         },
         {
          "arrowcolor": "red",
          "arrowhead": 0,
          "arrowsize": 1,
          "arrowwidth": 1,
          "ax": 0.2394053903137121,
          "ay": -19.998567075145377,
          "opacity": 0.5,
          "showarrow": true,
          "x": -2.962901196004382,
          "y": -5.033721248169005
         },
         {
          "arrowcolor": "red",
          "arrowhead": 0,
          "arrowsize": 1,
          "arrowwidth": 1,
          "ax": 8.13462468796258,
          "ay": -18.270957314437297,
          "opacity": 0.5,
          "showarrow": true,
          "x": -1.4263023531730392,
          "y": -2.9572133133028577
         },
         {
          "arrowcolor": "red",
          "arrowhead": 0,
          "arrowsize": 1,
          "arrowwidth": 1,
          "ax": -2.011398333523988,
          "ay": -19.898599868932912,
          "opacity": 0.5,
          "showarrow": true,
          "x": 0.5157661132680078,
          "y": -3.331497646104384
         },
         {
          "arrowcolor": "red",
          "arrowhead": 0,
          "arrowsize": 1,
          "arrowwidth": 1,
          "ax": -3.7167328628226777,
          "ay": -19.65161308458962,
          "opacity": 0.5,
          "showarrow": true,
          "x": -0.19909740900498657,
          "y": -1.1168691005901354
         },
         {
          "arrowcolor": "red",
          "arrowhead": 0,
          "arrowsize": 1,
          "arrowwidth": 1,
          "ax": 1.9518291438355675,
          "ay": -19.90453121762163,
          "opacity": 0.5,
          "showarrow": true,
          "x": 0.6478352865787538,
          "y": -5.392743326853317
         },
         {
          "arrowcolor": "red",
          "arrowhead": 0,
          "arrowsize": 1,
          "arrowwidth": 1,
          "ax": -7.7415227808219145,
          "ay": -18.44095510091642,
          "opacity": 0.5,
          "showarrow": true,
          "x": 1.5753575034756702,
          "y": -6.589725813668949
         },
         {
          "arrowcolor": "red",
          "arrowhead": 0,
          "arrowsize": 1,
          "arrowwidth": 1,
          "ax": 4.7552572289976105,
          "ay": -19.426464647126764,
          "opacity": 0.5,
          "showarrow": true,
          "x": -2.1806289177817613,
          "y": -5.665126630129862
         },
         {
          "arrowcolor": "red",
          "arrowhead": 0,
          "arrowsize": 1,
          "arrowwidth": 1,
          "ax": -0.9671112930412405,
          "ay": -19.976603709011002,
          "opacity": 0.5,
          "showarrow": true,
          "x": -0.14217995869701472,
          "y": -1.032507075680528
         },
         {
          "arrowcolor": "red",
          "arrowhead": 0,
          "arrowsize": 1,
          "arrowwidth": 1,
          "ax": 2.592474496906012,
          "ay": -19.831265113020194,
          "opacity": 0.5,
          "showarrow": true,
          "x": -1.5525614772467726,
          "y": -3.2131895814140554
         },
         {
          "arrowcolor": "red",
          "arrowhead": 0,
          "arrowsize": 1,
          "arrowwidth": 1,
          "ax": -7.223568074489634,
          "ay": -18.64993469889946,
          "opacity": 0.5,
          "showarrow": true,
          "x": 4.016123286548721,
          "y": -6.517933372680577
         },
         {
          "arrowcolor": "red",
          "arrowhead": 0,
          "arrowsize": 1,
          "arrowwidth": 1,
          "ax": -1.6819048671383772,
          "ay": -19.92915442305308,
          "opacity": 0.5,
          "showarrow": true,
          "x": 1.038518750525667,
          "y": -2.7355570052132543
         },
         {
          "arrowcolor": "red",
          "arrowhead": 0,
          "arrowsize": 1,
          "arrowwidth": 1,
          "ax": 4.68678661849924,
          "ay": -19.443097263364614,
          "opacity": 0.5,
          "showarrow": true,
          "x": -2.578414380726696,
          "y": -5.103478751790943
         },
         {
          "arrowcolor": "red",
          "arrowhead": 0,
          "arrowsize": 1,
          "arrowwidth": 1,
          "ax": 0.3586208815526038,
          "ay": -19.996784518099766,
          "opacity": 0.5,
          "showarrow": true,
          "x": 0.23003528381818772,
          "y": -1.261934983220301
         },
         {
          "arrowcolor": "red",
          "arrowhead": 0,
          "arrowsize": 1,
          "arrowwidth": 1,
          "ax": 1.3911741635740573,
          "ay": -19.951557193527627,
          "opacity": 0.5,
          "showarrow": true,
          "x": 0.04268445373311852,
          "y": -1.451775225081127
         },
         {
          "arrowcolor": "red",
          "arrowhead": 0,
          "arrowsize": 1,
          "arrowwidth": 1,
          "ax": -1.4065705009932965,
          "ay": -19.950477674124382,
          "opacity": 0.5,
          "showarrow": true,
          "x": -0.49678996062752623,
          "y": -1.2238368288095345
         },
         {
          "arrowcolor": "red",
          "arrowhead": 0,
          "arrowsize": 1,
          "arrowwidth": 1,
          "ax": -2.583565611301772,
          "ay": -19.832427706463445,
          "opacity": 0.5,
          "showarrow": true,
          "x": -0.3690276197668355,
          "y": -1.8348131364965354
         },
         {
          "arrowcolor": "red",
          "arrowhead": 0,
          "arrowsize": 1,
          "arrowwidth": 1,
          "ax": 6.548436299415168,
          "ay": -18.897565505442806,
          "opacity": 0.5,
          "showarrow": true,
          "x": -2.934515378347046,
          "y": -4.2649628103537225
         },
         {
          "arrowcolor": "red",
          "arrowhead": 0,
          "arrowsize": 1,
          "arrowwidth": 1,
          "ax": 1.2812398120309596,
          "ay": -19.958918421198753,
          "opacity": 0.5,
          "showarrow": true,
          "x": 0.6284900680397686,
          "y": -3.5224116500264198
         },
         {
          "arrowcolor": "red",
          "arrowhead": 0,
          "arrowsize": 1,
          "arrowwidth": 1,
          "ax": -2.3818014772326026,
          "ay": -19.857669090884073,
          "opacity": 0.5,
          "showarrow": true,
          "x": 0.26896913819379914,
          "y": -5.250917112601164
         },
         {
          "arrowcolor": "red",
          "arrowhead": 0,
          "arrowsize": 1,
          "arrowwidth": 1,
          "ax": -5.450416148975631,
          "ay": -19.24299778628542,
          "opacity": 0.5,
          "showarrow": true,
          "x": 0.7455858692902493,
          "y": -2.763736320887213
         },
         {
          "arrowcolor": "red",
          "arrowhead": 0,
          "arrowsize": 1,
          "arrowwidth": 1,
          "ax": -3.1422580196429877,
          "ay": -19.751612960413873,
          "opacity": 0.5,
          "showarrow": true,
          "x": -0.943899291151712,
          "y": -2.921468617134114
         },
         {
          "arrowcolor": "red",
          "arrowhead": 0,
          "arrowsize": 1,
          "arrowwidth": 1,
          "ax": 2.9618548294441274,
          "ay": -19.779469557328845,
          "opacity": 0.5,
          "showarrow": true,
          "x": -0.21582911964928905,
          "y": -3.5411983274960277
         },
         {
          "arrowcolor": "red",
          "arrowhead": 0,
          "arrowsize": 1,
          "arrowwidth": 1,
          "ax": -4.640107815465865,
          "ay": -19.454290001458613,
          "opacity": 0.5,
          "showarrow": true,
          "x": 0.26219777515136283,
          "y": -3.2211847848778508
         },
         {
          "arrowcolor": "red",
          "arrowhead": 0,
          "arrowsize": 1,
          "arrowwidth": 1,
          "ax": 0.4156878469670927,
          "ay": -19.99567962370581,
          "opacity": 0.5,
          "showarrow": true,
          "x": -0.38950852390931007,
          "y": -2.9389643935481287
         },
         {
          "arrowcolor": "red",
          "arrowhead": 0,
          "arrowsize": 1,
          "arrowwidth": 1,
          "ax": -2.3403569892032365,
          "ay": -19.862596234205828,
          "opacity": 0.5,
          "showarrow": true,
          "x": 1.3267070967840728,
          "y": -3.731737955002591
         },
         {
          "arrowcolor": "red",
          "arrowhead": 0,
          "arrowsize": 1,
          "arrowwidth": 1,
          "ax": -2.482992878514027,
          "ay": -19.845270125781827,
          "opacity": 0.5,
          "showarrow": true,
          "x": 0.6617172873938332,
          "y": -3.0958326945754986
         },
         {
          "arrowcolor": "red",
          "arrowhead": 0,
          "arrowsize": 1,
          "arrowwidth": 1,
          "ax": -7.758177105363545,
          "ay": -18.433954757506946,
          "opacity": 0.5,
          "showarrow": true,
          "x": 0.7453565737334361,
          "y": -2.394581851244621
         },
         {
          "arrowcolor": "red",
          "arrowhead": 0,
          "arrowsize": 1,
          "arrowwidth": 1,
          "ax": 1.6108575740900533,
          "ay": -19.935022896299785,
          "opacity": 0.5,
          "showarrow": true,
          "x": 1.2070290921760665,
          "y": -4.9734060608278705
         },
         {
          "arrowcolor": "red",
          "arrowhead": 0,
          "arrowsize": 1,
          "arrowwidth": 1,
          "ax": -2.9251894490381662,
          "ay": -19.784925238353463,
          "opacity": 0.5,
          "showarrow": true,
          "x": -0.8535956868802456,
          "y": -4.610470433800951
         },
         {
          "arrowcolor": "red",
          "arrowhead": 0,
          "arrowsize": 1,
          "arrowwidth": 1,
          "ax": -2.213036059247898,
          "ay": -19.877184695033364,
          "opacity": 0.5,
          "showarrow": true,
          "x": 0.9968447725324298,
          "y": -3.406464228773592
         },
         {
          "arrowcolor": "red",
          "arrowhead": 0,
          "arrowsize": 1,
          "arrowwidth": 1,
          "ax": -1.6944315010327748,
          "ay": -19.928093282808263,
          "opacity": 0.5,
          "showarrow": true,
          "x": 0.03736089975172786,
          "y": -1.6565834080715236
         },
         {
          "arrowcolor": "red",
          "arrowhead": 0,
          "arrowsize": 1,
          "arrowwidth": 1,
          "ax": 0.7730398763990297,
          "ay": -19.98505464965,
          "opacity": 0.5,
          "showarrow": true,
          "x": -2.412840552418717,
          "y": -4.8164787035239405
         },
         {
          "arrowcolor": "red",
          "arrowhead": 0,
          "arrowsize": 1,
          "arrowwidth": 1,
          "ax": 3.154442323357066,
          "ay": -19.749670722030118,
          "opacity": 0.5,
          "showarrow": true,
          "x": 0.588617122720197,
          "y": -1.124381052593068
         },
         {
          "arrowcolor": "red",
          "arrowhead": 0,
          "arrowsize": 1,
          "arrowwidth": 1,
          "ax": 3.024502760126321,
          "ay": -19.76998692599437,
          "opacity": 0.5,
          "showarrow": true,
          "x": -1.881435060176756,
          "y": -3.6912705886917427
         },
         {
          "arrowcolor": "red",
          "arrowhead": 0,
          "arrowsize": 1,
          "arrowwidth": 1,
          "ax": 2.769349604739001,
          "ay": -19.80733961860431,
          "opacity": 0.5,
          "showarrow": true,
          "x": 0.015055593883974256,
          "y": -2.242861821028834
         },
         {
          "arrowcolor": "red",
          "arrowhead": 0,
          "arrowsize": 1,
          "arrowwidth": 1,
          "ax": 0.41714155530816177,
          "ay": -19.995649349866962,
          "opacity": 0.5,
          "showarrow": true,
          "x": -0.7023639609225562,
          "y": -2.5102784379474246
         },
         {
          "arrowcolor": "red",
          "arrowhead": 0,
          "arrowsize": 1,
          "arrowwidth": 1,
          "ax": -4.256036588741074,
          "ay": -19.541907597655282,
          "opacity": 0.5,
          "showarrow": true,
          "x": -0.5999809872079568,
          "y": -3.3669492725052885
         },
         {
          "arrowcolor": "red",
          "arrowhead": 0,
          "arrowsize": 1,
          "arrowwidth": 1,
          "ax": 0.4616709160323116,
          "ay": -19.994670789120033,
          "opacity": 0.5,
          "showarrow": true,
          "x": -0.18610306585256553,
          "y": -1.2646833528048669
         },
         {
          "arrowcolor": "red",
          "arrowhead": 0,
          "arrowsize": 1,
          "arrowwidth": 1,
          "ax": -1.1811067739982546,
          "ay": -19.965094209354874,
          "opacity": 0.5,
          "showarrow": true,
          "x": 1.5521400280767463,
          "y": -4.202712061389981
         },
         {
          "arrowcolor": "red",
          "arrowhead": 0,
          "arrowsize": 1,
          "arrowwidth": 1,
          "ax": -0.6682423800846883,
          "ay": -19.98883318559287,
          "opacity": 0.5,
          "showarrow": true,
          "x": -0.6687341527973623,
          "y": -2.216444507421218
         },
         {
          "arrowcolor": "red",
          "arrowhead": 0,
          "arrowsize": 1,
          "arrowwidth": 1,
          "ax": 0.10584900199694978,
          "ay": -19.999719897757974,
          "opacity": 0.5,
          "showarrow": true,
          "x": -0.3067280997538081,
          "y": -1.5431815669692146
         },
         {
          "arrowcolor": "red",
          "arrowhead": 0,
          "arrowsize": 1,
          "arrowwidth": 1,
          "ax": 2.028733866604005,
          "ay": -19.896839922422203,
          "opacity": 0.5,
          "showarrow": true,
          "x": 0.2975807242344632,
          "y": -1.6176138051948383
         },
         {
          "arrowcolor": "red",
          "arrowhead": 0,
          "arrowsize": 1,
          "arrowwidth": 1,
          "ax": -0.22989824763671313,
          "ay": -19.998678626242622,
          "opacity": 0.5,
          "showarrow": true,
          "x": 0.9743299953975245,
          "y": -3.262901613568878
         },
         {
          "arrowcolor": "red",
          "arrowhead": 0,
          "arrowsize": 1,
          "arrowwidth": 1,
          "ax": -1.3523697029816395,
          "ay": -19.954225020943742,
          "opacity": 0.5,
          "showarrow": true,
          "x": 0.21052611258420567,
          "y": -1.0173994917696971
         },
         {
          "arrowcolor": "red",
          "arrowhead": 0,
          "arrowsize": 1,
          "arrowwidth": 1,
          "ax": -5.658907110248725,
          "ay": -19.182720618243295,
          "opacity": 0.5,
          "showarrow": true,
          "x": 1.2938261753560703,
          "y": -4.767106262064168
         },
         {
          "arrowcolor": "red",
          "arrowhead": 0,
          "arrowsize": 1,
          "arrowwidth": 1,
          "ax": 4.8165098586713135,
          "ay": -19.41136864781363,
          "opacity": 0.5,
          "showarrow": true,
          "x": -0.07895488912768865,
          "y": -3.807751419235279
         },
         {
          "arrowcolor": "red",
          "arrowhead": 0,
          "arrowsize": 1,
          "arrowwidth": 1,
          "ax": 0.6698148971758405,
          "ay": -19.988780553188363,
          "opacity": 0.5,
          "showarrow": true,
          "x": 0.2884642798258221,
          "y": -3.121585711824886
         },
         {
          "arrowcolor": "red",
          "arrowhead": 0,
          "arrowsize": 1,
          "arrowwidth": 1,
          "ax": 1.754080646718357,
          "ay": -19.922931538425967,
          "opacity": 0.5,
          "showarrow": true,
          "x": -0.12026019355250579,
          "y": -3.0608438499616866
         },
         {
          "arrowcolor": "red",
          "arrowhead": 0,
          "arrowsize": 1,
          "arrowwidth": 1,
          "ax": -1.946102230441776,
          "ay": -19.9050919643359,
          "opacity": 0.5,
          "showarrow": true,
          "x": 1.2656549710223022,
          "y": -3.643787691682273
         },
         {
          "arrowcolor": "red",
          "arrowhead": 0,
          "arrowsize": 1,
          "arrowwidth": 1,
          "ax": -2.840457351623757,
          "ay": -19.79726753957744,
          "opacity": 0.5,
          "showarrow": true,
          "x": -0.5828393934898369,
          "y": -0.9954948761207217
         },
         {
          "arrowcolor": "red",
          "arrowhead": 0,
          "arrowsize": 1,
          "arrowwidth": 1,
          "ax": 3.708564691350445,
          "ay": -19.65315618240665,
          "opacity": 0.5,
          "showarrow": true,
          "x": -0.28401312505482035,
          "y": -4.420149994557283
         },
         {
          "arrowcolor": "red",
          "arrowhead": 0,
          "arrowsize": 1,
          "arrowwidth": 1,
          "ax": 6.217945091512945,
          "ay": -19.00887053033215,
          "opacity": 0.5,
          "showarrow": true,
          "x": -0.0546269912281825,
          "y": -4.5382374846263
         },
         {
          "arrowcolor": "red",
          "arrowhead": 0,
          "arrowsize": 1,
          "arrowwidth": 1,
          "ax": 2.214562800408027,
          "ay": -19.877014655200334,
          "opacity": 0.5,
          "showarrow": true,
          "x": 0.6912834803516359,
          "y": -0.7769076872972106
         },
         {
          "arrowcolor": "red",
          "arrowhead": 0,
          "arrowsize": 1,
          "arrowwidth": 1,
          "ax": 3.958707526179,
          "ay": -19.604301434179533,
          "opacity": 0.5,
          "showarrow": true,
          "x": -5.193391297429218,
          "y": -6.21092980135887
         },
         {
          "arrowcolor": "red",
          "arrowhead": 0,
          "arrowsize": 1,
          "arrowwidth": 1,
          "ax": 7.452107142344491,
          "ay": -18.55979792829163,
          "opacity": 0.5,
          "showarrow": true,
          "x": -1.1223583886172532,
          "y": -5.688495668906994
         },
         {
          "arrowcolor": "red",
          "arrowhead": 0,
          "arrowsize": 1,
          "arrowwidth": 1,
          "ax": -7.151328793737017,
          "ay": -18.67775405352228,
          "opacity": 0.5,
          "showarrow": true,
          "x": 0.4941824955591249,
          "y": -6.435814494223989
         },
         {
          "arrowcolor": "red",
          "arrowhead": 0,
          "arrowsize": 1,
          "arrowwidth": 1,
          "ax": -2.223614806407012,
          "ay": -19.87600405495852,
          "opacity": 0.5,
          "showarrow": true,
          "x": -0.24539315599034237,
          "y": -5.826458868855538
         },
         {
          "arrowcolor": "red",
          "arrowhead": 0,
          "arrowsize": 1,
          "arrowwidth": 1,
          "ax": -0.7195442036320465,
          "ay": -19.98705221234536,
          "opacity": 0.5,
          "showarrow": true,
          "x": -0.9448234561380076,
          "y": -2.241860022656726
         },
         {
          "arrowcolor": "red",
          "arrowhead": 0,
          "arrowsize": 1,
          "arrowwidth": 1,
          "ax": -4.979692402041578,
          "ay": -19.370148775397915,
          "opacity": 0.5,
          "showarrow": true,
          "x": 0.8307313606287926,
          "y": -2.1033597370246038
         },
         {
          "arrowcolor": "red",
          "arrowhead": 0,
          "arrowsize": 1,
          "arrowwidth": 1,
          "ax": -2.7067389569099665,
          "ay": -19.815992637744543,
          "opacity": 0.5,
          "showarrow": true,
          "x": 0.19419760958383875,
          "y": -1.740123616171212
         },
         {
          "arrowcolor": "red",
          "arrowhead": 0,
          "arrowsize": 1,
          "arrowwidth": 1,
          "ax": -5.272742282653232,
          "ay": -19.292438643694602,
          "opacity": 0.5,
          "showarrow": true,
          "x": -0.3267320373105487,
          "y": -5.017608501379393
         },
         {
          "arrowcolor": "red",
          "arrowhead": 0,
          "arrowsize": 1,
          "arrowwidth": 1,
          "ax": 3.5420003870607624,
          "ay": -19.683857174295422,
          "opacity": 0.5,
          "showarrow": true,
          "x": -0.7747625228102717,
          "y": -5.542055861800522
         },
         {
          "arrowcolor": "red",
          "arrowhead": 0,
          "arrowsize": 1,
          "arrowwidth": 1,
          "ax": 6.362423490795064,
          "ay": -18.96100122155418,
          "opacity": 0.5,
          "showarrow": true,
          "x": 0.11050688539743209,
          "y": -0.6795876216950609
         },
         {
          "arrowcolor": "red",
          "arrowhead": 0,
          "arrowsize": 1,
          "arrowwidth": 1,
          "ax": -1.1658462017894653,
          "ay": -19.96599115079873,
          "opacity": 0.5,
          "showarrow": true,
          "x": 0.04692539226283975,
          "y": -1.904037045767382
         },
         {
          "arrowcolor": "red",
          "arrowhead": 0,
          "arrowsize": 1,
          "arrowwidth": 1,
          "ax": -2.6242004802630543,
          "ay": -19.82709186540949,
          "opacity": 0.5,
          "showarrow": true,
          "x": -1.7173877708438148,
          "y": -5.568908335321875
         },
         {
          "arrowcolor": "red",
          "arrowhead": 0,
          "arrowsize": 1,
          "arrowwidth": 1,
          "ax": -5.949300935533256,
          "ay": -19.09465418326457,
          "opacity": 0.5,
          "showarrow": true,
          "x": 2.4507954110408847,
          "y": -5.371336139225627
         },
         {
          "arrowcolor": "red",
          "arrowhead": 0,
          "arrowsize": 1,
          "arrowwidth": 1,
          "ax": 0.8447577204897895,
          "ay": -19.982151645748086,
          "opacity": 0.5,
          "showarrow": true,
          "x": 0.9363730281730377,
          "y": -4.772011832070376
         },
         {
          "arrowcolor": "red",
          "arrowhead": 0,
          "arrowsize": 1,
          "arrowwidth": 1,
          "ax": 0.2931835608514427,
          "ay": -19.997850969532863,
          "opacity": 0.5,
          "showarrow": true,
          "x": -2.625709928596238,
          "y": -5.712686251984339
         },
         {
          "arrowcolor": "red",
          "arrowhead": 0,
          "arrowsize": 1,
          "arrowwidth": 1,
          "ax": -1.355633983598164,
          "ay": -19.954003520660052,
          "opacity": 0.5,
          "showarrow": true,
          "x": -0.9844958571676222,
          "y": -2.5060238111187
         },
         {
          "arrowcolor": "red",
          "arrowhead": 0,
          "arrowsize": 1,
          "arrowwidth": 1,
          "ax": -3.387993587641502,
          "ay": -19.710948720193556,
          "opacity": 0.5,
          "showarrow": true,
          "x": -0.018229493434174328,
          "y": -1.7692006757052117
         },
         {
          "arrowcolor": "red",
          "arrowhead": 0,
          "arrowsize": 1,
          "arrowwidth": 1,
          "ax": -1.1406768076036649,
          "ay": -19.967444914675365,
          "opacity": 0.5,
          "showarrow": true,
          "x": -0.1434075384685369,
          "y": -1.404290984988077
         },
         {
          "arrowcolor": "red",
          "arrowhead": 0,
          "arrowsize": 1,
          "arrowwidth": 1,
          "ax": 1.3147412456399312,
          "ay": -19.956739599869845,
          "opacity": 0.5,
          "showarrow": true,
          "x": -0.4364534178065108,
          "y": -0.7995989517391079
         },
         {
          "arrowcolor": "red",
          "arrowhead": 0,
          "arrowsize": 1,
          "arrowwidth": 1,
          "ax": -7.227818629117031,
          "ay": -18.648287799811243,
          "opacity": 0.5,
          "showarrow": true,
          "x": 0.4966586592496519,
          "y": -3.713196753624598
         },
         {
          "arrowcolor": "red",
          "arrowhead": 0,
          "arrowsize": 1,
          "arrowwidth": 1,
          "ax": -6.9228376426854314,
          "ay": -18.763643542047415,
          "opacity": 0.5,
          "showarrow": true,
          "x": 1.2939098444103663,
          "y": -4.081266905483362
         },
         {
          "arrowcolor": "red",
          "arrowhead": 0,
          "arrowsize": 1,
          "arrowwidth": 1,
          "ax": -1.0108682219192187,
          "ay": -19.97443729965663,
          "opacity": 0.5,
          "showarrow": true,
          "x": -0.8623638403964161,
          "y": -2.29552575809607
         },
         {
          "arrowcolor": "red",
          "arrowhead": 0,
          "arrowsize": 1,
          "arrowwidth": 1,
          "ax": 0.29417074856089365,
          "ay": -19.997836472245968,
          "opacity": 0.5,
          "showarrow": true,
          "x": 0.5532763885291718,
          "y": -1.7319604746260155
         },
         {
          "arrowcolor": "red",
          "arrowhead": 0,
          "arrowsize": 1,
          "arrowwidth": 1,
          "ax": 0.8095622014751911,
          "ay": -19.983608509024155,
          "opacity": 0.5,
          "showarrow": true,
          "x": -0.5708870776175986,
          "y": -0.8582057005626577
         },
         {
          "arrowcolor": "red",
          "arrowhead": 0,
          "arrowsize": 1,
          "arrowwidth": 1,
          "ax": -0.3607575666523153,
          "ay": -19.996746084753468,
          "opacity": 0.5,
          "showarrow": true,
          "x": 0.6296358124190252,
          "y": -1.9832661935674025
         }
        ],
        "height": 800,
        "shapes": [
         {
          "line": {
           "color": "LightSeaGreen"
          },
          "type": "rect",
          "x0": -0.715,
          "x1": 0.715,
          "xref": "x",
          "y0": -0.645,
          "y1": 0.645,
          "yref": "y"
         },
         {
          "line": {
           "color": "LightSeaGreen"
          },
          "type": "rect",
          "x0": 0.715,
          "x1": 1.7149999999999999,
          "xref": "x",
          "y0": -0.25,
          "y1": 0.25,
          "yref": "y"
         },
         {
          "line": {
           "color": "grey",
           "dash": "dot",
           "width": 1
          },
          "type": "line",
          "x0": -2.25527572437235,
          "x1": -1.9160083342855503,
          "xref": "x",
          "y0": -6.0217098348432,
          "y1": -6.025695483920559,
          "yref": "y"
         },
         {
          "line": {
           "color": "grey",
           "dash": "dot",
           "width": 1
          },
          "type": "line",
          "x0": -0.6863305711204967,
          "x1": -0.8868689677633831,
          "xref": "x",
          "y0": -3.9250926272896725,
          "y1": -3.456448785419918,
          "yref": "y"
         },
         {
          "line": {
           "color": "grey",
           "dash": "dot",
           "width": 1
          },
          "type": "line",
          "x0": -1.09260276821096,
          "x1": -1.0907761773491609,
          "xref": "x",
          "y0": -3.2188676611310387,
          "y1": -3.174783930079692,
          "yref": "y"
         },
         {
          "line": {
           "color": "grey",
           "dash": "dot",
           "width": 1
          },
          "type": "line",
          "x0": 0.4081790927555591,
          "x1": 0.5363045730514803,
          "xref": "x",
          "y0": -2.417010819444764,
          "y1": -2.229845490032148,
          "yref": "y"
         },
         {
          "line": {
           "color": "grey",
           "dash": "dot",
           "width": 1
          },
          "type": "line",
          "x0": -0.6600280277042457,
          "x1": -1.8282829921346,
          "xref": "x",
          "y0": -5.017146900369991,
          "y1": -4.613908587270353,
          "yref": "y"
         },
         {
          "line": {
           "color": "grey",
           "dash": "dot",
           "width": 1
          },
          "type": "line",
          "x0": 1.0516864449685956,
          "x1": 1.0331710866603472,
          "xref": "x",
          "y0": -3.059893494459369,
          "y1": -2.7270642291530267,
          "yref": "y"
         },
         {
          "line": {
           "color": "grey",
           "dash": "dot",
           "width": 1
          },
          "type": "line",
          "x0": 0.4903492025103539,
          "x1": 0.24024931953531206,
          "xref": "x",
          "y0": -3.381205154049921,
          "y1": -3.1039579865256033,
          "yref": "y"
         },
         {
          "line": {
           "color": "grey",
           "dash": "dot",
           "width": 1
          },
          "type": "line",
          "x0": 2.594424108304924,
          "x1": 2.952401974892819,
          "xref": "x",
          "y0": -5.977159154081255,
          "y1": -5.70921414601128,
          "yref": "y"
         },
         {
          "line": {
           "color": "grey",
           "dash": "dot",
           "width": 1
          },
          "type": "line",
          "x0": -0.4498042933038507,
          "x1": -0.3783240736682838,
          "xref": "x",
          "y0": -2.114521602402437,
          "y1": -1.8079899860434592,
          "yref": "y"
         },
         {
          "line": {
           "color": "grey",
           "dash": "dot",
           "width": 1
          },
          "type": "line",
          "x0": 0.39034291090775386,
          "x1": 0.60120598450768,
          "xref": "x",
          "y0": -2.4138865164230237,
          "y1": -2.1086450115441395,
          "yref": "y"
         },
         {
          "line": {
           "color": "grey",
           "dash": "dot",
           "width": 1
          },
          "type": "line",
          "x0": 2.6925091416034626,
          "x1": 3.4390258206169904,
          "xref": "x",
          "y0": -5.489065744223065,
          "y1": -4.880430059432009,
          "yref": "y"
         },
         {
          "line": {
           "color": "grey",
           "dash": "dot",
           "width": 1
          },
          "type": "line",
          "x0": 0.6228280113528276,
          "x1": 0.737076803239281,
          "xref": "x",
          "y0": -5.027248980860364,
          "y1": -4.721650122423186,
          "yref": "y"
         },
         {
          "line": {
           "color": "grey",
           "dash": "dot",
           "width": 1
          },
          "type": "line",
          "x0": 1.0620208499891084,
          "x1": 1.253342275117249,
          "xref": "x",
          "y0": -3.822447975349659,
          "y1": -3.357520339961866,
          "yref": "y"
         },
         {
          "line": {
           "color": "grey",
           "dash": "dot",
           "width": 1
          },
          "type": "line",
          "x0": 1.0768334669244688,
          "x1": 1.1609843868419376,
          "xref": "x",
          "y0": -5.725525244553708,
          "y1": -5.540757820074929,
          "yref": "y"
         },
         {
          "line": {
           "color": "grey",
           "dash": "dot",
           "width": 1
          },
          "type": "line",
          "x0": -0.18323219431154508,
          "x1": -0.22461740032811833,
          "xref": "x",
          "y0": -0.7090101605828938,
          "y1": -1.04628371722023,
          "yref": "y"
         },
         {
          "line": {
           "color": "grey",
           "dash": "dot",
           "width": 1
          },
          "type": "line",
          "x0": -0.4999215766138868,
          "x1": -0.7562112772901373,
          "xref": "x",
          "y0": -2.450122862670663,
          "y1": -2.258109771768233,
          "yref": "y"
         },
         {
          "line": {
           "color": "grey",
           "dash": "dot",
           "width": 1
          },
          "type": "line",
          "x0": -0.5060032535048913,
          "x1": -0.5932856964726329,
          "xref": "x",
          "y0": -4.391179567428127,
          "y1": -4.13213651580048,
          "yref": "y"
         },
         {
          "line": {
           "color": "grey",
           "dash": "dot",
           "width": 1
          },
          "type": "line",
          "x0": 0.20367073291542806,
          "x1": 0.011160160670766764,
          "xref": "x",
          "y0": -4.377201706692908,
          "y1": -3.725521314632054,
          "yref": "y"
         },
         {
          "line": {
           "color": "grey",
           "dash": "dot",
           "width": 1
          },
          "type": "line",
          "x0": -0.22989123447202106,
          "x1": -0.25546218116342206,
          "xref": "x",
          "y0": -2.2779803268720156,
          "y1": -2.2639946460276863,
          "yref": "y"
         },
         {
          "line": {
           "color": "grey",
           "dash": "dot",
           "width": 1
          },
          "type": "line",
          "x0": -0.12265894022923911,
          "x1": 0.7170948190156187,
          "xref": "x",
          "y0": -5.987954894422695,
          "y1": -5.887127681277981,
          "yref": "y"
         },
         {
          "line": {
           "color": "grey",
           "dash": "dot",
           "width": 1
          },
          "type": "line",
          "x0": -0.29526786496042134,
          "x1": -1.2857181417039978,
          "xref": "x",
          "y0": -6.207980025852088,
          "y1": -5.940264645957805,
          "yref": "y"
         },
         {
          "line": {
           "color": "grey",
           "dash": "dot",
           "width": 1
          },
          "type": "line",
          "x0": -0.4628024545209806,
          "x1": 0.34117659900445774,
          "xref": "x",
          "y0": -4.611799613684888,
          "y1": -4.431482105901976,
          "yref": "y"
         },
         {
          "line": {
           "color": "grey",
           "dash": "dot",
           "width": 1
          },
          "type": "line",
          "x0": -0.0030524172543846457,
          "x1": 1.3364809082519997,
          "xref": "x",
          "y0": -6.015124142545031,
          "y1": -5.8503220568481655,
          "yref": "y"
         },
         {
          "line": {
           "color": "grey",
           "dash": "dot",
           "width": 1
          },
          "type": "line",
          "x0": -1.1143909736946838,
          "x1": -1.720085613203235,
          "xref": "x",
          "y0": -4.574961750070518,
          "y1": -3.326746248093304,
          "yref": "y"
         },
         {
          "line": {
           "color": "grey",
           "dash": "dot",
           "width": 1
          },
          "type": "line",
          "x0": -0.9421895821190641,
          "x1": -0.6545905854068291,
          "xref": "x",
          "y0": -4.732487570908206,
          "y1": -4.297976974157425,
          "yref": "y"
         },
         {
          "line": {
           "color": "grey",
           "dash": "dot",
           "width": 1
          },
          "type": "line",
          "x0": -2.494425168708397,
          "x1": -2.094933207132126,
          "xref": "x",
          "y0": -5.469427226397552,
          "y1": -5.226844202379884,
          "yref": "y"
         },
         {
          "line": {
           "color": "grey",
           "dash": "dot",
           "width": 1
          },
          "type": "line",
          "x0": -1.3686537351314112,
          "x1": -1.4788814528807162,
          "xref": "x",
          "y0": -3.283539676068756,
          "y1": -3.137551086794981,
          "yref": "y"
         },
         {
          "line": {
           "color": "grey",
           "dash": "dot",
           "width": 1
          },
          "type": "line",
          "x0": -0.5738751496763375,
          "x1": 0.07618137338327387,
          "xref": "x",
          "y0": -3.1311593710798835,
          "y1": -2.896608150799119,
          "yref": "y"
         },
         {
          "line": {
           "color": "grey",
           "dash": "dot",
           "width": 1
          },
          "type": "line",
          "x0": -0.3602586863588421,
          "x1": -0.6252657637288523,
          "xref": "x",
          "y0": -3.2144151290784246,
          "y1": -3.1033659607236554,
          "yref": "y"
         },
         {
          "line": {
           "color": "grey",
           "dash": "dot",
           "width": 1
          },
          "type": "line",
          "x0": -0.33016679908830987,
          "x1": 0.22644339811059985,
          "xref": "x",
          "y0": -4.803195125192153,
          "y1": -4.687873509497297,
          "yref": "y"
         },
         {
          "line": {
           "color": "grey",
           "dash": "dot",
           "width": 1
          },
          "type": "line",
          "x0": 0.35900333624671965,
          "x1": 0.6692966206408004,
          "xref": "x",
          "y0": -0.4826861925779281,
          "y1": -0.8840851928814774,
          "yref": "y"
         },
         {
          "line": {
           "color": "grey",
           "dash": "dot",
           "width": 1
          },
          "type": "line",
          "x0": -3.2370946442718345,
          "x1": -3.6399919693471796,
          "xref": "x",
          "y0": -5.580931256427202,
          "y1": -5.0727597836092215,
          "yref": "y"
         },
         {
          "line": {
           "color": "grey",
           "dash": "dot",
           "width": 1
          },
          "type": "line",
          "x0": 0.2630304739688972,
          "x1": 0.14740974375625476,
          "xref": "x",
          "y0": -0.9055295721420187,
          "y1": -0.912527979581196,
          "yref": "y"
         },
         {
          "line": {
           "color": "grey",
           "dash": "dot",
           "width": 1
          },
          "type": "line",
          "x0": -0.010749279416039051,
          "x1": -0.11965896325915994,
          "xref": "x",
          "y0": -1.3718521051664327,
          "y1": -1.724857757110195,
          "yref": "y"
         },
         {
          "line": {
           "color": "grey",
           "dash": "dot",
           "width": 1
          },
          "type": "line",
          "x0": -1.3251270119304928,
          "x1": -1.1945506450155559,
          "xref": "x",
          "y0": -2.432016280201845,
          "y1": -2.4447119593532065,
          "yref": "y"
         },
         {
          "line": {
           "color": "grey",
           "dash": "dot",
           "width": 1
          },
          "type": "line",
          "x0": -2.408934633348917,
          "x1": -3.318483865018939,
          "xref": "x",
          "y0": -5.592311583677667,
          "y1": -5.021150177435948,
          "yref": "y"
         },
         {
          "line": {
           "color": "grey",
           "dash": "dot",
           "width": 1
          },
          "type": "line",
          "x0": -0.2224904645941831,
          "x1": 0.03602790566187535,
          "xref": "x",
          "y0": -2.4844051889353613,
          "y1": -2.1306689455981433,
          "yref": "y"
         },
         {
          "line": {
           "color": "grey",
           "dash": "dot",
           "width": 1
          },
          "type": "line",
          "x0": 1.108492504872508,
          "x1": 1.3253280779396768,
          "xref": "x",
          "y0": -3.06451083094738,
          "y1": -2.700686093614193,
          "yref": "y"
         },
         {
          "line": {
           "color": "grey",
           "dash": "dot",
           "width": 1
          },
          "type": "line",
          "x0": 1.6653700471832218,
          "x1": 2.0620874098401862,
          "xref": "x",
          "y0": -5.184922955923347,
          "y1": -4.8998145765150305,
          "yref": "y"
         },
         {
          "line": {
           "color": "grey",
           "dash": "dot",
           "width": 1
          },
          "type": "line",
          "x0": -2.2692917527904357,
          "x1": -1.8758061235425816,
          "xref": "x",
          "y0": -3.7922464223633106,
          "y1": -3.7463059880615983,
          "yref": "y"
         },
         {
          "line": {
           "color": "grey",
           "dash": "dot",
           "width": 1
          },
          "type": "line",
          "x0": 0.4846594941832578,
          "x1": -0.06567962417860154,
          "xref": "x",
          "y0": -4.3955414072973555,
          "y1": -4.050839612202398,
          "yref": "y"
         },
         {
          "line": {
           "color": "grey",
           "dash": "dot",
           "width": 1
          },
          "type": "line",
          "x0": -1.0644245764781992,
          "x1": -0.8097670637449986,
          "xref": "x",
          "y0": -4.446737936984537,
          "y1": -4.010036430008508,
          "yref": "y"
         },
         {
          "line": {
           "color": "grey",
           "dash": "dot",
           "width": 1
          },
          "type": "line",
          "x0": 0.22313947238223325,
          "x1": 0.0738693117690149,
          "xref": "x",
          "y0": -2.324139255511428,
          "y1": -2.213016521300109,
          "yref": "y"
         },
         {
          "line": {
           "color": "grey",
           "dash": "dot",
           "width": 1
          },
          "type": "line",
          "x0": 0.05353842992369966,
          "x1": 0.025730501616562814,
          "xref": "x",
          "y0": -2.7516057634897897,
          "y1": -2.586552859243982,
          "yref": "y"
         },
         {
          "line": {
           "color": "grey",
           "dash": "dot",
           "width": 1
          },
          "type": "line",
          "x0": -0.1670502518308575,
          "x1": -0.3286880343417977,
          "xref": "x",
          "y0": -5.0005652132094465,
          "y1": -4.607351421444435,
          "yref": "y"
         },
         {
          "line": {
           "color": "grey",
           "dash": "dot",
           "width": 1
          },
          "type": "line",
          "x0": 1.3433799966462585,
          "x1": 1.650847287095881,
          "xref": "x",
          "y0": -4.73697219462965,
          "y1": -4.492858473620703,
          "yref": "y"
         },
         {
          "line": {
           "color": "grey",
           "dash": "dot",
           "width": 1
          },
          "type": "line",
          "x0": 1.2037435017197402,
          "x1": 1.2594313166237963,
          "xref": "x",
          "y0": -5.1938076850884345,
          "y1": -5.073015402091889,
          "yref": "y"
         },
         {
          "line": {
           "color": "grey",
           "dash": "dot",
           "width": 1
          },
          "type": "line",
          "x0": 0.18365102442974282,
          "x1": 0.027480016150159988,
          "xref": "x",
          "y0": -1.5086975065437516,
          "y1": -1.5634448349679668,
          "yref": "y"
         },
         {
          "line": {
           "color": "grey",
           "dash": "dot",
           "width": 1
          },
          "type": "line",
          "x0": -0.5253748606656754,
          "x1": -0.7387456753236441,
          "xref": "x",
          "y0": -2.286224003746143,
          "y1": -2.1508168636112375,
          "yref": "y"
         },
         {
          "line": {
           "color": "grey",
           "dash": "dot",
           "width": 1
          },
          "type": "line",
          "x0": -2.528377967299379,
          "x1": -2.294588779374407,
          "xref": "x",
          "y0": -5.665731136042691,
          "y1": -5.432647537716127,
          "yref": "y"
         },
         {
          "line": {
           "color": "grey",
           "dash": "dot",
           "width": 1
          },
          "type": "line",
          "x0": -0.012308885208018617,
          "x1": -0.02667350002843403,
          "xref": "x",
          "y0": -2.5715240919073903,
          "y1": -2.3523941915344997,
          "yref": "y"
         },
         {
          "line": {
           "color": "grey",
           "dash": "dot",
           "width": 1
          },
          "type": "line",
          "x0": -0.5194432678406667,
          "x1": -0.44494830411965663,
          "xref": "x",
          "y0": -5.294270840759193,
          "y1": -5.0995935167293585,
          "yref": "y"
         },
         {
          "line": {
           "color": "grey",
           "dash": "dot",
           "width": 1
          },
          "type": "line",
          "x0": -1.2949003053577928,
          "x1": -1.2456923380291554,
          "xref": "x",
          "y0": -5.104836946889578,
          "y1": -4.976146323054517,
          "yref": "y"
         },
         {
          "line": {
           "color": "grey",
           "dash": "dot",
           "width": 1
          },
          "type": "line",
          "x0": 3.112570156812654,
          "x1": 3.3091370260289685,
          "xref": "x",
          "y0": -6.201129436953239,
          "y1": -5.88313187829596,
          "yref": "y"
         },
         {
          "line": {
           "color": "grey",
           "dash": "dot",
           "width": 1
          },
          "type": "line",
          "x0": -0.16529274329774415,
          "x1": 0.14212687238097219,
          "xref": "x",
          "y0": -1.7640861294334214,
          "y1": -1.7708078122890414,
          "yref": "y"
         },
         {
          "line": {
           "color": "grey",
           "dash": "dot",
           "width": 1
          },
          "type": "line",
          "x0": -4.081889856468741,
          "x1": -4.548250533030807,
          "xref": "x",
          "y0": -5.525277219401777,
          "y1": -5.932464132362617,
          "yref": "y"
         },
         {
          "line": {
           "color": "grey",
           "dash": "dot",
           "width": 1
          },
          "type": "line",
          "x0": 0.5192850662554145,
          "x1": 0.8836752971337648,
          "xref": "x",
          "y0": -6.037710591716963,
          "y1": -6.089629713772752,
          "yref": "y"
         },
         {
          "line": {
           "color": "grey",
           "dash": "dot",
           "width": 1
          },
          "type": "line",
          "x0": -1.230325197938268,
          "x1": -1.0438101182212005,
          "xref": "x",
          "y0": -5.56390769967872,
          "y1": -5.572936252527174,
          "yref": "y"
         },
         {
          "line": {
           "color": "grey",
           "dash": "dot",
           "width": 1
          },
          "type": "line",
          "x0": -0.12424761384550086,
          "x1": -0.08617655866489826,
          "xref": "x",
          "y0": -1.092744759380183,
          "y1": -1.0416143559717483,
          "yref": "y"
         },
         {
          "line": {
           "color": "grey",
           "dash": "dot",
           "width": 1
          },
          "type": "line",
          "x0": 0.696117551131128,
          "x1": 0.8170636939244387,
          "xref": "x",
          "y0": -5.3526119331375535,
          "y1": -4.943921247295076,
          "yref": "y"
         },
         {
          "line": {
           "color": "grey",
           "dash": "dot",
           "width": 1
          },
          "type": "line",
          "x0": 0.3373156119905225,
          "x1": 0.39358503343728185,
          "xref": "x",
          "y0": -4.886211005323831,
          "y1": -4.6388427927099976,
          "yref": "y"
         },
         {
          "line": {
           "color": "grey",
           "dash": "dot",
           "width": 1
          },
          "type": "line",
          "x0": -0.13311353090408407,
          "x1": -0.48702290996656844,
          "xref": "x",
          "y0": -2.0949472504793434,
          "y1": -2.2243099903712866,
          "yref": "y"
         },
         {
          "line": {
           "color": "grey",
           "dash": "dot",
           "width": 1
          },
          "type": "line",
          "x0": -0.19260642994285243,
          "x1": 0.6256595399815971,
          "xref": "x",
          "y0": -5.876473830786174,
          "y1": -5.937528275692381,
          "yref": "y"
         },
         {
          "line": {
           "color": "grey",
           "dash": "dot",
           "width": 1
          },
          "type": "line",
          "x0": -0.036013601527973775,
          "x1": -0.28795750905716294,
          "xref": "x",
          "y0": -0.44686072018372414,
          "y1": -1.0725864696721945,
          "yref": "y"
         },
         {
          "line": {
           "color": "grey",
           "dash": "dot",
           "width": 1
          },
          "type": "line",
          "x0": 1.7631245162795643,
          "x1": 2.250653255821625,
          "xref": "x",
          "y0": -4.797287116016162,
          "y1": -4.666878702563219,
          "yref": "y"
         },
         {
          "line": {
           "color": "grey",
           "dash": "dot",
           "width": 1
          },
          "type": "line",
          "x0": -1.2053634698371443,
          "x1": -1.2843523283430593,
          "xref": "x",
          "y0": -3.1097388525429825,
          "y1": -2.792996444851313,
          "yref": "y"
         },
         {
          "line": {
           "color": "grey",
           "dash": "dot",
           "width": 1
          },
          "type": "line",
          "x0": 0.6443321522781589,
          "x1": 1.1207984100431865,
          "xref": "x",
          "y0": -3.712760653494235,
          "y1": -3.090921407834069,
          "yref": "y"
         },
         {
          "line": {
           "color": "grey",
           "dash": "dot",
           "width": 1
          },
          "type": "line",
          "x0": 1.1770412652375035,
          "x1": 1.6230039528120803,
          "xref": "x",
          "y0": -3.9430662209205884,
          "y1": -3.532386113177649,
          "yref": "y"
         },
         {
          "line": {
           "color": "grey",
           "dash": "dot",
           "width": 1
          },
          "type": "line",
          "x0": -2.896362065068729,
          "x1": -2.8323007549359542,
          "xref": "x",
          "y0": -4.472619754550262,
          "y1": -4.406382033666268,
          "yref": "y"
         },
         {
          "line": {
           "color": "grey",
           "dash": "dot",
           "width": 1
          },
          "type": "line",
          "x0": -1.352997735649258,
          "x1": -1.2597001518299638,
          "xref": "x",
          "y0": -5.417400092325916,
          "y1": -4.991497851551584,
          "yref": "y"
         },
         {
          "line": {
           "color": "grey",
           "dash": "dot",
           "width": 1
          },
          "type": "line",
          "x0": -0.5013291545663245,
          "x1": -0.5301125636035624,
          "xref": "x",
          "y0": -3.888659626631493,
          "y1": -3.5702923455578204,
          "yref": "y"
         },
         {
          "line": {
           "color": "grey",
           "dash": "dot",
           "width": 1
          },
          "type": "line",
          "x0": -1.032777244848888,
          "x1": -0.9724642529035016,
          "xref": "x",
          "y0": -3.753729375613135,
          "y1": -3.5643905081753244,
          "yref": "y"
         },
         {
          "line": {
           "color": "grey",
           "dash": "dot",
           "width": 1
          },
          "type": "line",
          "x0": -2.6719145748868542,
          "x1": -2.9274721939294333,
          "xref": "x",
          "y0": -5.035647775762008,
          "y1": -4.589601921518101,
          "yref": "y"
         },
         {
          "line": {
           "color": "grey",
           "dash": "dot",
           "width": 1
          },
          "type": "line",
          "x0": 0.25191666097486054,
          "x1": 0.28553705771232646,
          "xref": "x",
          "y0": -1.3269892065622864,
          "y1": -1.5577564552090277,
          "yref": "y"
         },
         {
          "line": {
           "color": "grey",
           "dash": "dot",
           "width": 1
          },
          "type": "line",
          "x0": -2.47298466897649,
          "x1": -3.0947760310777848,
          "xref": "x",
          "y0": -5.306868255259215,
          "y1": -4.831730352219439,
          "yref": "y"
         },
         {
          "line": {
           "color": "grey",
           "dash": "dot",
           "width": 1
          },
          "type": "line",
          "x0": -0.3091823072022874,
          "x1": -0.7046626818540637,
          "xref": "x",
          "y0": -4.976124681212267,
          "y1": -4.804105159447032,
          "yref": "y"
         },
         {
          "line": {
           "color": "grey",
           "dash": "dot",
           "width": 1
          },
          "type": "line",
          "x0": -2.324196606117152,
          "x1": -1.8945356462128031,
          "xref": "x",
          "y0": -4.328500153378277,
          "y1": -3.6462991838735475,
          "yref": "y"
         },
         {
          "line": {
           "color": "grey",
           "dash": "dot",
           "width": 1
          },
          "type": "line",
          "x0": 0.9793585510499738,
          "x1": 1.2624180192576968,
          "xref": "x",
          "y0": -5.18954167503313,
          "y1": -5.052463343061147,
          "yref": "y"
         },
         {
          "line": {
           "color": "grey",
           "dash": "dot",
           "width": 1
          },
          "type": "line",
          "x0": -0.21634985100489673,
          "x1": -0.2466037563488631,
          "xref": "x",
          "y0": -0.9760186377663363,
          "y1": -0.9252254149215414,
          "yref": "y"
         },
         {
          "line": {
           "color": "grey",
           "dash": "dot",
           "width": 1
          },
          "type": "line",
          "x0": -3.274558299282272,
          "x1": -3.8363677568479146,
          "xref": "x",
          "y0": -5.936978119462664,
          "y1": -5.5908581268956,
          "yref": "y"
         },
         {
          "line": {
           "color": "grey",
           "dash": "dot",
           "width": 1
          },
          "type": "line",
          "x0": -0.5708235016735524,
          "x1": -0.839349382281289,
          "xref": "x",
          "y0": -2.5617630650713283,
          "y1": -2.0829908671451265,
          "yref": "y"
         },
         {
          "line": {
           "color": "grey",
           "dash": "dot",
           "width": 1
          },
          "type": "line",
          "x0": 0.43349563160909343,
          "x1": 0.5517795277185489,
          "xref": "x",
          "y0": -2.226798439974631,
          "y1": -2.1333258567000284,
          "yref": "y"
         },
         {
          "line": {
           "color": "grey",
           "dash": "dot",
           "width": 1
          },
          "type": "line",
          "x0": -0.571853151108375,
          "x1": -0.5636971649557571,
          "xref": "x",
          "y0": -3.6508659795580325,
          "y1": -3.456703586364695,
          "yref": "y"
         },
         {
          "line": {
           "color": "grey",
           "dash": "dot",
           "width": 1
          },
          "type": "line",
          "x0": 0.3587279622184036,
          "x1": 0.5295617416792211,
          "xref": "x",
          "y0": -1.6689843903724544,
          "y1": -1.7286514033722558,
          "yref": "y"
         },
         {
          "line": {
           "color": "grey",
           "dash": "dot",
           "width": 1
          },
          "type": "line",
          "x0": 1.529630302768509,
          "x1": 2.18298928624119,
          "xref": "x",
          "y0": -4.624646429276018,
          "y1": -3.839346276893731,
          "yref": "y"
         },
         {
          "line": {
           "color": "grey",
           "dash": "dot",
           "width": 1
          },
          "type": "line",
          "x0": -0.41276528691433834,
          "x1": -0.40877873515706814,
          "xref": "x",
          "y0": -0.9672509210737301,
          "y1": -1.1917982525189006,
          "yref": "y"
         },
         {
          "line": {
           "color": "grey",
           "dash": "dot",
           "width": 1
          },
          "type": "line",
          "x0": -3.624292517893809,
          "x1": -3.4179461953402455,
          "xref": "x",
          "y0": -5.959529874062336,
          "y1": -6.050994121321975,
          "yref": "y"
         },
         {
          "line": {
           "color": "grey",
           "dash": "dot",
           "width": 1
          },
          "type": "line",
          "x0": -2.3828863834772975,
          "x1": -2.7081480189722686,
          "xref": "x",
          "y0": -4.532061506132835,
          "y1": -4.39380258653537,
          "yref": "y"
         },
         {
          "line": {
           "color": "grey",
           "dash": "dot",
           "width": 1
          },
          "type": "line",
          "x0": -0.6855390390031194,
          "x1": -0.7974895328262482,
          "xref": "x",
          "y0": -2.724423934876914,
          "y1": -2.6082521009996116,
          "yref": "y"
         },
         {
          "line": {
           "color": "grey",
           "dash": "dot",
           "width": 1
          },
          "type": "line",
          "x0": -0.5245327351976405,
          "x1": -0.5965764001986351,
          "xref": "x",
          "y0": -2.620495011040691,
          "y1": -2.535208883771211,
          "yref": "y"
         },
         {
          "line": {
           "color": "grey",
           "dash": "dot",
           "width": 1
          },
          "type": "line",
          "x0": -0.4451949141131461,
          "x1": -0.45890414881432834,
          "xref": "x",
          "y0": -2.2746804216921204,
          "y1": -2.3028725806483763,
          "yref": "y"
         },
         {
          "line": {
           "color": "grey",
           "dash": "dot",
           "width": 1
          },
          "type": "line",
          "x0": -0.9757599026864278,
          "x1": -0.3853420263588895,
          "xref": "x",
          "y0": -1.911098498277411,
          "y1": -1.4285537118285776,
          "yref": "y"
         },
         {
          "line": {
           "color": "grey",
           "dash": "dot",
           "width": 1
          },
          "type": "line",
          "x0": 1.79335767169546,
          "x1": 2.849908063568957,
          "xref": "x",
          "y0": -5.412376439418594,
          "y1": -5.049415411482725,
          "yref": "y"
         },
         {
          "line": {
           "color": "grey",
           "dash": "dot",
           "width": 1
          },
          "type": "line",
          "x0": 0.4920554761633703,
          "x1": 0.6039030907802672,
          "xref": "x",
          "y0": -0.6403337181235202,
          "y1": -0.9125169561549825,
          "yref": "y"
         },
         {
          "line": {
           "color": "grey",
           "dash": "dot",
           "width": 1
          },
          "type": "line",
          "x0": -0.4114591257806073,
          "x1": 0.01787350764367306,
          "xref": "x",
          "y0": -2.788031287967805,
          "y1": -2.762888860254114,
          "yref": "y"
         },
         {
          "line": {
           "color": "grey",
           "dash": "dot",
           "width": 1
          },
          "type": "line",
          "x0": -2.831573849664427,
          "x1": -3.8433614711296586,
          "xref": "x",
          "y0": -6.240923701775089,
          "y1": -6.21604450562421,
          "yref": "y"
         },
         {
          "line": {
           "color": "grey",
           "dash": "dot",
           "width": 1
          },
          "type": "line",
          "x0": -0.5338775027763384,
          "x1": -0.47124107270562565,
          "xref": "x",
          "y0": -0.9331551352652351,
          "y1": -0.953441456152663,
          "yref": "y"
         },
         {
          "line": {
           "color": "grey",
           "dash": "dot",
           "width": 1
          },
          "type": "line",
          "x0": -0.4235666485826993,
          "x1": -0.5786939922870891,
          "xref": "x",
          "y0": -3.559915026142814,
          "y1": -3.5134904205750197,
          "yref": "y"
         },
         {
          "line": {
           "color": "grey",
           "dash": "dot",
           "width": 1
          },
          "type": "line",
          "x0": -0.8695891164396862,
          "x1": -1.02533381727462,
          "xref": "x",
          "y0": -2.5849527433717374,
          "y1": -2.367681703097181,
          "yref": "y"
         },
         {
          "line": {
           "color": "grey",
           "dash": "dot",
           "width": 1
          },
          "type": "line",
          "x0": -0.2065237343335903,
          "x1": -0.27174352326228207,
          "xref": "x",
          "y0": -2.9852285097712286,
          "y1": -2.9505929851821024,
          "yref": "y"
         },
         {
          "line": {
           "color": "grey",
           "dash": "dot",
           "width": 1
          },
          "type": "line",
          "x0": -0.18178903768527338,
          "x1": -1.1991062188362727,
          "xref": "x",
          "y0": -5.982291431012515,
          "y1": -5.651305103479837,
          "yref": "y"
         },
         {
          "line": {
           "color": "grey",
           "dash": "dot",
           "width": 1
          },
          "type": "line",
          "x0": -0.48581325582349877,
          "x1": -1.1434251389637238,
          "xref": "x",
          "y0": -5.916356290953004,
          "y1": -6.171226880869497,
          "yref": "y"
         },
         {
          "line": {
           "color": "grey",
           "dash": "dot",
           "width": 1
          },
          "type": "line",
          "x0": -2.8736359626307526,
          "x1": -3.2860066944611797,
          "xref": "x",
          "y0": -5.132485150597583,
          "y1": -4.714052645406274,
          "yref": "y"
         },
         {
          "line": {
           "color": "grey",
           "dash": "dot",
           "width": 1
          },
          "type": "line",
          "x0": 2.0309405034731327,
          "x1": 2.426266051486594,
          "xref": "x",
          "y0": -5.024499229690821,
          "y1": -4.644318407803806,
          "yref": "y"
         },
         {
          "line": {
           "color": "grey",
           "dash": "dot",
           "width": 1
          },
          "type": "line",
          "x0": -1.874177451988565,
          "x1": -1.4209884879246075,
          "xref": "x",
          "y0": -4.267741098598844,
          "y1": -3.9984835022694,
          "yref": "y"
         },
         {
          "line": {
           "color": "grey",
           "dash": "dot",
           "width": 1
          },
          "type": "line",
          "x0": -1.4711068850267262,
          "x1": -0.9145795027813965,
          "xref": "x",
          "y0": -5.846283220706527,
          "y1": -5.410792952920252,
          "yref": "y"
         },
         {
          "line": {
           "color": "grey",
           "dash": "dot",
           "width": 1
          },
          "type": "line",
          "x0": -1.517957124854914,
          "x1": -1.257957100211273,
          "xref": "x",
          "y0": -4.271493188395222,
          "y1": -4.088929554630283,
          "yref": "y"
         },
         {
          "line": {
           "color": "grey",
           "dash": "dot",
           "width": 1
          },
          "type": "line",
          "x0": 0.41895291846493243,
          "x1": 0.2397839427276115,
          "xref": "x",
          "y0": -4.528601515796156,
          "y1": -4.435318953292722,
          "yref": "y"
         },
         {
          "line": {
           "color": "grey",
           "dash": "dot",
           "width": 1
          },
          "type": "line",
          "x0": -1.5889608245260904,
          "x1": -1.7119885889909765,
          "xref": "x",
          "y0": -3.555114339792466,
          "y1": -3.1720890735499223,
          "yref": "y"
         },
         {
          "line": {
           "color": "grey",
           "dash": "dot",
           "width": 1
          },
          "type": "line",
          "x0": 2.599335912808736,
          "x1": 4.47916806494881,
          "xref": "x",
          "y0": -6.595347792964468,
          "y1": -6.4308343248921584,
          "yref": "y"
         },
         {
          "line": {
           "color": "grey",
           "dash": "dot",
           "width": 1
          },
          "type": "line",
          "x0": 1.3117229188430148,
          "x1": 1.4026159541471503,
          "xref": "x",
          "y0": -4.3183381645379955,
          "y1": -3.8210498431760085,
          "yref": "y"
         },
         {
          "line": {
           "color": "grey",
           "dash": "dot",
           "width": 1
          },
          "type": "line",
          "x0": 1.5564412526212388,
          "x1": 2.6505779715060673,
          "xref": "x",
          "y0": -5.671199037231459,
          "y1": -5.1058548030472375,
          "yref": "y"
         },
         {
          "line": {
           "color": "grey",
           "dash": "dot",
           "width": 1
          },
          "type": "line",
          "x0": -1.1401199632687395,
          "x1": -1.2190232172017177,
          "xref": "x",
          "y0": -4.241203071411524,
          "y1": -3.8479096763515614,
          "yref": "y"
         },
         {
          "line": {
           "color": "grey",
           "dash": "dot",
           "width": 1
          },
          "type": "line",
          "x0": -2.6500950012191455,
          "x1": -3.9878970872050625,
          "xref": "x",
          "y0": -5.3803089610676444,
          "y1": -5.044561886823058,
          "yref": "y"
         },
         {
          "line": {
           "color": "grey",
           "dash": "dot",
           "width": 1
          },
          "type": "line",
          "x0": -3.2584046956152517,
          "x1": -2.5876419981566947,
          "xref": "x",
          "y0": -5.783867679529783,
          "y1": -6.169972703836444,
          "yref": "y"
         },
         {
          "line": {
           "color": "grey",
           "dash": "dot",
           "width": 1
          },
          "type": "line",
          "x0": 0.24539408640992597,
          "x1": 0.1786799428697863,
          "xref": "x",
          "y0": -1.8113947806444621,
          "y1": -1.4399401924209219,
          "yref": "y"
         },
         {
          "line": {
           "color": "grey",
           "dash": "dot",
           "width": 1
          },
          "type": "line",
          "x0": -0.3267647144969337,
          "x1": -0.43436143205622035,
          "xref": "x",
          "y0": -3.8695462517027575,
          "y1": -3.5091444405419323,
          "yref": "y"
         },
         {
          "line": {
           "color": "grey",
           "dash": "dot",
           "width": 1
          },
          "type": "line",
          "x0": -2.0948341131763555,
          "x1": -2.5574799161118875,
          "xref": "x",
          "y0": -5.196043984242292,
          "y1": -4.75976110917977,
          "yref": "y"
         },
         {
          "line": {
           "color": "grey",
           "dash": "dot",
           "width": 1
          },
          "type": "line",
          "x0": 0.025294868367888898,
          "x1": 0.04802920991763107,
          "xref": "x",
          "y0": -1.0236249984593604,
          "y1": -1.0271953328472616,
          "yref": "y"
         },
         {
          "line": {
           "color": "grey",
           "dash": "dot",
           "width": 1
          },
          "type": "line",
          "x0": -0.13664801260656295,
          "x1": 0.054589454446776105,
          "xref": "x",
          "y0": -1.3913045224258742,
          "y1": -1.6341261844420263,
          "yref": "y"
         },
         {
          "line": {
           "color": "grey",
           "dash": "dot",
           "width": 1
          },
          "type": "line",
          "x0": 0.625871958621663,
          "x1": 0.5584168992608197,
          "xref": "x",
          "y0": -1.5668565235351748,
          "y1": -1.6918484902734428,
          "yref": "y"
         },
         {
          "line": {
           "color": "grey",
           "dash": "dot",
           "width": 1
          },
          "type": "line",
          "x0": 2.189365863192863,
          "x1": 2.357600238604566,
          "xref": "x",
          "y0": -5.505884310768725,
          "y1": -5.354440269005722,
          "yref": "y"
         },
         {
          "line": {
           "color": "grey",
           "dash": "dot",
           "width": 1
          },
          "type": "line",
          "x0": 1.0655509855552574,
          "x1": 1.2943227253160074,
          "xref": "x",
          "y0": -2.851520313340836,
          "y1": -2.5358335442253295,
          "yref": "y"
         },
         {
          "line": {
           "color": "grey",
           "dash": "dot",
           "width": 1
          },
          "type": "line",
          "x0": -1.6029806316372774,
          "x1": -2.233556430745453,
          "xref": "x",
          "y0": -4.4915669130763,
          "y1": -4.042260518791725,
          "yref": "y"
         },
         {
          "line": {
           "color": "grey",
           "dash": "dot",
           "width": 1
          },
          "type": "line",
          "x0": 0.24471345992182336,
          "x1": 0.125370762029011,
          "xref": "x",
          "y0": -0.848406980143075,
          "y1": -1.0231358000758173,
          "yref": "y"
         },
         {
          "line": {
           "color": "grey",
           "dash": "dot",
           "width": 1
          },
          "type": "line",
          "x0": -0.3512627844146724,
          "x1": 0.38077235455761105,
          "xref": "x",
          "y0": -5.927028432253263,
          "y1": -6.19603379192589,
          "yref": "y"
         },
         {
          "line": {
           "color": "grey",
           "dash": "dot",
           "width": 1
          },
          "type": "line",
          "x0": -0.7120871041453264,
          "x1": -0.9087649306891966,
          "xref": "x",
          "y0": -3.173074528683215,
          "y1": -2.8521267142352147,
          "yref": "y"
         },
         {
          "line": {
           "color": "grey",
           "dash": "dot",
           "width": 1
          },
          "type": "line",
          "x0": -0.8045975952088763,
          "x1": -0.7401050474548143,
          "xref": "x",
          "y0": -3.9462641700608003,
          "y1": -3.7230802088419064,
          "yref": "y"
         },
         {
          "line": {
           "color": "grey",
           "dash": "dot",
           "width": 1
          },
          "type": "line",
          "x0": -1.4657500000599208,
          "x1": -1.9083861979019832,
          "xref": "x",
          "y0": -3.7342539701147746,
          "y1": -3.4528873648484635,
          "yref": "y"
         },
         {
          "line": {
           "color": "grey",
           "dash": "dot",
           "width": 1
          },
          "type": "line",
          "x0": -0.6709368935213398,
          "x1": -0.4370309051936108,
          "xref": "x",
          "y0": -2.5402955568638137,
          "y1": -2.3085281218865963,
          "yref": "y"
         },
         {
          "line": {
           "color": "grey",
           "dash": "dot",
           "width": 1
          },
          "type": "line",
          "x0": -0.03604794918009845,
          "x1": 0.009834884492097998,
          "xref": "x",
          "y0": -1.3498601211575123,
          "y1": -1.3836758871245582,
          "yref": "y"
         },
         {
          "line": {
           "color": "grey",
           "dash": "dot",
           "width": 1
          },
          "type": "line",
          "x0": 0.5625622499618069,
          "x1": 0.5135734004337579,
          "xref": "x",
          "y0": -3.172244637285402,
          "y1": -2.8229636377534675,
          "yref": "y"
         },
         {
          "line": {
           "color": "grey",
           "dash": "dot",
           "width": 1
          },
          "type": "line",
          "x0": -1.0502509931299226,
          "x1": -1.5439164286693308,
          "xref": "x",
          "y0": -3.5145678916246608,
          "y1": -2.985197121265853,
          "yref": "y"
         },
         {
          "line": {
           "color": "grey",
           "dash": "dot",
           "width": 1
          },
          "type": "line",
          "x0": -1.1113410057519215,
          "x1": -1.20296462505352,
          "xref": "x",
          "y0": -2.921143929905423,
          "y1": -2.48531244020195,
          "yref": "y"
         },
         {
          "line": {
           "color": "grey",
           "dash": "dot",
           "width": 1
          },
          "type": "line",
          "x0": -2.286359693967341,
          "x1": -2.775570200510062,
          "xref": "x",
          "y0": -5.930445154584015,
          "y1": -5.472851845680551,
          "yref": "y"
         },
         {
          "line": {
           "color": "grey",
           "dash": "dot",
           "width": 1
          },
          "type": "line",
          "x0": 0.5659921382885774,
          "x1": 0.5774028359207777,
          "xref": "x",
          "y0": -3.2880508858092967,
          "y1": -2.956461283421654,
          "yref": "y"
         },
         {
          "line": {
           "color": "grey",
           "dash": "dot",
           "width": 1
          },
          "type": "line",
          "x0": 0.05754176983530723,
          "x1": 0.0647980541248909,
          "xref": "x",
          "y0": -1.492175604810675,
          "y1": -1.537742960160935,
          "yref": "y"
         },
         {
          "line": {
           "color": "grey",
           "dash": "dot",
           "width": 1
          },
          "type": "line",
          "x0": -1.0605515573247037,
          "x1": -1.418872768336794,
          "xref": "x",
          "y0": -4.573750165347466,
          "y1": -4.210316694374083,
          "yref": "y"
         },
         {
          "line": {
           "color": "grey",
           "dash": "dot",
           "width": 1
          },
          "type": "line",
          "x0": 0.22107251667868658,
          "x1": 0.11930692545890637,
          "xref": "x",
          "y0": -1.4624380630669036,
          "y1": -1.602641189235715,
          "yref": "y"
         },
         {
          "line": {
           "color": "grey",
           "dash": "dot",
           "width": 1
          },
          "type": "line",
          "x0": -1.1646453490464952,
          "x1": -1.358217980879844,
          "xref": "x",
          "y0": -2.773424945283154,
          "y1": -2.7556286907307177,
          "yref": "y"
         },
         {
          "line": {
           "color": "grey",
           "dash": "dot",
           "width": 1
          },
          "type": "line",
          "x0": -0.9822032051885954,
          "x1": -0.6649822608390898,
          "xref": "x",
          "y0": -5.80402656499146,
          "y1": -5.824971851005798,
          "yref": "y"
         },
         {
          "line": {
           "color": "grey",
           "dash": "dot",
           "width": 1
          },
          "type": "line",
          "x0": 0.004997817598215485,
          "x1": -0.17030761029529307,
          "xref": "x",
          "y0": -3.5924485578717693,
          "y1": -3.2759329513989703,
          "yref": "y"
         },
         {
          "line": {
           "color": "grey",
           "dash": "dot",
           "width": 1
          },
          "type": "line",
          "x0": 2.9155499487479553,
          "x1": 3.223285904551011,
          "xref": "x",
          "y0": -6.147537572875814,
          "y1": -5.498402048981475,
          "yref": "y"
         },
         {
          "line": {
           "color": "grey",
           "dash": "dot",
           "width": 1
          },
          "type": "line",
          "x0": -1.0591598902915733,
          "x1": -1.6248214731672264,
          "xref": "x",
          "y0": -3.4592973603567314,
          "y1": -3.218541947822595,
          "yref": "y"
         },
         {
          "line": {
           "color": "grey",
           "dash": "dot",
           "width": 1
          },
          "type": "line",
          "x0": 0.021971108028117928,
          "x1": 0.06308435522924086,
          "xref": "x",
          "y0": -1.5745269230888779,
          "y1": -1.3615110811921947,
          "yref": "y"
         },
         {
          "line": {
           "color": "grey",
           "dash": "dot",
           "width": 1
          },
          "type": "line",
          "x0": 1.6152986667480276,
          "x1": 2.759724275483457,
          "xref": "x",
          "y0": -4.777323188991513,
          "y1": -3.938477238144874,
          "yref": "y"
         },
         {
          "line": {
           "color": "grey",
           "dash": "dot",
           "width": 1
          },
          "type": "line",
          "x0": 0.5872507008499324,
          "x1": 0.8121586663208988,
          "xref": "x",
          "y0": -0.632750716263757,
          "y1": -0.7890706087065336,
          "yref": "y"
         },
         {
          "line": {
           "color": "grey",
           "dash": "dot",
           "width": 1
          },
          "type": "line",
          "x0": 1.6256782388643862,
          "x1": 2.015756012965926,
          "xref": "x",
          "y0": -6.3480725500027155,
          "y1": -6.1700801242693535,
          "yref": "y"
         },
         {
          "line": {
           "color": "grey",
           "dash": "dot",
           "width": 1
          },
          "type": "line",
          "x0": -0.6228475263490783,
          "x1": -0.6823065677247178,
          "xref": "x",
          "y0": -2.3840455937635356,
          "y1": -2.0655259871364375,
          "yref": "y"
         },
         {
          "line": {
           "color": "grey",
           "dash": "dot",
           "width": 1
          },
          "type": "line",
          "x0": -0.8975879421898907,
          "x1": -0.580948569570236,
          "xref": "x",
          "y0": -5.149795449526445,
          "y1": -5.233534575512452,
          "yref": "y"
         },
         {
          "line": {
           "color": "grey",
           "dash": "dot",
           "width": 1
          },
          "type": "line",
          "x0": 1.5363955605385151,
          "x1": 1.3075816943674363,
          "xref": "x",
          "y0": -5.340074083705411,
          "y1": -5.233515842525186,
          "yref": "y"
         },
         {
          "line": {
           "color": "grey",
           "dash": "dot",
           "width": 1
          },
          "type": "line",
          "x0": -0.7982534927734665,
          "x1": 0.01544354036583793,
          "xref": "x",
          "y0": -5.6796993026389115,
          "y1": -5.679033559766064,
          "yref": "y"
         },
         {
          "line": {
           "color": "grey",
           "dash": "dot",
           "width": 1
          },
          "type": "line",
          "x0": -0.9458576915649033,
          "x1": -1.1933856105307101,
          "xref": "x",
          "y0": -2.4243439986562354,
          "y1": -2.381981373367141,
          "yref": "y"
         },
         {
          "line": {
           "color": "grey",
           "dash": "dot",
           "width": 1
          },
          "type": "line",
          "x0": 0.069087124169333,
          "x1": -0.227281341868129,
          "xref": "x",
          "y0": -2.7226734724218873,
          "y1": -2.6234939029896416,
          "yref": "y"
         },
         {
          "line": {
           "color": "grey",
           "dash": "dot",
           "width": 1
          },
          "type": "line",
          "x0": 3.113978037872331,
          "x1": 5.194196219002173,
          "xref": "x",
          "y0": -6.313283976432269,
          "y1": -6.52076903359772,
          "yref": "y"
         },
         {
          "line": {
           "color": "grey",
           "dash": "dot",
           "width": 1
          },
          "type": "line",
          "x0": 0.9797856958916231,
          "x1": 1.4500029810336832,
          "xref": "x",
          "y0": -4.993744552024807,
          "y1": -4.993521895304869,
          "yref": "y"
         },
         {
          "line": {
           "color": "grey",
           "dash": "dot",
           "width": 1
          },
          "type": "line",
          "x0": 3.7379649021310097,
          "x1": 4.131826694048143,
          "xref": "x",
          "y0": -6.4019417440413,
          "y1": -6.135753525441817,
          "yref": "y"
         },
         {
          "line": {
           "color": "grey",
           "dash": "dot",
           "width": 1
          },
          "type": "line",
          "x0": -0.3769530405405801,
          "x1": -0.3928219284121292,
          "xref": "x",
          "y0": -2.9090562530704207,
          "y1": -2.3678736585781266,
          "yref": "y"
         },
         {
          "line": {
           "color": "grey",
           "dash": "dot",
           "width": 1
          },
          "type": "line",
          "x0": -0.2086265050465583,
          "x1": -0.4274373144784816,
          "xref": "x",
          "y0": -1.8987919262677537,
          "y1": -1.8881225817975515,
          "yref": "y"
         },
         {
          "line": {
           "color": "grey",
           "dash": "dot",
           "width": 1
          },
          "type": "line",
          "x0": 1.1195334440995288,
          "x1": 0.9786081171239256,
          "xref": "x",
          "y0": -6.242286532558084,
          "y1": -5.710839974866803,
          "yref": "y"
         },
         {
          "line": {
           "color": "grey",
           "dash": "dot",
           "width": 1
          },
          "type": "line",
          "x0": -3.7079819399322735,
          "x1": -3.1255897358750433,
          "xref": "x",
          "y0": -5.191589167632986,
          "y1": -5.1112512470482105,
          "yref": "y"
         },
         {
          "line": {
           "color": "grey",
           "dash": "dot",
           "width": 1
          },
          "type": "line",
          "x0": -0.8688894665433201,
          "x1": -0.17423551304996443,
          "xref": "x",
          "y0": -5.364393770380624,
          "y1": -5.324742897399205,
          "yref": "y"
         },
         {
          "line": {
           "color": "grey",
           "dash": "dot",
           "width": 1
          },
          "type": "line",
          "x0": -3.5532529125013754,
          "x1": -2.962901196004382,
          "xref": "x",
          "y0": -5.177079438518841,
          "y1": -5.033721248169005,
          "yref": "y"
         },
         {
          "line": {
           "color": "grey",
           "dash": "dot",
           "width": 1
          },
          "type": "line",
          "x0": -1.20702763484709,
          "x1": -1.4263023531730392,
          "xref": "x",
          "y0": -3.371441748522998,
          "y1": -2.9572133133028577,
          "yref": "y"
         },
         {
          "line": {
           "color": "grey",
           "dash": "dot",
           "width": 1
          },
          "type": "line",
          "x0": 0.564618427276725,
          "x1": 0.5157661132680078,
          "xref": "x",
          "y0": -3.561607092534763,
          "y1": -3.331497646104384,
          "yref": "y"
         },
         {
          "line": {
           "color": "grey",
           "dash": "dot",
           "width": 1
          },
          "type": "line",
          "x0": -0.3567437034574371,
          "x1": -0.19909740900498657,
          "xref": "x",
          "y0": -1.215817707788977,
          "y1": -1.1168691005901354,
          "yref": "y"
         },
         {
          "line": {
           "color": "grey",
           "dash": "dot",
           "width": 1
          },
          "type": "line",
          "x0": 0.46532878742680756,
          "x1": 0.6478352865787538,
          "xref": "x",
          "y0": -5.750450986461387,
          "y1": -5.392743326853317,
          "yref": "y"
         },
         {
          "line": {
           "color": "grey",
           "dash": "dot",
           "width": 1
          },
          "type": "line",
          "x0": -0.40402050047770277,
          "x1": 1.5753575034756702,
          "xref": "x",
          "y0": -6.915730036638091,
          "y1": -6.589725813668949,
          "yref": "y"
         },
         {
          "line": {
           "color": "grey",
           "dash": "dot",
           "width": 1
          },
          "type": "line",
          "x0": -2.3011962490945015,
          "x1": -2.1806289177817613,
          "xref": "x",
          "y0": -5.85207707900814,
          "y1": -5.665126630129862,
          "yref": "y"
         },
         {
          "line": {
           "color": "grey",
           "dash": "dot",
           "width": 1
          },
          "type": "line",
          "x0": -0.12542677031175112,
          "x1": -0.14217995869701472,
          "xref": "x",
          "y0": -0.5977052194529298,
          "y1": -1.032507075680528,
          "yref": "y"
         },
         {
          "line": {
           "color": "grey",
           "dash": "dot",
           "width": 1
          },
          "type": "line",
          "x0": -1.7466214801811997,
          "x1": -1.5525614772467726,
          "xref": "x",
          "y0": -3.5668469948094828,
          "y1": -3.2131895814140554,
          "yref": "y"
         },
         {
          "line": {
           "color": "grey",
           "dash": "dot",
           "width": 1
          },
          "type": "line",
          "x0": 3.1875366899499427,
          "x1": 4.016123286548721,
          "xref": "x",
          "y0": -6.8199470346837066,
          "y1": -6.517933372680577,
          "yref": "y"
         },
         {
          "line": {
           "color": "grey",
           "dash": "dot",
           "width": 1
          },
          "type": "line",
          "x0": 0.9756837042544332,
          "x1": 1.038518750525667,
          "xref": "x",
          "y0": -3.1519136984076996,
          "y1": -2.7355570052132543,
          "yref": "y"
         },
         {
          "line": {
           "color": "grey",
           "dash": "dot",
           "width": 1
          },
          "type": "line",
          "x0": -2.1438209823763326,
          "x1": -2.578414380726696,
          "xref": "x",
          "y0": -5.36773757025015,
          "y1": -5.103478751790943,
          "yref": "y"
         },
         {
          "line": {
           "color": "grey",
           "dash": "dot",
           "width": 1
          },
          "type": "line",
          "x0": 0.27412402867089264,
          "x1": 0.23003528381818772,
          "xref": "x",
          "y0": -1.0888416684815814,
          "y1": -1.261934983220301,
          "yref": "y"
         },
         {
          "line": {
           "color": "grey",
           "dash": "dot",
           "width": 1
          },
          "type": "line",
          "x0": 0.11833488082407653,
          "x1": 0.04268445373311852,
          "xref": "x",
          "y0": -1.349052663323837,
          "y1": -1.451775225081127,
          "yref": "y"
         },
         {
          "line": {
           "color": "grey",
           "dash": "dot",
           "width": 1
          },
          "type": "line",
          "x0": -0.5169154908729338,
          "x1": -0.49678996062752623,
          "xref": "x",
          "y0": -1.3263846462468194,
          "y1": -1.2238368288095345,
          "yref": "y"
         },
         {
          "line": {
           "color": "grey",
           "dash": "dot",
           "width": 1
          },
          "type": "line",
          "x0": -0.41093255675031926,
          "x1": -0.3690276197668355,
          "xref": "x",
          "y0": -2.159510961994748,
          "y1": -1.8348131364965354,
          "yref": "y"
         },
         {
          "line": {
           "color": "grey",
           "dash": "dot",
           "width": 1
          },
          "type": "line",
          "x0": -2.244106750975613,
          "x1": -2.934515378347046,
          "xref": "x",
          "y0": -4.980182777062063,
          "y1": -4.2649628103537225,
          "yref": "y"
         },
         {
          "line": {
           "color": "grey",
           "dash": "dot",
           "width": 1
          },
          "type": "line",
          "x0": 0.2535211333983897,
          "x1": 0.6284900680397686,
          "xref": "x",
          "y0": -3.9721333772763945,
          "y1": -3.5224116500264198,
          "yref": "y"
         },
         {
          "line": {
           "color": "grey",
           "dash": "dot",
           "width": 1
          },
          "type": "line",
          "x0": 0.23556655609228655,
          "x1": 0.26896913819379914,
          "xref": "x",
          "y0": -5.255848285125121,
          "y1": -5.250917112601164,
          "yref": "y"
         },
         {
          "line": {
           "color": "grey",
           "dash": "dot",
           "width": 1
          },
          "type": "line",
          "x0": 0.4404481268741431,
          "x1": 0.7455858692902493,
          "xref": "x",
          "y0": -3.120254668986272,
          "y1": -2.763736320887213,
          "yref": "y"
         },
         {
          "line": {
           "color": "grey",
           "dash": "dot",
           "width": 1
          },
          "type": "line",
          "x0": -1.1707272340627823,
          "x1": -0.943899291151712,
          "xref": "x",
          "y0": -2.9893613811408346,
          "y1": -2.921468617134114,
          "yref": "y"
         },
         {
          "line": {
           "color": "grey",
           "dash": "dot",
           "width": 1
          },
          "type": "line",
          "x0": -0.11664549180098154,
          "x1": -0.21582911964928905,
          "xref": "x",
          "y0": -3.9059127098325566,
          "y1": -3.5411983274960277,
          "yref": "y"
         },
         {
          "line": {
           "color": "grey",
           "dash": "dot",
           "width": 1
          },
          "type": "line",
          "x0": -0.4380646661678239,
          "x1": 0.26219777515136283,
          "xref": "x",
          "y0": -3.260872045183512,
          "y1": -3.2211847848778508,
          "yref": "y"
         },
         {
          "line": {
           "color": "grey",
           "dash": "dot",
           "width": 1
          },
          "type": "line",
          "x0": 0.025243761429036445,
          "x1": -0.38950852390931007,
          "xref": "x",
          "y0": -3.2673978195485356,
          "y1": -2.9389643935481287,
          "yref": "y"
         },
         {
          "line": {
           "color": "grey",
           "dash": "dot",
           "width": 1
          },
          "type": "line",
          "x0": 1.0879248876610876,
          "x1": 1.3267070967840728,
          "xref": "x",
          "y0": -4.068116383057395,
          "y1": -3.731737955002591,
          "yref": "y"
         },
         {
          "line": {
           "color": "grey",
           "dash": "dot",
           "width": 1
          },
          "type": "line",
          "x0": 0.7005626056698411,
          "x1": 0.6617172873938332,
          "xref": "x",
          "y0": -3.1271898525205355,
          "y1": -3.0958326945754986,
          "yref": "y"
         },
         {
          "line": {
           "color": "grey",
           "dash": "dot",
           "width": 1
          },
          "type": "line",
          "x0": 0.5345115417364871,
          "x1": 0.7453565737334361,
          "xref": "x",
          "y0": -2.6371268307325986,
          "y1": -2.394581851244621,
          "yref": "y"
         },
         {
          "line": {
           "color": "grey",
           "dash": "dot",
           "width": 1
          },
          "type": "line",
          "x0": 1.133442928759755,
          "x1": 1.2070290921760665,
          "xref": "x",
          "y0": -5.413817033123523,
          "y1": -4.9734060608278705,
          "yref": "y"
         },
         {
          "line": {
           "color": "grey",
           "dash": "dot",
           "width": 1
          },
          "type": "line",
          "x0": -0.673165888082883,
          "x1": -0.8535956868802456,
          "xref": "x",
          "y0": -4.641163733036058,
          "y1": -4.610470433800951,
          "yref": "y"
         },
         {
          "line": {
           "color": "grey",
           "dash": "dot",
           "width": 1
          },
          "type": "line",
          "x0": 0.8109589777668187,
          "x1": 0.9968447725324298,
          "xref": "x",
          "y0": -3.8294150233534117,
          "y1": -3.406464228773592,
          "yref": "y"
         },
         {
          "line": {
           "color": "grey",
           "dash": "dot",
           "width": 1
          },
          "type": "line",
          "x0": 0.006151986415215279,
          "x1": 0.03736089975172786,
          "xref": "x",
          "y0": -1.4519959746653137,
          "y1": -1.6565834080715236,
          "yref": "y"
         },
         {
          "line": {
           "color": "grey",
           "dash": "dot",
           "width": 1
          },
          "type": "line",
          "x0": -2.9017968024228264,
          "x1": -2.412840552418717,
          "xref": "x",
          "y0": -4.939292918553825,
          "y1": -4.8164787035239405,
          "yref": "y"
         },
         {
          "line": {
           "color": "grey",
           "dash": "dot",
           "width": 1
          },
          "type": "line",
          "x0": 0.5868714858352712,
          "x1": 0.588617122720197,
          "xref": "x",
          "y0": -1.5942122689056744,
          "y1": -1.124381052593068,
          "yref": "y"
         },
         {
          "line": {
           "color": "grey",
           "dash": "dot",
           "width": 1
          },
          "type": "line",
          "x0": -1.374289225159343,
          "x1": -1.881435060176756,
          "xref": "x",
          "y0": -4.213592829917774,
          "y1": -3.6912705886917427,
          "yref": "y"
         },
         {
          "line": {
           "color": "grey",
           "dash": "dot",
           "width": 1
          },
          "type": "line",
          "x0": 0.017281577529270148,
          "x1": 0.015055593883974256,
          "xref": "x",
          "y0": -2.246240545460643,
          "y1": -2.242861821028834,
          "yref": "y"
         },
         {
          "line": {
           "color": "grey",
           "dash": "dot",
           "width": 1
          },
          "type": "line",
          "x0": -0.8161923054273393,
          "x1": -0.7023639609225562,
          "xref": "x",
          "y0": -2.6264092610200223,
          "y1": -2.5102784379474246,
          "yref": "y"
         },
         {
          "line": {
           "color": "grey",
           "dash": "dot",
           "width": 1
          },
          "type": "line",
          "x0": -0.585754781893443,
          "x1": -0.5999809872079568,
          "xref": "x",
          "y0": -3.622443487652039,
          "y1": -3.3669492725052885,
          "yref": "y"
         },
         {
          "line": {
           "color": "grey",
           "dash": "dot",
           "width": 1
          },
          "type": "line",
          "x0": -0.13907924217190296,
          "x1": -0.18610306585256553,
          "xref": "x",
          "y0": -1.4372310006558686,
          "y1": -1.2646833528048669,
          "yref": "y"
         },
         {
          "line": {
           "color": "grey",
           "dash": "dot",
           "width": 1
          },
          "type": "line",
          "x0": 1.3232037939213175,
          "x1": 1.5521400280767463,
          "xref": "x",
          "y0": -4.500475513480839,
          "y1": -4.202712061389981,
          "yref": "y"
         },
         {
          "line": {
           "color": "grey",
           "dash": "dot",
           "width": 1
          },
          "type": "line",
          "x0": -0.6421208117667179,
          "x1": -0.6687341527973623,
          "xref": "x",
          "y0": -2.4398208387927016,
          "y1": -2.216444507421218,
          "yref": "y"
         },
         {
          "line": {
           "color": "grey",
           "dash": "dot",
           "width": 1
          },
          "type": "line",
          "x0": -0.4468741362998535,
          "x1": -0.3067280997538081,
          "xref": "x",
          "y0": -1.7766799333288428,
          "y1": -1.5431815669692146,
          "yref": "y"
         },
         {
          "line": {
           "color": "grey",
           "dash": "dot",
           "width": 1
          },
          "type": "line",
          "x0": 0.3505661122472412,
          "x1": 0.2975807242344632,
          "xref": "x",
          "y0": -1.6587886097940245,
          "y1": -1.6176138051948383,
          "yref": "y"
         },
         {
          "line": {
           "color": "grey",
           "dash": "dot",
           "width": 1
          },
          "type": "line",
          "x0": 0.515565171859632,
          "x1": 0.9743299953975245,
          "xref": "x",
          "y0": -3.5667829083512532,
          "y1": -3.262901613568878,
          "yref": "y"
         },
         {
          "line": {
           "color": "grey",
           "dash": "dot",
           "width": 1
          },
          "type": "line",
          "x0": 0.3529435465817803,
          "x1": 0.21052611258420567,
          "xref": "x",
          "y0": -1.2868092396913506,
          "y1": -1.0173994917696971,
          "yref": "y"
         },
         {
          "line": {
           "color": "grey",
           "dash": "dot",
           "width": 1
          },
          "type": "line",
          "x0": 0.7882089159345803,
          "x1": 1.2938261753560703,
          "xref": "x",
          "y0": -5.415327758630208,
          "y1": -4.767106262064168,
          "yref": "y"
         },
         {
          "line": {
           "color": "grey",
           "dash": "dot",
           "width": 1
          },
          "type": "line",
          "x0": -0.19220808936063138,
          "x1": -0.07895488912768865,
          "xref": "x",
          "y0": -4.138780307173802,
          "y1": -3.807751419235279,
          "yref": "y"
         },
         {
          "line": {
           "color": "grey",
           "dash": "dot",
           "width": 1
          },
          "type": "line",
          "x0": 0.3313348764809122,
          "x1": 0.2884642798258221,
          "xref": "x",
          "y0": -3.28864457058104,
          "y1": -3.121585711824886,
          "yref": "y"
         },
         {
          "line": {
           "color": "grey",
           "dash": "dot",
           "width": 1
          },
          "type": "line",
          "x0": 0.16044085719185347,
          "x1": -0.12026019355250579,
          "xref": "x",
          "y0": -3.2669346429636783,
          "y1": -3.0608438499616866,
          "yref": "y"
         },
         {
          "line": {
           "color": "grey",
           "dash": "dot",
           "width": 1
          },
          "type": "line",
          "x0": 0.9001972015891597,
          "x1": 1.2656549710223022,
          "xref": "x",
          "y0": -3.9560858967681494,
          "y1": -3.643787691682273,
          "yref": "y"
         },
         {
          "line": {
           "color": "grey",
           "dash": "dot",
           "width": 1
          },
          "type": "line",
          "x0": -0.49529765090175865,
          "x1": -0.5828393934898369,
          "xref": "x",
          "y0": -0.923141920138226,
          "y1": -0.9954948761207217,
          "yref": "y"
         },
         {
          "line": {
           "color": "grey",
           "dash": "dot",
           "width": 1
          },
          "type": "line",
          "x0": -0.05257467849180422,
          "x1": -0.28401312505482035,
          "xref": "x",
          "y0": -4.577403345574043,
          "y1": -4.420149994557283,
          "yref": "y"
         },
         {
          "line": {
           "color": "grey",
           "dash": "dot",
           "width": 1
          },
          "type": "line",
          "x0": -0.06119887887772698,
          "x1": -0.0546269912281825,
          "xref": "x",
          "y0": -5.062626712421477,
          "y1": -4.5382374846263,
          "yref": "y"
         },
         {
          "line": {
           "color": "grey",
           "dash": "dot",
           "width": 1
          },
          "type": "line",
          "x0": 0.4177700611971918,
          "x1": 0.6912834803516359,
          "xref": "x",
          "y0": -0.3644372468908997,
          "y1": -0.7769076872972106,
          "yref": "y"
         },
         {
          "line": {
           "color": "grey",
           "dash": "dot",
           "width": 1
          },
          "type": "line",
          "x0": -3.1099521737048628,
          "x1": -5.193391297429218,
          "xref": "x",
          "y0": -6.460101263902169,
          "y1": -6.21092980135887,
          "yref": "y"
         },
         {
          "line": {
           "color": "grey",
           "dash": "dot",
           "width": 1
          },
          "type": "line",
          "x0": -0.7644483936285263,
          "x1": -1.1223583886172532,
          "xref": "x",
          "y0": -5.870296611572,
          "y1": -5.688495668906994,
          "yref": "y"
         },
         {
          "line": {
           "color": "grey",
           "dash": "dot",
           "width": 1
          },
          "type": "line",
          "x0": -0.7455093469023044,
          "x1": 0.4941824955591249,
          "xref": "x",
          "y0": -6.265179791419358,
          "y1": -6.435814494223989,
          "yref": "y"
         },
         {
          "line": {
           "color": "grey",
           "dash": "dot",
           "width": 1
          },
          "type": "line",
          "x0": -0.785865815967342,
          "x1": -0.24539315599034237,
          "xref": "x",
          "y0": -5.794336986988585,
          "y1": -5.826458868855538,
          "yref": "y"
         },
         {
          "line": {
           "color": "grey",
           "dash": "dot",
           "width": 1
          },
          "type": "line",
          "x0": -1.1203941600386929,
          "x1": -0.9448234561380076,
          "xref": "x",
          "y0": -2.6217225467676197,
          "y1": -2.241860022656726,
          "yref": "y"
         },
         {
          "line": {
           "color": "grey",
           "dash": "dot",
           "width": 1
          },
          "type": "line",
          "x0": 0.5515553070031494,
          "x1": 0.8307313606287926,
          "xref": "x",
          "y0": -2.0444790723699082,
          "y1": -2.1033597370246038,
          "yref": "y"
         },
         {
          "line": {
           "color": "grey",
           "dash": "dot",
           "width": 1
          },
          "type": "line",
          "x0": 0.3037211141957941,
          "x1": 0.19419760958383875,
          "xref": "x",
          "y0": -1.6803926643067422,
          "y1": -1.740123616171212,
          "yref": "y"
         },
         {
          "line": {
           "color": "grey",
           "dash": "dot",
           "width": 1
          },
          "type": "line",
          "x0": -0.9960468116397045,
          "x1": -0.3267320373105487,
          "xref": "x",
          "y0": -5.0818189497045845,
          "y1": -5.017608501379393,
          "yref": "y"
         },
         {
          "line": {
           "color": "grey",
           "dash": "dot",
           "width": 1
          },
          "type": "line",
          "x0": -0.4548844385813938,
          "x1": -0.7747625228102717,
          "xref": "x",
          "y0": -5.709894002094498,
          "y1": -5.542055861800522,
          "yref": "y"
         },
         {
          "line": {
           "color": "grey",
           "dash": "dot",
           "width": 1
          },
          "type": "line",
          "x0": 0.3123829180172675,
          "x1": 0.11050688539743209,
          "xref": "x",
          "y0": -1.0202638168554916,
          "y1": -0.6795876216950609,
          "yref": "y"
         },
         {
          "line": {
           "color": "grey",
           "dash": "dot",
           "width": 1
          },
          "type": "line",
          "x0": 0.06520542710313534,
          "x1": 0.04692539226283975,
          "xref": "x",
          "y0": -1.845745446359984,
          "y1": -1.904037045767382,
          "yref": "y"
         },
         {
          "line": {
           "color": "grey",
           "dash": "dot",
           "width": 1
          },
          "type": "line",
          "x0": -2.4993939806137258,
          "x1": -1.7173877708438148,
          "xref": "x",
          "y0": -5.549752642294551,
          "y1": -5.568908335321875,
          "yref": "y"
         },
         {
          "line": {
           "color": "grey",
           "dash": "dot",
           "width": 1
          },
          "type": "line",
          "x0": 1.513484627971392,
          "x1": 2.4507954110408847,
          "xref": "x",
          "y0": -5.757451204201056,
          "y1": -5.371336139225627,
          "yref": "y"
         },
         {
          "line": {
           "color": "grey",
           "dash": "dot",
           "width": 1
          },
          "type": "line",
          "x0": 0.6850672454841993,
          "x1": 0.9363730281730377,
          "xref": "x",
          "y0": -4.975529552719437,
          "y1": -4.772011832070376,
          "yref": "y"
         },
         {
          "line": {
           "color": "grey",
           "dash": "dot",
           "width": 1
          },
          "type": "line",
          "x0": -2.9581362253438876,
          "x1": -2.625709928596238,
          "xref": "x",
          "y0": -5.818097070678983,
          "y1": -5.712686251984339,
          "yref": "y"
         },
         {
          "line": {
           "color": "grey",
           "dash": "dot",
           "width": 1
          },
          "type": "line",
          "x0": -0.7165551959211062,
          "x1": -0.9844958571676222,
          "xref": "x",
          "y0": -2.6546596729636214,
          "y1": -2.5060238111187,
          "yref": "y"
         },
         {
          "line": {
           "color": "grey",
           "dash": "dot",
           "width": 1
          },
          "type": "line",
          "x0": -0.2337584022138973,
          "x1": -0.018229493434174328,
          "xref": "x",
          "y0": -1.9002008072083871,
          "y1": -1.7692006757052117,
          "yref": "y"
         },
         {
          "line": {
           "color": "grey",
           "dash": "dot",
           "width": 1
          },
          "type": "line",
          "x0": -0.11188341528481863,
          "x1": -0.1434075384685369,
          "xref": "x",
          "y0": -1.4666914640813942,
          "y1": -1.404290984988077,
          "yref": "y"
         },
         {
          "line": {
           "color": "grey",
           "dash": "dot",
           "width": 1
          },
          "type": "line",
          "x0": -0.5303562494330021,
          "x1": -0.4364534178065108,
          "xref": "x",
          "y0": -1.1671618315064043,
          "y1": -0.7995989517391079,
          "yref": "y"
         },
         {
          "line": {
           "color": "grey",
           "dash": "dot",
           "width": 1
          },
          "type": "line",
          "x0": 0.05454363116552562,
          "x1": 0.4966586592496519,
          "xref": "x",
          "y0": -4.246080534534857,
          "y1": -3.713196753624598,
          "yref": "y"
         },
         {
          "line": {
           "color": "grey",
           "dash": "dot",
           "width": 1
          },
          "type": "line",
          "x0": 0.8608676281457428,
          "x1": 1.2939098444103663,
          "xref": "x",
          "y0": -4.4366871736661535,
          "y1": -4.081266905483362,
          "yref": "y"
         },
         {
          "line": {
           "color": "grey",
           "dash": "dot",
           "width": 1
          },
          "type": "line",
          "x0": -1.112652092807238,
          "x1": -0.8623638403964161,
          "xref": "x",
          "y0": -2.3640398056977814,
          "y1": -2.29552575809607,
          "yref": "y"
         },
         {
          "line": {
           "color": "grey",
           "dash": "dot",
           "width": 1
          },
          "type": "line",
          "x0": 0.7306890760861665,
          "x1": 0.5532763885291718,
          "xref": "x",
          "y0": -1.9794553769624486,
          "y1": -1.7319604746260155,
          "yref": "y"
         },
         {
          "line": {
           "color": "grey",
           "dash": "dot",
           "width": 1
          },
          "type": "line",
          "x0": -0.3014582160192563,
          "x1": -0.5708870776175986,
          "xref": "x",
          "y0": -0.6239111761782651,
          "y1": -0.8582057005626577,
          "yref": "y"
         },
         {
          "line": {
           "color": "grey",
           "dash": "dot",
           "width": 1
          },
          "type": "line",
          "x0": 0.42021760782328266,
          "x1": 0.6296358124190252,
          "xref": "x",
          "y0": -1.9672232359034574,
          "y1": -1.9832661935674025,
          "yref": "y"
         }
        ],
        "template": {
         "data": {
          "bar": [
           {
            "error_x": {
             "color": "#2a3f5f"
            },
            "error_y": {
             "color": "#2a3f5f"
            },
            "marker": {
             "line": {
              "color": "white",
              "width": 0.5
             },
             "pattern": {
              "fillmode": "overlay",
              "size": 10,
              "solidity": 0.2
             }
            },
            "type": "bar"
           }
          ],
          "barpolar": [
           {
            "marker": {
             "line": {
              "color": "white",
              "width": 0.5
             },
             "pattern": {
              "fillmode": "overlay",
              "size": 10,
              "solidity": 0.2
             }
            },
            "type": "barpolar"
           }
          ],
          "carpet": [
           {
            "aaxis": {
             "endlinecolor": "#2a3f5f",
             "gridcolor": "#C8D4E3",
             "linecolor": "#C8D4E3",
             "minorgridcolor": "#C8D4E3",
             "startlinecolor": "#2a3f5f"
            },
            "baxis": {
             "endlinecolor": "#2a3f5f",
             "gridcolor": "#C8D4E3",
             "linecolor": "#C8D4E3",
             "minorgridcolor": "#C8D4E3",
             "startlinecolor": "#2a3f5f"
            },
            "type": "carpet"
           }
          ],
          "choropleth": [
           {
            "colorbar": {
             "outlinewidth": 0,
             "ticks": ""
            },
            "type": "choropleth"
           }
          ],
          "contour": [
           {
            "colorbar": {
             "outlinewidth": 0,
             "ticks": ""
            },
            "colorscale": [
             [
              0,
              "#0d0887"
             ],
             [
              0.1111111111111111,
              "#46039f"
             ],
             [
              0.2222222222222222,
              "#7201a8"
             ],
             [
              0.3333333333333333,
              "#9c179e"
             ],
             [
              0.4444444444444444,
              "#bd3786"
             ],
             [
              0.5555555555555556,
              "#d8576b"
             ],
             [
              0.6666666666666666,
              "#ed7953"
             ],
             [
              0.7777777777777778,
              "#fb9f3a"
             ],
             [
              0.8888888888888888,
              "#fdca26"
             ],
             [
              1,
              "#f0f921"
             ]
            ],
            "type": "contour"
           }
          ],
          "contourcarpet": [
           {
            "colorbar": {
             "outlinewidth": 0,
             "ticks": ""
            },
            "type": "contourcarpet"
           }
          ],
          "heatmap": [
           {
            "colorbar": {
             "outlinewidth": 0,
             "ticks": ""
            },
            "colorscale": [
             [
              0,
              "#0d0887"
             ],
             [
              0.1111111111111111,
              "#46039f"
             ],
             [
              0.2222222222222222,
              "#7201a8"
             ],
             [
              0.3333333333333333,
              "#9c179e"
             ],
             [
              0.4444444444444444,
              "#bd3786"
             ],
             [
              0.5555555555555556,
              "#d8576b"
             ],
             [
              0.6666666666666666,
              "#ed7953"
             ],
             [
              0.7777777777777778,
              "#fb9f3a"
             ],
             [
              0.8888888888888888,
              "#fdca26"
             ],
             [
              1,
              "#f0f921"
             ]
            ],
            "type": "heatmap"
           }
          ],
          "heatmapgl": [
           {
            "colorbar": {
             "outlinewidth": 0,
             "ticks": ""
            },
            "colorscale": [
             [
              0,
              "#0d0887"
             ],
             [
              0.1111111111111111,
              "#46039f"
             ],
             [
              0.2222222222222222,
              "#7201a8"
             ],
             [
              0.3333333333333333,
              "#9c179e"
             ],
             [
              0.4444444444444444,
              "#bd3786"
             ],
             [
              0.5555555555555556,
              "#d8576b"
             ],
             [
              0.6666666666666666,
              "#ed7953"
             ],
             [
              0.7777777777777778,
              "#fb9f3a"
             ],
             [
              0.8888888888888888,
              "#fdca26"
             ],
             [
              1,
              "#f0f921"
             ]
            ],
            "type": "heatmapgl"
           }
          ],
          "histogram": [
           {
            "marker": {
             "pattern": {
              "fillmode": "overlay",
              "size": 10,
              "solidity": 0.2
             }
            },
            "type": "histogram"
           }
          ],
          "histogram2d": [
           {
            "colorbar": {
             "outlinewidth": 0,
             "ticks": ""
            },
            "colorscale": [
             [
              0,
              "#0d0887"
             ],
             [
              0.1111111111111111,
              "#46039f"
             ],
             [
              0.2222222222222222,
              "#7201a8"
             ],
             [
              0.3333333333333333,
              "#9c179e"
             ],
             [
              0.4444444444444444,
              "#bd3786"
             ],
             [
              0.5555555555555556,
              "#d8576b"
             ],
             [
              0.6666666666666666,
              "#ed7953"
             ],
             [
              0.7777777777777778,
              "#fb9f3a"
             ],
             [
              0.8888888888888888,
              "#fdca26"
             ],
             [
              1,
              "#f0f921"
             ]
            ],
            "type": "histogram2d"
           }
          ],
          "histogram2dcontour": [
           {
            "colorbar": {
             "outlinewidth": 0,
             "ticks": ""
            },
            "colorscale": [
             [
              0,
              "#0d0887"
             ],
             [
              0.1111111111111111,
              "#46039f"
             ],
             [
              0.2222222222222222,
              "#7201a8"
             ],
             [
              0.3333333333333333,
              "#9c179e"
             ],
             [
              0.4444444444444444,
              "#bd3786"
             ],
             [
              0.5555555555555556,
              "#d8576b"
             ],
             [
              0.6666666666666666,
              "#ed7953"
             ],
             [
              0.7777777777777778,
              "#fb9f3a"
             ],
             [
              0.8888888888888888,
              "#fdca26"
             ],
             [
              1,
              "#f0f921"
             ]
            ],
            "type": "histogram2dcontour"
           }
          ],
          "mesh3d": [
           {
            "colorbar": {
             "outlinewidth": 0,
             "ticks": ""
            },
            "type": "mesh3d"
           }
          ],
          "parcoords": [
           {
            "line": {
             "colorbar": {
              "outlinewidth": 0,
              "ticks": ""
             }
            },
            "type": "parcoords"
           }
          ],
          "pie": [
           {
            "automargin": true,
            "type": "pie"
           }
          ],
          "scatter": [
           {
            "fillpattern": {
             "fillmode": "overlay",
             "size": 10,
             "solidity": 0.2
            },
            "type": "scatter"
           }
          ],
          "scatter3d": [
           {
            "line": {
             "colorbar": {
              "outlinewidth": 0,
              "ticks": ""
             }
            },
            "marker": {
             "colorbar": {
              "outlinewidth": 0,
              "ticks": ""
             }
            },
            "type": "scatter3d"
           }
          ],
          "scattercarpet": [
           {
            "marker": {
             "colorbar": {
              "outlinewidth": 0,
              "ticks": ""
             }
            },
            "type": "scattercarpet"
           }
          ],
          "scattergeo": [
           {
            "marker": {
             "colorbar": {
              "outlinewidth": 0,
              "ticks": ""
             }
            },
            "type": "scattergeo"
           }
          ],
          "scattergl": [
           {
            "marker": {
             "colorbar": {
              "outlinewidth": 0,
              "ticks": ""
             }
            },
            "type": "scattergl"
           }
          ],
          "scattermapbox": [
           {
            "marker": {
             "colorbar": {
              "outlinewidth": 0,
              "ticks": ""
             }
            },
            "type": "scattermapbox"
           }
          ],
          "scatterpolar": [
           {
            "marker": {
             "colorbar": {
              "outlinewidth": 0,
              "ticks": ""
             }
            },
            "type": "scatterpolar"
           }
          ],
          "scatterpolargl": [
           {
            "marker": {
             "colorbar": {
              "outlinewidth": 0,
              "ticks": ""
             }
            },
            "type": "scatterpolargl"
           }
          ],
          "scatterternary": [
           {
            "marker": {
             "colorbar": {
              "outlinewidth": 0,
              "ticks": ""
             }
            },
            "type": "scatterternary"
           }
          ],
          "surface": [
           {
            "colorbar": {
             "outlinewidth": 0,
             "ticks": ""
            },
            "colorscale": [
             [
              0,
              "#0d0887"
             ],
             [
              0.1111111111111111,
              "#46039f"
             ],
             [
              0.2222222222222222,
              "#7201a8"
             ],
             [
              0.3333333333333333,
              "#9c179e"
             ],
             [
              0.4444444444444444,
              "#bd3786"
             ],
             [
              0.5555555555555556,
              "#d8576b"
             ],
             [
              0.6666666666666666,
              "#ed7953"
             ],
             [
              0.7777777777777778,
              "#fb9f3a"
             ],
             [
              0.8888888888888888,
              "#fdca26"
             ],
             [
              1,
              "#f0f921"
             ]
            ],
            "type": "surface"
           }
          ],
          "table": [
           {
            "cells": {
             "fill": {
              "color": "#EBF0F8"
             },
             "line": {
              "color": "white"
             }
            },
            "header": {
             "fill": {
              "color": "#C8D4E3"
             },
             "line": {
              "color": "white"
             }
            },
            "type": "table"
           }
          ]
         },
         "layout": {
          "annotationdefaults": {
           "arrowcolor": "#2a3f5f",
           "arrowhead": 0,
           "arrowwidth": 1
          },
          "autotypenumbers": "strict",
          "coloraxis": {
           "colorbar": {
            "outlinewidth": 0,
            "ticks": ""
           }
          },
          "colorscale": {
           "diverging": [
            [
             0,
             "#8e0152"
            ],
            [
             0.1,
             "#c51b7d"
            ],
            [
             0.2,
             "#de77ae"
            ],
            [
             0.3,
             "#f1b6da"
            ],
            [
             0.4,
             "#fde0ef"
            ],
            [
             0.5,
             "#f7f7f7"
            ],
            [
             0.6,
             "#e6f5d0"
            ],
            [
             0.7,
             "#b8e186"
            ],
            [
             0.8,
             "#7fbc41"
            ],
            [
             0.9,
             "#4d9221"
            ],
            [
             1,
             "#276419"
            ]
           ],
           "sequential": [
            [
             0,
             "#0d0887"
            ],
            [
             0.1111111111111111,
             "#46039f"
            ],
            [
             0.2222222222222222,
             "#7201a8"
            ],
            [
             0.3333333333333333,
             "#9c179e"
            ],
            [
             0.4444444444444444,
             "#bd3786"
            ],
            [
             0.5555555555555556,
             "#d8576b"
            ],
            [
             0.6666666666666666,
             "#ed7953"
            ],
            [
             0.7777777777777778,
             "#fb9f3a"
            ],
            [
             0.8888888888888888,
             "#fdca26"
            ],
            [
             1,
             "#f0f921"
            ]
           ],
           "sequentialminus": [
            [
             0,
             "#0d0887"
            ],
            [
             0.1111111111111111,
             "#46039f"
            ],
            [
             0.2222222222222222,
             "#7201a8"
            ],
            [
             0.3333333333333333,
             "#9c179e"
            ],
            [
             0.4444444444444444,
             "#bd3786"
            ],
            [
             0.5555555555555556,
             "#d8576b"
            ],
            [
             0.6666666666666666,
             "#ed7953"
            ],
            [
             0.7777777777777778,
             "#fb9f3a"
            ],
            [
             0.8888888888888888,
             "#fdca26"
            ],
            [
             1,
             "#f0f921"
            ]
           ]
          },
          "colorway": [
           "#636efa",
           "#EF553B",
           "#00cc96",
           "#ab63fa",
           "#FFA15A",
           "#19d3f3",
           "#FF6692",
           "#B6E880",
           "#FF97FF",
           "#FECB52"
          ],
          "font": {
           "color": "#2a3f5f"
          },
          "geo": {
           "bgcolor": "white",
           "lakecolor": "white",
           "landcolor": "white",
           "showlakes": true,
           "showland": true,
           "subunitcolor": "#C8D4E3"
          },
          "hoverlabel": {
           "align": "left"
          },
          "hovermode": "closest",
          "mapbox": {
           "style": "light"
          },
          "paper_bgcolor": "white",
          "plot_bgcolor": "white",
          "polar": {
           "angularaxis": {
            "gridcolor": "#EBF0F8",
            "linecolor": "#EBF0F8",
            "ticks": ""
           },
           "bgcolor": "white",
           "radialaxis": {
            "gridcolor": "#EBF0F8",
            "linecolor": "#EBF0F8",
            "ticks": ""
           }
          },
          "scene": {
           "xaxis": {
            "backgroundcolor": "white",
            "gridcolor": "#DFE8F3",
            "gridwidth": 2,
            "linecolor": "#EBF0F8",
            "showbackground": true,
            "ticks": "",
            "zerolinecolor": "#EBF0F8"
           },
           "yaxis": {
            "backgroundcolor": "white",
            "gridcolor": "#DFE8F3",
            "gridwidth": 2,
            "linecolor": "#EBF0F8",
            "showbackground": true,
            "ticks": "",
            "zerolinecolor": "#EBF0F8"
           },
           "zaxis": {
            "backgroundcolor": "white",
            "gridcolor": "#DFE8F3",
            "gridwidth": 2,
            "linecolor": "#EBF0F8",
            "showbackground": true,
            "ticks": "",
            "zerolinecolor": "#EBF0F8"
           }
          },
          "shapedefaults": {
           "line": {
            "color": "#2a3f5f"
           }
          },
          "ternary": {
           "aaxis": {
            "gridcolor": "#DFE8F3",
            "linecolor": "#A2B1C6",
            "ticks": ""
           },
           "baxis": {
            "gridcolor": "#DFE8F3",
            "linecolor": "#A2B1C6",
            "ticks": ""
           },
           "bgcolor": "white",
           "caxis": {
            "gridcolor": "#DFE8F3",
            "linecolor": "#A2B1C6",
            "ticks": ""
           }
          },
          "title": {
           "x": 0.05
          },
          "xaxis": {
           "automargin": true,
           "gridcolor": "#EBF0F8",
           "linecolor": "#EBF0F8",
           "ticks": "",
           "title": {
            "standoff": 15
           },
           "zerolinecolor": "#EBF0F8",
           "zerolinewidth": 2
          },
          "yaxis": {
           "automargin": true,
           "gridcolor": "#EBF0F8",
           "linecolor": "#EBF0F8",
           "ticks": "",
           "title": {
            "standoff": 15
           },
           "zerolinecolor": "#EBF0F8",
           "zerolinewidth": 2
          }
         }
        },
        "width": 800,
        "yaxis": {
         "scaleanchor": "x",
         "scaleratio": 1
        }
       }
      },
      "text/html": [
       "<div>                            <div id=\"d7d968ac-051e-4b5f-8128-77e58d190776\" class=\"plotly-graph-div\" style=\"height:800px; width:800px;\"></div>            <script type=\"text/javascript\">                require([\"plotly\"], function(Plotly) {                    window.PLOTLYENV=window.PLOTLYENV || {};                                    if (document.getElementById(\"d7d968ac-051e-4b5f-8128-77e58d190776\")) {                    Plotly.newPlot(                        \"d7d968ac-051e-4b5f-8128-77e58d190776\",                        [{\"customdata\":[-2.0514231920242363,-21.79243594408036,4.036228358745576,13.712391257286074,-9.441163167357432,7.917808592319482,8.511776989325888,4.723783135414134,1.5661056339740842,-8.982975482940674,8.26322481036187,0.6296519190072992,-2.9748527705669447,-3.102229535579679,-10.17851952463388,-7.271319776773453,-17.30144441127777,2.4720843415707416,6.136868745088578,-3.944862596690643,-13.367519527673723,7.974480986595154,10.176394879817968,9.708985090255734,-13.341147378087042,-0.18885433673859212,-13.120908513665192,14.18756872415543,0.3443004190921838,6.040350794792171,1.9455993175506587,-3.35967063903809,-7.902949154376985,-0.203685024753205,-2.964170873165126,-12.53903411328793,13.485299348831177,12.671798095107068,6.5113466978073165,-5.188542902469637,-12.06903129816055,4.242492914199831,6.615456473082298,-15.047070533037184,-10.660797134041788,1.964276880025873,2.764043211936949,6.27570365555584,3.0022622644901227,5.364919602870941,11.579510718584055,-4.030097499489783,-6.584949195384985,5.857275277376179,2.9954487830400516,-9.577210843563075,2.906909063458441,-6.271327883005141,-0.7034260779619136,4.940793626010427,0.40189750492573495,-8.764822036027908,0.9607109427452231,-10.632995367050167,2.800593674182896,5.600994229316714,-3.4916272759437614,3.1432874500751433,-6.921088993549334,-6.5536846965551385,-4.143161326646798,-4.942447543144218,-2.1648806333541857,-5.426989942789072,-13.570919483900063,8.110587000846865,1.4075535535812367,-7.240591049194342,-0.8815857768058808,-5.616956055164335,2.108599841594695,10.12589030899108,-16.903484389185905,4.151753783226011,4.959741085767757,-13.904232233762745,-9.861461967229857,-3.6737519502639637,-16.809211447834954,-2.3858068138360933,-21.89191237092018,-2.894983291625982,4.577272832393649,-0.9220522642135532,14.843811392784126,-0.9617945551872296,0.27656525373458984,4.408168941736225,-2.0281040668487558,-5.75969651341439,-5.150503814220423,1.7356889694929165,-7.967995405197131,5.733522176742554,-2.398731708526605,0.6974132359027909,-11.58806897699832,0.7425092160701702,3.2230442762374882,10.9540356695652,-0.8458667993545467,5.109966248273862,-10.388315543532363,-1.0930028557777478,-0.5375576019287021,4.935532137751582,-2.24804453551769,-7.475830167531957,-2.9232122004032135,0.8097159862518333,5.250169336795803,8.440587222576147,5.062611848115919,5.5268445611000105,4.042384028434759,0.8130643889308,5.584758818149569,2.405008077621459,-2.0042887330055157,1.6503497958183346,-7.987232878804213,-4.962134957313538,-0.09439229965209904,8.168900907039644,-13.420220240950588,2.5049263983964924,-2.1361183002591075,-10.6389207020402,0.42403444647789107,-5.635966211557377,-2.0927446335554065,-21.715641617774963,14.47033524513244,-10.792751088738445,3.1058582291007033,7.715340703725813,-10.283643007278444,6.011316552758224,-3.045364022254942,-0.13630717992781471,5.0961112976074325,8.94641160964966,-3.25015738606453,0.10372630320489262,12.19496101140976,5.567235946655275,10.006002187728887,12.343607693910606,-2.8381446003913897,-5.573903918266285,-1.3696673512458768,8.446359336376188,-1.227743625640875,-19.740721983835098,4.373486638069154,-1.6912548243999448,-4.9884366989135644,5.941810458898552,-14.633245915174482,-6.7965915799141,-8.546370863914502,14.952075406908993,2.8449265658855496,-9.604246169328695,3.2333010435104352,-5.016801729798312,5.073671936988828,9.239216297864914,-10.269616395235069,-12.706899493932713,4.321393445134159,8.603288009762775,3.149023354053494,-6.006819829344747,-0.5641362816095266,4.837520867586141,2.0231486856937417,8.706223145127291,16.19088616222143,-3.0983255803585004,7.951034456491483,1.7984694242477435,3.677464127540597,-6.116874217987057,-13.825671672821038,-1.7196004092693271,-4.958962574601173,-2.238283306360243,9.238628894090642,-4.339114464819434,0.9644164144992977,3.360368013381954,-5.491796135902396,-1.3269491493701866,-8.097133040428162,8.696930631995201,7.759395064786067,-18.175930380821224,0.10755926370621095,-0.20717415958642607,-1.043239831924426,6.477347016334537,-8.052649274468408,-18.401708006858815,-1.706059277057645,2.0939549803733946,-18.871998488903042,7.053072452545176,1.0220081359148097,6.179222166538245,8.949474021792406,9.292687056586148,7.104702293872841,-5.451846560463301,-6.863703131675718,2.101962296292186,0.5068436264991769,7.824649438261996,-6.662434190511713,-4.36311453580855,10.236159861087804,1.8290352076292067,1.266214549541481,-6.978756487369539,13.46965536475181,12.421471886336795,4.639720022678376,4.186491072177879,4.242500960826871,-3.6380852758884505],\"hovertemplate\":\"yaw = %{customdata:.1f} deg\",\"mode\":\"markers\",\"name\":\"predict\",\"x\":[-2.25527572437235,-0.6863305711204967,-1.09260276821096,0.4081790927555591,-0.6600280277042457,1.0516864449685956,0.4903492025103539,2.594424108304924,-0.4498042933038507,0.39034291090775386,2.6925091416034626,0.6228280113528276,1.0620208499891084,1.0768334669244688,-0.18323219431154508,-0.4999215766138868,-0.5060032535048913,0.20367073291542806,-0.22989123447202106,-0.12265894022923911,-0.29526786496042134,-0.4628024545209806,-0.0030524172543846457,-1.1143909736946838,-0.9421895821190641,-2.494425168708397,-1.3686537351314112,-0.5738751496763375,-0.3602586863588421,-0.33016679908830987,0.35900333624671965,-3.2370946442718345,0.2630304739688972,-0.010749279416039051,-1.3251270119304928,-2.408934633348917,-0.2224904645941831,1.108492504872508,1.6653700471832218,-2.2692917527904357,0.4846594941832578,-1.0644245764781992,0.22313947238223325,0.05353842992369966,-0.1670502518308575,1.3433799966462585,1.2037435017197402,0.18365102442974282,-0.5253748606656754,-2.528377967299379,-0.012308885208018617,-0.5194432678406667,-1.2949003053577928,3.112570156812654,-0.16529274329774415,-4.081889856468741,0.5192850662554145,-1.230325197938268,-0.12424761384550086,0.696117551131128,0.3373156119905225,-0.13311353090408407,-0.19260642994285243,-0.036013601527973775,1.7631245162795643,-1.2053634698371443,0.6443321522781589,1.1770412652375035,-2.896362065068729,-1.352997735649258,-0.5013291545663245,-1.032777244848888,-2.6719145748868542,0.25191666097486054,-2.47298466897649,-0.3091823072022874,-2.324196606117152,0.9793585510499738,-0.21634985100489673,-3.274558299282272,-0.5708235016735524,0.43349563160909343,-0.571853151108375,0.3587279622184036,1.529630302768509,-0.41276528691433834,-3.624292517893809,-2.3828863834772975,-0.6855390390031194,-0.5245327351976405,-0.4451949141131461,-0.9757599026864278,1.79335767169546,0.4920554761633703,-0.4114591257806073,-2.831573849664427,-0.5338775027763384,-0.4235666485826993,-0.8695891164396862,-0.2065237343335903,-0.18178903768527338,-0.48581325582349877,-2.8736359626307526,2.0309405034731327,-1.874177451988565,-1.4711068850267262,-1.517957124854914,0.41895291846493243,-1.5889608245260904,2.599335912808736,1.3117229188430148,1.5564412526212388,-1.1401199632687395,-2.6500950012191455,-3.2584046956152517,0.24539408640992597,-0.3267647144969337,-2.0948341131763555,0.025294868367888898,-0.13664801260656295,0.625871958621663,2.189365863192863,1.0655509855552574,-1.6029806316372774,0.24471345992182336,-0.3512627844146724,-0.7120871041453264,-0.8045975952088763,-1.4657500000599208,-0.6709368935213398,-0.03604794918009845,0.5625622499618069,-1.0502509931299226,-1.1113410057519215,-2.286359693967341,0.5659921382885774,0.05754176983530723,-1.0605515573247037,0.22107251667868658,-1.1646453490464952,-0.9822032051885954,0.004997817598215485,2.9155499487479553,-1.0591598902915733,0.021971108028117928,1.6152986667480276,0.5872507008499324,1.6256782388643862,-0.6228475263490783,-0.8975879421898907,1.5363955605385151,-0.7982534927734665,-0.9458576915649033,0.069087124169333,3.113978037872331,0.9797856958916231,3.7379649021310097,-0.3769530405405801,-0.2086265050465583,1.1195334440995288,-3.7079819399322735,-0.8688894665433201,-3.5532529125013754,-1.20702763484709,0.564618427276725,-0.3567437034574371,0.46532878742680756,-0.40402050047770277,-2.3011962490945015,-0.12542677031175112,-1.7466214801811997,3.1875366899499427,0.9756837042544332,-2.1438209823763326,0.27412402867089264,0.11833488082407653,-0.5169154908729338,-0.41093255675031926,-2.244106750975613,0.2535211333983897,0.23556655609228655,0.4404481268741431,-1.1707272340627823,-0.11664549180098154,-0.4380646661678239,0.025243761429036445,1.0879248876610876,0.7005626056698411,0.5345115417364871,1.133442928759755,-0.673165888082883,0.8109589777668187,0.006151986415215279,-2.9017968024228264,0.5868714858352712,-1.374289225159343,0.017281577529270148,-0.8161923054273393,-0.585754781893443,-0.13907924217190296,1.3232037939213175,-0.6421208117667179,-0.4468741362998535,0.3505661122472412,0.515565171859632,0.3529435465817803,0.7882089159345803,-0.19220808936063138,0.3313348764809122,0.16044085719185347,0.9001972015891597,-0.49529765090175865,-0.05257467849180422,-0.06119887887772698,0.4177700611971918,-3.1099521737048628,-0.7644483936285263,-0.7455093469023044,-0.785865815967342,-1.1203941600386929,0.5515553070031494,0.3037211141957941,-0.9960468116397045,-0.4548844385813938,0.3123829180172675,0.06520542710313534,-2.4993939806137258,1.513484627971392,0.6850672454841993,-2.9581362253438876,-0.7165551959211062,-0.2337584022138973,-0.11188341528481863,-0.5303562494330021,0.05454363116552562,0.8608676281457428,-1.112652092807238,0.7306890760861665,-0.3014582160192563,0.42021760782328266],\"y\":[-6.0217098348432,-3.9250926272896725,-3.2188676611310387,-2.417010819444764,-5.017146900369991,-3.059893494459369,-3.381205154049921,-5.977159154081255,-2.114521602402437,-2.4138865164230237,-5.489065744223065,-5.027248980860364,-3.822447975349659,-5.725525244553708,-0.7090101605828938,-2.450122862670663,-4.391179567428127,-4.377201706692908,-2.2779803268720156,-5.987954894422695,-6.207980025852088,-4.611799613684888,-6.015124142545031,-4.574961750070518,-4.732487570908206,-5.469427226397552,-3.283539676068756,-3.1311593710798835,-3.2144151290784246,-4.803195125192153,-0.4826861925779281,-5.580931256427202,-0.9055295721420187,-1.3718521051664327,-2.432016280201845,-5.592311583677667,-2.4844051889353613,-3.06451083094738,-5.184922955923347,-3.7922464223633106,-4.3955414072973555,-4.446737936984537,-2.324139255511428,-2.7516057634897897,-5.0005652132094465,-4.73697219462965,-5.1938076850884345,-1.5086975065437516,-2.286224003746143,-5.665731136042691,-2.5715240919073903,-5.294270840759193,-5.104836946889578,-6.201129436953239,-1.7640861294334214,-5.525277219401777,-6.037710591716963,-5.56390769967872,-1.092744759380183,-5.3526119331375535,-4.886211005323831,-2.0949472504793434,-5.876473830786174,-0.44686072018372414,-4.797287116016162,-3.1097388525429825,-3.712760653494235,-3.9430662209205884,-4.472619754550262,-5.417400092325916,-3.888659626631493,-3.753729375613135,-5.035647775762008,-1.3269892065622864,-5.306868255259215,-4.976124681212267,-4.328500153378277,-5.18954167503313,-0.9760186377663363,-5.936978119462664,-2.5617630650713283,-2.226798439974631,-3.6508659795580325,-1.6689843903724544,-4.624646429276018,-0.9672509210737301,-5.959529874062336,-4.532061506132835,-2.724423934876914,-2.620495011040691,-2.2746804216921204,-1.911098498277411,-5.412376439418594,-0.6403337181235202,-2.788031287967805,-6.240923701775089,-0.9331551352652351,-3.559915026142814,-2.5849527433717374,-2.9852285097712286,-5.982291431012515,-5.916356290953004,-5.132485150597583,-5.024499229690821,-4.267741098598844,-5.846283220706527,-4.271493188395222,-4.528601515796156,-3.555114339792466,-6.595347792964468,-4.3183381645379955,-5.671199037231459,-4.241203071411524,-5.3803089610676444,-5.783867679529783,-1.8113947806444621,-3.8695462517027575,-5.196043984242292,-1.0236249984593604,-1.3913045224258742,-1.5668565235351748,-5.505884310768725,-2.851520313340836,-4.4915669130763,-0.848406980143075,-5.927028432253263,-3.173074528683215,-3.9462641700608003,-3.7342539701147746,-2.5402955568638137,-1.3498601211575123,-3.172244637285402,-3.5145678916246608,-2.921143929905423,-5.930445154584015,-3.2880508858092967,-1.492175604810675,-4.573750165347466,-1.4624380630669036,-2.773424945283154,-5.80402656499146,-3.5924485578717693,-6.147537572875814,-3.4592973603567314,-1.5745269230888779,-4.777323188991513,-0.632750716263757,-6.3480725500027155,-2.3840455937635356,-5.149795449526445,-5.340074083705411,-5.6796993026389115,-2.4243439986562354,-2.7226734724218873,-6.313283976432269,-4.993744552024807,-6.4019417440413,-2.9090562530704207,-1.8987919262677537,-6.242286532558084,-5.191589167632986,-5.364393770380624,-5.177079438518841,-3.371441748522998,-3.561607092534763,-1.215817707788977,-5.750450986461387,-6.915730036638091,-5.85207707900814,-0.5977052194529298,-3.5668469948094828,-6.8199470346837066,-3.1519136984076996,-5.36773757025015,-1.0888416684815814,-1.349052663323837,-1.3263846462468194,-2.159510961994748,-4.980182777062063,-3.9721333772763945,-5.255848285125121,-3.120254668986272,-2.9893613811408346,-3.9059127098325566,-3.260872045183512,-3.2673978195485356,-4.068116383057395,-3.1271898525205355,-2.6371268307325986,-5.413817033123523,-4.641163733036058,-3.8294150233534117,-1.4519959746653137,-4.939292918553825,-1.5942122689056744,-4.213592829917774,-2.246240545460643,-2.6264092610200223,-3.622443487652039,-1.4372310006558686,-4.500475513480839,-2.4398208387927016,-1.7766799333288428,-1.6587886097940245,-3.5667829083512532,-1.2868092396913506,-5.415327758630208,-4.138780307173802,-3.28864457058104,-3.2669346429636783,-3.9560858967681494,-0.923141920138226,-4.577403345574043,-5.062626712421477,-0.3644372468908997,-6.460101263902169,-5.870296611572,-6.265179791419358,-5.794336986988585,-2.6217225467676197,-2.0444790723699082,-1.6803926643067422,-5.0818189497045845,-5.709894002094498,-1.0202638168554916,-1.845745446359984,-5.549752642294551,-5.757451204201056,-4.975529552719437,-5.818097070678983,-2.6546596729636214,-1.9002008072083871,-1.4666914640813942,-1.1671618315064043,-4.246080534534857,-4.4366871736661535,-2.3640398056977814,-1.9794553769624486,-0.6239111761782651,-1.9672232359034574],\"type\":\"scatter\"},{\"marker\":{\"color\":\"red\"},\"mode\":\"markers\",\"name\":\"ground truth\",\"x\":[-1.9160083342855503,-0.8868689677633831,-1.0907761773491609,0.5363045730514803,-1.8282829921346,1.0331710866603472,0.24024931953531206,2.952401974892819,-0.3783240736682838,0.60120598450768,3.4390258206169904,0.737076803239281,1.253342275117249,1.1609843868419376,-0.22461740032811833,-0.7562112772901373,-0.5932856964726329,0.011160160670766764,-0.25546218116342206,0.7170948190156187,-1.2857181417039978,0.34117659900445774,1.3364809082519997,-1.720085613203235,-0.6545905854068291,-2.094933207132126,-1.4788814528807162,0.07618137338327387,-0.6252657637288523,0.22644339811059985,0.6692966206408004,-3.6399919693471796,0.14740974375625476,-0.11965896325915994,-1.1945506450155559,-3.318483865018939,0.03602790566187535,1.3253280779396768,2.0620874098401862,-1.8758061235425816,-0.06567962417860154,-0.8097670637449986,0.0738693117690149,0.025730501616562814,-0.3286880343417977,1.650847287095881,1.2594313166237963,0.027480016150159988,-0.7387456753236441,-2.294588779374407,-0.02667350002843403,-0.44494830411965663,-1.2456923380291554,3.3091370260289685,0.14212687238097219,-4.548250533030807,0.8836752971337648,-1.0438101182212005,-0.08617655866489826,0.8170636939244387,0.39358503343728185,-0.48702290996656844,0.6256595399815971,-0.28795750905716294,2.250653255821625,-1.2843523283430593,1.1207984100431865,1.6230039528120803,-2.8323007549359542,-1.2597001518299638,-0.5301125636035624,-0.9724642529035016,-2.9274721939294333,0.28553705771232646,-3.0947760310777848,-0.7046626818540637,-1.8945356462128031,1.2624180192576968,-0.2466037563488631,-3.8363677568479146,-0.839349382281289,0.5517795277185489,-0.5636971649557571,0.5295617416792211,2.18298928624119,-0.40877873515706814,-3.4179461953402455,-2.7081480189722686,-0.7974895328262482,-0.5965764001986351,-0.45890414881432834,-0.3853420263588895,2.849908063568957,0.6039030907802672,0.01787350764367306,-3.8433614711296586,-0.47124107270562565,-0.5786939922870891,-1.02533381727462,-0.27174352326228207,-1.1991062188362727,-1.1434251389637238,-3.2860066944611797,2.426266051486594,-1.4209884879246075,-0.9145795027813965,-1.257957100211273,0.2397839427276115,-1.7119885889909765,4.47916806494881,1.4026159541471503,2.6505779715060673,-1.2190232172017177,-3.9878970872050625,-2.5876419981566947,0.1786799428697863,-0.43436143205622035,-2.5574799161118875,0.04802920991763107,0.054589454446776105,0.5584168992608197,2.357600238604566,1.2943227253160074,-2.233556430745453,0.125370762029011,0.38077235455761105,-0.9087649306891966,-0.7401050474548143,-1.9083861979019832,-0.4370309051936108,0.009834884492097998,0.5135734004337579,-1.5439164286693308,-1.20296462505352,-2.775570200510062,0.5774028359207777,0.0647980541248909,-1.418872768336794,0.11930692545890637,-1.358217980879844,-0.6649822608390898,-0.17030761029529307,3.223285904551011,-1.6248214731672264,0.06308435522924086,2.759724275483457,0.8121586663208988,2.015756012965926,-0.6823065677247178,-0.580948569570236,1.3075816943674363,0.01544354036583793,-1.1933856105307101,-0.227281341868129,5.194196219002173,1.4500029810336832,4.131826694048143,-0.3928219284121292,-0.4274373144784816,0.9786081171239256,-3.1255897358750433,-0.17423551304996443,-2.962901196004382,-1.4263023531730392,0.5157661132680078,-0.19909740900498657,0.6478352865787538,1.5753575034756702,-2.1806289177817613,-0.14217995869701472,-1.5525614772467726,4.016123286548721,1.038518750525667,-2.578414380726696,0.23003528381818772,0.04268445373311852,-0.49678996062752623,-0.3690276197668355,-2.934515378347046,0.6284900680397686,0.26896913819379914,0.7455858692902493,-0.943899291151712,-0.21582911964928905,0.26219777515136283,-0.38950852390931007,1.3267070967840728,0.6617172873938332,0.7453565737334361,1.2070290921760665,-0.8535956868802456,0.9968447725324298,0.03736089975172786,-2.412840552418717,0.588617122720197,-1.881435060176756,0.015055593883974256,-0.7023639609225562,-0.5999809872079568,-0.18610306585256553,1.5521400280767463,-0.6687341527973623,-0.3067280997538081,0.2975807242344632,0.9743299953975245,0.21052611258420567,1.2938261753560703,-0.07895488912768865,0.2884642798258221,-0.12026019355250579,1.2656549710223022,-0.5828393934898369,-0.28401312505482035,-0.0546269912281825,0.6912834803516359,-5.193391297429218,-1.1223583886172532,0.4941824955591249,-0.24539315599034237,-0.9448234561380076,0.8307313606287926,0.19419760958383875,-0.3267320373105487,-0.7747625228102717,0.11050688539743209,0.04692539226283975,-1.7173877708438148,2.4507954110408847,0.9363730281730377,-2.625709928596238,-0.9844958571676222,-0.018229493434174328,-0.1434075384685369,-0.4364534178065108,0.4966586592496519,1.2939098444103663,-0.8623638403964161,0.5532763885291718,-0.5708870776175986,0.6296358124190252],\"y\":[-6.025695483920559,-3.456448785419918,-3.174783930079692,-2.229845490032148,-4.613908587270353,-2.7270642291530267,-3.1039579865256033,-5.70921414601128,-1.8079899860434592,-2.1086450115441395,-4.880430059432009,-4.721650122423186,-3.357520339961866,-5.540757820074929,-1.04628371722023,-2.258109771768233,-4.13213651580048,-3.725521314632054,-2.2639946460276863,-5.887127681277981,-5.940264645957805,-4.431482105901976,-5.8503220568481655,-3.326746248093304,-4.297976974157425,-5.226844202379884,-3.137551086794981,-2.896608150799119,-3.1033659607236554,-4.687873509497297,-0.8840851928814774,-5.0727597836092215,-0.912527979581196,-1.724857757110195,-2.4447119593532065,-5.021150177435948,-2.1306689455981433,-2.700686093614193,-4.8998145765150305,-3.7463059880615983,-4.050839612202398,-4.010036430008508,-2.213016521300109,-2.586552859243982,-4.607351421444435,-4.492858473620703,-5.073015402091889,-1.5634448349679668,-2.1508168636112375,-5.432647537716127,-2.3523941915344997,-5.0995935167293585,-4.976146323054517,-5.88313187829596,-1.7708078122890414,-5.932464132362617,-6.089629713772752,-5.572936252527174,-1.0416143559717483,-4.943921247295076,-4.6388427927099976,-2.2243099903712866,-5.937528275692381,-1.0725864696721945,-4.666878702563219,-2.792996444851313,-3.090921407834069,-3.532386113177649,-4.406382033666268,-4.991497851551584,-3.5702923455578204,-3.5643905081753244,-4.589601921518101,-1.5577564552090277,-4.831730352219439,-4.804105159447032,-3.6462991838735475,-5.052463343061147,-0.9252254149215414,-5.5908581268956,-2.0829908671451265,-2.1333258567000284,-3.456703586364695,-1.7286514033722558,-3.839346276893731,-1.1917982525189006,-6.050994121321975,-4.39380258653537,-2.6082521009996116,-2.535208883771211,-2.3028725806483763,-1.4285537118285776,-5.049415411482725,-0.9125169561549825,-2.762888860254114,-6.21604450562421,-0.953441456152663,-3.5134904205750197,-2.367681703097181,-2.9505929851821024,-5.651305103479837,-6.171226880869497,-4.714052645406274,-4.644318407803806,-3.9984835022694,-5.410792952920252,-4.088929554630283,-4.435318953292722,-3.1720890735499223,-6.4308343248921584,-3.8210498431760085,-5.1058548030472375,-3.8479096763515614,-5.044561886823058,-6.169972703836444,-1.4399401924209219,-3.5091444405419323,-4.75976110917977,-1.0271953328472616,-1.6341261844420263,-1.6918484902734428,-5.354440269005722,-2.5358335442253295,-4.042260518791725,-1.0231358000758173,-6.19603379192589,-2.8521267142352147,-3.7230802088419064,-3.4528873648484635,-2.3085281218865963,-1.3836758871245582,-2.8229636377534675,-2.985197121265853,-2.48531244020195,-5.472851845680551,-2.956461283421654,-1.537742960160935,-4.210316694374083,-1.602641189235715,-2.7556286907307177,-5.824971851005798,-3.2759329513989703,-5.498402048981475,-3.218541947822595,-1.3615110811921947,-3.938477238144874,-0.7890706087065336,-6.1700801242693535,-2.0655259871364375,-5.233534575512452,-5.233515842525186,-5.679033559766064,-2.381981373367141,-2.6234939029896416,-6.52076903359772,-4.993521895304869,-6.135753525441817,-2.3678736585781266,-1.8881225817975515,-5.710839974866803,-5.1112512470482105,-5.324742897399205,-5.033721248169005,-2.9572133133028577,-3.331497646104384,-1.1168691005901354,-5.392743326853317,-6.589725813668949,-5.665126630129862,-1.032507075680528,-3.2131895814140554,-6.517933372680577,-2.7355570052132543,-5.103478751790943,-1.261934983220301,-1.451775225081127,-1.2238368288095345,-1.8348131364965354,-4.2649628103537225,-3.5224116500264198,-5.250917112601164,-2.763736320887213,-2.921468617134114,-3.5411983274960277,-3.2211847848778508,-2.9389643935481287,-3.731737955002591,-3.0958326945754986,-2.394581851244621,-4.9734060608278705,-4.610470433800951,-3.406464228773592,-1.6565834080715236,-4.8164787035239405,-1.124381052593068,-3.6912705886917427,-2.242861821028834,-2.5102784379474246,-3.3669492725052885,-1.2646833528048669,-4.202712061389981,-2.216444507421218,-1.5431815669692146,-1.6176138051948383,-3.262901613568878,-1.0173994917696971,-4.767106262064168,-3.807751419235279,-3.121585711824886,-3.0608438499616866,-3.643787691682273,-0.9954948761207217,-4.420149994557283,-4.5382374846263,-0.7769076872972106,-6.21092980135887,-5.688495668906994,-6.435814494223989,-5.826458868855538,-2.241860022656726,-2.1033597370246038,-1.740123616171212,-5.017608501379393,-5.542055861800522,-0.6795876216950609,-1.904037045767382,-5.568908335321875,-5.371336139225627,-4.772011832070376,-5.712686251984339,-2.5060238111187,-1.7692006757052117,-1.404290984988077,-0.7995989517391079,-3.713196753624598,-4.081266905483362,-2.29552575809607,-1.7319604746260155,-0.8582057005626577,-1.9832661935674025],\"type\":\"scatter\"}],                        {\"template\":{\"data\":{\"histogram2dcontour\":[{\"type\":\"histogram2dcontour\",\"colorbar\":{\"outlinewidth\":0,\"ticks\":\"\"},\"colorscale\":[[0.0,\"#0d0887\"],[0.1111111111111111,\"#46039f\"],[0.2222222222222222,\"#7201a8\"],[0.3333333333333333,\"#9c179e\"],[0.4444444444444444,\"#bd3786\"],[0.5555555555555556,\"#d8576b\"],[0.6666666666666666,\"#ed7953\"],[0.7777777777777778,\"#fb9f3a\"],[0.8888888888888888,\"#fdca26\"],[1.0,\"#f0f921\"]]}],\"choropleth\":[{\"type\":\"choropleth\",\"colorbar\":{\"outlinewidth\":0,\"ticks\":\"\"}}],\"histogram2d\":[{\"type\":\"histogram2d\",\"colorbar\":{\"outlinewidth\":0,\"ticks\":\"\"},\"colorscale\":[[0.0,\"#0d0887\"],[0.1111111111111111,\"#46039f\"],[0.2222222222222222,\"#7201a8\"],[0.3333333333333333,\"#9c179e\"],[0.4444444444444444,\"#bd3786\"],[0.5555555555555556,\"#d8576b\"],[0.6666666666666666,\"#ed7953\"],[0.7777777777777778,\"#fb9f3a\"],[0.8888888888888888,\"#fdca26\"],[1.0,\"#f0f921\"]]}],\"heatmap\":[{\"type\":\"heatmap\",\"colorbar\":{\"outlinewidth\":0,\"ticks\":\"\"},\"colorscale\":[[0.0,\"#0d0887\"],[0.1111111111111111,\"#46039f\"],[0.2222222222222222,\"#7201a8\"],[0.3333333333333333,\"#9c179e\"],[0.4444444444444444,\"#bd3786\"],[0.5555555555555556,\"#d8576b\"],[0.6666666666666666,\"#ed7953\"],[0.7777777777777778,\"#fb9f3a\"],[0.8888888888888888,\"#fdca26\"],[1.0,\"#f0f921\"]]}],\"heatmapgl\":[{\"type\":\"heatmapgl\",\"colorbar\":{\"outlinewidth\":0,\"ticks\":\"\"},\"colorscale\":[[0.0,\"#0d0887\"],[0.1111111111111111,\"#46039f\"],[0.2222222222222222,\"#7201a8\"],[0.3333333333333333,\"#9c179e\"],[0.4444444444444444,\"#bd3786\"],[0.5555555555555556,\"#d8576b\"],[0.6666666666666666,\"#ed7953\"],[0.7777777777777778,\"#fb9f3a\"],[0.8888888888888888,\"#fdca26\"],[1.0,\"#f0f921\"]]}],\"contourcarpet\":[{\"type\":\"contourcarpet\",\"colorbar\":{\"outlinewidth\":0,\"ticks\":\"\"}}],\"contour\":[{\"type\":\"contour\",\"colorbar\":{\"outlinewidth\":0,\"ticks\":\"\"},\"colorscale\":[[0.0,\"#0d0887\"],[0.1111111111111111,\"#46039f\"],[0.2222222222222222,\"#7201a8\"],[0.3333333333333333,\"#9c179e\"],[0.4444444444444444,\"#bd3786\"],[0.5555555555555556,\"#d8576b\"],[0.6666666666666666,\"#ed7953\"],[0.7777777777777778,\"#fb9f3a\"],[0.8888888888888888,\"#fdca26\"],[1.0,\"#f0f921\"]]}],\"surface\":[{\"type\":\"surface\",\"colorbar\":{\"outlinewidth\":0,\"ticks\":\"\"},\"colorscale\":[[0.0,\"#0d0887\"],[0.1111111111111111,\"#46039f\"],[0.2222222222222222,\"#7201a8\"],[0.3333333333333333,\"#9c179e\"],[0.4444444444444444,\"#bd3786\"],[0.5555555555555556,\"#d8576b\"],[0.6666666666666666,\"#ed7953\"],[0.7777777777777778,\"#fb9f3a\"],[0.8888888888888888,\"#fdca26\"],[1.0,\"#f0f921\"]]}],\"mesh3d\":[{\"type\":\"mesh3d\",\"colorbar\":{\"outlinewidth\":0,\"ticks\":\"\"}}],\"scatter\":[{\"fillpattern\":{\"fillmode\":\"overlay\",\"size\":10,\"solidity\":0.2},\"type\":\"scatter\"}],\"parcoords\":[{\"type\":\"parcoords\",\"line\":{\"colorbar\":{\"outlinewidth\":0,\"ticks\":\"\"}}}],\"scatterpolargl\":[{\"type\":\"scatterpolargl\",\"marker\":{\"colorbar\":{\"outlinewidth\":0,\"ticks\":\"\"}}}],\"bar\":[{\"error_x\":{\"color\":\"#2a3f5f\"},\"error_y\":{\"color\":\"#2a3f5f\"},\"marker\":{\"line\":{\"color\":\"white\",\"width\":0.5},\"pattern\":{\"fillmode\":\"overlay\",\"size\":10,\"solidity\":0.2}},\"type\":\"bar\"}],\"scattergeo\":[{\"type\":\"scattergeo\",\"marker\":{\"colorbar\":{\"outlinewidth\":0,\"ticks\":\"\"}}}],\"scatterpolar\":[{\"type\":\"scatterpolar\",\"marker\":{\"colorbar\":{\"outlinewidth\":0,\"ticks\":\"\"}}}],\"histogram\":[{\"marker\":{\"pattern\":{\"fillmode\":\"overlay\",\"size\":10,\"solidity\":0.2}},\"type\":\"histogram\"}],\"scattergl\":[{\"type\":\"scattergl\",\"marker\":{\"colorbar\":{\"outlinewidth\":0,\"ticks\":\"\"}}}],\"scatter3d\":[{\"type\":\"scatter3d\",\"line\":{\"colorbar\":{\"outlinewidth\":0,\"ticks\":\"\"}},\"marker\":{\"colorbar\":{\"outlinewidth\":0,\"ticks\":\"\"}}}],\"scattermapbox\":[{\"type\":\"scattermapbox\",\"marker\":{\"colorbar\":{\"outlinewidth\":0,\"ticks\":\"\"}}}],\"scatterternary\":[{\"type\":\"scatterternary\",\"marker\":{\"colorbar\":{\"outlinewidth\":0,\"ticks\":\"\"}}}],\"scattercarpet\":[{\"type\":\"scattercarpet\",\"marker\":{\"colorbar\":{\"outlinewidth\":0,\"ticks\":\"\"}}}],\"carpet\":[{\"aaxis\":{\"endlinecolor\":\"#2a3f5f\",\"gridcolor\":\"#C8D4E3\",\"linecolor\":\"#C8D4E3\",\"minorgridcolor\":\"#C8D4E3\",\"startlinecolor\":\"#2a3f5f\"},\"baxis\":{\"endlinecolor\":\"#2a3f5f\",\"gridcolor\":\"#C8D4E3\",\"linecolor\":\"#C8D4E3\",\"minorgridcolor\":\"#C8D4E3\",\"startlinecolor\":\"#2a3f5f\"},\"type\":\"carpet\"}],\"table\":[{\"cells\":{\"fill\":{\"color\":\"#EBF0F8\"},\"line\":{\"color\":\"white\"}},\"header\":{\"fill\":{\"color\":\"#C8D4E3\"},\"line\":{\"color\":\"white\"}},\"type\":\"table\"}],\"barpolar\":[{\"marker\":{\"line\":{\"color\":\"white\",\"width\":0.5},\"pattern\":{\"fillmode\":\"overlay\",\"size\":10,\"solidity\":0.2}},\"type\":\"barpolar\"}],\"pie\":[{\"automargin\":true,\"type\":\"pie\"}]},\"layout\":{\"autotypenumbers\":\"strict\",\"colorway\":[\"#636efa\",\"#EF553B\",\"#00cc96\",\"#ab63fa\",\"#FFA15A\",\"#19d3f3\",\"#FF6692\",\"#B6E880\",\"#FF97FF\",\"#FECB52\"],\"font\":{\"color\":\"#2a3f5f\"},\"hovermode\":\"closest\",\"hoverlabel\":{\"align\":\"left\"},\"paper_bgcolor\":\"white\",\"plot_bgcolor\":\"white\",\"polar\":{\"bgcolor\":\"white\",\"angularaxis\":{\"gridcolor\":\"#EBF0F8\",\"linecolor\":\"#EBF0F8\",\"ticks\":\"\"},\"radialaxis\":{\"gridcolor\":\"#EBF0F8\",\"linecolor\":\"#EBF0F8\",\"ticks\":\"\"}},\"ternary\":{\"bgcolor\":\"white\",\"aaxis\":{\"gridcolor\":\"#DFE8F3\",\"linecolor\":\"#A2B1C6\",\"ticks\":\"\"},\"baxis\":{\"gridcolor\":\"#DFE8F3\",\"linecolor\":\"#A2B1C6\",\"ticks\":\"\"},\"caxis\":{\"gridcolor\":\"#DFE8F3\",\"linecolor\":\"#A2B1C6\",\"ticks\":\"\"}},\"coloraxis\":{\"colorbar\":{\"outlinewidth\":0,\"ticks\":\"\"}},\"colorscale\":{\"sequential\":[[0.0,\"#0d0887\"],[0.1111111111111111,\"#46039f\"],[0.2222222222222222,\"#7201a8\"],[0.3333333333333333,\"#9c179e\"],[0.4444444444444444,\"#bd3786\"],[0.5555555555555556,\"#d8576b\"],[0.6666666666666666,\"#ed7953\"],[0.7777777777777778,\"#fb9f3a\"],[0.8888888888888888,\"#fdca26\"],[1.0,\"#f0f921\"]],\"sequentialminus\":[[0.0,\"#0d0887\"],[0.1111111111111111,\"#46039f\"],[0.2222222222222222,\"#7201a8\"],[0.3333333333333333,\"#9c179e\"],[0.4444444444444444,\"#bd3786\"],[0.5555555555555556,\"#d8576b\"],[0.6666666666666666,\"#ed7953\"],[0.7777777777777778,\"#fb9f3a\"],[0.8888888888888888,\"#fdca26\"],[1.0,\"#f0f921\"]],\"diverging\":[[0,\"#8e0152\"],[0.1,\"#c51b7d\"],[0.2,\"#de77ae\"],[0.3,\"#f1b6da\"],[0.4,\"#fde0ef\"],[0.5,\"#f7f7f7\"],[0.6,\"#e6f5d0\"],[0.7,\"#b8e186\"],[0.8,\"#7fbc41\"],[0.9,\"#4d9221\"],[1,\"#276419\"]]},\"xaxis\":{\"gridcolor\":\"#EBF0F8\",\"linecolor\":\"#EBF0F8\",\"ticks\":\"\",\"title\":{\"standoff\":15},\"zerolinecolor\":\"#EBF0F8\",\"automargin\":true,\"zerolinewidth\":2},\"yaxis\":{\"gridcolor\":\"#EBF0F8\",\"linecolor\":\"#EBF0F8\",\"ticks\":\"\",\"title\":{\"standoff\":15},\"zerolinecolor\":\"#EBF0F8\",\"automargin\":true,\"zerolinewidth\":2},\"scene\":{\"xaxis\":{\"backgroundcolor\":\"white\",\"gridcolor\":\"#DFE8F3\",\"linecolor\":\"#EBF0F8\",\"showbackground\":true,\"ticks\":\"\",\"zerolinecolor\":\"#EBF0F8\",\"gridwidth\":2},\"yaxis\":{\"backgroundcolor\":\"white\",\"gridcolor\":\"#DFE8F3\",\"linecolor\":\"#EBF0F8\",\"showbackground\":true,\"ticks\":\"\",\"zerolinecolor\":\"#EBF0F8\",\"gridwidth\":2},\"zaxis\":{\"backgroundcolor\":\"white\",\"gridcolor\":\"#DFE8F3\",\"linecolor\":\"#EBF0F8\",\"showbackground\":true,\"ticks\":\"\",\"zerolinecolor\":\"#EBF0F8\",\"gridwidth\":2}},\"shapedefaults\":{\"line\":{\"color\":\"#2a3f5f\"}},\"annotationdefaults\":{\"arrowcolor\":\"#2a3f5f\",\"arrowhead\":0,\"arrowwidth\":1},\"geo\":{\"bgcolor\":\"white\",\"landcolor\":\"white\",\"subunitcolor\":\"#C8D4E3\",\"showland\":true,\"showlakes\":true,\"lakecolor\":\"white\"},\"title\":{\"x\":0.05},\"mapbox\":{\"style\":\"light\"}}},\"yaxis\":{\"scaleanchor\":\"x\",\"scaleratio\":1},\"shapes\":[{\"line\":{\"color\":\"LightSeaGreen\"},\"type\":\"rect\",\"x0\":-0.715,\"x1\":0.715,\"xref\":\"x\",\"y0\":-0.645,\"y1\":0.645,\"yref\":\"y\"},{\"line\":{\"color\":\"LightSeaGreen\"},\"type\":\"rect\",\"x0\":0.715,\"x1\":1.7149999999999999,\"xref\":\"x\",\"y0\":-0.25,\"y1\":0.25,\"yref\":\"y\"},{\"line\":{\"color\":\"grey\",\"dash\":\"dot\",\"width\":1},\"type\":\"line\",\"x0\":-2.25527572437235,\"x1\":-1.9160083342855503,\"xref\":\"x\",\"y0\":-6.0217098348432,\"y1\":-6.025695483920559,\"yref\":\"y\"},{\"line\":{\"color\":\"grey\",\"dash\":\"dot\",\"width\":1},\"type\":\"line\",\"x0\":-0.6863305711204967,\"x1\":-0.8868689677633831,\"xref\":\"x\",\"y0\":-3.9250926272896725,\"y1\":-3.456448785419918,\"yref\":\"y\"},{\"line\":{\"color\":\"grey\",\"dash\":\"dot\",\"width\":1},\"type\":\"line\",\"x0\":-1.09260276821096,\"x1\":-1.0907761773491609,\"xref\":\"x\",\"y0\":-3.2188676611310387,\"y1\":-3.174783930079692,\"yref\":\"y\"},{\"line\":{\"color\":\"grey\",\"dash\":\"dot\",\"width\":1},\"type\":\"line\",\"x0\":0.4081790927555591,\"x1\":0.5363045730514803,\"xref\":\"x\",\"y0\":-2.417010819444764,\"y1\":-2.229845490032148,\"yref\":\"y\"},{\"line\":{\"color\":\"grey\",\"dash\":\"dot\",\"width\":1},\"type\":\"line\",\"x0\":-0.6600280277042457,\"x1\":-1.8282829921346,\"xref\":\"x\",\"y0\":-5.017146900369991,\"y1\":-4.613908587270353,\"yref\":\"y\"},{\"line\":{\"color\":\"grey\",\"dash\":\"dot\",\"width\":1},\"type\":\"line\",\"x0\":1.0516864449685956,\"x1\":1.0331710866603472,\"xref\":\"x\",\"y0\":-3.059893494459369,\"y1\":-2.7270642291530267,\"yref\":\"y\"},{\"line\":{\"color\":\"grey\",\"dash\":\"dot\",\"width\":1},\"type\":\"line\",\"x0\":0.4903492025103539,\"x1\":0.24024931953531206,\"xref\":\"x\",\"y0\":-3.381205154049921,\"y1\":-3.1039579865256033,\"yref\":\"y\"},{\"line\":{\"color\":\"grey\",\"dash\":\"dot\",\"width\":1},\"type\":\"line\",\"x0\":2.594424108304924,\"x1\":2.952401974892819,\"xref\":\"x\",\"y0\":-5.977159154081255,\"y1\":-5.70921414601128,\"yref\":\"y\"},{\"line\":{\"color\":\"grey\",\"dash\":\"dot\",\"width\":1},\"type\":\"line\",\"x0\":-0.4498042933038507,\"x1\":-0.3783240736682838,\"xref\":\"x\",\"y0\":-2.114521602402437,\"y1\":-1.8079899860434592,\"yref\":\"y\"},{\"line\":{\"color\":\"grey\",\"dash\":\"dot\",\"width\":1},\"type\":\"line\",\"x0\":0.39034291090775386,\"x1\":0.60120598450768,\"xref\":\"x\",\"y0\":-2.4138865164230237,\"y1\":-2.1086450115441395,\"yref\":\"y\"},{\"line\":{\"color\":\"grey\",\"dash\":\"dot\",\"width\":1},\"type\":\"line\",\"x0\":2.6925091416034626,\"x1\":3.4390258206169904,\"xref\":\"x\",\"y0\":-5.489065744223065,\"y1\":-4.880430059432009,\"yref\":\"y\"},{\"line\":{\"color\":\"grey\",\"dash\":\"dot\",\"width\":1},\"type\":\"line\",\"x0\":0.6228280113528276,\"x1\":0.737076803239281,\"xref\":\"x\",\"y0\":-5.027248980860364,\"y1\":-4.721650122423186,\"yref\":\"y\"},{\"line\":{\"color\":\"grey\",\"dash\":\"dot\",\"width\":1},\"type\":\"line\",\"x0\":1.0620208499891084,\"x1\":1.253342275117249,\"xref\":\"x\",\"y0\":-3.822447975349659,\"y1\":-3.357520339961866,\"yref\":\"y\"},{\"line\":{\"color\":\"grey\",\"dash\":\"dot\",\"width\":1},\"type\":\"line\",\"x0\":1.0768334669244688,\"x1\":1.1609843868419376,\"xref\":\"x\",\"y0\":-5.725525244553708,\"y1\":-5.540757820074929,\"yref\":\"y\"},{\"line\":{\"color\":\"grey\",\"dash\":\"dot\",\"width\":1},\"type\":\"line\",\"x0\":-0.18323219431154508,\"x1\":-0.22461740032811833,\"xref\":\"x\",\"y0\":-0.7090101605828938,\"y1\":-1.04628371722023,\"yref\":\"y\"},{\"line\":{\"color\":\"grey\",\"dash\":\"dot\",\"width\":1},\"type\":\"line\",\"x0\":-0.4999215766138868,\"x1\":-0.7562112772901373,\"xref\":\"x\",\"y0\":-2.450122862670663,\"y1\":-2.258109771768233,\"yref\":\"y\"},{\"line\":{\"color\":\"grey\",\"dash\":\"dot\",\"width\":1},\"type\":\"line\",\"x0\":-0.5060032535048913,\"x1\":-0.5932856964726329,\"xref\":\"x\",\"y0\":-4.391179567428127,\"y1\":-4.13213651580048,\"yref\":\"y\"},{\"line\":{\"color\":\"grey\",\"dash\":\"dot\",\"width\":1},\"type\":\"line\",\"x0\":0.20367073291542806,\"x1\":0.011160160670766764,\"xref\":\"x\",\"y0\":-4.377201706692908,\"y1\":-3.725521314632054,\"yref\":\"y\"},{\"line\":{\"color\":\"grey\",\"dash\":\"dot\",\"width\":1},\"type\":\"line\",\"x0\":-0.22989123447202106,\"x1\":-0.25546218116342206,\"xref\":\"x\",\"y0\":-2.2779803268720156,\"y1\":-2.2639946460276863,\"yref\":\"y\"},{\"line\":{\"color\":\"grey\",\"dash\":\"dot\",\"width\":1},\"type\":\"line\",\"x0\":-0.12265894022923911,\"x1\":0.7170948190156187,\"xref\":\"x\",\"y0\":-5.987954894422695,\"y1\":-5.887127681277981,\"yref\":\"y\"},{\"line\":{\"color\":\"grey\",\"dash\":\"dot\",\"width\":1},\"type\":\"line\",\"x0\":-0.29526786496042134,\"x1\":-1.2857181417039978,\"xref\":\"x\",\"y0\":-6.207980025852088,\"y1\":-5.940264645957805,\"yref\":\"y\"},{\"line\":{\"color\":\"grey\",\"dash\":\"dot\",\"width\":1},\"type\":\"line\",\"x0\":-0.4628024545209806,\"x1\":0.34117659900445774,\"xref\":\"x\",\"y0\":-4.611799613684888,\"y1\":-4.431482105901976,\"yref\":\"y\"},{\"line\":{\"color\":\"grey\",\"dash\":\"dot\",\"width\":1},\"type\":\"line\",\"x0\":-0.0030524172543846457,\"x1\":1.3364809082519997,\"xref\":\"x\",\"y0\":-6.015124142545031,\"y1\":-5.8503220568481655,\"yref\":\"y\"},{\"line\":{\"color\":\"grey\",\"dash\":\"dot\",\"width\":1},\"type\":\"line\",\"x0\":-1.1143909736946838,\"x1\":-1.720085613203235,\"xref\":\"x\",\"y0\":-4.574961750070518,\"y1\":-3.326746248093304,\"yref\":\"y\"},{\"line\":{\"color\":\"grey\",\"dash\":\"dot\",\"width\":1},\"type\":\"line\",\"x0\":-0.9421895821190641,\"x1\":-0.6545905854068291,\"xref\":\"x\",\"y0\":-4.732487570908206,\"y1\":-4.297976974157425,\"yref\":\"y\"},{\"line\":{\"color\":\"grey\",\"dash\":\"dot\",\"width\":1},\"type\":\"line\",\"x0\":-2.494425168708397,\"x1\":-2.094933207132126,\"xref\":\"x\",\"y0\":-5.469427226397552,\"y1\":-5.226844202379884,\"yref\":\"y\"},{\"line\":{\"color\":\"grey\",\"dash\":\"dot\",\"width\":1},\"type\":\"line\",\"x0\":-1.3686537351314112,\"x1\":-1.4788814528807162,\"xref\":\"x\",\"y0\":-3.283539676068756,\"y1\":-3.137551086794981,\"yref\":\"y\"},{\"line\":{\"color\":\"grey\",\"dash\":\"dot\",\"width\":1},\"type\":\"line\",\"x0\":-0.5738751496763375,\"x1\":0.07618137338327387,\"xref\":\"x\",\"y0\":-3.1311593710798835,\"y1\":-2.896608150799119,\"yref\":\"y\"},{\"line\":{\"color\":\"grey\",\"dash\":\"dot\",\"width\":1},\"type\":\"line\",\"x0\":-0.3602586863588421,\"x1\":-0.6252657637288523,\"xref\":\"x\",\"y0\":-3.2144151290784246,\"y1\":-3.1033659607236554,\"yref\":\"y\"},{\"line\":{\"color\":\"grey\",\"dash\":\"dot\",\"width\":1},\"type\":\"line\",\"x0\":-0.33016679908830987,\"x1\":0.22644339811059985,\"xref\":\"x\",\"y0\":-4.803195125192153,\"y1\":-4.687873509497297,\"yref\":\"y\"},{\"line\":{\"color\":\"grey\",\"dash\":\"dot\",\"width\":1},\"type\":\"line\",\"x0\":0.35900333624671965,\"x1\":0.6692966206408004,\"xref\":\"x\",\"y0\":-0.4826861925779281,\"y1\":-0.8840851928814774,\"yref\":\"y\"},{\"line\":{\"color\":\"grey\",\"dash\":\"dot\",\"width\":1},\"type\":\"line\",\"x0\":-3.2370946442718345,\"x1\":-3.6399919693471796,\"xref\":\"x\",\"y0\":-5.580931256427202,\"y1\":-5.0727597836092215,\"yref\":\"y\"},{\"line\":{\"color\":\"grey\",\"dash\":\"dot\",\"width\":1},\"type\":\"line\",\"x0\":0.2630304739688972,\"x1\":0.14740974375625476,\"xref\":\"x\",\"y0\":-0.9055295721420187,\"y1\":-0.912527979581196,\"yref\":\"y\"},{\"line\":{\"color\":\"grey\",\"dash\":\"dot\",\"width\":1},\"type\":\"line\",\"x0\":-0.010749279416039051,\"x1\":-0.11965896325915994,\"xref\":\"x\",\"y0\":-1.3718521051664327,\"y1\":-1.724857757110195,\"yref\":\"y\"},{\"line\":{\"color\":\"grey\",\"dash\":\"dot\",\"width\":1},\"type\":\"line\",\"x0\":-1.3251270119304928,\"x1\":-1.1945506450155559,\"xref\":\"x\",\"y0\":-2.432016280201845,\"y1\":-2.4447119593532065,\"yref\":\"y\"},{\"line\":{\"color\":\"grey\",\"dash\":\"dot\",\"width\":1},\"type\":\"line\",\"x0\":-2.408934633348917,\"x1\":-3.318483865018939,\"xref\":\"x\",\"y0\":-5.592311583677667,\"y1\":-5.021150177435948,\"yref\":\"y\"},{\"line\":{\"color\":\"grey\",\"dash\":\"dot\",\"width\":1},\"type\":\"line\",\"x0\":-0.2224904645941831,\"x1\":0.03602790566187535,\"xref\":\"x\",\"y0\":-2.4844051889353613,\"y1\":-2.1306689455981433,\"yref\":\"y\"},{\"line\":{\"color\":\"grey\",\"dash\":\"dot\",\"width\":1},\"type\":\"line\",\"x0\":1.108492504872508,\"x1\":1.3253280779396768,\"xref\":\"x\",\"y0\":-3.06451083094738,\"y1\":-2.700686093614193,\"yref\":\"y\"},{\"line\":{\"color\":\"grey\",\"dash\":\"dot\",\"width\":1},\"type\":\"line\",\"x0\":1.6653700471832218,\"x1\":2.0620874098401862,\"xref\":\"x\",\"y0\":-5.184922955923347,\"y1\":-4.8998145765150305,\"yref\":\"y\"},{\"line\":{\"color\":\"grey\",\"dash\":\"dot\",\"width\":1},\"type\":\"line\",\"x0\":-2.2692917527904357,\"x1\":-1.8758061235425816,\"xref\":\"x\",\"y0\":-3.7922464223633106,\"y1\":-3.7463059880615983,\"yref\":\"y\"},{\"line\":{\"color\":\"grey\",\"dash\":\"dot\",\"width\":1},\"type\":\"line\",\"x0\":0.4846594941832578,\"x1\":-0.06567962417860154,\"xref\":\"x\",\"y0\":-4.3955414072973555,\"y1\":-4.050839612202398,\"yref\":\"y\"},{\"line\":{\"color\":\"grey\",\"dash\":\"dot\",\"width\":1},\"type\":\"line\",\"x0\":-1.0644245764781992,\"x1\":-0.8097670637449986,\"xref\":\"x\",\"y0\":-4.446737936984537,\"y1\":-4.010036430008508,\"yref\":\"y\"},{\"line\":{\"color\":\"grey\",\"dash\":\"dot\",\"width\":1},\"type\":\"line\",\"x0\":0.22313947238223325,\"x1\":0.0738693117690149,\"xref\":\"x\",\"y0\":-2.324139255511428,\"y1\":-2.213016521300109,\"yref\":\"y\"},{\"line\":{\"color\":\"grey\",\"dash\":\"dot\",\"width\":1},\"type\":\"line\",\"x0\":0.05353842992369966,\"x1\":0.025730501616562814,\"xref\":\"x\",\"y0\":-2.7516057634897897,\"y1\":-2.586552859243982,\"yref\":\"y\"},{\"line\":{\"color\":\"grey\",\"dash\":\"dot\",\"width\":1},\"type\":\"line\",\"x0\":-0.1670502518308575,\"x1\":-0.3286880343417977,\"xref\":\"x\",\"y0\":-5.0005652132094465,\"y1\":-4.607351421444435,\"yref\":\"y\"},{\"line\":{\"color\":\"grey\",\"dash\":\"dot\",\"width\":1},\"type\":\"line\",\"x0\":1.3433799966462585,\"x1\":1.650847287095881,\"xref\":\"x\",\"y0\":-4.73697219462965,\"y1\":-4.492858473620703,\"yref\":\"y\"},{\"line\":{\"color\":\"grey\",\"dash\":\"dot\",\"width\":1},\"type\":\"line\",\"x0\":1.2037435017197402,\"x1\":1.2594313166237963,\"xref\":\"x\",\"y0\":-5.1938076850884345,\"y1\":-5.073015402091889,\"yref\":\"y\"},{\"line\":{\"color\":\"grey\",\"dash\":\"dot\",\"width\":1},\"type\":\"line\",\"x0\":0.18365102442974282,\"x1\":0.027480016150159988,\"xref\":\"x\",\"y0\":-1.5086975065437516,\"y1\":-1.5634448349679668,\"yref\":\"y\"},{\"line\":{\"color\":\"grey\",\"dash\":\"dot\",\"width\":1},\"type\":\"line\",\"x0\":-0.5253748606656754,\"x1\":-0.7387456753236441,\"xref\":\"x\",\"y0\":-2.286224003746143,\"y1\":-2.1508168636112375,\"yref\":\"y\"},{\"line\":{\"color\":\"grey\",\"dash\":\"dot\",\"width\":1},\"type\":\"line\",\"x0\":-2.528377967299379,\"x1\":-2.294588779374407,\"xref\":\"x\",\"y0\":-5.665731136042691,\"y1\":-5.432647537716127,\"yref\":\"y\"},{\"line\":{\"color\":\"grey\",\"dash\":\"dot\",\"width\":1},\"type\":\"line\",\"x0\":-0.012308885208018617,\"x1\":-0.02667350002843403,\"xref\":\"x\",\"y0\":-2.5715240919073903,\"y1\":-2.3523941915344997,\"yref\":\"y\"},{\"line\":{\"color\":\"grey\",\"dash\":\"dot\",\"width\":1},\"type\":\"line\",\"x0\":-0.5194432678406667,\"x1\":-0.44494830411965663,\"xref\":\"x\",\"y0\":-5.294270840759193,\"y1\":-5.0995935167293585,\"yref\":\"y\"},{\"line\":{\"color\":\"grey\",\"dash\":\"dot\",\"width\":1},\"type\":\"line\",\"x0\":-1.2949003053577928,\"x1\":-1.2456923380291554,\"xref\":\"x\",\"y0\":-5.104836946889578,\"y1\":-4.976146323054517,\"yref\":\"y\"},{\"line\":{\"color\":\"grey\",\"dash\":\"dot\",\"width\":1},\"type\":\"line\",\"x0\":3.112570156812654,\"x1\":3.3091370260289685,\"xref\":\"x\",\"y0\":-6.201129436953239,\"y1\":-5.88313187829596,\"yref\":\"y\"},{\"line\":{\"color\":\"grey\",\"dash\":\"dot\",\"width\":1},\"type\":\"line\",\"x0\":-0.16529274329774415,\"x1\":0.14212687238097219,\"xref\":\"x\",\"y0\":-1.7640861294334214,\"y1\":-1.7708078122890414,\"yref\":\"y\"},{\"line\":{\"color\":\"grey\",\"dash\":\"dot\",\"width\":1},\"type\":\"line\",\"x0\":-4.081889856468741,\"x1\":-4.548250533030807,\"xref\":\"x\",\"y0\":-5.525277219401777,\"y1\":-5.932464132362617,\"yref\":\"y\"},{\"line\":{\"color\":\"grey\",\"dash\":\"dot\",\"width\":1},\"type\":\"line\",\"x0\":0.5192850662554145,\"x1\":0.8836752971337648,\"xref\":\"x\",\"y0\":-6.037710591716963,\"y1\":-6.089629713772752,\"yref\":\"y\"},{\"line\":{\"color\":\"grey\",\"dash\":\"dot\",\"width\":1},\"type\":\"line\",\"x0\":-1.230325197938268,\"x1\":-1.0438101182212005,\"xref\":\"x\",\"y0\":-5.56390769967872,\"y1\":-5.572936252527174,\"yref\":\"y\"},{\"line\":{\"color\":\"grey\",\"dash\":\"dot\",\"width\":1},\"type\":\"line\",\"x0\":-0.12424761384550086,\"x1\":-0.08617655866489826,\"xref\":\"x\",\"y0\":-1.092744759380183,\"y1\":-1.0416143559717483,\"yref\":\"y\"},{\"line\":{\"color\":\"grey\",\"dash\":\"dot\",\"width\":1},\"type\":\"line\",\"x0\":0.696117551131128,\"x1\":0.8170636939244387,\"xref\":\"x\",\"y0\":-5.3526119331375535,\"y1\":-4.943921247295076,\"yref\":\"y\"},{\"line\":{\"color\":\"grey\",\"dash\":\"dot\",\"width\":1},\"type\":\"line\",\"x0\":0.3373156119905225,\"x1\":0.39358503343728185,\"xref\":\"x\",\"y0\":-4.886211005323831,\"y1\":-4.6388427927099976,\"yref\":\"y\"},{\"line\":{\"color\":\"grey\",\"dash\":\"dot\",\"width\":1},\"type\":\"line\",\"x0\":-0.13311353090408407,\"x1\":-0.48702290996656844,\"xref\":\"x\",\"y0\":-2.0949472504793434,\"y1\":-2.2243099903712866,\"yref\":\"y\"},{\"line\":{\"color\":\"grey\",\"dash\":\"dot\",\"width\":1},\"type\":\"line\",\"x0\":-0.19260642994285243,\"x1\":0.6256595399815971,\"xref\":\"x\",\"y0\":-5.876473830786174,\"y1\":-5.937528275692381,\"yref\":\"y\"},{\"line\":{\"color\":\"grey\",\"dash\":\"dot\",\"width\":1},\"type\":\"line\",\"x0\":-0.036013601527973775,\"x1\":-0.28795750905716294,\"xref\":\"x\",\"y0\":-0.44686072018372414,\"y1\":-1.0725864696721945,\"yref\":\"y\"},{\"line\":{\"color\":\"grey\",\"dash\":\"dot\",\"width\":1},\"type\":\"line\",\"x0\":1.7631245162795643,\"x1\":2.250653255821625,\"xref\":\"x\",\"y0\":-4.797287116016162,\"y1\":-4.666878702563219,\"yref\":\"y\"},{\"line\":{\"color\":\"grey\",\"dash\":\"dot\",\"width\":1},\"type\":\"line\",\"x0\":-1.2053634698371443,\"x1\":-1.2843523283430593,\"xref\":\"x\",\"y0\":-3.1097388525429825,\"y1\":-2.792996444851313,\"yref\":\"y\"},{\"line\":{\"color\":\"grey\",\"dash\":\"dot\",\"width\":1},\"type\":\"line\",\"x0\":0.6443321522781589,\"x1\":1.1207984100431865,\"xref\":\"x\",\"y0\":-3.712760653494235,\"y1\":-3.090921407834069,\"yref\":\"y\"},{\"line\":{\"color\":\"grey\",\"dash\":\"dot\",\"width\":1},\"type\":\"line\",\"x0\":1.1770412652375035,\"x1\":1.6230039528120803,\"xref\":\"x\",\"y0\":-3.9430662209205884,\"y1\":-3.532386113177649,\"yref\":\"y\"},{\"line\":{\"color\":\"grey\",\"dash\":\"dot\",\"width\":1},\"type\":\"line\",\"x0\":-2.896362065068729,\"x1\":-2.8323007549359542,\"xref\":\"x\",\"y0\":-4.472619754550262,\"y1\":-4.406382033666268,\"yref\":\"y\"},{\"line\":{\"color\":\"grey\",\"dash\":\"dot\",\"width\":1},\"type\":\"line\",\"x0\":-1.352997735649258,\"x1\":-1.2597001518299638,\"xref\":\"x\",\"y0\":-5.417400092325916,\"y1\":-4.991497851551584,\"yref\":\"y\"},{\"line\":{\"color\":\"grey\",\"dash\":\"dot\",\"width\":1},\"type\":\"line\",\"x0\":-0.5013291545663245,\"x1\":-0.5301125636035624,\"xref\":\"x\",\"y0\":-3.888659626631493,\"y1\":-3.5702923455578204,\"yref\":\"y\"},{\"line\":{\"color\":\"grey\",\"dash\":\"dot\",\"width\":1},\"type\":\"line\",\"x0\":-1.032777244848888,\"x1\":-0.9724642529035016,\"xref\":\"x\",\"y0\":-3.753729375613135,\"y1\":-3.5643905081753244,\"yref\":\"y\"},{\"line\":{\"color\":\"grey\",\"dash\":\"dot\",\"width\":1},\"type\":\"line\",\"x0\":-2.6719145748868542,\"x1\":-2.9274721939294333,\"xref\":\"x\",\"y0\":-5.035647775762008,\"y1\":-4.589601921518101,\"yref\":\"y\"},{\"line\":{\"color\":\"grey\",\"dash\":\"dot\",\"width\":1},\"type\":\"line\",\"x0\":0.25191666097486054,\"x1\":0.28553705771232646,\"xref\":\"x\",\"y0\":-1.3269892065622864,\"y1\":-1.5577564552090277,\"yref\":\"y\"},{\"line\":{\"color\":\"grey\",\"dash\":\"dot\",\"width\":1},\"type\":\"line\",\"x0\":-2.47298466897649,\"x1\":-3.0947760310777848,\"xref\":\"x\",\"y0\":-5.306868255259215,\"y1\":-4.831730352219439,\"yref\":\"y\"},{\"line\":{\"color\":\"grey\",\"dash\":\"dot\",\"width\":1},\"type\":\"line\",\"x0\":-0.3091823072022874,\"x1\":-0.7046626818540637,\"xref\":\"x\",\"y0\":-4.976124681212267,\"y1\":-4.804105159447032,\"yref\":\"y\"},{\"line\":{\"color\":\"grey\",\"dash\":\"dot\",\"width\":1},\"type\":\"line\",\"x0\":-2.324196606117152,\"x1\":-1.8945356462128031,\"xref\":\"x\",\"y0\":-4.328500153378277,\"y1\":-3.6462991838735475,\"yref\":\"y\"},{\"line\":{\"color\":\"grey\",\"dash\":\"dot\",\"width\":1},\"type\":\"line\",\"x0\":0.9793585510499738,\"x1\":1.2624180192576968,\"xref\":\"x\",\"y0\":-5.18954167503313,\"y1\":-5.052463343061147,\"yref\":\"y\"},{\"line\":{\"color\":\"grey\",\"dash\":\"dot\",\"width\":1},\"type\":\"line\",\"x0\":-0.21634985100489673,\"x1\":-0.2466037563488631,\"xref\":\"x\",\"y0\":-0.9760186377663363,\"y1\":-0.9252254149215414,\"yref\":\"y\"},{\"line\":{\"color\":\"grey\",\"dash\":\"dot\",\"width\":1},\"type\":\"line\",\"x0\":-3.274558299282272,\"x1\":-3.8363677568479146,\"xref\":\"x\",\"y0\":-5.936978119462664,\"y1\":-5.5908581268956,\"yref\":\"y\"},{\"line\":{\"color\":\"grey\",\"dash\":\"dot\",\"width\":1},\"type\":\"line\",\"x0\":-0.5708235016735524,\"x1\":-0.839349382281289,\"xref\":\"x\",\"y0\":-2.5617630650713283,\"y1\":-2.0829908671451265,\"yref\":\"y\"},{\"line\":{\"color\":\"grey\",\"dash\":\"dot\",\"width\":1},\"type\":\"line\",\"x0\":0.43349563160909343,\"x1\":0.5517795277185489,\"xref\":\"x\",\"y0\":-2.226798439974631,\"y1\":-2.1333258567000284,\"yref\":\"y\"},{\"line\":{\"color\":\"grey\",\"dash\":\"dot\",\"width\":1},\"type\":\"line\",\"x0\":-0.571853151108375,\"x1\":-0.5636971649557571,\"xref\":\"x\",\"y0\":-3.6508659795580325,\"y1\":-3.456703586364695,\"yref\":\"y\"},{\"line\":{\"color\":\"grey\",\"dash\":\"dot\",\"width\":1},\"type\":\"line\",\"x0\":0.3587279622184036,\"x1\":0.5295617416792211,\"xref\":\"x\",\"y0\":-1.6689843903724544,\"y1\":-1.7286514033722558,\"yref\":\"y\"},{\"line\":{\"color\":\"grey\",\"dash\":\"dot\",\"width\":1},\"type\":\"line\",\"x0\":1.529630302768509,\"x1\":2.18298928624119,\"xref\":\"x\",\"y0\":-4.624646429276018,\"y1\":-3.839346276893731,\"yref\":\"y\"},{\"line\":{\"color\":\"grey\",\"dash\":\"dot\",\"width\":1},\"type\":\"line\",\"x0\":-0.41276528691433834,\"x1\":-0.40877873515706814,\"xref\":\"x\",\"y0\":-0.9672509210737301,\"y1\":-1.1917982525189006,\"yref\":\"y\"},{\"line\":{\"color\":\"grey\",\"dash\":\"dot\",\"width\":1},\"type\":\"line\",\"x0\":-3.624292517893809,\"x1\":-3.4179461953402455,\"xref\":\"x\",\"y0\":-5.959529874062336,\"y1\":-6.050994121321975,\"yref\":\"y\"},{\"line\":{\"color\":\"grey\",\"dash\":\"dot\",\"width\":1},\"type\":\"line\",\"x0\":-2.3828863834772975,\"x1\":-2.7081480189722686,\"xref\":\"x\",\"y0\":-4.532061506132835,\"y1\":-4.39380258653537,\"yref\":\"y\"},{\"line\":{\"color\":\"grey\",\"dash\":\"dot\",\"width\":1},\"type\":\"line\",\"x0\":-0.6855390390031194,\"x1\":-0.7974895328262482,\"xref\":\"x\",\"y0\":-2.724423934876914,\"y1\":-2.6082521009996116,\"yref\":\"y\"},{\"line\":{\"color\":\"grey\",\"dash\":\"dot\",\"width\":1},\"type\":\"line\",\"x0\":-0.5245327351976405,\"x1\":-0.5965764001986351,\"xref\":\"x\",\"y0\":-2.620495011040691,\"y1\":-2.535208883771211,\"yref\":\"y\"},{\"line\":{\"color\":\"grey\",\"dash\":\"dot\",\"width\":1},\"type\":\"line\",\"x0\":-0.4451949141131461,\"x1\":-0.45890414881432834,\"xref\":\"x\",\"y0\":-2.2746804216921204,\"y1\":-2.3028725806483763,\"yref\":\"y\"},{\"line\":{\"color\":\"grey\",\"dash\":\"dot\",\"width\":1},\"type\":\"line\",\"x0\":-0.9757599026864278,\"x1\":-0.3853420263588895,\"xref\":\"x\",\"y0\":-1.911098498277411,\"y1\":-1.4285537118285776,\"yref\":\"y\"},{\"line\":{\"color\":\"grey\",\"dash\":\"dot\",\"width\":1},\"type\":\"line\",\"x0\":1.79335767169546,\"x1\":2.849908063568957,\"xref\":\"x\",\"y0\":-5.412376439418594,\"y1\":-5.049415411482725,\"yref\":\"y\"},{\"line\":{\"color\":\"grey\",\"dash\":\"dot\",\"width\":1},\"type\":\"line\",\"x0\":0.4920554761633703,\"x1\":0.6039030907802672,\"xref\":\"x\",\"y0\":-0.6403337181235202,\"y1\":-0.9125169561549825,\"yref\":\"y\"},{\"line\":{\"color\":\"grey\",\"dash\":\"dot\",\"width\":1},\"type\":\"line\",\"x0\":-0.4114591257806073,\"x1\":0.01787350764367306,\"xref\":\"x\",\"y0\":-2.788031287967805,\"y1\":-2.762888860254114,\"yref\":\"y\"},{\"line\":{\"color\":\"grey\",\"dash\":\"dot\",\"width\":1},\"type\":\"line\",\"x0\":-2.831573849664427,\"x1\":-3.8433614711296586,\"xref\":\"x\",\"y0\":-6.240923701775089,\"y1\":-6.21604450562421,\"yref\":\"y\"},{\"line\":{\"color\":\"grey\",\"dash\":\"dot\",\"width\":1},\"type\":\"line\",\"x0\":-0.5338775027763384,\"x1\":-0.47124107270562565,\"xref\":\"x\",\"y0\":-0.9331551352652351,\"y1\":-0.953441456152663,\"yref\":\"y\"},{\"line\":{\"color\":\"grey\",\"dash\":\"dot\",\"width\":1},\"type\":\"line\",\"x0\":-0.4235666485826993,\"x1\":-0.5786939922870891,\"xref\":\"x\",\"y0\":-3.559915026142814,\"y1\":-3.5134904205750197,\"yref\":\"y\"},{\"line\":{\"color\":\"grey\",\"dash\":\"dot\",\"width\":1},\"type\":\"line\",\"x0\":-0.8695891164396862,\"x1\":-1.02533381727462,\"xref\":\"x\",\"y0\":-2.5849527433717374,\"y1\":-2.367681703097181,\"yref\":\"y\"},{\"line\":{\"color\":\"grey\",\"dash\":\"dot\",\"width\":1},\"type\":\"line\",\"x0\":-0.2065237343335903,\"x1\":-0.27174352326228207,\"xref\":\"x\",\"y0\":-2.9852285097712286,\"y1\":-2.9505929851821024,\"yref\":\"y\"},{\"line\":{\"color\":\"grey\",\"dash\":\"dot\",\"width\":1},\"type\":\"line\",\"x0\":-0.18178903768527338,\"x1\":-1.1991062188362727,\"xref\":\"x\",\"y0\":-5.982291431012515,\"y1\":-5.651305103479837,\"yref\":\"y\"},{\"line\":{\"color\":\"grey\",\"dash\":\"dot\",\"width\":1},\"type\":\"line\",\"x0\":-0.48581325582349877,\"x1\":-1.1434251389637238,\"xref\":\"x\",\"y0\":-5.916356290953004,\"y1\":-6.171226880869497,\"yref\":\"y\"},{\"line\":{\"color\":\"grey\",\"dash\":\"dot\",\"width\":1},\"type\":\"line\",\"x0\":-2.8736359626307526,\"x1\":-3.2860066944611797,\"xref\":\"x\",\"y0\":-5.132485150597583,\"y1\":-4.714052645406274,\"yref\":\"y\"},{\"line\":{\"color\":\"grey\",\"dash\":\"dot\",\"width\":1},\"type\":\"line\",\"x0\":2.0309405034731327,\"x1\":2.426266051486594,\"xref\":\"x\",\"y0\":-5.024499229690821,\"y1\":-4.644318407803806,\"yref\":\"y\"},{\"line\":{\"color\":\"grey\",\"dash\":\"dot\",\"width\":1},\"type\":\"line\",\"x0\":-1.874177451988565,\"x1\":-1.4209884879246075,\"xref\":\"x\",\"y0\":-4.267741098598844,\"y1\":-3.9984835022694,\"yref\":\"y\"},{\"line\":{\"color\":\"grey\",\"dash\":\"dot\",\"width\":1},\"type\":\"line\",\"x0\":-1.4711068850267262,\"x1\":-0.9145795027813965,\"xref\":\"x\",\"y0\":-5.846283220706527,\"y1\":-5.410792952920252,\"yref\":\"y\"},{\"line\":{\"color\":\"grey\",\"dash\":\"dot\",\"width\":1},\"type\":\"line\",\"x0\":-1.517957124854914,\"x1\":-1.257957100211273,\"xref\":\"x\",\"y0\":-4.271493188395222,\"y1\":-4.088929554630283,\"yref\":\"y\"},{\"line\":{\"color\":\"grey\",\"dash\":\"dot\",\"width\":1},\"type\":\"line\",\"x0\":0.41895291846493243,\"x1\":0.2397839427276115,\"xref\":\"x\",\"y0\":-4.528601515796156,\"y1\":-4.435318953292722,\"yref\":\"y\"},{\"line\":{\"color\":\"grey\",\"dash\":\"dot\",\"width\":1},\"type\":\"line\",\"x0\":-1.5889608245260904,\"x1\":-1.7119885889909765,\"xref\":\"x\",\"y0\":-3.555114339792466,\"y1\":-3.1720890735499223,\"yref\":\"y\"},{\"line\":{\"color\":\"grey\",\"dash\":\"dot\",\"width\":1},\"type\":\"line\",\"x0\":2.599335912808736,\"x1\":4.47916806494881,\"xref\":\"x\",\"y0\":-6.595347792964468,\"y1\":-6.4308343248921584,\"yref\":\"y\"},{\"line\":{\"color\":\"grey\",\"dash\":\"dot\",\"width\":1},\"type\":\"line\",\"x0\":1.3117229188430148,\"x1\":1.4026159541471503,\"xref\":\"x\",\"y0\":-4.3183381645379955,\"y1\":-3.8210498431760085,\"yref\":\"y\"},{\"line\":{\"color\":\"grey\",\"dash\":\"dot\",\"width\":1},\"type\":\"line\",\"x0\":1.5564412526212388,\"x1\":2.6505779715060673,\"xref\":\"x\",\"y0\":-5.671199037231459,\"y1\":-5.1058548030472375,\"yref\":\"y\"},{\"line\":{\"color\":\"grey\",\"dash\":\"dot\",\"width\":1},\"type\":\"line\",\"x0\":-1.1401199632687395,\"x1\":-1.2190232172017177,\"xref\":\"x\",\"y0\":-4.241203071411524,\"y1\":-3.8479096763515614,\"yref\":\"y\"},{\"line\":{\"color\":\"grey\",\"dash\":\"dot\",\"width\":1},\"type\":\"line\",\"x0\":-2.6500950012191455,\"x1\":-3.9878970872050625,\"xref\":\"x\",\"y0\":-5.3803089610676444,\"y1\":-5.044561886823058,\"yref\":\"y\"},{\"line\":{\"color\":\"grey\",\"dash\":\"dot\",\"width\":1},\"type\":\"line\",\"x0\":-3.2584046956152517,\"x1\":-2.5876419981566947,\"xref\":\"x\",\"y0\":-5.783867679529783,\"y1\":-6.169972703836444,\"yref\":\"y\"},{\"line\":{\"color\":\"grey\",\"dash\":\"dot\",\"width\":1},\"type\":\"line\",\"x0\":0.24539408640992597,\"x1\":0.1786799428697863,\"xref\":\"x\",\"y0\":-1.8113947806444621,\"y1\":-1.4399401924209219,\"yref\":\"y\"},{\"line\":{\"color\":\"grey\",\"dash\":\"dot\",\"width\":1},\"type\":\"line\",\"x0\":-0.3267647144969337,\"x1\":-0.43436143205622035,\"xref\":\"x\",\"y0\":-3.8695462517027575,\"y1\":-3.5091444405419323,\"yref\":\"y\"},{\"line\":{\"color\":\"grey\",\"dash\":\"dot\",\"width\":1},\"type\":\"line\",\"x0\":-2.0948341131763555,\"x1\":-2.5574799161118875,\"xref\":\"x\",\"y0\":-5.196043984242292,\"y1\":-4.75976110917977,\"yref\":\"y\"},{\"line\":{\"color\":\"grey\",\"dash\":\"dot\",\"width\":1},\"type\":\"line\",\"x0\":0.025294868367888898,\"x1\":0.04802920991763107,\"xref\":\"x\",\"y0\":-1.0236249984593604,\"y1\":-1.0271953328472616,\"yref\":\"y\"},{\"line\":{\"color\":\"grey\",\"dash\":\"dot\",\"width\":1},\"type\":\"line\",\"x0\":-0.13664801260656295,\"x1\":0.054589454446776105,\"xref\":\"x\",\"y0\":-1.3913045224258742,\"y1\":-1.6341261844420263,\"yref\":\"y\"},{\"line\":{\"color\":\"grey\",\"dash\":\"dot\",\"width\":1},\"type\":\"line\",\"x0\":0.625871958621663,\"x1\":0.5584168992608197,\"xref\":\"x\",\"y0\":-1.5668565235351748,\"y1\":-1.6918484902734428,\"yref\":\"y\"},{\"line\":{\"color\":\"grey\",\"dash\":\"dot\",\"width\":1},\"type\":\"line\",\"x0\":2.189365863192863,\"x1\":2.357600238604566,\"xref\":\"x\",\"y0\":-5.505884310768725,\"y1\":-5.354440269005722,\"yref\":\"y\"},{\"line\":{\"color\":\"grey\",\"dash\":\"dot\",\"width\":1},\"type\":\"line\",\"x0\":1.0655509855552574,\"x1\":1.2943227253160074,\"xref\":\"x\",\"y0\":-2.851520313340836,\"y1\":-2.5358335442253295,\"yref\":\"y\"},{\"line\":{\"color\":\"grey\",\"dash\":\"dot\",\"width\":1},\"type\":\"line\",\"x0\":-1.6029806316372774,\"x1\":-2.233556430745453,\"xref\":\"x\",\"y0\":-4.4915669130763,\"y1\":-4.042260518791725,\"yref\":\"y\"},{\"line\":{\"color\":\"grey\",\"dash\":\"dot\",\"width\":1},\"type\":\"line\",\"x0\":0.24471345992182336,\"x1\":0.125370762029011,\"xref\":\"x\",\"y0\":-0.848406980143075,\"y1\":-1.0231358000758173,\"yref\":\"y\"},{\"line\":{\"color\":\"grey\",\"dash\":\"dot\",\"width\":1},\"type\":\"line\",\"x0\":-0.3512627844146724,\"x1\":0.38077235455761105,\"xref\":\"x\",\"y0\":-5.927028432253263,\"y1\":-6.19603379192589,\"yref\":\"y\"},{\"line\":{\"color\":\"grey\",\"dash\":\"dot\",\"width\":1},\"type\":\"line\",\"x0\":-0.7120871041453264,\"x1\":-0.9087649306891966,\"xref\":\"x\",\"y0\":-3.173074528683215,\"y1\":-2.8521267142352147,\"yref\":\"y\"},{\"line\":{\"color\":\"grey\",\"dash\":\"dot\",\"width\":1},\"type\":\"line\",\"x0\":-0.8045975952088763,\"x1\":-0.7401050474548143,\"xref\":\"x\",\"y0\":-3.9462641700608003,\"y1\":-3.7230802088419064,\"yref\":\"y\"},{\"line\":{\"color\":\"grey\",\"dash\":\"dot\",\"width\":1},\"type\":\"line\",\"x0\":-1.4657500000599208,\"x1\":-1.9083861979019832,\"xref\":\"x\",\"y0\":-3.7342539701147746,\"y1\":-3.4528873648484635,\"yref\":\"y\"},{\"line\":{\"color\":\"grey\",\"dash\":\"dot\",\"width\":1},\"type\":\"line\",\"x0\":-0.6709368935213398,\"x1\":-0.4370309051936108,\"xref\":\"x\",\"y0\":-2.5402955568638137,\"y1\":-2.3085281218865963,\"yref\":\"y\"},{\"line\":{\"color\":\"grey\",\"dash\":\"dot\",\"width\":1},\"type\":\"line\",\"x0\":-0.03604794918009845,\"x1\":0.009834884492097998,\"xref\":\"x\",\"y0\":-1.3498601211575123,\"y1\":-1.3836758871245582,\"yref\":\"y\"},{\"line\":{\"color\":\"grey\",\"dash\":\"dot\",\"width\":1},\"type\":\"line\",\"x0\":0.5625622499618069,\"x1\":0.5135734004337579,\"xref\":\"x\",\"y0\":-3.172244637285402,\"y1\":-2.8229636377534675,\"yref\":\"y\"},{\"line\":{\"color\":\"grey\",\"dash\":\"dot\",\"width\":1},\"type\":\"line\",\"x0\":-1.0502509931299226,\"x1\":-1.5439164286693308,\"xref\":\"x\",\"y0\":-3.5145678916246608,\"y1\":-2.985197121265853,\"yref\":\"y\"},{\"line\":{\"color\":\"grey\",\"dash\":\"dot\",\"width\":1},\"type\":\"line\",\"x0\":-1.1113410057519215,\"x1\":-1.20296462505352,\"xref\":\"x\",\"y0\":-2.921143929905423,\"y1\":-2.48531244020195,\"yref\":\"y\"},{\"line\":{\"color\":\"grey\",\"dash\":\"dot\",\"width\":1},\"type\":\"line\",\"x0\":-2.286359693967341,\"x1\":-2.775570200510062,\"xref\":\"x\",\"y0\":-5.930445154584015,\"y1\":-5.472851845680551,\"yref\":\"y\"},{\"line\":{\"color\":\"grey\",\"dash\":\"dot\",\"width\":1},\"type\":\"line\",\"x0\":0.5659921382885774,\"x1\":0.5774028359207777,\"xref\":\"x\",\"y0\":-3.2880508858092967,\"y1\":-2.956461283421654,\"yref\":\"y\"},{\"line\":{\"color\":\"grey\",\"dash\":\"dot\",\"width\":1},\"type\":\"line\",\"x0\":0.05754176983530723,\"x1\":0.0647980541248909,\"xref\":\"x\",\"y0\":-1.492175604810675,\"y1\":-1.537742960160935,\"yref\":\"y\"},{\"line\":{\"color\":\"grey\",\"dash\":\"dot\",\"width\":1},\"type\":\"line\",\"x0\":-1.0605515573247037,\"x1\":-1.418872768336794,\"xref\":\"x\",\"y0\":-4.573750165347466,\"y1\":-4.210316694374083,\"yref\":\"y\"},{\"line\":{\"color\":\"grey\",\"dash\":\"dot\",\"width\":1},\"type\":\"line\",\"x0\":0.22107251667868658,\"x1\":0.11930692545890637,\"xref\":\"x\",\"y0\":-1.4624380630669036,\"y1\":-1.602641189235715,\"yref\":\"y\"},{\"line\":{\"color\":\"grey\",\"dash\":\"dot\",\"width\":1},\"type\":\"line\",\"x0\":-1.1646453490464952,\"x1\":-1.358217980879844,\"xref\":\"x\",\"y0\":-2.773424945283154,\"y1\":-2.7556286907307177,\"yref\":\"y\"},{\"line\":{\"color\":\"grey\",\"dash\":\"dot\",\"width\":1},\"type\":\"line\",\"x0\":-0.9822032051885954,\"x1\":-0.6649822608390898,\"xref\":\"x\",\"y0\":-5.80402656499146,\"y1\":-5.824971851005798,\"yref\":\"y\"},{\"line\":{\"color\":\"grey\",\"dash\":\"dot\",\"width\":1},\"type\":\"line\",\"x0\":0.004997817598215485,\"x1\":-0.17030761029529307,\"xref\":\"x\",\"y0\":-3.5924485578717693,\"y1\":-3.2759329513989703,\"yref\":\"y\"},{\"line\":{\"color\":\"grey\",\"dash\":\"dot\",\"width\":1},\"type\":\"line\",\"x0\":2.9155499487479553,\"x1\":3.223285904551011,\"xref\":\"x\",\"y0\":-6.147537572875814,\"y1\":-5.498402048981475,\"yref\":\"y\"},{\"line\":{\"color\":\"grey\",\"dash\":\"dot\",\"width\":1},\"type\":\"line\",\"x0\":-1.0591598902915733,\"x1\":-1.6248214731672264,\"xref\":\"x\",\"y0\":-3.4592973603567314,\"y1\":-3.218541947822595,\"yref\":\"y\"},{\"line\":{\"color\":\"grey\",\"dash\":\"dot\",\"width\":1},\"type\":\"line\",\"x0\":0.021971108028117928,\"x1\":0.06308435522924086,\"xref\":\"x\",\"y0\":-1.5745269230888779,\"y1\":-1.3615110811921947,\"yref\":\"y\"},{\"line\":{\"color\":\"grey\",\"dash\":\"dot\",\"width\":1},\"type\":\"line\",\"x0\":1.6152986667480276,\"x1\":2.759724275483457,\"xref\":\"x\",\"y0\":-4.777323188991513,\"y1\":-3.938477238144874,\"yref\":\"y\"},{\"line\":{\"color\":\"grey\",\"dash\":\"dot\",\"width\":1},\"type\":\"line\",\"x0\":0.5872507008499324,\"x1\":0.8121586663208988,\"xref\":\"x\",\"y0\":-0.632750716263757,\"y1\":-0.7890706087065336,\"yref\":\"y\"},{\"line\":{\"color\":\"grey\",\"dash\":\"dot\",\"width\":1},\"type\":\"line\",\"x0\":1.6256782388643862,\"x1\":2.015756012965926,\"xref\":\"x\",\"y0\":-6.3480725500027155,\"y1\":-6.1700801242693535,\"yref\":\"y\"},{\"line\":{\"color\":\"grey\",\"dash\":\"dot\",\"width\":1},\"type\":\"line\",\"x0\":-0.6228475263490783,\"x1\":-0.6823065677247178,\"xref\":\"x\",\"y0\":-2.3840455937635356,\"y1\":-2.0655259871364375,\"yref\":\"y\"},{\"line\":{\"color\":\"grey\",\"dash\":\"dot\",\"width\":1},\"type\":\"line\",\"x0\":-0.8975879421898907,\"x1\":-0.580948569570236,\"xref\":\"x\",\"y0\":-5.149795449526445,\"y1\":-5.233534575512452,\"yref\":\"y\"},{\"line\":{\"color\":\"grey\",\"dash\":\"dot\",\"width\":1},\"type\":\"line\",\"x0\":1.5363955605385151,\"x1\":1.3075816943674363,\"xref\":\"x\",\"y0\":-5.340074083705411,\"y1\":-5.233515842525186,\"yref\":\"y\"},{\"line\":{\"color\":\"grey\",\"dash\":\"dot\",\"width\":1},\"type\":\"line\",\"x0\":-0.7982534927734665,\"x1\":0.01544354036583793,\"xref\":\"x\",\"y0\":-5.6796993026389115,\"y1\":-5.679033559766064,\"yref\":\"y\"},{\"line\":{\"color\":\"grey\",\"dash\":\"dot\",\"width\":1},\"type\":\"line\",\"x0\":-0.9458576915649033,\"x1\":-1.1933856105307101,\"xref\":\"x\",\"y0\":-2.4243439986562354,\"y1\":-2.381981373367141,\"yref\":\"y\"},{\"line\":{\"color\":\"grey\",\"dash\":\"dot\",\"width\":1},\"type\":\"line\",\"x0\":0.069087124169333,\"x1\":-0.227281341868129,\"xref\":\"x\",\"y0\":-2.7226734724218873,\"y1\":-2.6234939029896416,\"yref\":\"y\"},{\"line\":{\"color\":\"grey\",\"dash\":\"dot\",\"width\":1},\"type\":\"line\",\"x0\":3.113978037872331,\"x1\":5.194196219002173,\"xref\":\"x\",\"y0\":-6.313283976432269,\"y1\":-6.52076903359772,\"yref\":\"y\"},{\"line\":{\"color\":\"grey\",\"dash\":\"dot\",\"width\":1},\"type\":\"line\",\"x0\":0.9797856958916231,\"x1\":1.4500029810336832,\"xref\":\"x\",\"y0\":-4.993744552024807,\"y1\":-4.993521895304869,\"yref\":\"y\"},{\"line\":{\"color\":\"grey\",\"dash\":\"dot\",\"width\":1},\"type\":\"line\",\"x0\":3.7379649021310097,\"x1\":4.131826694048143,\"xref\":\"x\",\"y0\":-6.4019417440413,\"y1\":-6.135753525441817,\"yref\":\"y\"},{\"line\":{\"color\":\"grey\",\"dash\":\"dot\",\"width\":1},\"type\":\"line\",\"x0\":-0.3769530405405801,\"x1\":-0.3928219284121292,\"xref\":\"x\",\"y0\":-2.9090562530704207,\"y1\":-2.3678736585781266,\"yref\":\"y\"},{\"line\":{\"color\":\"grey\",\"dash\":\"dot\",\"width\":1},\"type\":\"line\",\"x0\":-0.2086265050465583,\"x1\":-0.4274373144784816,\"xref\":\"x\",\"y0\":-1.8987919262677537,\"y1\":-1.8881225817975515,\"yref\":\"y\"},{\"line\":{\"color\":\"grey\",\"dash\":\"dot\",\"width\":1},\"type\":\"line\",\"x0\":1.1195334440995288,\"x1\":0.9786081171239256,\"xref\":\"x\",\"y0\":-6.242286532558084,\"y1\":-5.710839974866803,\"yref\":\"y\"},{\"line\":{\"color\":\"grey\",\"dash\":\"dot\",\"width\":1},\"type\":\"line\",\"x0\":-3.7079819399322735,\"x1\":-3.1255897358750433,\"xref\":\"x\",\"y0\":-5.191589167632986,\"y1\":-5.1112512470482105,\"yref\":\"y\"},{\"line\":{\"color\":\"grey\",\"dash\":\"dot\",\"width\":1},\"type\":\"line\",\"x0\":-0.8688894665433201,\"x1\":-0.17423551304996443,\"xref\":\"x\",\"y0\":-5.364393770380624,\"y1\":-5.324742897399205,\"yref\":\"y\"},{\"line\":{\"color\":\"grey\",\"dash\":\"dot\",\"width\":1},\"type\":\"line\",\"x0\":-3.5532529125013754,\"x1\":-2.962901196004382,\"xref\":\"x\",\"y0\":-5.177079438518841,\"y1\":-5.033721248169005,\"yref\":\"y\"},{\"line\":{\"color\":\"grey\",\"dash\":\"dot\",\"width\":1},\"type\":\"line\",\"x0\":-1.20702763484709,\"x1\":-1.4263023531730392,\"xref\":\"x\",\"y0\":-3.371441748522998,\"y1\":-2.9572133133028577,\"yref\":\"y\"},{\"line\":{\"color\":\"grey\",\"dash\":\"dot\",\"width\":1},\"type\":\"line\",\"x0\":0.564618427276725,\"x1\":0.5157661132680078,\"xref\":\"x\",\"y0\":-3.561607092534763,\"y1\":-3.331497646104384,\"yref\":\"y\"},{\"line\":{\"color\":\"grey\",\"dash\":\"dot\",\"width\":1},\"type\":\"line\",\"x0\":-0.3567437034574371,\"x1\":-0.19909740900498657,\"xref\":\"x\",\"y0\":-1.215817707788977,\"y1\":-1.1168691005901354,\"yref\":\"y\"},{\"line\":{\"color\":\"grey\",\"dash\":\"dot\",\"width\":1},\"type\":\"line\",\"x0\":0.46532878742680756,\"x1\":0.6478352865787538,\"xref\":\"x\",\"y0\":-5.750450986461387,\"y1\":-5.392743326853317,\"yref\":\"y\"},{\"line\":{\"color\":\"grey\",\"dash\":\"dot\",\"width\":1},\"type\":\"line\",\"x0\":-0.40402050047770277,\"x1\":1.5753575034756702,\"xref\":\"x\",\"y0\":-6.915730036638091,\"y1\":-6.589725813668949,\"yref\":\"y\"},{\"line\":{\"color\":\"grey\",\"dash\":\"dot\",\"width\":1},\"type\":\"line\",\"x0\":-2.3011962490945015,\"x1\":-2.1806289177817613,\"xref\":\"x\",\"y0\":-5.85207707900814,\"y1\":-5.665126630129862,\"yref\":\"y\"},{\"line\":{\"color\":\"grey\",\"dash\":\"dot\",\"width\":1},\"type\":\"line\",\"x0\":-0.12542677031175112,\"x1\":-0.14217995869701472,\"xref\":\"x\",\"y0\":-0.5977052194529298,\"y1\":-1.032507075680528,\"yref\":\"y\"},{\"line\":{\"color\":\"grey\",\"dash\":\"dot\",\"width\":1},\"type\":\"line\",\"x0\":-1.7466214801811997,\"x1\":-1.5525614772467726,\"xref\":\"x\",\"y0\":-3.5668469948094828,\"y1\":-3.2131895814140554,\"yref\":\"y\"},{\"line\":{\"color\":\"grey\",\"dash\":\"dot\",\"width\":1},\"type\":\"line\",\"x0\":3.1875366899499427,\"x1\":4.016123286548721,\"xref\":\"x\",\"y0\":-6.8199470346837066,\"y1\":-6.517933372680577,\"yref\":\"y\"},{\"line\":{\"color\":\"grey\",\"dash\":\"dot\",\"width\":1},\"type\":\"line\",\"x0\":0.9756837042544332,\"x1\":1.038518750525667,\"xref\":\"x\",\"y0\":-3.1519136984076996,\"y1\":-2.7355570052132543,\"yref\":\"y\"},{\"line\":{\"color\":\"grey\",\"dash\":\"dot\",\"width\":1},\"type\":\"line\",\"x0\":-2.1438209823763326,\"x1\":-2.578414380726696,\"xref\":\"x\",\"y0\":-5.36773757025015,\"y1\":-5.103478751790943,\"yref\":\"y\"},{\"line\":{\"color\":\"grey\",\"dash\":\"dot\",\"width\":1},\"type\":\"line\",\"x0\":0.27412402867089264,\"x1\":0.23003528381818772,\"xref\":\"x\",\"y0\":-1.0888416684815814,\"y1\":-1.261934983220301,\"yref\":\"y\"},{\"line\":{\"color\":\"grey\",\"dash\":\"dot\",\"width\":1},\"type\":\"line\",\"x0\":0.11833488082407653,\"x1\":0.04268445373311852,\"xref\":\"x\",\"y0\":-1.349052663323837,\"y1\":-1.451775225081127,\"yref\":\"y\"},{\"line\":{\"color\":\"grey\",\"dash\":\"dot\",\"width\":1},\"type\":\"line\",\"x0\":-0.5169154908729338,\"x1\":-0.49678996062752623,\"xref\":\"x\",\"y0\":-1.3263846462468194,\"y1\":-1.2238368288095345,\"yref\":\"y\"},{\"line\":{\"color\":\"grey\",\"dash\":\"dot\",\"width\":1},\"type\":\"line\",\"x0\":-0.41093255675031926,\"x1\":-0.3690276197668355,\"xref\":\"x\",\"y0\":-2.159510961994748,\"y1\":-1.8348131364965354,\"yref\":\"y\"},{\"line\":{\"color\":\"grey\",\"dash\":\"dot\",\"width\":1},\"type\":\"line\",\"x0\":-2.244106750975613,\"x1\":-2.934515378347046,\"xref\":\"x\",\"y0\":-4.980182777062063,\"y1\":-4.2649628103537225,\"yref\":\"y\"},{\"line\":{\"color\":\"grey\",\"dash\":\"dot\",\"width\":1},\"type\":\"line\",\"x0\":0.2535211333983897,\"x1\":0.6284900680397686,\"xref\":\"x\",\"y0\":-3.9721333772763945,\"y1\":-3.5224116500264198,\"yref\":\"y\"},{\"line\":{\"color\":\"grey\",\"dash\":\"dot\",\"width\":1},\"type\":\"line\",\"x0\":0.23556655609228655,\"x1\":0.26896913819379914,\"xref\":\"x\",\"y0\":-5.255848285125121,\"y1\":-5.250917112601164,\"yref\":\"y\"},{\"line\":{\"color\":\"grey\",\"dash\":\"dot\",\"width\":1},\"type\":\"line\",\"x0\":0.4404481268741431,\"x1\":0.7455858692902493,\"xref\":\"x\",\"y0\":-3.120254668986272,\"y1\":-2.763736320887213,\"yref\":\"y\"},{\"line\":{\"color\":\"grey\",\"dash\":\"dot\",\"width\":1},\"type\":\"line\",\"x0\":-1.1707272340627823,\"x1\":-0.943899291151712,\"xref\":\"x\",\"y0\":-2.9893613811408346,\"y1\":-2.921468617134114,\"yref\":\"y\"},{\"line\":{\"color\":\"grey\",\"dash\":\"dot\",\"width\":1},\"type\":\"line\",\"x0\":-0.11664549180098154,\"x1\":-0.21582911964928905,\"xref\":\"x\",\"y0\":-3.9059127098325566,\"y1\":-3.5411983274960277,\"yref\":\"y\"},{\"line\":{\"color\":\"grey\",\"dash\":\"dot\",\"width\":1},\"type\":\"line\",\"x0\":-0.4380646661678239,\"x1\":0.26219777515136283,\"xref\":\"x\",\"y0\":-3.260872045183512,\"y1\":-3.2211847848778508,\"yref\":\"y\"},{\"line\":{\"color\":\"grey\",\"dash\":\"dot\",\"width\":1},\"type\":\"line\",\"x0\":0.025243761429036445,\"x1\":-0.38950852390931007,\"xref\":\"x\",\"y0\":-3.2673978195485356,\"y1\":-2.9389643935481287,\"yref\":\"y\"},{\"line\":{\"color\":\"grey\",\"dash\":\"dot\",\"width\":1},\"type\":\"line\",\"x0\":1.0879248876610876,\"x1\":1.3267070967840728,\"xref\":\"x\",\"y0\":-4.068116383057395,\"y1\":-3.731737955002591,\"yref\":\"y\"},{\"line\":{\"color\":\"grey\",\"dash\":\"dot\",\"width\":1},\"type\":\"line\",\"x0\":0.7005626056698411,\"x1\":0.6617172873938332,\"xref\":\"x\",\"y0\":-3.1271898525205355,\"y1\":-3.0958326945754986,\"yref\":\"y\"},{\"line\":{\"color\":\"grey\",\"dash\":\"dot\",\"width\":1},\"type\":\"line\",\"x0\":0.5345115417364871,\"x1\":0.7453565737334361,\"xref\":\"x\",\"y0\":-2.6371268307325986,\"y1\":-2.394581851244621,\"yref\":\"y\"},{\"line\":{\"color\":\"grey\",\"dash\":\"dot\",\"width\":1},\"type\":\"line\",\"x0\":1.133442928759755,\"x1\":1.2070290921760665,\"xref\":\"x\",\"y0\":-5.413817033123523,\"y1\":-4.9734060608278705,\"yref\":\"y\"},{\"line\":{\"color\":\"grey\",\"dash\":\"dot\",\"width\":1},\"type\":\"line\",\"x0\":-0.673165888082883,\"x1\":-0.8535956868802456,\"xref\":\"x\",\"y0\":-4.641163733036058,\"y1\":-4.610470433800951,\"yref\":\"y\"},{\"line\":{\"color\":\"grey\",\"dash\":\"dot\",\"width\":1},\"type\":\"line\",\"x0\":0.8109589777668187,\"x1\":0.9968447725324298,\"xref\":\"x\",\"y0\":-3.8294150233534117,\"y1\":-3.406464228773592,\"yref\":\"y\"},{\"line\":{\"color\":\"grey\",\"dash\":\"dot\",\"width\":1},\"type\":\"line\",\"x0\":0.006151986415215279,\"x1\":0.03736089975172786,\"xref\":\"x\",\"y0\":-1.4519959746653137,\"y1\":-1.6565834080715236,\"yref\":\"y\"},{\"line\":{\"color\":\"grey\",\"dash\":\"dot\",\"width\":1},\"type\":\"line\",\"x0\":-2.9017968024228264,\"x1\":-2.412840552418717,\"xref\":\"x\",\"y0\":-4.939292918553825,\"y1\":-4.8164787035239405,\"yref\":\"y\"},{\"line\":{\"color\":\"grey\",\"dash\":\"dot\",\"width\":1},\"type\":\"line\",\"x0\":0.5868714858352712,\"x1\":0.588617122720197,\"xref\":\"x\",\"y0\":-1.5942122689056744,\"y1\":-1.124381052593068,\"yref\":\"y\"},{\"line\":{\"color\":\"grey\",\"dash\":\"dot\",\"width\":1},\"type\":\"line\",\"x0\":-1.374289225159343,\"x1\":-1.881435060176756,\"xref\":\"x\",\"y0\":-4.213592829917774,\"y1\":-3.6912705886917427,\"yref\":\"y\"},{\"line\":{\"color\":\"grey\",\"dash\":\"dot\",\"width\":1},\"type\":\"line\",\"x0\":0.017281577529270148,\"x1\":0.015055593883974256,\"xref\":\"x\",\"y0\":-2.246240545460643,\"y1\":-2.242861821028834,\"yref\":\"y\"},{\"line\":{\"color\":\"grey\",\"dash\":\"dot\",\"width\":1},\"type\":\"line\",\"x0\":-0.8161923054273393,\"x1\":-0.7023639609225562,\"xref\":\"x\",\"y0\":-2.6264092610200223,\"y1\":-2.5102784379474246,\"yref\":\"y\"},{\"line\":{\"color\":\"grey\",\"dash\":\"dot\",\"width\":1},\"type\":\"line\",\"x0\":-0.585754781893443,\"x1\":-0.5999809872079568,\"xref\":\"x\",\"y0\":-3.622443487652039,\"y1\":-3.3669492725052885,\"yref\":\"y\"},{\"line\":{\"color\":\"grey\",\"dash\":\"dot\",\"width\":1},\"type\":\"line\",\"x0\":-0.13907924217190296,\"x1\":-0.18610306585256553,\"xref\":\"x\",\"y0\":-1.4372310006558686,\"y1\":-1.2646833528048669,\"yref\":\"y\"},{\"line\":{\"color\":\"grey\",\"dash\":\"dot\",\"width\":1},\"type\":\"line\",\"x0\":1.3232037939213175,\"x1\":1.5521400280767463,\"xref\":\"x\",\"y0\":-4.500475513480839,\"y1\":-4.202712061389981,\"yref\":\"y\"},{\"line\":{\"color\":\"grey\",\"dash\":\"dot\",\"width\":1},\"type\":\"line\",\"x0\":-0.6421208117667179,\"x1\":-0.6687341527973623,\"xref\":\"x\",\"y0\":-2.4398208387927016,\"y1\":-2.216444507421218,\"yref\":\"y\"},{\"line\":{\"color\":\"grey\",\"dash\":\"dot\",\"width\":1},\"type\":\"line\",\"x0\":-0.4468741362998535,\"x1\":-0.3067280997538081,\"xref\":\"x\",\"y0\":-1.7766799333288428,\"y1\":-1.5431815669692146,\"yref\":\"y\"},{\"line\":{\"color\":\"grey\",\"dash\":\"dot\",\"width\":1},\"type\":\"line\",\"x0\":0.3505661122472412,\"x1\":0.2975807242344632,\"xref\":\"x\",\"y0\":-1.6587886097940245,\"y1\":-1.6176138051948383,\"yref\":\"y\"},{\"line\":{\"color\":\"grey\",\"dash\":\"dot\",\"width\":1},\"type\":\"line\",\"x0\":0.515565171859632,\"x1\":0.9743299953975245,\"xref\":\"x\",\"y0\":-3.5667829083512532,\"y1\":-3.262901613568878,\"yref\":\"y\"},{\"line\":{\"color\":\"grey\",\"dash\":\"dot\",\"width\":1},\"type\":\"line\",\"x0\":0.3529435465817803,\"x1\":0.21052611258420567,\"xref\":\"x\",\"y0\":-1.2868092396913506,\"y1\":-1.0173994917696971,\"yref\":\"y\"},{\"line\":{\"color\":\"grey\",\"dash\":\"dot\",\"width\":1},\"type\":\"line\",\"x0\":0.7882089159345803,\"x1\":1.2938261753560703,\"xref\":\"x\",\"y0\":-5.415327758630208,\"y1\":-4.767106262064168,\"yref\":\"y\"},{\"line\":{\"color\":\"grey\",\"dash\":\"dot\",\"width\":1},\"type\":\"line\",\"x0\":-0.19220808936063138,\"x1\":-0.07895488912768865,\"xref\":\"x\",\"y0\":-4.138780307173802,\"y1\":-3.807751419235279,\"yref\":\"y\"},{\"line\":{\"color\":\"grey\",\"dash\":\"dot\",\"width\":1},\"type\":\"line\",\"x0\":0.3313348764809122,\"x1\":0.2884642798258221,\"xref\":\"x\",\"y0\":-3.28864457058104,\"y1\":-3.121585711824886,\"yref\":\"y\"},{\"line\":{\"color\":\"grey\",\"dash\":\"dot\",\"width\":1},\"type\":\"line\",\"x0\":0.16044085719185347,\"x1\":-0.12026019355250579,\"xref\":\"x\",\"y0\":-3.2669346429636783,\"y1\":-3.0608438499616866,\"yref\":\"y\"},{\"line\":{\"color\":\"grey\",\"dash\":\"dot\",\"width\":1},\"type\":\"line\",\"x0\":0.9001972015891597,\"x1\":1.2656549710223022,\"xref\":\"x\",\"y0\":-3.9560858967681494,\"y1\":-3.643787691682273,\"yref\":\"y\"},{\"line\":{\"color\":\"grey\",\"dash\":\"dot\",\"width\":1},\"type\":\"line\",\"x0\":-0.49529765090175865,\"x1\":-0.5828393934898369,\"xref\":\"x\",\"y0\":-0.923141920138226,\"y1\":-0.9954948761207217,\"yref\":\"y\"},{\"line\":{\"color\":\"grey\",\"dash\":\"dot\",\"width\":1},\"type\":\"line\",\"x0\":-0.05257467849180422,\"x1\":-0.28401312505482035,\"xref\":\"x\",\"y0\":-4.577403345574043,\"y1\":-4.420149994557283,\"yref\":\"y\"},{\"line\":{\"color\":\"grey\",\"dash\":\"dot\",\"width\":1},\"type\":\"line\",\"x0\":-0.06119887887772698,\"x1\":-0.0546269912281825,\"xref\":\"x\",\"y0\":-5.062626712421477,\"y1\":-4.5382374846263,\"yref\":\"y\"},{\"line\":{\"color\":\"grey\",\"dash\":\"dot\",\"width\":1},\"type\":\"line\",\"x0\":0.4177700611971918,\"x1\":0.6912834803516359,\"xref\":\"x\",\"y0\":-0.3644372468908997,\"y1\":-0.7769076872972106,\"yref\":\"y\"},{\"line\":{\"color\":\"grey\",\"dash\":\"dot\",\"width\":1},\"type\":\"line\",\"x0\":-3.1099521737048628,\"x1\":-5.193391297429218,\"xref\":\"x\",\"y0\":-6.460101263902169,\"y1\":-6.21092980135887,\"yref\":\"y\"},{\"line\":{\"color\":\"grey\",\"dash\":\"dot\",\"width\":1},\"type\":\"line\",\"x0\":-0.7644483936285263,\"x1\":-1.1223583886172532,\"xref\":\"x\",\"y0\":-5.870296611572,\"y1\":-5.688495668906994,\"yref\":\"y\"},{\"line\":{\"color\":\"grey\",\"dash\":\"dot\",\"width\":1},\"type\":\"line\",\"x0\":-0.7455093469023044,\"x1\":0.4941824955591249,\"xref\":\"x\",\"y0\":-6.265179791419358,\"y1\":-6.435814494223989,\"yref\":\"y\"},{\"line\":{\"color\":\"grey\",\"dash\":\"dot\",\"width\":1},\"type\":\"line\",\"x0\":-0.785865815967342,\"x1\":-0.24539315599034237,\"xref\":\"x\",\"y0\":-5.794336986988585,\"y1\":-5.826458868855538,\"yref\":\"y\"},{\"line\":{\"color\":\"grey\",\"dash\":\"dot\",\"width\":1},\"type\":\"line\",\"x0\":-1.1203941600386929,\"x1\":-0.9448234561380076,\"xref\":\"x\",\"y0\":-2.6217225467676197,\"y1\":-2.241860022656726,\"yref\":\"y\"},{\"line\":{\"color\":\"grey\",\"dash\":\"dot\",\"width\":1},\"type\":\"line\",\"x0\":0.5515553070031494,\"x1\":0.8307313606287926,\"xref\":\"x\",\"y0\":-2.0444790723699082,\"y1\":-2.1033597370246038,\"yref\":\"y\"},{\"line\":{\"color\":\"grey\",\"dash\":\"dot\",\"width\":1},\"type\":\"line\",\"x0\":0.3037211141957941,\"x1\":0.19419760958383875,\"xref\":\"x\",\"y0\":-1.6803926643067422,\"y1\":-1.740123616171212,\"yref\":\"y\"},{\"line\":{\"color\":\"grey\",\"dash\":\"dot\",\"width\":1},\"type\":\"line\",\"x0\":-0.9960468116397045,\"x1\":-0.3267320373105487,\"xref\":\"x\",\"y0\":-5.0818189497045845,\"y1\":-5.017608501379393,\"yref\":\"y\"},{\"line\":{\"color\":\"grey\",\"dash\":\"dot\",\"width\":1},\"type\":\"line\",\"x0\":-0.4548844385813938,\"x1\":-0.7747625228102717,\"xref\":\"x\",\"y0\":-5.709894002094498,\"y1\":-5.542055861800522,\"yref\":\"y\"},{\"line\":{\"color\":\"grey\",\"dash\":\"dot\",\"width\":1},\"type\":\"line\",\"x0\":0.3123829180172675,\"x1\":0.11050688539743209,\"xref\":\"x\",\"y0\":-1.0202638168554916,\"y1\":-0.6795876216950609,\"yref\":\"y\"},{\"line\":{\"color\":\"grey\",\"dash\":\"dot\",\"width\":1},\"type\":\"line\",\"x0\":0.06520542710313534,\"x1\":0.04692539226283975,\"xref\":\"x\",\"y0\":-1.845745446359984,\"y1\":-1.904037045767382,\"yref\":\"y\"},{\"line\":{\"color\":\"grey\",\"dash\":\"dot\",\"width\":1},\"type\":\"line\",\"x0\":-2.4993939806137258,\"x1\":-1.7173877708438148,\"xref\":\"x\",\"y0\":-5.549752642294551,\"y1\":-5.568908335321875,\"yref\":\"y\"},{\"line\":{\"color\":\"grey\",\"dash\":\"dot\",\"width\":1},\"type\":\"line\",\"x0\":1.513484627971392,\"x1\":2.4507954110408847,\"xref\":\"x\",\"y0\":-5.757451204201056,\"y1\":-5.371336139225627,\"yref\":\"y\"},{\"line\":{\"color\":\"grey\",\"dash\":\"dot\",\"width\":1},\"type\":\"line\",\"x0\":0.6850672454841993,\"x1\":0.9363730281730377,\"xref\":\"x\",\"y0\":-4.975529552719437,\"y1\":-4.772011832070376,\"yref\":\"y\"},{\"line\":{\"color\":\"grey\",\"dash\":\"dot\",\"width\":1},\"type\":\"line\",\"x0\":-2.9581362253438876,\"x1\":-2.625709928596238,\"xref\":\"x\",\"y0\":-5.818097070678983,\"y1\":-5.712686251984339,\"yref\":\"y\"},{\"line\":{\"color\":\"grey\",\"dash\":\"dot\",\"width\":1},\"type\":\"line\",\"x0\":-0.7165551959211062,\"x1\":-0.9844958571676222,\"xref\":\"x\",\"y0\":-2.6546596729636214,\"y1\":-2.5060238111187,\"yref\":\"y\"},{\"line\":{\"color\":\"grey\",\"dash\":\"dot\",\"width\":1},\"type\":\"line\",\"x0\":-0.2337584022138973,\"x1\":-0.018229493434174328,\"xref\":\"x\",\"y0\":-1.9002008072083871,\"y1\":-1.7692006757052117,\"yref\":\"y\"},{\"line\":{\"color\":\"grey\",\"dash\":\"dot\",\"width\":1},\"type\":\"line\",\"x0\":-0.11188341528481863,\"x1\":-0.1434075384685369,\"xref\":\"x\",\"y0\":-1.4666914640813942,\"y1\":-1.404290984988077,\"yref\":\"y\"},{\"line\":{\"color\":\"grey\",\"dash\":\"dot\",\"width\":1},\"type\":\"line\",\"x0\":-0.5303562494330021,\"x1\":-0.4364534178065108,\"xref\":\"x\",\"y0\":-1.1671618315064043,\"y1\":-0.7995989517391079,\"yref\":\"y\"},{\"line\":{\"color\":\"grey\",\"dash\":\"dot\",\"width\":1},\"type\":\"line\",\"x0\":0.05454363116552562,\"x1\":0.4966586592496519,\"xref\":\"x\",\"y0\":-4.246080534534857,\"y1\":-3.713196753624598,\"yref\":\"y\"},{\"line\":{\"color\":\"grey\",\"dash\":\"dot\",\"width\":1},\"type\":\"line\",\"x0\":0.8608676281457428,\"x1\":1.2939098444103663,\"xref\":\"x\",\"y0\":-4.4366871736661535,\"y1\":-4.081266905483362,\"yref\":\"y\"},{\"line\":{\"color\":\"grey\",\"dash\":\"dot\",\"width\":1},\"type\":\"line\",\"x0\":-1.112652092807238,\"x1\":-0.8623638403964161,\"xref\":\"x\",\"y0\":-2.3640398056977814,\"y1\":-2.29552575809607,\"yref\":\"y\"},{\"line\":{\"color\":\"grey\",\"dash\":\"dot\",\"width\":1},\"type\":\"line\",\"x0\":0.7306890760861665,\"x1\":0.5532763885291718,\"xref\":\"x\",\"y0\":-1.9794553769624486,\"y1\":-1.7319604746260155,\"yref\":\"y\"},{\"line\":{\"color\":\"grey\",\"dash\":\"dot\",\"width\":1},\"type\":\"line\",\"x0\":-0.3014582160192563,\"x1\":-0.5708870776175986,\"xref\":\"x\",\"y0\":-0.6239111761782651,\"y1\":-0.8582057005626577,\"yref\":\"y\"},{\"line\":{\"color\":\"grey\",\"dash\":\"dot\",\"width\":1},\"type\":\"line\",\"x0\":0.42021760782328266,\"x1\":0.6296358124190252,\"xref\":\"x\",\"y0\":-1.9672232359034574,\"y1\":-1.9832661935674025,\"yref\":\"y\"}],\"annotations\":[{\"font\":{\"size\":20},\"showarrow\":false,\"text\":\"excavator\",\"x\":0,\"xref\":\"x\",\"y\":0,\"yref\":\"y\"},{\"arrowcolor\":\"blue\",\"arrowhead\":0,\"arrowsize\":1,\"arrowwidth\":1,\"ax\":7.424905115380605,\"ay\":-18.570696918198706,\"opacity\":0.5,\"showarrow\":true,\"x\":-0.6863305711204967,\"y\":-3.9250926272896725},{\"arrowcolor\":\"blue\",\"arrowhead\":0,\"arrowsize\":1,\"arrowwidth\":1,\"ax\":-1.4077444727814035,\"ay\":-19.95039487076267,\"opacity\":0.5,\"showarrow\":true,\"x\":-1.09260276821096,\"y\":-3.2188676611310387},{\"arrowcolor\":\"blue\",\"arrowhead\":0,\"arrowsize\":1,\"arrowwidth\":1,\"ax\":-4.740965114834056,\"ay\":-19.429957534177127,\"opacity\":0.5,\"showarrow\":true,\"x\":0.4081790927555591,\"y\":-2.417010819444764},{\"arrowcolor\":\"blue\",\"arrowhead\":0,\"arrowsize\":1,\"arrowwidth\":1,\"ax\":3.2806941166409014,\"ay\":-19.72909136562142,\"opacity\":0.5,\"showarrow\":true,\"x\":-0.6600280277042457,\"y\":-5.017146900369991},{\"arrowcolor\":\"blue\",\"arrowhead\":0,\"arrowsize\":1,\"arrowwidth\":1,\"ax\":-2.7550481625820087,\"ay\":-19.809333901518585,\"opacity\":0.5,\"showarrow\":true,\"x\":1.0516864449685956,\"y\":-3.059893494459369},{\"arrowcolor\":\"blue\",\"arrowhead\":0,\"arrowsize\":1,\"arrowwidth\":1,\"ax\":-2.9602539497294456,\"ay\":-19.779709213057487,\"opacity\":0.5,\"showarrow\":true,\"x\":0.4903492025103539,\"y\":-3.381205154049921},{\"arrowcolor\":\"blue\",\"arrowhead\":0,\"arrowsize\":1,\"arrowwidth\":1,\"ax\":-1.6470439955567255,\"ay\":-19.932065775445867,\"opacity\":0.5,\"showarrow\":true,\"x\":2.594424108304924,\"y\":-5.977159154081255},{\"arrowcolor\":\"blue\",\"arrowhead\":0,\"arrowsize\":1,\"arrowwidth\":1,\"ax\":-0.5466059246195301,\"ay\":-19.992529153740676,\"opacity\":0.5,\"showarrow\":true,\"x\":-0.4498042933038507,\"y\":-2.114521602402437},{\"arrowcolor\":\"blue\",\"arrowhead\":0,\"arrowsize\":1,\"arrowwidth\":1,\"ax\":3.1228196494739784,\"ay\":-19.754695579452985,\"opacity\":0.5,\"showarrow\":true,\"x\":0.39034291090775386,\"y\":-2.4138865164230237},{\"arrowcolor\":\"blue\",\"arrowhead\":0,\"arrowsize\":1,\"arrowwidth\":1,\"ax\":-2.8744209204007394,\"ay\":-19.792364799901062,\"opacity\":0.5,\"showarrow\":true,\"x\":2.6925091416034626,\"y\":-5.489065744223065},{\"arrowcolor\":\"blue\",\"arrowhead\":0,\"arrowsize\":1,\"arrowwidth\":1,\"ax\":-0.219785558617536,\"ay\":-19.99879232124338,\"opacity\":0.5,\"showarrow\":true,\"x\":0.6228280113528276,\"y\":-5.027248980860364},{\"arrowcolor\":\"blue\",\"arrowhead\":0,\"arrowsize\":1,\"arrowwidth\":1,\"ax\":1.0379530152931755,\"ay\":-19.973048178433952,\"opacity\":0.5,\"showarrow\":true,\"x\":1.0620208499891084,\"y\":-3.822447975349659},{\"arrowcolor\":\"blue\",\"arrowhead\":0,\"arrowsize\":1,\"arrowwidth\":1,\"ax\":1.0823533747663194,\"ay\":-19.970691304312226,\"opacity\":0.5,\"showarrow\":true,\"x\":1.0768334669244688,\"y\":-5.725525244553708},{\"arrowcolor\":\"blue\",\"arrowhead\":0,\"arrowsize\":1,\"arrowwidth\":1,\"ax\":3.534314960182827,\"ay\":-19.685238575192017,\"opacity\":0.5,\"showarrow\":true,\"x\":-0.18323219431154508,\"y\":-0.7090101605828938},{\"arrowcolor\":\"blue\",\"arrowhead\":0,\"arrowsize\":1,\"arrowwidth\":1,\"ax\":2.531361714610076,\"ay\":-19.839158446612757,\"opacity\":0.5,\"showarrow\":true,\"x\":-0.4999215766138868,\"y\":-2.450122862670663},{\"arrowcolor\":\"blue\",\"arrowhead\":0,\"arrowsize\":1,\"arrowwidth\":1,\"ax\":5.947978864953855,\"ay\":-19.095066049167315,\"opacity\":0.5,\"showarrow\":true,\"x\":-0.5060032535048913,\"y\":-4.391179567428127},{\"arrowcolor\":\"blue\",\"arrowhead\":0,\"arrowsize\":1,\"arrowwidth\":1,\"ax\":-0.8626525156101286,\"ay\":-19.98138710493622,\"opacity\":0.5,\"showarrow\":true,\"x\":0.20367073291542806,\"y\":-4.377201706692908},{\"arrowcolor\":\"blue\",\"arrowhead\":0,\"arrowsize\":1,\"arrowwidth\":1,\"ax\":-2.138077737187134,\"ay\":-19.885387187322873,\"opacity\":0.5,\"showarrow\":true,\"x\":-0.22989123447202106,\"y\":-2.2779803268720156},{\"arrowcolor\":\"blue\",\"arrowhead\":0,\"arrowsize\":1,\"arrowwidth\":1,\"ax\":1.3759291309846486,\"ay\":-19.95261434064488,\"opacity\":0.5,\"showarrow\":true,\"x\":-0.12265894022923911,\"y\":-5.987954894422695},{\"arrowcolor\":\"blue\",\"arrowhead\":0,\"arrowsize\":1,\"arrowwidth\":1,\"ax\":4.623928164314979,\"ay\":-19.45814195475135,\"opacity\":0.5,\"showarrow\":true,\"x\":-0.29526786496042134,\"y\":-6.207980025852088},{\"arrowcolor\":\"blue\",\"arrowhead\":0,\"arrowsize\":1,\"arrowwidth\":1,\"ax\":-2.77464061754974,\"ay\":-19.80659913875785,\"opacity\":0.5,\"showarrow\":true,\"x\":-0.4628024545209806,\"y\":-4.611799613684888},{\"arrowcolor\":\"blue\",\"arrowhead\":0,\"arrowsize\":1,\"arrowwidth\":1,\"ax\":-3.533584988801648,\"ay\":-19.685369621292754,\"opacity\":0.5,\"showarrow\":true,\"x\":-0.0030524172543846457,\"y\":-6.015124142545031},{\"arrowcolor\":\"blue\",\"arrowhead\":0,\"arrowsize\":1,\"arrowwidth\":1,\"ax\":-3.372879098552512,\"ay\":-19.713540691274808,\"opacity\":0.5,\"showarrow\":true,\"x\":-1.1143909736946838,\"y\":-4.574961750070518},{\"arrowcolor\":\"blue\",\"arrowhead\":0,\"arrowsize\":1,\"arrowwidth\":1,\"ax\":4.614971464876608,\"ay\":-19.460268199035045,\"opacity\":0.5,\"showarrow\":true,\"x\":-0.9421895821190641,\"y\":-4.732487570908206},{\"arrowcolor\":\"blue\",\"arrowhead\":0,\"arrowsize\":1,\"arrowwidth\":1,\"ax\":0.06592248028618734,\"ay\":-19.999891355369734,\"opacity\":0.5,\"showarrow\":true,\"x\":-2.494425168708397,\"y\":-5.469427226397552},{\"arrowcolor\":\"blue\",\"arrowhead\":0,\"arrowsize\":1,\"arrowwidth\":1,\"ax\":4.540134359802369,\"ay\":-19.47786384578509,\"opacity\":0.5,\"showarrow\":true,\"x\":-1.3686537351314112,\"y\":-3.283539676068756},{\"arrowcolor\":\"blue\",\"arrowhead\":0,\"arrowsize\":1,\"arrowwidth\":1,\"ax\":-4.901940855085705,\"ay\":-19.38997101218157,\"opacity\":0.5,\"showarrow\":true,\"x\":-0.5738751496763375,\"y\":-3.1311593710798835},{\"arrowcolor\":\"blue\",\"arrowhead\":0,\"arrowsize\":1,\"arrowwidth\":1,\"ax\":-0.12018279527601484,\"ay\":-19.999638899133146,\"opacity\":0.5,\"showarrow\":true,\"x\":-0.3602586863588421,\"y\":-3.2144151290784246},{\"arrowcolor\":\"blue\",\"arrowhead\":0,\"arrowsize\":1,\"arrowwidth\":1,\"ax\":-2.104576670692918,\"ay\":-19.888960682679603,\"opacity\":0.5,\"showarrow\":true,\"x\":-0.33016679908830987,\"y\":-4.803195125192153},{\"arrowcolor\":\"blue\",\"arrowhead\":0,\"arrowsize\":1,\"arrowwidth\":1,\"ax\":-0.6790117696445748,\"ay\":-19.988470252039903,\"opacity\":0.5,\"showarrow\":true,\"x\":0.35900333624671965,\"y\":-0.4826861925779281},{\"arrowcolor\":\"blue\",\"arrowhead\":0,\"arrowsize\":1,\"arrowwidth\":1,\"ax\":1.1720743551707844,\"ay\":-19.965626504218466,\"opacity\":0.5,\"showarrow\":true,\"x\":-3.2370946442718345,\"y\":-5.580931256427202},{\"arrowcolor\":\"blue\",\"arrowhead\":0,\"arrowsize\":1,\"arrowwidth\":1,\"ax\":2.7499105961572265,\"ay\":-19.810047746362002,\"opacity\":0.5,\"showarrow\":true,\"x\":0.2630304739688972,\"y\":-0.9055295721420187},{\"arrowcolor\":\"blue\",\"arrowhead\":0,\"arrowsize\":1,\"arrowwidth\":1,\"ax\":0.0710993366217367,\"ay\":-19.999873621709014,\"opacity\":0.5,\"showarrow\":true,\"x\":-0.010749279416039051,\"y\":-1.3718521051664327},{\"arrowcolor\":\"blue\",\"arrowhead\":0,\"arrowsize\":1,\"arrowwidth\":1,\"ax\":1.0342293364193051,\"ay\":-19.97324134134692,\"opacity\":0.5,\"showarrow\":true,\"x\":-1.3251270119304928,\"y\":-2.432016280201845},{\"arrowcolor\":\"blue\",\"arrowhead\":0,\"arrowsize\":1,\"arrowwidth\":1,\"ax\":4.342093770927788,\"ay\":-19.522966518551172,\"opacity\":0.5,\"showarrow\":true,\"x\":-2.408934633348917,\"y\":-5.592311583677667},{\"arrowcolor\":\"blue\",\"arrowhead\":0,\"arrowsize\":1,\"arrowwidth\":1,\"ax\":-4.663917411816348,\"ay\":-19.448595691611164,\"opacity\":0.5,\"showarrow\":true,\"x\":-0.2224904645941831,\"y\":-2.4844051889353613},{\"arrowcolor\":\"blue\",\"arrowhead\":0,\"arrowsize\":1,\"arrowwidth\":1,\"ax\":-4.3873200787193065,\"ay\":-19.512852752144326,\"opacity\":0.5,\"showarrow\":true,\"x\":1.108492504872508,\"y\":-3.06451083094738},{\"arrowcolor\":\"blue\",\"arrowhead\":0,\"arrowsize\":1,\"arrowwidth\":1,\"ax\":-2.2679995154161747,\"ay\":-19.87098835483711,\"opacity\":0.5,\"showarrow\":true,\"x\":1.6653700471832218,\"y\":-5.184922955923347},{\"arrowcolor\":\"blue\",\"arrowhead\":0,\"arrowsize\":1,\"arrowwidth\":1,\"ax\":1.8086687456980444,\"ay\":-19.918050039306937,\"opacity\":0.5,\"showarrow\":true,\"x\":-2.2692917527904357,\"y\":-3.7922464223633106},{\"arrowcolor\":\"blue\",\"arrowhead\":0,\"arrowsize\":1,\"arrowwidth\":1,\"ax\":4.181800695747604,\"ay\":-19.557927879533782,\"opacity\":0.5,\"showarrow\":true,\"x\":0.4846594941832578,\"y\":-4.3955414072973555},{\"arrowcolor\":\"blue\",\"arrowhead\":0,\"arrowsize\":1,\"arrowwidth\":1,\"ax\":-1.4795565297043098,\"ay\":-19.945197729664386,\"opacity\":0.5,\"showarrow\":true,\"x\":-1.0644245764781992,\"y\":-4.446737936984537},{\"arrowcolor\":\"blue\",\"arrowhead\":0,\"arrowsize\":1,\"arrowwidth\":1,\"ax\":-2.3041024969725736,\"ay\":-19.8668344655973,\"opacity\":0.5,\"showarrow\":true,\"x\":0.22313947238223325,\"y\":-2.324139255511428},{\"arrowcolor\":\"blue\",\"arrowhead\":0,\"arrowsize\":1,\"arrowwidth\":1,\"ax\":5.192250006025384,\"ay\":-19.314257424890283,\"opacity\":0.5,\"showarrow\":true,\"x\":0.05353842992369966,\"y\":-2.7516057634897897},{\"arrowcolor\":\"blue\",\"arrowhead\":0,\"arrowsize\":1,\"arrowwidth\":1,\"ax\":3.699884990937576,\"ay\":-19.654792063357853,\"opacity\":0.5,\"showarrow\":true,\"x\":-0.1670502518308575,\"y\":-5.0005652132094465},{\"arrowcolor\":\"blue\",\"arrowhead\":0,\"arrowsize\":1,\"arrowwidth\":1,\"ax\":-0.685527674155517,\"ay\":-19.98824784236895,\"opacity\":0.5,\"showarrow\":true,\"x\":1.3433799966462585,\"y\":-4.73697219462965},{\"arrowcolor\":\"blue\",\"arrowhead\":0,\"arrowsize\":1,\"arrowwidth\":1,\"ax\":-0.9644589020564687,\"ay\":-19.976731940591385,\"opacity\":0.5,\"showarrow\":true,\"x\":1.2037435017197402,\"y\":-5.1938076850884345},{\"arrowcolor\":\"blue\",\"arrowhead\":0,\"arrowsize\":1,\"arrowwidth\":1,\"ax\":-2.186256217897492,\"ay\":-19.880147981081645,\"opacity\":0.5,\"showarrow\":true,\"x\":0.18365102442974282,\"y\":-1.5086975065437516},{\"arrowcolor\":\"blue\",\"arrowhead\":0,\"arrowsize\":1,\"arrowwidth\":1,\"ax\":-1.0475077210928279,\"ay\":-19.972549350902877,\"opacity\":0.5,\"showarrow\":true,\"x\":-0.5253748606656754,\"y\":-2.286224003746143},{\"arrowcolor\":\"blue\",\"arrowhead\":0,\"arrowsize\":1,\"arrowwidth\":1,\"ax\":-1.869974891069023,\"ay\":-19.912387950890555,\"opacity\":0.5,\"showarrow\":true,\"x\":-2.528377967299379,\"y\":-5.665731136042691},{\"arrowcolor\":\"blue\",\"arrowhead\":0,\"arrowsize\":1,\"arrowwidth\":1,\"ax\":-4.014552137515118,\"ay\":-19.5929418703566,\"opacity\":0.5,\"showarrow\":true,\"x\":-0.012308885208018617,\"y\":-2.5715240919073903},{\"arrowcolor\":\"blue\",\"arrowhead\":0,\"arrowsize\":1,\"arrowwidth\":1,\"ax\":1.405609699057868,\"ay\":-19.950545390387564,\"opacity\":0.5,\"showarrow\":true,\"x\":-0.5194432678406667,\"y\":-5.294270840759193},{\"arrowcolor\":\"blue\",\"arrowhead\":0,\"arrowsize\":1,\"arrowwidth\":1,\"ax\":2.293524026340595,\"ay\":-19.868058474360257,\"opacity\":0.5,\"showarrow\":true,\"x\":-1.2949003053577928,\"y\":-5.104836946889578},{\"arrowcolor\":\"blue\",\"arrowhead\":0,\"arrowsize\":1,\"arrowwidth\":1,\"ax\":-2.041015424723838,\"ay\":-19.8955838325001,\"opacity\":0.5,\"showarrow\":true,\"x\":3.112570156812654,\"y\":-6.201129436953239},{\"arrowcolor\":\"blue\",\"arrowhead\":0,\"arrowsize\":1,\"arrowwidth\":1,\"ax\":-1.0451326243628962,\"ay\":-19.972673776875553,\"opacity\":0.5,\"showarrow\":true,\"x\":-0.16529274329774415,\"y\":-1.7640861294334214},{\"arrowcolor\":\"blue\",\"arrowhead\":0,\"arrowsize\":1,\"arrowwidth\":1,\"ax\":3.3275311547788586,\"ay\":-19.721245812929165,\"opacity\":0.5,\"showarrow\":true,\"x\":-4.081889856468741,\"y\":-5.525277219401777},{\"arrowcolor\":\"blue\",\"arrowhead\":0,\"arrowsize\":1,\"arrowwidth\":1,\"ax\":-1.0142674237338354,\"ay\":-19.974264982550732,\"opacity\":0.5,\"showarrow\":true,\"x\":0.5192850662554145,\"y\":-6.037710591716963},{\"arrowcolor\":\"blue\",\"arrowhead\":0,\"arrowsize\":1,\"arrowwidth\":1,\"ax\":2.184737932051642,\"ay\":-19.8803148910739,\"opacity\":0.5,\"showarrow\":true,\"x\":-1.230325197938268,\"y\":-5.56390769967872},{\"arrowcolor\":\"blue\",\"arrowhead\":0,\"arrowsize\":1,\"arrowwidth\":1,\"ax\":0.24553585383228432,\"ay\":-19.998492746816765,\"opacity\":0.5,\"showarrow\":true,\"x\":-0.12424761384550086,\"y\":-1.092744759380183},{\"arrowcolor\":\"blue\",\"arrowhead\":0,\"arrowsize\":1,\"arrowwidth\":1,\"ax\":-1.7225256485614358,\"ay\":-19.925684565154796,\"opacity\":0.5,\"showarrow\":true,\"x\":0.696117551131128,\"y\":-5.3526119331375535},{\"arrowcolor\":\"blue\",\"arrowhead\":0,\"arrowsize\":1,\"arrowwidth\":1,\"ax\":-0.1402875439119733,\"ay\":-19.999507979073464,\"opacity\":0.5,\"showarrow\":true,\"x\":0.3373156119905225,\"y\":-4.886211005323831},{\"arrowcolor\":\"blue\",\"arrowhead\":0,\"arrowsize\":1,\"arrowwidth\":1,\"ax\":3.0475812725552576,\"ay\":-19.766442481821823,\"opacity\":0.5,\"showarrow\":true,\"x\":-0.13311353090408407,\"y\":-2.0949472504793434},{\"arrowcolor\":\"blue\",\"arrowhead\":0,\"arrowsize\":1,\"arrowwidth\":1,\"ax\":-0.33533566835411566,\"ay\":-19.997188552132258,\"opacity\":0.5,\"showarrow\":true,\"x\":-0.19260642994285243,\"y\":-5.876473830786174},{\"arrowcolor\":\"blue\",\"arrowhead\":0,\"arrowsize\":1,\"arrowwidth\":1,\"ax\":3.6903474143704034,\"ay\":-19.656585053392405,\"opacity\":0.5,\"showarrow\":true,\"x\":-0.036013601527973775,\"y\":-0.44686072018372414},{\"arrowcolor\":\"blue\",\"arrowhead\":0,\"arrowsize\":1,\"arrowwidth\":1,\"ax\":-0.9772023798375161,\"ay\":-19.976112622550964,\"opacity\":0.5,\"showarrow\":true,\"x\":1.7631245162795643,\"y\":-4.797287116016162},{\"arrowcolor\":\"blue\",\"arrowhead\":0,\"arrowsize\":1,\"arrowwidth\":1,\"ax\":-1.9520033900530631,\"ay\":-19.904514130347955,\"opacity\":0.5,\"showarrow\":true,\"x\":-1.2053634698371443,\"y\":-3.1097388525429825},{\"arrowcolor\":\"blue\",\"arrowhead\":0,\"arrowsize\":1,\"arrowwidth\":1,\"ax\":1.218053596925997,\"ay\":-19.96287417770837,\"opacity\":0.5,\"showarrow\":true,\"x\":0.6443321522781589,\"y\":-3.712760653494235},{\"arrowcolor\":\"blue\",\"arrowhead\":0,\"arrowsize\":1,\"arrowwidth\":1,\"ax\":-1.0966640089931106,\"ay\":-19.969910566934924,\"opacity\":0.5,\"showarrow\":true,\"x\":1.1770412652375035,\"y\":-3.9430662209205884},{\"arrowcolor\":\"blue\",\"arrowhead\":0,\"arrowsize\":1,\"arrowwidth\":1,\"ax\":2.410044744790263,\"ay\":-19.854261112620357,\"opacity\":0.5,\"showarrow\":true,\"x\":-2.896362065068729,\"y\":-4.472619754550262},{\"arrowcolor\":\"blue\",\"arrowhead\":0,\"arrowsize\":1,\"arrowwidth\":1,\"ax\":2.282682312881183,\"ay\":-19.86930702008652,\"opacity\":0.5,\"showarrow\":true,\"x\":-1.352997735649258,\"y\":-5.417400092325916},{\"arrowcolor\":\"blue\",\"arrowhead\":0,\"arrowsize\":1,\"arrowwidth\":1,\"ax\":1.4449760671589678,\"ay\":-19.94773280764854,\"opacity\":0.5,\"showarrow\":true,\"x\":-0.5013291545663245,\"y\":-3.888659626631493},{\"arrowcolor\":\"blue\",\"arrowhead\":0,\"arrowsize\":1,\"arrowwidth\":1,\"ax\":1.723100828622893,\"ay\":-19.925634833911793,\"opacity\":0.5,\"showarrow\":true,\"x\":-1.032777244848888,\"y\":-3.753729375613135},{\"arrowcolor\":\"blue\",\"arrowhead\":0,\"arrowsize\":1,\"arrowwidth\":1,\"ax\":0.7555061025952661,\"ay\":-19.9857251689535,\"opacity\":0.5,\"showarrow\":true,\"x\":-2.6719145748868542,\"y\":-5.035647775762008},{\"arrowcolor\":\"blue\",\"arrowhead\":0,\"arrowsize\":1,\"arrowwidth\":1,\"ax\":1.8915455126103866,\"ay\":-19.91035046335758,\"opacity\":0.5,\"showarrow\":true,\"x\":0.25191666097486054,\"y\":-1.3269892065622864},{\"arrowcolor\":\"blue\",\"arrowhead\":0,\"arrowsize\":1,\"arrowwidth\":1,\"ax\":4.692975265954637,\"ay\":-19.441604438758084,\"opacity\":0.5,\"showarrow\":true,\"x\":-2.47298466897649,\"y\":-5.306868255259215},{\"arrowcolor\":\"blue\",\"arrowhead\":0,\"arrowsize\":1,\"arrowwidth\":1,\"ax\":-2.8216832829008087,\"ay\":-19.799952107290515,\"opacity\":0.5,\"showarrow\":true,\"x\":-0.3091823072022874,\"y\":-4.976124681212267},{\"arrowcolor\":\"blue\",\"arrowhead\":0,\"arrowsize\":1,\"arrowwidth\":1,\"ax\":-0.49127945932521355,\"ay\":-19.99396520185141,\"opacity\":0.5,\"showarrow\":true,\"x\":-2.324196606117152,\"y\":-4.328500153378277},{\"arrowcolor\":\"blue\",\"arrowhead\":0,\"arrowsize\":1,\"arrowwidth\":1,\"ax\":2.5207212637753407,\"ay\":-19.84051320682887,\"opacity\":0.5,\"showarrow\":true,\"x\":0.9793585510499738,\"y\":-5.18954167503313},{\"arrowcolor\":\"blue\",\"arrowhead\":0,\"arrowsize\":1,\"arrowwidth\":1,\"ax\":0.3077193466229891,\"ay\":-19.997632579975907,\"opacity\":0.5,\"showarrow\":true,\"x\":-0.21634985100489673,\"y\":-0.9760186377663363},{\"arrowcolor\":\"blue\",\"arrowhead\":0,\"arrowsize\":1,\"arrowwidth\":1,\"ax\":1.957548441480711,\"ay\":-19.90396955632862,\"opacity\":0.5,\"showarrow\":true,\"x\":-3.274558299282272,\"y\":-5.936978119462664},{\"arrowcolor\":\"blue\",\"arrowhead\":0,\"arrowsize\":1,\"arrowwidth\":1,\"ax\":-0.7358740607819496,\"ay\":-19.986457649285136,\"opacity\":0.5,\"showarrow\":true,\"x\":-0.5708235016735524,\"y\":-2.5617630650713283},{\"arrowcolor\":\"blue\",\"arrowhead\":0,\"arrowsize\":1,\"arrowwidth\":1,\"ax\":-3.5162315348715785,\"ay\":-19.688476726074434,\"opacity\":0.5,\"showarrow\":true,\"x\":0.43349563160909343,\"y\":-2.226798439974631},{\"arrowcolor\":\"blue\",\"arrowhead\":0,\"arrowsize\":1,\"arrowwidth\":1,\"ax\":5.815207615658431,\"ay\":-19.135918070131577,\"opacity\":0.5,\"showarrow\":true,\"x\":-0.571853151108375,\"y\":-3.6508659795580325},{\"arrowcolor\":\"blue\",\"arrowhead\":0,\"arrowsize\":1,\"arrowwidth\":1,\"ax\":-1.4479675457256689,\"ay\":-19.947515885105222,\"opacity\":0.5,\"showarrow\":true,\"x\":0.3587279622184036,\"y\":-1.6689843903724544},{\"arrowcolor\":\"blue\",\"arrowhead\":0,\"arrowsize\":1,\"arrowwidth\":1,\"ax\":-1.7291148896229411,\"ay\":-19.925113844053296,\"opacity\":0.5,\"showarrow\":true,\"x\":1.529630302768509,\"y\":-4.624646429276018},{\"arrowcolor\":\"blue\",\"arrowhead\":0,\"arrowsize\":1,\"arrowwidth\":1,\"ax\":4.805994903344187,\"ay\":-19.413974682919253,\"opacity\":0.5,\"showarrow\":true,\"x\":-0.41276528691433834,\"y\":-0.9672509210737301},{\"arrowcolor\":\"blue\",\"arrowhead\":0,\"arrowsize\":1,\"arrowwidth\":1,\"ax\":3.4253292315567596,\"ay\":-19.704494909929632,\"opacity\":0.5,\"showarrow\":true,\"x\":-3.624292517893809,\"y\":-5.959529874062336},{\"arrowcolor\":\"blue\",\"arrowhead\":0,\"arrowsize\":1,\"arrowwidth\":1,\"ax\":1.2815028298692057,\"ay\":-19.958901535330977,\"opacity\":0.5,\"showarrow\":true,\"x\":-2.3828863834772975,\"y\":-4.532061506132835},{\"arrowcolor\":\"blue\",\"arrowhead\":0,\"arrowsize\":1,\"arrowwidth\":1,\"ax\":5.7837140310744415,\"ay\":-19.14546034982582,\"opacity\":0.5,\"showarrow\":true,\"x\":-0.6855390390031194,\"y\":-2.724423934876914},{\"arrowcolor\":\"blue\",\"arrowhead\":0,\"arrowsize\":1,\"arrowwidth\":1,\"ax\":0.8325630381523057,\"ay\":-19.98266345579344,\"opacity\":0.5,\"showarrow\":true,\"x\":-0.5245327351976405,\"y\":-2.620495011040691},{\"arrowcolor\":\"blue\",\"arrowhead\":0,\"arrowsize\":1,\"arrowwidth\":1,\"ax\":7.457136188647712,\"ay\":-18.5577778805535,\"opacity\":0.5,\"showarrow\":true,\"x\":-0.4451949141131461,\"y\":-2.2746804216921204},{\"arrowcolor\":\"blue\",\"arrowhead\":0,\"arrowsize\":1,\"arrowwidth\":1,\"ax\":1.0101098786955467,\"ay\":-19.974475663530235,\"opacity\":0.5,\"showarrow\":true,\"x\":-0.9757599026864278,\"y\":-1.911098498277411},{\"arrowcolor\":\"blue\",\"arrowhead\":0,\"arrowsize\":1,\"arrowwidth\":1,\"ax\":-1.5960706365630468,\"ay\":-19.936212241122966,\"opacity\":0.5,\"showarrow\":true,\"x\":1.79335767169546,\"y\":-5.412376439418594},{\"arrowcolor\":\"blue\",\"arrowhead\":0,\"arrowsize\":1,\"arrowwidth\":1,\"ax\":0.3218430654938902,\"ay\":-19.997410258360794,\"opacity\":0.5,\"showarrow\":true,\"x\":0.4920554761633703,\"y\":-0.6403337181235202},{\"arrowcolor\":\"blue\",\"arrowhead\":0,\"arrowsize\":1,\"arrowwidth\":1,\"ax\":-5.1236993528331345,\"ay\":-19.332555571930403,\"opacity\":0.5,\"showarrow\":true,\"x\":-0.4114591257806073,\"y\":-2.788031287967805},{\"arrowcolor\":\"blue\",\"arrowhead\":0,\"arrowsize\":1,\"arrowwidth\":1,\"ax\":0.335713867220892,\"ay\":-19.997182206484883,\"opacity\":0.5,\"showarrow\":true,\"x\":-2.831573849664427,\"y\":-6.240923701775089},{\"arrowcolor\":\"blue\",\"arrowhead\":0,\"arrowsize\":1,\"arrowwidth\":1,\"ax\":-0.09653911059621467,\"ay\":-19.99976700364595,\"opacity\":0.5,\"showarrow\":true,\"x\":-0.5338775027763384,\"y\":-0.9331551352652351},{\"arrowcolor\":\"blue\",\"arrowhead\":0,\"arrowsize\":1,\"arrowwidth\":1,\"ax\":-1.5372236414527272,\"ay\":-19.94083607766131,\"opacity\":0.5,\"showarrow\":true,\"x\":-0.4235666485826993,\"y\":-3.559915026142814},{\"arrowcolor\":\"blue\",\"arrowhead\":0,\"arrowsize\":1,\"arrowwidth\":1,\"ax\":0.7077940435929091,\"ay\":-19.987471765880105,\"opacity\":0.5,\"showarrow\":true,\"x\":-0.8695891164396862,\"y\":-2.5849527433717374},{\"arrowcolor\":\"blue\",\"arrowhead\":0,\"arrowsize\":1,\"arrowwidth\":1,\"ax\":2.0071288950661708,\"ay\":-19.89903097134608,\"opacity\":0.5,\"showarrow\":true,\"x\":-0.2065237343335903,\"y\":-2.9852285097712286},{\"arrowcolor\":\"blue\",\"arrowhead\":0,\"arrowsize\":1,\"arrowwidth\":1,\"ax\":1.7954446085552245,\"ay\":-19.91924643799584,\"opacity\":0.5,\"showarrow\":true,\"x\":-0.18178903768527338,\"y\":-5.982291431012515},{\"arrowcolor\":\"blue\",\"arrowhead\":0,\"arrowsize\":1,\"arrowwidth\":1,\"ax\":-0.6057770831054214,\"ay\":-19.99082374804961,\"opacity\":0.5,\"showarrow\":true,\"x\":-0.48581325582349877,\"y\":-5.916356290953004},{\"arrowcolor\":\"blue\",\"arrowhead\":0,\"arrowsize\":1,\"arrowwidth\":1,\"ax\":2.772398596754695,\"ay\":-19.8069130866148,\"opacity\":0.5,\"showarrow\":true,\"x\":-2.8736359626307526,\"y\":-5.132485150597583},{\"arrowcolor\":\"blue\",\"arrowhead\":0,\"arrowsize\":1,\"arrowwidth\":1,\"ax\":-1.9980382443725677,\"ay\":-19.89994580831879,\"opacity\":0.5,\"showarrow\":true,\"x\":2.0309405034731327,\"y\":-5.024499229690821},{\"arrowcolor\":\"blue\",\"arrowhead\":0,\"arrowsize\":1,\"arrowwidth\":1,\"ax\":0.8370707454753656,\"ay\":-19.982475136155415,\"opacity\":0.5,\"showarrow\":true,\"x\":-1.874177451988565,\"y\":-4.267741098598844},{\"arrowcolor\":\"blue\",\"arrowhead\":0,\"arrowsize\":1,\"arrowwidth\":1,\"ax\":-0.24343713283439647,\"ay\":-19.998518404180782,\"opacity\":0.5,\"showarrow\":true,\"x\":-1.4711068850267262,\"y\":-5.846283220706527},{\"arrowcolor\":\"blue\",\"arrowhead\":0,\"arrowsize\":1,\"arrowwidth\":1,\"ax\":4.017478686284189,\"ay\":-19.592341998986548,\"opacity\":0.5,\"showarrow\":true,\"x\":-1.517957124854914,\"y\":-4.271493188395222},{\"arrowcolor\":\"blue\",\"arrowhead\":0,\"arrowsize\":1,\"arrowwidth\":1,\"ax\":-0.2591773563486348,\"ay\":-19.998320606939878,\"opacity\":0.5,\"showarrow\":true,\"x\":0.41895291846493243,\"y\":-4.528601515796156},{\"arrowcolor\":\"blue\",\"arrowhead\":0,\"arrowsize\":1,\"arrowwidth\":1,\"ax\":-1.1244614367835586,\"ay\":-19.968364642032824,\"opacity\":0.5,\"showarrow\":true,\"x\":-1.5889608245260904,\"y\":-3.555114339792466},{\"arrowcolor\":\"blue\",\"arrowhead\":0,\"arrowsize\":1,\"arrowwidth\":1,\"ax\":-3.8004288872272345,\"ay\":-19.635598800982077,\"opacity\":0.5,\"showarrow\":true,\"x\":2.599335912808736,\"y\":-6.595347792964468},{\"arrowcolor\":\"blue\",\"arrowhead\":0,\"arrowsize\":1,\"arrowwidth\":1,\"ax\":0.2952524882765631,\"ay\":-19.997820530451975,\"opacity\":0.5,\"showarrow\":true,\"x\":1.3117229188430148,\"y\":-4.3183381645379955},{\"arrowcolor\":\"blue\",\"arrowhead\":0,\"arrowsize\":1,\"arrowwidth\":1,\"ax\":-1.7813510146978828,\"ay\":-19.92051175453168,\"opacity\":0.5,\"showarrow\":true,\"x\":1.5564412526212388,\"y\":-5.671199037231459},{\"arrowcolor\":\"blue\",\"arrowhead\":0,\"arrowsize\":1,\"arrowwidth\":1,\"ax\":3.606371191364779,\"ay\":-19.67216528067244,\"opacity\":0.5,\"showarrow\":true,\"x\":-1.1401199632687395,\"y\":-4.241203071411524},{\"arrowcolor\":\"blue\",\"arrowhead\":0,\"arrowsize\":1,\"arrowwidth\":1,\"ax\":0.38150683115496586,\"ay\":-19.996360982383322,\"opacity\":0.5,\"showarrow\":true,\"x\":-2.6500950012191455,\"y\":-5.3803089610676444},{\"arrowcolor\":\"blue\",\"arrowhead\":0,\"arrowsize\":1,\"arrowwidth\":1,\"ax\":0.18764024859666567,\"ay\":-19.999119759057063,\"opacity\":0.5,\"showarrow\":true,\"x\":-3.2584046956152517,\"y\":-5.783867679529783},{\"arrowcolor\":\"blue\",\"arrowhead\":0,\"arrowsize\":1,\"arrowwidth\":1,\"ax\":-1.7206958598359166,\"ay\":-19.925842661176052,\"opacity\":0.5,\"showarrow\":true,\"x\":0.24539408640992597,\"y\":-1.8113947806444621},{\"arrowcolor\":\"blue\",\"arrowhead\":0,\"arrowsize\":1,\"arrowwidth\":1,\"ax\":0.7845142551007318,\"ay\":-19.98460751137094,\"opacity\":0.5,\"showarrow\":true,\"x\":-0.3267647144969337,\"y\":-3.8695462517027575},{\"arrowcolor\":\"blue\",\"arrowhead\":0,\"arrowsize\":1,\"arrowwidth\":1,\"ax\":2.602158927784755,\"ay\":-19.829996694769015,\"opacity\":0.5,\"showarrow\":true,\"x\":-2.0948341131763555,\"y\":-5.196043984242292},{\"arrowcolor\":\"blue\",\"arrowhead\":0,\"arrowsize\":1,\"arrowwidth\":1,\"ax\":1.019950928229051,\"ay\":-19.973975570827275,\"opacity\":0.5,\"showarrow\":true,\"x\":0.025294868367888898,\"y\":-1.0236249984593604},{\"arrowcolor\":\"blue\",\"arrowhead\":0,\"arrowsize\":1,\"arrowwidth\":1,\"ax\":-0.2826347911634714,\"ay\":-19.99800283965436,\"opacity\":0.5,\"showarrow\":true,\"x\":-0.13664801260656295,\"y\":-1.3913045224258742},{\"arrowcolor\":\"blue\",\"arrowhead\":0,\"arrowsize\":1,\"arrowwidth\":1,\"ax\":-1.830091234983243,\"ay\":-19.916093142773697,\"opacity\":0.5,\"showarrow\":true,\"x\":0.625871958621663,\"y\":-1.5668565235351748},{\"arrowcolor\":\"blue\",\"arrowhead\":0,\"arrowsize\":1,\"arrowwidth\":1,\"ax\":-2.9356754649518053,\"ay\":-19.783372047365436,\"opacity\":0.5,\"showarrow\":true,\"x\":2.189365863192863,\"y\":-5.505884310768725},{\"arrowcolor\":\"blue\",\"arrowhead\":0,\"arrowsize\":1,\"arrowwidth\":1,\"ax\":-1.764886300458786,\"ay\":-19.92197721980559,\"opacity\":0.5,\"showarrow\":true,\"x\":1.0655509855552574,\"y\":-2.851520313340836},{\"arrowcolor\":\"blue\",\"arrowhead\":0,\"arrowsize\":1,\"arrowwidth\":1,\"ax\":-1.9262422192016606,\"ay\":-19.907023657818993,\"opacity\":0.5,\"showarrow\":true,\"x\":-1.6029806316372774,\"y\":-4.4915669130763},{\"arrowcolor\":\"blue\",\"arrowhead\":0,\"arrowsize\":1,\"arrowwidth\":1,\"ax\":-1.409887869315988,\"ay\":-19.950243512196927,\"opacity\":0.5,\"showarrow\":true,\"x\":0.24471345992182336,\"y\":-0.848406980143075},{\"arrowcolor\":\"blue\",\"arrowhead\":0,\"arrowsize\":1,\"arrowwidth\":1,\"ax\":-0.2838034869934233,\"ay\":-19.997986288143373,\"opacity\":0.5,\"showarrow\":true,\"x\":-0.3512627844146724,\"y\":-5.927028432253263},{\"arrowcolor\":\"blue\",\"arrowhead\":0,\"arrowsize\":1,\"arrowwidth\":1,\"ax\":-1.9463631411639695,\"ay\":-19.905066453612214,\"opacity\":0.5,\"showarrow\":true,\"x\":-0.7120871041453264,\"y\":-3.173074528683215},{\"arrowcolor\":\"blue\",\"arrowhead\":0,\"arrowsize\":1,\"arrowwidth\":1,\"ax\":-0.839259686832665,\"ay\":-19.982383320766758,\"opacity\":0.5,\"showarrow\":true,\"x\":-0.8045975952088763,\"y\":-3.9462641700608003},{\"arrowcolor\":\"blue\",\"arrowhead\":0,\"arrowsize\":1,\"arrowwidth\":1,\"ax\":0.6994860703643907,\"ay\":-19.987764238087415,\"opacity\":0.5,\"showarrow\":true,\"x\":-1.4657500000599208,\"y\":-3.7342539701147746},{\"arrowcolor\":\"blue\",\"arrowhead\":0,\"arrowsize\":1,\"arrowwidth\":1,\"ax\":-0.5760010985020487,\"ay\":-19.99170384770954,\"opacity\":0.5,\"showarrow\":true,\"x\":-0.6709368935213398,\"y\":-2.5402955568638137},{\"arrowcolor\":\"blue\",\"arrowhead\":0,\"arrowsize\":1,\"arrowwidth\":1,\"ax\":2.7790487551117513,\"ay\":-19.80598111724617,\"opacity\":0.5,\"showarrow\":true,\"x\":-0.03604794918009845,\"y\":-1.3498601211575123},{\"arrowcolor\":\"blue\",\"arrowhead\":0,\"arrowsize\":1,\"arrowwidth\":1,\"ax\":1.7299473781063488,\"ay\":-19.925041582616156,\"opacity\":0.5,\"showarrow\":true,\"x\":0.5625622499618069,\"y\":-3.172244637285402},{\"arrowcolor\":\"blue\",\"arrowhead\":0,\"arrowsize\":1,\"arrowwidth\":1,\"ax\":0.032949113444560106,\"ay\":-19.999972858879666,\"opacity\":0.5,\"showarrow\":true,\"x\":-1.0502509931299226,\"y\":-3.5145678916246608},{\"arrowcolor\":\"blue\",\"arrowhead\":0,\"arrowsize\":1,\"arrowwidth\":1,\"ax\":-2.841833608573352,\"ay\":-19.797070029203386,\"opacity\":0.5,\"showarrow\":true,\"x\":-1.1113410057519215,\"y\":-2.921143929905423},{\"arrowcolor\":\"blue\",\"arrowhead\":0,\"arrowsize\":1,\"arrowwidth\":1,\"ax\":4.6418238235354545,\"ay\":-19.453880630641763,\"opacity\":0.5,\"showarrow\":true,\"x\":-2.286359693967341,\"y\":-5.930445154584015},{\"arrowcolor\":\"blue\",\"arrowhead\":0,\"arrowsize\":1,\"arrowwidth\":1,\"ax\":-0.8741057448117394,\"ay\":-19.98088934824692,\"opacity\":0.5,\"showarrow\":true,\"x\":0.5659921382885774,\"y\":-3.2880508858092967},{\"arrowcolor\":\"blue\",\"arrowhead\":0,\"arrowsize\":1,\"arrowwidth\":1,\"ax\":0.7454732254893168,\"ay\":-19.98610191283129,\"opacity\":0.5,\"showarrow\":true,\"x\":0.05754176983530723,\"y\":-1.492175604810675},{\"arrowcolor\":\"blue\",\"arrowhead\":0,\"arrowsize\":1,\"arrowwidth\":1,\"ax\":3.692380211922015,\"ay\":-19.656203305079206,\"opacity\":0.5,\"showarrow\":true,\"x\":-1.0605515573247037,\"y\":-4.573750165347466},{\"arrowcolor\":\"blue\",\"arrowhead\":0,\"arrowsize\":1,\"arrowwidth\":1,\"ax\":-0.1480145934786381,\"ay\":-19.99945228450313,\"opacity\":0.5,\"showarrow\":true,\"x\":0.22107251667868658,\"y\":-1.4624380630669036},{\"arrowcolor\":\"blue\",\"arrowhead\":0,\"arrowsize\":1,\"arrowwidth\":1,\"ax\":1.964152268095587,\"ay\":-19.903318966135647,\"opacity\":0.5,\"showarrow\":true,\"x\":-1.1646453490464952,\"y\":-2.773424945283154},{\"arrowcolor\":\"blue\",\"arrowhead\":0,\"arrowsize\":1,\"arrowwidth\":1,\"ax\":0.730343268514432,\"ay\":-19.9866605192097,\"opacity\":0.5,\"showarrow\":true,\"x\":-0.9822032051885954,\"y\":-5.80402656499146},{\"arrowcolor\":\"blue\",\"arrowhead\":0,\"arrowsize\":1,\"arrowwidth\":1,\"ax\":7.40000789151706,\"ay\":-18.580631937732505,\"opacity\":0.5,\"showarrow\":true,\"x\":0.004997817598215485,\"y\":-3.5924485578717693},{\"arrowcolor\":\"blue\",\"arrowhead\":0,\"arrowsize\":1,\"arrowwidth\":1,\"ax\":-4.997574287159962,\"ay\":-19.36554288534968,\"opacity\":0.5,\"showarrow\":true,\"x\":2.9155499487479553,\"y\":-6.147537572875814},{\"arrowcolor\":\"blue\",\"arrowhead\":0,\"arrowsize\":1,\"arrowwidth\":1,\"ax\":3.7451407337622875,\"ay\":-19.646218997158577,\"opacity\":0.5,\"showarrow\":true,\"x\":-1.0591598902915733,\"y\":-3.4592973603567314},{\"arrowcolor\":\"blue\",\"arrowhead\":0,\"arrowsize\":1,\"arrowwidth\":1,\"ax\":-1.0836181693872007,\"ay\":-19.9706227159539,\"opacity\":0.5,\"showarrow\":true,\"x\":0.021971108028117928,\"y\":-1.5745269230888779},{\"arrowcolor\":\"blue\",\"arrowhead\":0,\"arrowsize\":1,\"arrowwidth\":1,\"ax\":-2.685030243836208,\"ay\":-19.818945799150995,\"opacity\":0.5,\"showarrow\":true,\"x\":1.6152986667480276,\"y\":-4.777323188991513},{\"arrowcolor\":\"blue\",\"arrowhead\":0,\"arrowsize\":1,\"arrowwidth\":1,\"ax\":3.5704265001801927,\"ay\":-19.678720857993056,\"opacity\":0.5,\"showarrow\":true,\"x\":0.5872507008499324,\"y\":-0.632750716263757},{\"arrowcolor\":\"blue\",\"arrowhead\":0,\"arrowsize\":1,\"arrowwidth\":1,\"ax\":-2.0944978069323907,\"ay\":-19.890024608751883,\"opacity\":0.5,\"showarrow\":true,\"x\":1.6256782388643862,\"y\":-6.3480725500027155},{\"arrowcolor\":\"blue\",\"arrowhead\":0,\"arrowsize\":1,\"arrowwidth\":1,\"ax\":1.0625321247743442,\"ay\":-19.971755693574426,\"opacity\":0.5,\"showarrow\":true,\"x\":-0.6228475263490783,\"y\":-2.3840455937635356},{\"arrowcolor\":\"blue\",\"arrowhead\":0,\"arrowsize\":1,\"arrowwidth\":1,\"ax\":0.04758013679552055,\"ay\":-19.999943403184485,\"opacity\":0.5,\"showarrow\":true,\"x\":-0.8975879421898907,\"y\":-5.149795449526445},{\"arrowcolor\":\"blue\",\"arrowhead\":0,\"arrowsize\":1,\"arrowwidth\":1,\"ax\":-1.7765338939375064,\"ay\":-19.920941928626046,\"opacity\":0.5,\"showarrow\":true,\"x\":1.5363955605385151,\"y\":-5.340074083705411},{\"arrowcolor\":\"blue\",\"arrowhead\":0,\"arrowsize\":1,\"arrowwidth\":1,\"ax\":-3.1102123583873764,\"ay\":-19.756684415299407,\"opacity\":0.5,\"showarrow\":true,\"x\":-0.7982534927734665,\"y\":-5.6796993026389115},{\"arrowcolor\":\"blue\",\"arrowhead\":0,\"arrowsize\":1,\"arrowwidth\":1,\"ax\":1.1339106010051652,\"ay\":-19.967830296477583,\"opacity\":0.5,\"showarrow\":true,\"x\":-0.9458576915649033,\"y\":-2.4243439986562354},{\"arrowcolor\":\"blue\",\"arrowhead\":0,\"arrowsize\":1,\"arrowwidth\":1,\"ax\":-0.036207290459168186,\"ay\":-19.99996722577609,\"opacity\":0.5,\"showarrow\":true,\"x\":0.069087124169333,\"y\":-2.7226734724218873},{\"arrowcolor\":\"blue\",\"arrowhead\":0,\"arrowsize\":1,\"arrowwidth\":1,\"ax\":-4.22477669798797,\"ay\":-19.548689517513388,\"opacity\":0.5,\"showarrow\":true,\"x\":3.113978037872331,\"y\":-6.313283976432269},{\"arrowcolor\":\"blue\",\"arrowhead\":0,\"arrowsize\":1,\"arrowwidth\":1,\"ax\":-1.9402754478921627,\"ay\":-19.905660782458515,\"opacity\":0.5,\"showarrow\":true,\"x\":0.9797856958916231,\"y\":-4.993744552024807},{\"arrowcolor\":\"blue\",\"arrowhead\":0,\"arrowsize\":1,\"arrowwidth\":1,\"ax\":-3.4750268628727077,\"ay\":-19.69579113166854,\"opacity\":0.5,\"showarrow\":true,\"x\":3.7379649021310097,\"y\":-6.4019417440413},{\"arrowcolor\":\"blue\",\"arrowhead\":0,\"arrowsize\":1,\"arrowwidth\":1,\"ax\":-4.275479035528243,\"ay\":-19.537663089959313,\"opacity\":0.5,\"showarrow\":true,\"x\":-0.3769530405405801,\"y\":-2.9090562530704207},{\"arrowcolor\":\"blue\",\"arrowhead\":0,\"arrowsize\":1,\"arrowwidth\":1,\"ax\":0.9902942595366172,\"ay\":-19.975467886373245,\"opacity\":0.5,\"showarrow\":true,\"x\":-0.2086265050465583,\"y\":-1.8987919262677537},{\"arrowcolor\":\"blue\",\"arrowhead\":0,\"arrowsize\":1,\"arrowwidth\":1,\"ax\":1.9425920169133373,\"ay\":-19.905434842168724,\"opacity\":0.5,\"showarrow\":true,\"x\":1.1195334440995288,\"y\":-6.242286532558084},{\"arrowcolor\":\"blue\",\"arrowhead\":0,\"arrowsize\":1,\"arrowwidth\":1,\"ax\":0.47805856389303036,\"ay\":-19.994285683902003,\"opacity\":0.5,\"showarrow\":true,\"x\":-3.7079819399322735,\"y\":-5.191589167632986},{\"arrowcolor\":\"blue\",\"arrowhead\":0,\"arrowsize\":1,\"arrowwidth\":1,\"ax\":-2.9376684742456947,\"ay\":-19.783076200010527,\"opacity\":0.5,\"showarrow\":true,\"x\":-0.8688894665433201,\"y\":-5.364393770380624},{\"arrowcolor\":\"blue\",\"arrowhead\":0,\"arrowsize\":1,\"arrowwidth\":1,\"ax\":0.428530576524771,\"ay\":-19.995408511580436,\"opacity\":0.5,\"showarrow\":true,\"x\":-3.5532529125013754,\"y\":-5.177079438518841},{\"arrowcolor\":\"blue\",\"arrowhead\":0,\"arrowsize\":1,\"arrowwidth\":1,\"ax\":6.755286142496644,\"ay\":-18.82461444845532,\"opacity\":0.5,\"showarrow\":true,\"x\":-1.20702763484709,\"y\":-3.371441748522998},{\"arrowcolor\":\"blue\",\"arrowhead\":0,\"arrowsize\":1,\"arrowwidth\":1,\"ax\":-1.5251527658659567,\"ay\":-19.941762937131998,\"opacity\":0.5,\"showarrow\":true,\"x\":0.564618427276725,\"y\":-3.561607092534763},{\"arrowcolor\":\"blue\",\"arrowhead\":0,\"arrowsize\":1,\"arrowwidth\":1,\"ax\":0.5902735762346836,\"ay\":-19.99128752995162,\"opacity\":0.5,\"showarrow\":true,\"x\":-0.3567437034574371,\"y\":-1.215817707788977},{\"arrowcolor\":\"blue\",\"arrowhead\":0,\"arrowsize\":1,\"arrowwidth\":1,\"ax\":1.7390938254982253,\"ay\":-19.924245347468343,\"opacity\":0.5,\"showarrow\":true,\"x\":0.46532878742680756,\"y\":-5.750450986461387},{\"arrowcolor\":\"blue\",\"arrowhead\":0,\"arrowsize\":1,\"arrowwidth\":1,\"ax\":-2.070367480187711,\"ay\":-19.89255082931752,\"opacity\":0.5,\"showarrow\":true,\"x\":-0.40402050047770277,\"y\":-6.915730036638091},{\"arrowcolor\":\"blue\",\"arrowhead\":0,\"arrowsize\":1,\"arrowwidth\":1,\"ax\":5.052616593672889,\"ay\":-19.35125488327156,\"opacity\":0.5,\"showarrow\":true,\"x\":-2.3011962490945015,\"y\":-5.85207707900814},{\"arrowcolor\":\"blue\",\"arrowhead\":0,\"arrowsize\":1,\"arrowwidth\":1,\"ax\":2.3668979682633595,\"ay\":-19.859450999658343,\"opacity\":0.5,\"showarrow\":true,\"x\":-0.12542677031175112,\"y\":-0.5977052194529298},{\"arrowcolor\":\"blue\",\"arrowhead\":0,\"arrowsize\":1,\"arrowwidth\":1,\"ax\":2.9721959431671103,\"ay\":-19.777918274566233,\"opacity\":0.5,\"showarrow\":true,\"x\":-1.7466214801811997,\"y\":-3.5668469948094828},{\"arrowcolor\":\"blue\",\"arrowhead\":0,\"arrowsize\":1,\"arrowwidth\":1,\"ax\":-5.160220275664153,\"ay\":-19.322839509415395,\"opacity\":0.5,\"showarrow\":true,\"x\":3.1875366899499427,\"y\":-6.8199470346837066},{\"arrowcolor\":\"blue\",\"arrowhead\":0,\"arrowsize\":1,\"arrowwidth\":1,\"ax\":-0.9926587013381428,\"ay\":-19.97535052765427,\"opacity\":0.5,\"showarrow\":true,\"x\":0.9756837042544332,\"y\":-3.1519136984076996},{\"arrowcolor\":\"blue\",\"arrowhead\":0,\"arrowsize\":1,\"arrowwidth\":1,\"ax\":3.3368363612972978,\"ay\":-19.719673503836827,\"opacity\":0.5,\"showarrow\":true,\"x\":-2.1438209823763326,\"y\":-5.36773757025015},{\"arrowcolor\":\"blue\",\"arrowhead\":0,\"arrowsize\":1,\"arrowwidth\":1,\"ax\":-1.1280360427542713,\"ay\":-19.96816302733547,\"opacity\":0.5,\"showarrow\":true,\"x\":0.27412402867089264,\"y\":-1.0888416684815814},{\"arrowcolor\":\"blue\",\"arrowhead\":0,\"arrowsize\":1,\"arrowwidth\":1,\"ax\":1.7489573722682783,\"ay\":-19.923381944589337,\"opacity\":0.5,\"showarrow\":true,\"x\":0.11833488082407653,\"y\":-1.349052663323837},{\"arrowcolor\":\"blue\",\"arrowhead\":0,\"arrowsize\":1,\"arrowwidth\":1,\"ax\":-1.7687319057560227,\"ay\":-19.921636163868687,\"opacity\":0.5,\"showarrow\":true,\"x\":-0.5169154908729338,\"y\":-1.3263846462468194},{\"arrowcolor\":\"blue\",\"arrowhead\":0,\"arrowsize\":1,\"arrowwidth\":1,\"ax\":-3.2111359815668132,\"ay\":-19.740532052300082,\"opacity\":0.5,\"showarrow\":true,\"x\":-0.41093255675031926,\"y\":-2.159510961994748},{\"arrowcolor\":\"blue\",\"arrowhead\":0,\"arrowsize\":1,\"arrowwidth\":1,\"ax\":3.565608834503053,\"ay\":-19.67959434641156,\"opacity\":0.5,\"showarrow\":true,\"x\":-2.244106750975613,\"y\":-4.980182777062063},{\"arrowcolor\":\"blue\",\"arrowhead\":0,\"arrowsize\":1,\"arrowwidth\":1,\"ax\":4.399273510829566,\"ay\":-19.510161264759276,\"opacity\":0.5,\"showarrow\":true,\"x\":0.2535211333983897,\"y\":-3.9721333772763945},{\"arrowcolor\":\"blue\",\"arrowhead\":0,\"arrowsize\":1,\"arrowwidth\":1,\"ax\":-1.5070211323012153,\"ay\":-19.943141360046507,\"opacity\":0.5,\"showarrow\":true,\"x\":0.23556655609228655,\"y\":-5.255848285125121},{\"arrowcolor\":\"blue\",\"arrowhead\":0,\"arrowsize\":1,\"arrowwidth\":1,\"ax\":-2.991841691212586,\"ay\":-19.774955961890843,\"opacity\":0.5,\"showarrow\":true,\"x\":0.4404481268741431,\"y\":-3.120254668986272},{\"arrowcolor\":\"blue\",\"arrowhead\":0,\"arrowsize\":1,\"arrowwidth\":1,\"ax\":-1.0986631994288645,\"ay\":-19.969800679381372,\"opacity\":0.5,\"showarrow\":true,\"x\":-1.1707272340627823,\"y\":-2.9893613811408346},{\"arrowcolor\":\"blue\",\"arrowhead\":0,\"arrowsize\":1,\"arrowwidth\":1,\"ax\":2.092936779058951,\"ay\":-19.890188929189748,\"opacity\":0.5,\"showarrow\":true,\"x\":-0.11664549180098154,\"y\":-3.9059127098325566},{\"arrowcolor\":\"blue\",\"arrowhead\":0,\"arrowsize\":1,\"arrowwidth\":1,\"ax\":0.19691752916909025,\"ay\":-19.99903056367248,\"opacity\":0.5,\"showarrow\":true,\"x\":-0.4380646661678239,\"y\":-3.260872045183512},{\"arrowcolor\":\"blue\",\"arrowhead\":0,\"arrowsize\":1,\"arrowwidth\":1,\"ax\":-1.6866078265051447,\"ay\":-19.92875696172673,\"opacity\":0.5,\"showarrow\":true,\"x\":0.025243761429036445,\"y\":-3.2673978195485356},{\"arrowcolor\":\"blue\",\"arrowhead\":0,\"arrowsize\":1,\"arrowwidth\":1,\"ax\":-0.7060653701493074,\"ay\":-19.98753290661646,\"opacity\":0.5,\"showarrow\":true,\"x\":1.0879248876610876,\"y\":-4.068116383057395},{\"arrowcolor\":\"blue\",\"arrowhead\":0,\"arrowsize\":1,\"arrowwidth\":1,\"ax\":-3.027363679956574,\"ay\":-19.76954903757999,\"opacity\":0.5,\"showarrow\":true,\"x\":0.7005626056698411,\"y\":-3.1271898525205355},{\"arrowcolor\":\"blue\",\"arrowhead\":0,\"arrowsize\":1,\"arrowwidth\":1,\"ax\":-5.576767039542627,\"ay\":-19.206761033205755,\"opacity\":0.5,\"showarrow\":true,\"x\":0.5345115417364871,\"y\":-2.6371268307325986},{\"arrowcolor\":\"blue\",\"arrowhead\":0,\"arrowsize\":1,\"arrowwidth\":1,\"ax\":1.0809926318085477,\"ay\":-19.97076500612772,\"opacity\":0.5,\"showarrow\":true,\"x\":1.133442928759755,\"y\":-5.413817033123523},{\"arrowcolor\":\"blue\",\"arrowhead\":0,\"arrowsize\":1,\"arrowwidth\":1,\"ax\":-2.7665351458210816,\"ay\":-19.807732916387394,\"opacity\":0.5,\"showarrow\":true,\"x\":-0.673165888082883,\"y\":-4.641163733036058},{\"arrowcolor\":\"blue\",\"arrowhead\":0,\"arrowsize\":1,\"arrowwidth\":1,\"ax\":-0.6276811732427601,\"ay\":-19.990147982062478,\"opacity\":0.5,\"showarrow\":true,\"x\":0.8109589777668187,\"y\":-3.8294150233534117},{\"arrowcolor\":\"blue\",\"arrowhead\":0,\"arrowsize\":1,\"arrowwidth\":1,\"ax\":-1.2827959587386615,\"ay\":-19.958818465235957,\"opacity\":0.5,\"showarrow\":true,\"x\":0.006151986415215279,\"y\":-1.4519959746653137},{\"arrowcolor\":\"blue\",\"arrowhead\":0,\"arrowsize\":1,\"arrowwidth\":1,\"ax\":2.131138197005201,\"ay\":-19.886132102177775,\"opacity\":0.5,\"showarrow\":true,\"x\":-2.9017968024228264,\"y\":-4.939292918553825},{\"arrowcolor\":\"blue\",\"arrowhead\":0,\"arrowsize\":1,\"arrowwidth\":1,\"ax\":4.77937110799213,\"ay\":-19.42054612548499,\"opacity\":0.5,\"showarrow\":true,\"x\":0.5868714858352712,\"y\":-1.5942122689056744},{\"arrowcolor\":\"blue\",\"arrowhead\":0,\"arrowsize\":1,\"arrowwidth\":1,\"ax\":0.6001636690173687,\"ay\":-19.9909930611361,\"opacity\":0.5,\"showarrow\":true,\"x\":-1.374289225159343,\"y\":-4.213592829917774},{\"arrowcolor\":\"blue\",\"arrowhead\":0,\"arrowsize\":1,\"arrowwidth\":1,\"ax\":1.7288441553227951,\"ay\":-19.925137336706268,\"opacity\":0.5,\"showarrow\":true,\"x\":0.017281577529270148,\"y\":-2.246240545460643},{\"arrowcolor\":\"blue\",\"arrowhead\":0,\"arrowsize\":1,\"arrowwidth\":1,\"ax\":0.781109554325752,\"ay\":-19.984740875581576,\"opacity\":0.5,\"showarrow\":true,\"x\":-0.8161923054273393,\"y\":-2.6264092610200223},{\"arrowcolor\":\"blue\",\"arrowhead\":0,\"arrowsize\":1,\"arrowwidth\":1,\"ax\":-3.2109335988991727,\"ay\":-19.740564972245867,\"opacity\":0.5,\"showarrow\":true,\"x\":-0.585754781893443,\"y\":-3.622443487652039},{\"arrowcolor\":\"blue\",\"arrowhead\":0,\"arrowsize\":1,\"arrowwidth\":1,\"ax\":1.5131892771114066,\"ay\":-19.942674299392124,\"opacity\":0.5,\"showarrow\":true,\"x\":-0.13907924217190296,\"y\":-1.4372310006558686},{\"arrowcolor\":\"blue\",\"arrowhead\":0,\"arrowsize\":1,\"arrowwidth\":1,\"ax\":-0.33662893947702394,\"ay\":-19.997166823255405,\"opacity\":0.5,\"showarrow\":true,\"x\":1.3232037939213175,\"y\":-4.500475513480839},{\"arrowcolor\":\"blue\",\"arrowhead\":0,\"arrowsize\":1,\"arrowwidth\":1,\"ax\":-1.1723173662760829,\"ay\":-19.965612236861848,\"opacity\":0.5,\"showarrow\":true,\"x\":-0.6421208117667179,\"y\":-2.4398208387927016},{\"arrowcolor\":\"blue\",\"arrowhead\":0,\"arrowsize\":1,\"arrowwidth\":1,\"ax\":1.9140645258215083,\"ay\":-19.90819823567647,\"opacity\":0.5,\"showarrow\":true,\"x\":-0.4468741362998535,\"y\":-1.7766799333288428},{\"arrowcolor\":\"blue\",\"arrowhead\":0,\"arrowsize\":1,\"arrowwidth\":1,\"ax\":0.46315122737876835,\"ay\":-19.99463655435071,\"opacity\":0.5,\"showarrow\":true,\"x\":0.3505661122472412,\"y\":-1.6587886097940245},{\"arrowcolor\":\"blue\",\"arrowhead\":0,\"arrowsize\":1,\"arrowwidth\":1,\"ax\":2.817033861444363,\"ay\":-19.800614137533106,\"opacity\":0.5,\"showarrow\":true,\"x\":0.515565171859632,\"y\":-3.5667829083512532},{\"arrowcolor\":\"blue\",\"arrowhead\":0,\"arrowsize\":1,\"arrowwidth\":1,\"ax\":-3.024157316833815,\"ay\":-19.770039770396025,\"opacity\":0.5,\"showarrow\":true,\"x\":0.3529435465817803,\"y\":-1.2868092396913506},{\"arrowcolor\":\"blue\",\"arrowhead\":0,\"arrowsize\":1,\"arrowwidth\":1,\"ax\":-2.700268110225098,\"ay\":-19.81687543819412,\"opacity\":0.5,\"showarrow\":true,\"x\":0.7882089159345803,\"y\":-5.415327758630208},{\"arrowcolor\":\"blue\",\"arrowhead\":0,\"arrowsize\":1,\"arrowwidth\":1,\"ax\":6.238716266110453,\"ay\":-19.0020635550713,\"opacity\":0.5,\"showarrow\":true,\"x\":-0.19220808936063138,\"y\":-4.138780307173802},{\"arrowcolor\":\"blue\",\"arrowhead\":0,\"arrowsize\":1,\"arrowwidth\":1,\"ax\":-0.03754524380156585,\"ay\":-19.99996475883565,\"opacity\":0.5,\"showarrow\":true,\"x\":0.3313348764809122,\"y\":-3.28864457058104},{\"arrowcolor\":\"blue\",\"arrowhead\":0,\"arrowsize\":1,\"arrowwidth\":1,\"ax\":0.07231726661082005,\"ay\":-19.999869254896392,\"opacity\":0.5,\"showarrow\":true,\"x\":0.16044085719185347,\"y\":-3.2669346429636783},{\"arrowcolor\":\"blue\",\"arrowhead\":0,\"arrowsize\":1,\"arrowwidth\":1,\"ax\":0.3641392777963068,\"ay\":-19.9966847898937,\"opacity\":0.5,\"showarrow\":true,\"x\":0.9001972015891597,\"y\":-3.9560858967681494},{\"arrowcolor\":\"blue\",\"arrowhead\":0,\"arrowsize\":1,\"arrowwidth\":1,\"ax\":-2.2562075453991537,\"ay\":-19.87233070155798,\"opacity\":0.5,\"showarrow\":true,\"x\":-0.49529765090175865,\"y\":-0.923141920138226},{\"arrowcolor\":\"blue\",\"arrowhead\":0,\"arrowsize\":1,\"arrowwidth\":1,\"ax\":2.8016600511980796,\"ay\":-19.802795281412187,\"opacity\":0.5,\"showarrow\":true,\"x\":-0.05257467849180422,\"y\":-4.577403345574043},{\"arrowcolor\":\"blue\",\"arrowhead\":0,\"arrowsize\":1,\"arrowwidth\":1,\"ax\":6.313546462530681,\"ay\":-18.977332032334427,\"opacity\":0.5,\"showarrow\":true,\"x\":-0.06119887887772698,\"y\":-5.062626712421477},{\"arrowcolor\":\"blue\",\"arrowhead\":0,\"arrowsize\":1,\"arrowwidth\":1,\"ax\":0.595439034145331,\"ay\":-19.991134343918958,\"opacity\":0.5,\"showarrow\":true,\"x\":0.4177700611971918,\"y\":-0.3644372468908997},{\"arrowcolor\":\"blue\",\"arrowhead\":0,\"arrowsize\":1,\"arrowwidth\":1,\"ax\":-0.7307654773023841,\"ay\":-19.98664508658677,\"opacity\":0.5,\"showarrow\":true,\"x\":-3.1099521737048628,\"y\":-6.460101263902169},{\"arrowcolor\":\"blue\",\"arrowhead\":0,\"arrowsize\":1,\"arrowwidth\":1,\"ax\":6.469100201104784,\"ay\":-18.924871005850108,\"opacity\":0.5,\"showarrow\":true,\"x\":-0.7644483936285263,\"y\":-5.870296611572},{\"arrowcolor\":\"blue\",\"arrowhead\":0,\"arrowsize\":1,\"arrowwidth\":1,\"ax\":-2.4557735122404805,\"ay\":-19.84865679225116,\"opacity\":0.5,\"showarrow\":true,\"x\":-0.7455093469023044,\"y\":-6.265179791419358},{\"arrowcolor\":\"blue\",\"arrowhead\":0,\"arrowsize\":1,\"arrowwidth\":1,\"ax\":-0.3567292214358459,\"ay\":-19.996818353492483,\"opacity\":0.5,\"showarrow\":true,\"x\":-0.785865815967342,\"y\":-5.794336986988585},{\"arrowcolor\":\"blue\",\"arrowhead\":0,\"arrowsize\":1,\"arrowwidth\":1,\"ax\":-2.1527765622192168,\"ay\":-19.883801273226396,\"opacity\":0.5,\"showarrow\":true,\"x\":-1.1203941600386929,\"y\":-2.6217225467676197},{\"arrowcolor\":\"blue\",\"arrowhead\":0,\"arrowsize\":1,\"arrowwidth\":1,\"ax\":-3.1112683324258503,\"ay\":-19.75651814879444,\"opacity\":0.5,\"showarrow\":true,\"x\":0.5515553070031494,\"y\":-2.0444790723699082},{\"arrowcolor\":\"blue\",\"arrowhead\":0,\"arrowsize\":1,\"arrowwidth\":1,\"ax\":-3.2295572503331367,\"ay\":-19.73752669325163,\"opacity\":0.5,\"showarrow\":true,\"x\":0.3037211141957941,\"y\":-1.6803926643067422},{\"arrowcolor\":\"blue\",\"arrowhead\":0,\"arrowsize\":1,\"arrowwidth\":1,\"ax\":-2.4736583502568683,\"ay\":-19.846435810144968,\"opacity\":0.5,\"showarrow\":true,\"x\":-0.9960468116397045,\"y\":-5.0818189497045845},{\"arrowcolor\":\"blue\",\"arrowhead\":0,\"arrowsize\":1,\"arrowwidth\":1,\"ax\":1.9001830380813576,\"ay\":-19.909527980888647,\"opacity\":0.5,\"showarrow\":true,\"x\":-0.4548844385813938,\"y\":-5.709894002094498},{\"arrowcolor\":\"blue\",\"arrowhead\":0,\"arrowsize\":1,\"arrowwidth\":1,\"ax\":2.390158062647732,\"ay\":-19.856664987745553,\"opacity\":0.5,\"showarrow\":true,\"x\":0.3123829180172675,\"y\":-1.0202638168554916},{\"arrowcolor\":\"blue\",\"arrowhead\":0,\"arrowsize\":1,\"arrowwidth\":1,\"ax\":-0.7335586842946076,\"ay\":-19.986542763987373,\"opacity\":0.5,\"showarrow\":true,\"x\":0.06520542710313534,\"y\":-1.845745446359984},{\"arrowcolor\":\"blue\",\"arrowhead\":0,\"arrowsize\":1,\"arrowwidth\":1,\"ax\":-0.17691949405945556,\"ay\":-19.99921747200679,\"opacity\":0.5,\"showarrow\":true,\"x\":-2.4993939806137258,\"y\":-5.549752642294551},{\"arrowcolor\":\"blue\",\"arrowhead\":0,\"arrowsize\":1,\"arrowwidth\":1,\"ax\":-2.7228358662195227,\"ay\":-19.813787241353648,\"opacity\":0.5,\"showarrow\":true,\"x\":1.513484627971392,\"y\":-5.757451204201056},{\"arrowcolor\":\"blue\",\"arrowhead\":0,\"arrowsize\":1,\"arrowwidth\":1,\"ax\":2.320390853019995,\"ay\":-19.86493861780653,\"opacity\":0.5,\"showarrow\":true,\"x\":0.6850672454841993,\"y\":-4.975529552719437},{\"arrowcolor\":\"blue\",\"arrowhead\":0,\"arrowsize\":1,\"arrowwidth\":1,\"ax\":1.5215427366996213,\"ay\":-19.94203870471614,\"opacity\":0.5,\"showarrow\":true,\"x\":-2.9581362253438876,\"y\":-5.818097070678983},{\"arrowcolor\":\"blue\",\"arrowhead\":0,\"arrowsize\":1,\"arrowwidth\":1,\"ax\":-3.554116787137771,\"ay\":-19.68167304533295,\"opacity\":0.5,\"showarrow\":true,\"x\":-0.7165551959211062,\"y\":-2.6546596729636214},{\"arrowcolor\":\"blue\",\"arrowhead\":0,\"arrowsize\":1,\"arrowwidth\":1,\"ax\":-0.6383452987978646,\"ay\":-19.9898102862309,\"opacity\":0.5,\"showarrow\":true,\"x\":-0.2337584022138973,\"y\":-1.9002008072083871},{\"arrowcolor\":\"blue\",\"arrowhead\":0,\"arrowsize\":1,\"arrowwidth\":1,\"ax\":-0.44195628175547147,\"ay\":-19.99511626985492,\"opacity\":0.5,\"showarrow\":true,\"x\":-0.11188341528481863,\"y\":-1.4666914640813942},{\"arrowcolor\":\"blue\",\"arrowhead\":0,\"arrowsize\":1,\"arrowwidth\":1,\"ax\":2.4300265890900294,\"ay\":-19.851825376431144,\"opacity\":0.5,\"showarrow\":true,\"x\":-0.5303562494330021,\"y\":-1.1671618315064043},{\"arrowcolor\":\"blue\",\"arrowhead\":0,\"arrowsize\":1,\"arrowwidth\":1,\"ax\":-4.658607012325463,\"ay\":-19.449868398133496,\"opacity\":0.5,\"showarrow\":true,\"x\":0.05454363116552562,\"y\":-4.246080534534857},{\"arrowcolor\":\"blue\",\"arrowhead\":0,\"arrowsize\":1,\"arrowwidth\":1,\"ax\":-4.302026500196987,\"ay\":-19.531834731832102,\"opacity\":0.5,\"showarrow\":true,\"x\":0.8608676281457428,\"y\":-4.4366871736661535},{\"arrowcolor\":\"blue\",\"arrowhead\":0,\"arrowsize\":1,\"arrowwidth\":1,\"ax\":-1.6177983429978537,\"ay\":-19.934460828459677,\"opacity\":0.5,\"showarrow\":true,\"x\":-1.112652092807238,\"y\":-2.3640398056977814},{\"arrowcolor\":\"blue\",\"arrowhead\":0,\"arrowsize\":1,\"arrowwidth\":1,\"ax\":-1.4600610601019928,\"ay\":-19.94663434519152,\"opacity\":0.5,\"showarrow\":true,\"x\":0.7306890760861665,\"y\":-1.9794553769624486},{\"arrowcolor\":\"blue\",\"arrowhead\":0,\"arrowsize\":1,\"arrowwidth\":1,\"ax\":-1.4795593308105672,\"ay\":-19.94519752187507,\"opacity\":0.5,\"showarrow\":true,\"x\":-0.3014582160192563,\"y\":-0.6239111761782651},{\"arrowcolor\":\"blue\",\"arrowhead\":0,\"arrowsize\":1,\"arrowwidth\":1,\"ax\":1.2690781481852456,\"ay\":-19.959695404835184,\"opacity\":0.5,\"showarrow\":true,\"x\":0.42021760782328266,\"y\":-1.9672232359034574},{\"arrowcolor\":\"red\",\"arrowhead\":0,\"arrowsize\":1,\"arrowwidth\":1,\"ax\":-0.9158871460585999,\"ay\":-19.979017762034367,\"opacity\":0.5,\"showarrow\":true,\"x\":-1.9160083342855503,\"y\":-6.025695483920559},{\"arrowcolor\":\"red\",\"arrowhead\":0,\"arrowsize\":1,\"arrowwidth\":1,\"ax\":8.501980608960887,\"ay\":-18.102936936443573,\"opacity\":0.5,\"showarrow\":true,\"x\":-0.8868689677633831,\"y\":-3.456448785419918},{\"arrowcolor\":\"red\",\"arrowhead\":0,\"arrowsize\":1,\"arrowwidth\":1,\"ax\":-1.2981635967282559,\"ay\":-19.957824813243793,\"opacity\":0.5,\"showarrow\":true,\"x\":-1.0907761773491609,\"y\":-3.174783930079692},{\"arrowcolor\":\"red\",\"arrowhead\":0,\"arrowsize\":1,\"arrowwidth\":1,\"ax\":-6.050661972967118,\"ay\":-19.062777596375867,\"opacity\":0.5,\"showarrow\":true,\"x\":0.5363045730514803,\"y\":-2.229845490032148},{\"arrowcolor\":\"red\",\"arrowhead\":0,\"arrowsize\":1,\"arrowwidth\":1,\"ax\":7.781808695184718,\"ay\":-18.42399124596914,\"opacity\":0.5,\"showarrow\":true,\"x\":-1.8282829921346,\"y\":-4.613908587270353},{\"arrowcolor\":\"red\",\"arrowhead\":0,\"arrowsize\":1,\"arrowwidth\":1,\"ax\":-3.4479547347817716,\"ay\":-19.700548422490577,\"opacity\":0.5,\"showarrow\":true,\"x\":1.0331710866603472,\"y\":-2.7270642291530267},{\"arrowcolor\":\"red\",\"arrowhead\":0,\"arrowsize\":1,\"arrowwidth\":1,\"ax\":-1.1082119042855396,\"ay\":-19.969273055752424,\"opacity\":0.5,\"showarrow\":true,\"x\":0.24024931953531206,\"y\":-3.1039579865256033},{\"arrowcolor\":\"red\",\"arrowhead\":0,\"arrowsize\":1,\"arrowwidth\":1,\"ax\":-1.8802186831162953,\"ay\":-19.91142329678269,\"opacity\":0.5,\"showarrow\":true,\"x\":2.952401974892819,\"y\":-5.70921414601128},{\"arrowcolor\":\"red\",\"arrowhead\":0,\"arrowsize\":1,\"arrowwidth\":1,\"ax\":-0.7606532771285697,\"ay\":-19.985529930226857,\"opacity\":0.5,\"showarrow\":true,\"x\":-0.3783240736682838,\"y\":-1.8079899860434592},{\"arrowcolor\":\"red\",\"arrowhead\":0,\"arrowsize\":1,\"arrowwidth\":1,\"ax\":0.65065246047729,\"ay\":-19.98941348253307,\"opacity\":0.5,\"showarrow\":true,\"x\":0.60120598450768,\"y\":-2.1086450115441395},{\"arrowcolor\":\"red\",\"arrowhead\":0,\"arrowsize\":1,\"arrowwidth\":1,\"ax\":-5.1064122874060605,\"ay\":-19.337128885928966,\"opacity\":0.5,\"showarrow\":true,\"x\":3.4390258206169904,\"y\":-4.880430059432009},{\"arrowcolor\":\"red\",\"arrowhead\":0,\"arrowsize\":1,\"arrowwidth\":1,\"ax\":-0.5369876681227372,\"ay\":-19.99278980643482,\"opacity\":0.5,\"showarrow\":true,\"x\":0.737076803239281,\"y\":-4.721650122423186},{\"arrowcolor\":\"red\",\"arrowhead\":0,\"arrowsize\":1,\"arrowwidth\":1,\"ax\":-0.2169158354889381,\"ay\":-19.998823653413073,\"opacity\":0.5,\"showarrow\":true,\"x\":1.253342275117249,\"y\":-3.357520339961866},{\"arrowcolor\":\"red\",\"arrowhead\":0,\"arrowsize\":1,\"arrowwidth\":1,\"ax\":1.2562161342054807,\"ay\":-19.960509037200474,\"opacity\":0.5,\"showarrow\":true,\"x\":1.1609843868419376,\"y\":-5.540757820074929},{\"arrowcolor\":\"red\",\"arrowhead\":0,\"arrowsize\":1,\"arrowwidth\":1,\"ax\":2.0077970416231756,\"ay\":-19.89896356697125,\"opacity\":0.5,\"showarrow\":true,\"x\":-0.22461740032811833,\"y\":-1.04628371722023},{\"arrowcolor\":\"red\",\"arrowhead\":0,\"arrowsize\":1,\"arrowwidth\":1,\"ax\":5.01753003073404,\"ay\":-19.360382031114007,\"opacity\":0.5,\"showarrow\":true,\"x\":-0.7562112772901373,\"y\":-2.258109771768233},{\"arrowcolor\":\"red\",\"arrowhead\":0,\"arrowsize\":1,\"arrowwidth\":1,\"ax\":6.27421688592778,\"ay\":-18.99037130938568,\"opacity\":0.5,\"showarrow\":true,\"x\":-0.5932856964726329,\"y\":-4.13213651580048},{\"arrowcolor\":\"red\",\"arrowhead\":0,\"arrowsize\":1,\"arrowwidth\":1,\"ax\":-0.1698672358942893,\"ay\":-19.999278615044332,\"opacity\":0.5,\"showarrow\":true,\"x\":0.011160160670766764,\"y\":-3.725521314632054},{\"arrowcolor\":\"red\",\"arrowhead\":0,\"arrowsize\":1,\"arrowwidth\":1,\"ax\":-2.3395675572394357,\"ay\":-19.86268923497301,\"opacity\":0.5,\"showarrow\":true,\"x\":-0.25546218116342206,\"y\":-2.2639946460276863},{\"arrowcolor\":\"red\",\"arrowhead\":0,\"arrowsize\":1,\"arrowwidth\":1,\"ax\":-1.747569830429523,\"ay\":-19.92350370009684,\"opacity\":0.5,\"showarrow\":true,\"x\":0.7170948190156187,\"y\":-5.887127681277981},{\"arrowcolor\":\"red\",\"arrowhead\":0,\"arrowsize\":1,\"arrowwidth\":1,\"ax\":7.71605178535059,\"ay\":-18.45162715984116,\"opacity\":0.5,\"showarrow\":true,\"x\":-1.2857181417039978,\"y\":-5.940264645957805},{\"arrowcolor\":\"red\",\"arrowhead\":0,\"arrowsize\":1,\"arrowwidth\":1,\"ax\":-7.013358570752443,\"ay\":-18.72999737207812,\"opacity\":0.5,\"showarrow\":true,\"x\":0.34117659900445774,\"y\":-4.431482105901976},{\"arrowcolor\":\"red\",\"arrowhead\":0,\"arrowsize\":1,\"arrowwidth\":1,\"ax\":-8.391624775354314,\"ay\":-18.15435577567157,\"opacity\":0.5,\"showarrow\":true,\"x\":1.3364809082519997,\"y\":-5.8503220568481655},{\"arrowcolor\":\"red\",\"arrowhead\":0,\"arrowsize\":1,\"arrowwidth\":1,\"ax\":-2.237709595963166,\"ay\":-19.874422149187996,\"opacity\":0.5,\"showarrow\":true,\"x\":-1.720085613203235,\"y\":-3.326746248093304},{\"arrowcolor\":\"red\",\"arrowhead\":0,\"arrowsize\":1,\"arrowwidth\":1,\"ax\":3.331626709490212,\"ay\":-19.72055433979003,\"opacity\":0.5,\"showarrow\":true,\"x\":-0.6545905854068291,\"y\":-4.297976974157425},{\"arrowcolor\":\"red\",\"arrowhead\":0,\"arrowsize\":1,\"arrowwidth\":1,\"ax\":-1.9718972212779826,\"ay\":-19.90255313643745,\"opacity\":0.5,\"showarrow\":true,\"x\":-2.094933207132126,\"y\":-5.226844202379884},{\"arrowcolor\":\"red\",\"arrowhead\":0,\"arrowsize\":1,\"arrowwidth\":1,\"ax\":5.0330971424426085,\"ay\":-19.356340903040948,\"opacity\":0.5,\"showarrow\":true,\"x\":-1.4788814528807162,\"y\":-3.137551086794981},{\"arrowcolor\":\"red\",\"arrowhead\":0,\"arrowsize\":1,\"arrowwidth\":1,\"ax\":-8.32089198136129,\"ay\":-18.186884192585527,\"opacity\":0.5,\"showarrow\":true,\"x\":0.07618137338327387,\"y\":-2.896608150799119},{\"arrowcolor\":\"red\",\"arrowhead\":0,\"arrowsize\":1,\"arrowwidth\":1,\"ax\":1.5240024070657032,\"ay\":-19.94185088358796,\"opacity\":0.5,\"showarrow\":true,\"x\":-0.6252657637288523,\"y\":-3.1033659607236554},{\"arrowcolor\":\"red\",\"arrowhead\":0,\"arrowsize\":1,\"arrowwidth\":1,\"ax\":-4.324741897088014,\"ay\":-19.526817649672758,\"opacity\":0.5,\"showarrow\":true,\"x\":0.22644339811059985,\"y\":-4.687873509497297},{\"arrowcolor\":\"red\",\"arrowhead\":0,\"arrowsize\":1,\"arrowwidth\":1,\"ax\":-1.6622509721669885,\"ay\":-19.9308033381881,\"opacity\":0.5,\"showarrow\":true,\"x\":0.6692966206408004,\"y\":-0.8840851928814774},{\"arrowcolor\":\"red\",\"arrowhead\":0,\"arrowsize\":1,\"arrowwidth\":1,\"ax\":2.6694077167283377,\"ay\":-19.821056037503936,\"opacity\":0.5,\"showarrow\":true,\"x\":-3.6399919693471796,\"y\":-5.0727597836092215},{\"arrowcolor\":\"red\",\"arrowhead\":0,\"arrowsize\":1,\"arrowwidth\":1,\"ax\":4.116808704985624,\"ay\":-19.57171137347357,\"opacity\":0.5,\"showarrow\":true,\"x\":0.14740974375625476,\"y\":-0.912527979581196},{\"arrowcolor\":\"red\",\"arrowhead\":0,\"arrowsize\":1,\"arrowwidth\":1,\"ax\":1.1539670445519998,\"ay\":-19.966681248021363,\"opacity\":0.5,\"showarrow\":true,\"x\":-0.11965896325915994,\"y\":-1.724857757110195},{\"arrowcolor\":\"red\",\"arrowhead\":0,\"arrowsize\":1,\"arrowwidth\":1,\"ax\":0.9488935030106558,\"ay\":-19.977477346250303,\"opacity\":0.5,\"showarrow\":true,\"x\":-1.1945506450155559,\"y\":-2.4447119593532065},{\"arrowcolor\":\"red\",\"arrowhead\":0,\"arrowsize\":1,\"arrowwidth\":1,\"ax\":6.891330666376777,\"ay\":-18.77523799174474,\"opacity\":0.5,\"showarrow\":true,\"x\":-3.318483865018939,\"y\":-5.021150177435948},{\"arrowcolor\":\"red\",\"arrowhead\":0,\"arrowsize\":1,\"arrowwidth\":1,\"ax\":-7.800055039645718,\"ay\":-18.416273819057356,\"opacity\":0.5,\"showarrow\":true,\"x\":0.03602790566187535,\"y\":-2.1306689455981433},{\"arrowcolor\":\"red\",\"arrowhead\":0,\"arrowsize\":1,\"arrowwidth\":1,\"ax\":-6.707775708145016,\"ay\":-18.841596138576467,\"opacity\":0.5,\"showarrow\":true,\"x\":1.3253280779396768,\"y\":-2.700686093614193},{\"arrowcolor\":\"red\",\"arrowhead\":0,\"arrowsize\":1,\"arrowwidth\":1,\"ax\":-1.665119083759237,\"ay\":-19.930563926715692,\"opacity\":0.5,\"showarrow\":true,\"x\":2.0620874098401862,\"y\":-4.8998145765150305},{\"arrowcolor\":\"red\",\"arrowhead\":0,\"arrowsize\":1,\"arrowwidth\":1,\"ax\":0.2216605542995907,\"ay\":-19.9987716272442,\"opacity\":0.5,\"showarrow\":true,\"x\":-1.8758061235425816,\"y\":-3.7463059880615983},{\"arrowcolor\":\"red\",\"arrowhead\":0,\"arrowsize\":1,\"arrowwidth\":1,\"ax\":7.330567693914361,\"ay\":-18.608137394294438,\"opacity\":0.5,\"showarrow\":true,\"x\":-0.06567962417860154,\"y\":-4.050839612202398},{\"arrowcolor\":\"red\",\"arrowhead\":0,\"arrowsize\":1,\"arrowwidth\":1,\"ax\":-3.112165683715335,\"ay\":-19.756376812490306,\"opacity\":0.5,\"showarrow\":true,\"x\":-0.8097670637449986,\"y\":-4.010036430008508},{\"arrowcolor\":\"red\",\"arrowhead\":0,\"arrowsize\":1,\"arrowwidth\":1,\"ax\":-1.7169960114004739,\"ay\":-19.926161815483553,\"opacity\":0.5,\"showarrow\":true,\"x\":0.0738693117690149,\"y\":-2.213016521300109},{\"arrowcolor\":\"red\",\"arrowhead\":0,\"arrowsize\":1,\"arrowwidth\":1,\"ax\":4.755669421836502,\"ay\":-19.426363744926874,\"opacity\":0.5,\"showarrow\":true,\"x\":0.025730501616562814,\"y\":-2.586552859243982},{\"arrowcolor\":\"red\",\"arrowhead\":0,\"arrowsize\":1,\"arrowwidth\":1,\"ax\":4.625974934096666,\"ay\":-19.457655457662657,\"opacity\":0.5,\"showarrow\":true,\"x\":-0.3286880343417977,\"y\":-4.607351421444435},{\"arrowcolor\":\"red\",\"arrowhead\":0,\"arrowsize\":1,\"arrowwidth\":1,\"ax\":-2.2132326311033825,\"ay\":-19.87716280862586,\"opacity\":0.5,\"showarrow\":true,\"x\":1.650847287095881,\"y\":-4.492858473620703},{\"arrowcolor\":\"red\",\"arrowhead\":0,\"arrowsize\":1,\"arrowwidth\":1,\"ax\":-1.0717318740540163,\"ay\":-19.97126412599204,\"opacity\":0.5,\"showarrow\":true,\"x\":1.2594313166237963,\"y\":-5.073015402091889},{\"arrowcolor\":\"red\",\"arrowhead\":0,\"arrowsize\":1,\"arrowwidth\":1,\"ax\":-0.5129678996165375,\"ay\":-19.99342051610887,\"opacity\":0.5,\"showarrow\":true,\"x\":0.027480016150159988,\"y\":-1.5634448349679668},{\"arrowcolor\":\"red\",\"arrowhead\":0,\"arrowsize\":1,\"arrowwidth\":1,\"ax\":1.2541566683434464,\"ay\":-19.960638543174156,\"opacity\":0.5,\"showarrow\":true,\"x\":-0.7387456753236441,\"y\":-2.1508168636112375},{\"arrowcolor\":\"red\",\"arrowhead\":0,\"arrowsize\":1,\"arrowwidth\":1,\"ax\":-2.9908648083428635,\"ay\":-19.77510373419609,\"opacity\":0.5,\"showarrow\":true,\"x\":-2.294588779374407,\"y\":-5.432647537716127},{\"arrowcolor\":\"red\",\"arrowhead\":0,\"arrowsize\":1,\"arrowwidth\":1,\"ax\":-4.4991093135822835,\"ay\":-19.487380926754554,\"opacity\":0.5,\"showarrow\":true,\"x\":-0.02667350002843403,\"y\":-2.3523941915344997},{\"arrowcolor\":\"red\",\"arrowhead\":0,\"arrowsize\":1,\"arrowwidth\":1,\"ax\":1.2199976463175428,\"ay\":-19.962755464689227,\"opacity\":0.5,\"showarrow\":true,\"x\":-0.44494830411965663,\"y\":-5.0995935167293585},{\"arrowcolor\":\"red\",\"arrowhead\":0,\"arrowsize\":1,\"arrowwidth\":1,\"ax\":2.1744126109474284,\"ay\":-19.881446873840765,\"opacity\":0.5,\"showarrow\":true,\"x\":-1.2456923380291554,\"y\":-4.976146323054517},{\"arrowcolor\":\"red\",\"arrowhead\":0,\"arrowsize\":1,\"arrowwidth\":1,\"ax\":-3.673643694465204,\"ay\":-19.659713680674905,\"opacity\":0.5,\"showarrow\":true,\"x\":3.3091370260289685,\"y\":-5.88313187829596},{\"arrowcolor\":\"red\",\"arrowhead\":0,\"arrowsize\":1,\"arrowwidth\":1,\"ax\":-4.6806227560815215,\"ay\":-19.444582037556163,\"opacity\":0.5,\"showarrow\":true,\"x\":0.14212687238097219,\"y\":-1.7708078122890414},{\"arrowcolor\":\"red\",\"arrowhead\":0,\"arrowsize\":1,\"arrowwidth\":1,\"ax\":3.318321691320482,\"ay\":-19.72279749814696,\"opacity\":0.5,\"showarrow\":true,\"x\":-4.548250533030807,\"y\":-5.932464132362617},{\"arrowcolor\":\"red\",\"arrowhead\":0,\"arrowsize\":1,\"arrowwidth\":1,\"ax\":-1.780253754520674,\"ay\":-19.920609844317394,\"opacity\":0.5,\"showarrow\":true,\"x\":0.8836752971337648,\"y\":-6.089629713772752},{\"arrowcolor\":\"red\",\"arrowhead\":0,\"arrowsize\":1,\"arrowwidth\":1,\"ax\":1.2878782580225185,\"ay\":-19.958491165228722,\"opacity\":0.5,\"showarrow\":true,\"x\":-1.0438101182212005,\"y\":-5.572936252527174},{\"arrowcolor\":\"red\",\"arrowhead\":0,\"arrowsize\":1,\"arrowwidth\":1,\"ax\":-1.9743576081733503,\"ay\":-19.902309213632673,\"opacity\":0.5,\"showarrow\":true,\"x\":-0.08617655866489826,\"y\":-1.0416143559717483},{\"arrowcolor\":\"red\",\"arrowhead\":0,\"arrowsize\":1,\"arrowwidth\":1,\"ax\":-2.234225836863681,\"ay\":-19.87481408491387,\"opacity\":0.5,\"showarrow\":true,\"x\":0.8170636939244387,\"y\":-4.943921247295076},{\"arrowcolor\":\"red\",\"arrowhead\":0,\"arrowsize\":1,\"arrowwidth\":1,\"ax\":-0.5114870054411638,\"ay\":-19.993458456286767,\"opacity\":0.5,\"showarrow\":true,\"x\":0.39358503343728185,\"y\":-4.6388427927099976},{\"arrowcolor\":\"red\",\"arrowhead\":0,\"arrowsize\":1,\"arrowwidth\":1,\"ax\":6.021669841214968,\"ay\":-19.07195565020541,\"opacity\":0.5,\"showarrow\":true,\"x\":-0.48702290996656844,\"y\":-2.2243099903712866},{\"arrowcolor\":\"red\",\"arrowhead\":0,\"arrowsize\":1,\"arrowwidth\":1,\"ax\":-3.4951829595221207,\"ay\":-19.692224254244774,\"opacity\":0.5,\"showarrow\":true,\"x\":0.6256595399815971,\"y\":-5.937528275692381},{\"arrowcolor\":\"red\",\"arrowhead\":0,\"arrowsize\":1,\"arrowwidth\":1,\"ax\":7.8635161167498815,\"ay\":-18.38926627904482,\"opacity\":0.5,\"showarrow\":true,\"x\":-0.28795750905716294,\"y\":-1.0725864696721945},{\"arrowcolor\":\"red\",\"arrowhead\":0,\"arrowsize\":1,\"arrowwidth\":1,\"ax\":-1.191129167227415,\"ay\":-19.964498774248757,\"opacity\":0.5,\"showarrow\":true,\"x\":2.250653255821625,\"y\":-4.666878702563219},{\"arrowcolor\":\"red\",\"arrowhead\":0,\"arrowsize\":1,\"arrowwidth\":1,\"ax\":-0.2626660605193111,\"ay\":-19.998275089133344,\"opacity\":0.5,\"showarrow\":true,\"x\":-1.2843523283430593,\"y\":-2.792996444851313},{\"arrowcolor\":\"red\",\"arrowhead\":0,\"arrowsize\":1,\"arrowwidth\":1,\"ax\":-3.0280503838319777,\"ay\":-19.769443868581003,\"opacity\":0.5,\"showarrow\":true,\"x\":1.1207984100431865,\"y\":-3.090921407834069},{\"arrowcolor\":\"red\",\"arrowhead\":0,\"arrowsize\":1,\"arrowwidth\":1,\"ax\":-3.0055661109456104,\"ay\":-19.77287466082601,\"opacity\":0.5,\"showarrow\":true,\"x\":1.6230039528120803,\"y\":-3.532386113177649},{\"arrowcolor\":\"red\",\"arrowhead\":0,\"arrowsize\":1,\"arrowwidth\":1,\"ax\":2.0124297571032375,\"ay\":-19.898495583152144,\"opacity\":0.5,\"showarrow\":true,\"x\":-2.8323007549359542,\"y\":-4.406382033666268},{\"arrowcolor\":\"red\",\"arrowhead\":0,\"arrowsize\":1,\"arrowwidth\":1,\"ax\":1.7463024807921532,\"ay\":-19.92361482376075,\"opacity\":0.5,\"showarrow\":true,\"x\":-1.2597001518299638,\"y\":-4.991497851551584},{\"arrowcolor\":\"red\",\"arrowhead\":0,\"arrowsize\":1,\"arrowwidth\":1,\"ax\":1.4242326791707565,\"ay\":-19.94922457830334,\"opacity\":0.5,\"showarrow\":true,\"x\":-0.5301125636035624,\"y\":-3.5702923455578204},{\"arrowcolor\":\"red\",\"arrowhead\":0,\"arrowsize\":1,\"arrowwidth\":1,\"ax\":1.312235130028005,\"ay\":-19.956904543629015,\"opacity\":0.5,\"showarrow\":true,\"x\":-0.9724642529035016,\"y\":-3.5643905081753244},{\"arrowcolor\":\"red\",\"arrowhead\":0,\"arrowsize\":1,\"arrowwidth\":1,\"ax\":2.442368563859332,\"ay\":-19.850310722965315,\"opacity\":0.5,\"showarrow\":true,\"x\":-2.9274721939294333,\"y\":-4.589601921518101},{\"arrowcolor\":\"red\",\"arrowhead\":0,\"arrowsize\":1,\"arrowwidth\":1,\"ax\":1.6081866674778391,\"ay\":-19.935238539895792,\"opacity\":0.5,\"showarrow\":true,\"x\":0.28553705771232646,\"y\":-1.5577564552090277},{\"arrowcolor\":\"red\",\"arrowhead\":0,\"arrowsize\":1,\"arrowwidth\":1,\"ax\":6.695171638622535,\"ay\":-18.84607855044079,\"opacity\":0.5,\"showarrow\":true,\"x\":-3.0947760310777848,\"y\":-4.831730352219439},{\"arrowcolor\":\"red\",\"arrowhead\":0,\"arrowsize\":1,\"arrowwidth\":1,\"ax\":-1.422774988877002,\"ay\":-19.949328593489707,\"opacity\":0.5,\"showarrow\":true,\"x\":-0.7046626818540637,\"y\":-4.804105159447032},{\"arrowcolor\":\"red\",\"arrowhead\":0,\"arrowsize\":1,\"arrowwidth\":1,\"ax\":-1.7013406998553098,\"ay\":-19.927504606021696,\"opacity\":0.5,\"showarrow\":true,\"x\":-1.8945356462128031,\"y\":-3.6462991838735475},{\"arrowcolor\":\"red\",\"arrowhead\":0,\"arrowsize\":1,\"arrowwidth\":1,\"ax\":1.9892746430891617,\"ay\":-19.90082376170299,\"opacity\":0.5,\"showarrow\":true,\"x\":1.2624180192576968,\"y\":-5.052463343061147},{\"arrowcolor\":\"red\",\"arrowhead\":0,\"arrowsize\":1,\"arrowwidth\":1,\"ax\":-0.5130670235776862,\"ay\":-19.99341797265583,\"opacity\":0.5,\"showarrow\":true,\"x\":-0.2466037563488631,\"y\":-0.9252254149215414},{\"arrowcolor\":\"red\",\"arrowhead\":0,\"arrowsize\":1,\"arrowwidth\":1,\"ax\":3.1928836840872705,\"ay\":-19.74349244130555,\"opacity\":0.5,\"showarrow\":true,\"x\":-3.8363677568479146,\"y\":-5.5908581268956},{\"arrowcolor\":\"red\",\"arrowhead\":0,\"arrowsize\":1,\"arrowwidth\":1,\"ax\":1.9519693794394737,\"ay\":-19.904517465684282,\"opacity\":0.5,\"showarrow\":true,\"x\":-0.839349382281289,\"y\":-2.0829908671451265},{\"arrowcolor\":\"red\",\"arrowhead\":0,\"arrowsize\":1,\"arrowwidth\":1,\"ax\":-5.534185144394784,\"ay\":-19.219073723454002,\"opacity\":0.5,\"showarrow\":true,\"x\":0.5517795277185489,\"y\":-2.1333258567000284},{\"arrowcolor\":\"red\",\"arrowhead\":0,\"arrowsize\":1,\"arrowwidth\":1,\"ax\":5.5499210105697925,\"ay\":-19.214535559737996,\"opacity\":0.5,\"showarrow\":true,\"x\":-0.5636971649557571,\"y\":-3.456703586364695},{\"arrowcolor\":\"red\",\"arrowhead\":0,\"arrowsize\":1,\"arrowwidth\":1,\"ax\":-3.0923753000760263,\"ay\":-19.759484178578138,\"opacity\":0.5,\"showarrow\":true,\"x\":0.5295617416792211,\"y\":-1.7286514033722558},{\"arrowcolor\":\"red\",\"arrowhead\":0,\"arrowsize\":1,\"arrowwidth\":1,\"ax\":-5.863381613088774,\"ay\":-19.12121220161767,\"opacity\":0.5,\"showarrow\":true,\"x\":2.18298928624119,\"y\":-3.839346276893731},{\"arrowcolor\":\"red\",\"arrowhead\":0,\"arrowsize\":1,\"arrowwidth\":1,\"ax\":3.0935528300387958,\"ay\":-19.759299858237867,\"opacity\":0.5,\"showarrow\":true,\"x\":-0.40877873515706814,\"y\":-1.1917982525189006},{\"arrowcolor\":\"red\",\"arrowhead\":0,\"arrowsize\":1,\"arrowwidth\":1,\"ax\":2.3510367378903663,\"ay\":-19.861334956570513,\"opacity\":0.5,\"showarrow\":true,\"x\":-3.4179461953402455,\"y\":-6.050994121321975},{\"arrowcolor\":\"red\",\"arrowhead\":0,\"arrowsize\":1,\"arrowwidth\":1,\"ax\":2.2283245145284285,\"ay\":-19.87547659448577,\"opacity\":0.5,\"showarrow\":true,\"x\":-2.7081480189722686,\"y\":-4.39380258653537},{\"arrowcolor\":\"red\",\"arrowhead\":0,\"arrowsize\":1,\"arrowwidth\":1,\"ax\":6.7524846211951175,\"ay\":-18.825619549978253,\"opacity\":0.5,\"showarrow\":true,\"x\":-0.7974895328262482,\"y\":-2.6082521009996116},{\"arrowcolor\":\"red\",\"arrowhead\":0,\"arrowsize\":1,\"arrowwidth\":1,\"ax\":1.0078701394886864,\"ay\":-19.97458880132272,\"opacity\":0.5,\"showarrow\":true,\"x\":-0.5965764001986351,\"y\":-2.535208883771211},{\"arrowcolor\":\"red\",\"arrowhead\":0,\"arrowsize\":1,\"arrowwidth\":1,\"ax\":7.919737747930191,\"ay\":-18.36512330489533,\"opacity\":0.5,\"showarrow\":true,\"x\":-0.45890414881432834,\"y\":-2.3028725806483763},{\"arrowcolor\":\"red\",\"arrowhead\":0,\"arrowsize\":1,\"arrowwidth\":1,\"ax\":-1.6332208447485876,\"ay\":-19.933203196482964,\"opacity\":0.5,\"showarrow\":true,\"x\":-0.3853420263588895,\"y\":-1.4285537118285776},{\"arrowcolor\":\"red\",\"arrowhead\":0,\"arrowsize\":1,\"arrowwidth\":1,\"ax\":-2.325453862556859,\"ay\":-19.86434656194659,\"opacity\":0.5,\"showarrow\":true,\"x\":2.849908063568957,\"y\":-5.049415411482725},{\"arrowcolor\":\"red\",\"arrowhead\":0,\"arrowsize\":1,\"arrowwidth\":1,\"ax\":0.5010183252239675,\"ay\":-19.993723531093195,\"opacity\":0.5,\"showarrow\":true,\"x\":0.6039030907802672,\"y\":-0.9125169561549825},{\"arrowcolor\":\"red\",\"arrowhead\":0,\"arrowsize\":1,\"arrowwidth\":1,\"ax\":-8.019332843719711,\"ay\":-18.321853092458696,\"opacity\":0.5,\"showarrow\":true,\"x\":0.01787350764367306,\"y\":-2.762888860254114},{\"arrowcolor\":\"red\",\"arrowhead\":0,\"arrowsize\":1,\"arrowwidth\":1,\"ax\":2.198694105794786,\"ay\":-19.87877622564184,\"opacity\":0.5,\"showarrow\":true,\"x\":-3.8433614711296586,\"y\":-6.21604450562421},{\"arrowcolor\":\"red\",\"arrowhead\":0,\"arrowsize\":1,\"arrowwidth\":1,\"ax\":-2.5223689488623675,\"ay\":-19.84030380023993,\"opacity\":0.5,\"showarrow\":true,\"x\":-0.47124107270562565,\"y\":-0.953441456152663},{\"arrowcolor\":\"red\",\"arrowhead\":0,\"arrowsize\":1,\"arrowwidth\":1,\"ax\":-1.0873227784041513,\"ay\":-19.970421356986023,\"opacity\":0.5,\"showarrow\":true,\"x\":-0.5786939922870891,\"y\":-3.5134904205750197},{\"arrowcolor\":\"red\",\"arrowhead\":0,\"arrowsize\":1,\"arrowwidth\":1,\"ax\":3.022742447364733,\"ay\":-19.770256146466576,\"opacity\":0.5,\"showarrow\":true,\"x\":-1.02533381727462,\"y\":-2.367681703097181},{\"arrowcolor\":\"red\",\"arrowhead\":0,\"arrowsize\":1,\"arrowwidth\":1,\"ax\":2.7173882603363135,\"ay\":-19.814535095292708,\"opacity\":0.5,\"showarrow\":true,\"x\":-0.27174352326228207,\"y\":-2.9505929851821024},{\"arrowcolor\":\"red\",\"arrowhead\":0,\"arrowsize\":1,\"arrowwidth\":1,\"ax\":5.344704619542319,\"ay\":-19.272626508336714,\"opacity\":0.5,\"showarrow\":true,\"x\":-1.1991062188362727,\"y\":-5.651305103479837},{\"arrowcolor\":\"red\",\"arrowhead\":0,\"arrowsize\":1,\"arrowwidth\":1,\"ax\":0.7792064016091905,\"ay\":-19.984815170115816,\"opacity\":0.5,\"showarrow\":true,\"x\":-1.1434251389637238,\"y\":-6.171226880869497},{\"arrowcolor\":\"red\",\"arrowhead\":0,\"arrowsize\":1,\"arrowwidth\":1,\"ax\":3.973785798427516,\"ay\":-19.601250634289023,\"opacity\":0.5,\"showarrow\":true,\"x\":-3.2860066944611797,\"y\":-4.714052645406274},{\"arrowcolor\":\"red\",\"arrowhead\":0,\"arrowsize\":1,\"arrowwidth\":1,\"ax\":-3.5329329982619107,\"ay\":-19.685486644474707,\"opacity\":0.5,\"showarrow\":true,\"x\":2.426266051486594,\"y\":-4.644318407803806},{\"arrowcolor\":\"red\",\"arrowhead\":0,\"arrowsize\":1,\"arrowwidth\":1,\"ax\":-1.753944128608368,\"ay\":-19.92294355745958,\"opacity\":0.5,\"showarrow\":true,\"x\":-1.4209884879246075,\"y\":-3.9984835022694},{\"arrowcolor\":\"red\",\"arrowhead\":0,\"arrowsize\":1,\"arrowwidth\":1,\"ax\":-2.0739135997181193,\"ay\":-19.892181438467333,\"opacity\":0.5,\"showarrow\":true,\"x\":-0.9145795027813965,\"y\":-5.410792952920252},{\"arrowcolor\":\"red\",\"arrowhead\":0,\"arrowsize\":1,\"arrowwidth\":1,\"ax\":3.1533612899342858,\"ay\":-19.74984335571156,\"opacity\":0.5,\"showarrow\":true,\"x\":-1.257957100211273,\"y\":-4.088929554630283},{\"arrowcolor\":\"red\",\"arrowhead\":0,\"arrowsize\":1,\"arrowwidth\":1,\"ax\":0.3875014634809828,\"ay\":-19.996245713028237,\"opacity\":0.5,\"showarrow\":true,\"x\":0.2397839427276115,\"y\":-4.435318953292722},{\"arrowcolor\":\"red\",\"arrowhead\":0,\"arrowsize\":1,\"arrowwidth\":1,\"ax\":-1.7556518231692853,\"ay\":-19.922793144431388,\"opacity\":0.5,\"showarrow\":true,\"x\":-1.7119885889909765,\"y\":-3.1720890735499223},{\"arrowcolor\":\"red\",\"arrowhead\":0,\"arrowsize\":1,\"arrowwidth\":1,\"ax\":-8.003819183244042,\"ay\":-18.328635477905458,\"opacity\":0.5,\"showarrow\":true,\"x\":4.47916806494881,\"y\":-6.4308343248921584},{\"arrowcolor\":\"red\",\"arrowhead\":0,\"arrowsize\":1,\"arrowwidth\":1,\"ax\":-1.0104240629945147,\"ay\":-19.974459772742833,\"opacity\":0.5,\"showarrow\":true,\"x\":1.4026159541471503,\"y\":-3.8210498431760085},{\"arrowcolor\":\"red\",\"arrowhead\":0,\"arrowsize\":1,\"arrowwidth\":1,\"ax\":-5.909107874225706,\"ay\":-19.107130714232415,\"opacity\":0.5,\"showarrow\":true,\"x\":2.6505779715060673,\"y\":-5.1058548030472375},{\"arrowcolor\":\"red\",\"arrowhead\":0,\"arrowsize\":1,\"arrowwidth\":1,\"ax\":3.6277360275703674,\"ay\":-19.668236609169313,\"opacity\":0.5,\"showarrow\":true,\"x\":-1.2190232172017177,\"y\":-3.8479096763515614},{\"arrowcolor\":\"red\",\"arrowhead\":0,\"arrowsize\":1,\"arrowwidth\":1,\"ax\":2.4295628522500823,\"ay\":-19.851882136134257,\"opacity\":0.5,\"showarrow\":true,\"x\":-3.9878970872050625,\"y\":-5.044561886823058},{\"arrowcolor\":\"red\",\"arrowhead\":0,\"arrowsize\":1,\"arrowwidth\":1,\"ax\":-2.981658006048444,\"ay\":-19.77649401524363,\"opacity\":0.5,\"showarrow\":true,\"x\":-2.5876419981566947,\"y\":-6.169972703836444},{\"arrowcolor\":\"red\",\"arrowhead\":0,\"arrowsize\":1,\"arrowwidth\":1,\"ax\":-2.448369972385766,\"ay\":-19.849571392811477,\"opacity\":0.5,\"showarrow\":true,\"x\":0.1786799428697863,\"y\":-1.4399401924209219},{\"arrowcolor\":\"red\",\"arrowhead\":0,\"arrowsize\":1,\"arrowwidth\":1,\"ax\":1.1905474915377356,\"ay\":-19.96453346989088,\"opacity\":0.5,\"showarrow\":true,\"x\":-0.43436143205622035,\"y\":-3.5091444405419323},{\"arrowcolor\":\"red\",\"arrowhead\":0,\"arrowsize\":1,\"arrowwidth\":1,\"ax\":4.0203427788154285,\"ay\":-19.59175448858082,\"opacity\":0.5,\"showarrow\":true,\"x\":-2.5574799161118875,\"y\":-4.75976110917977},{\"arrowcolor\":\"red\",\"arrowhead\":0,\"arrowsize\":1,\"arrowwidth\":1,\"ax\":1.166954024132559,\"ay\":-19.965926432438863,\"opacity\":0.5,\"showarrow\":true,\"x\":0.04802920991763107,\"y\":-1.0271953328472616},{\"arrowcolor\":\"red\",\"arrowhead\":0,\"arrowsize\":1,\"arrowwidth\":1,\"ax\":-3.1088661924823926,\"ay\":-19.756896289580506,\"opacity\":0.5,\"showarrow\":true,\"x\":0.054589454446776105,\"y\":-1.6341261844420263},{\"arrowcolor\":\"red\",\"arrowhead\":0,\"arrowsize\":1,\"arrowwidth\":1,\"ax\":-2.2261993809247884,\"ay\":-19.875714737245804,\"opacity\":0.5,\"showarrow\":true,\"x\":0.5584168992608197,\"y\":-1.6918484902734428},{\"arrowcolor\":\"red\",\"arrowhead\":0,\"arrowsize\":1,\"arrowwidth\":1,\"ax\":-3.3454494428439165,\"ay\":-19.71821411855991,\"opacity\":0.5,\"showarrow\":true,\"x\":2.357600238604566,\"y\":-5.354440269005722},{\"arrowcolor\":\"red\",\"arrowhead\":0,\"arrowsize\":1,\"arrowwidth\":1,\"ax\":-4.097076779555722,\"ay\":-19.575851497761864,\"opacity\":0.5,\"showarrow\":true,\"x\":1.2943227253160074,\"y\":-2.5358335442253295},{\"arrowcolor\":\"red\",\"arrowhead\":0,\"arrowsize\":1,\"arrowwidth\":1,\"ax\":-0.668173134964411,\"ay\":-19.98883550039151,\"opacity\":0.5,\"showarrow\":true,\"x\":-2.233556430745453,\"y\":-4.042260518791725},{\"arrowcolor\":\"red\",\"arrowhead\":0,\"arrowsize\":1,\"arrowwidth\":1,\"ax\":2.1019873487381586,\"ay\":-19.889234504770283,\"opacity\":0.5,\"showarrow\":true,\"x\":0.125370762029011,\"y\":-1.0231358000758173},{\"arrowcolor\":\"red\",\"arrowhead\":0,\"arrowsize\":1,\"arrowwidth\":1,\"ax\":-2.595496074244126,\"ay\":-19.83086987826261,\"opacity\":0.5,\"showarrow\":true,\"x\":0.38077235455761105,\"y\":-6.19603379192589},{\"arrowcolor\":\"red\",\"arrowhead\":0,\"arrowsize\":1,\"arrowwidth\":1,\"ax\":0.18832509807154707,\"ay\":-19.999113321780953,\"opacity\":0.5,\"showarrow\":true,\"x\":-0.9087649306891966,\"y\":-2.8521267142352147},{\"arrowcolor\":\"red\",\"arrowhead\":0,\"arrowsize\":1,\"arrowwidth\":1,\"ax\":-1.4058266094274319,\"ay\":-19.95053010684743,\"opacity\":0.5,\"showarrow\":true,\"x\":-0.7401050474548143,\"y\":-3.7230802088419064},{\"arrowcolor\":\"red\",\"arrowhead\":0,\"arrowsize\":1,\"arrowwidth\":1,\"ax\":3.0869680488539326,\"ay\":-19.760329659835,\"opacity\":0.5,\"showarrow\":true,\"x\":-1.9083861979019832,\"y\":-3.4528873648484635},{\"arrowcolor\":\"red\",\"arrowhead\":0,\"arrowsize\":1,\"arrowwidth\":1,\"ax\":-2.198977471041325,\"ay\":-19.878744881955015,\"opacity\":0.5,\"showarrow\":true,\"x\":-0.4370309051936108,\"y\":-2.3085281218865963},{\"arrowcolor\":\"red\",\"arrowhead\":0,\"arrowsize\":1,\"arrowwidth\":1,\"ax\":1.1091149481000313,\"ay\":-19.969222920081318,\"opacity\":0.5,\"showarrow\":true,\"x\":0.009834884492097998,\"y\":-1.3836758871245582},{\"arrowcolor\":\"red\",\"arrowhead\":0,\"arrowsize\":1,\"arrowwidth\":1,\"ax\":2.040458458984854,\"ay\":-19.895640961707095,\"opacity\":0.5,\"showarrow\":true,\"x\":0.5135734004337579,\"y\":-2.8229636377534675},{\"arrowcolor\":\"red\",\"arrowhead\":0,\"arrowsize\":1,\"arrowwidth\":1,\"ax\":3.0633919397720737,\"ay\":-19.76399832582819,\"opacity\":0.5,\"showarrow\":true,\"x\":-1.5439164286693308,\"y\":-2.985197121265853},{\"arrowcolor\":\"red\",\"arrowhead\":0,\"arrowsize\":1,\"arrowwidth\":1,\"ax\":-0.9046285041793829,\"ay\":-19.979530706936693,\"opacity\":0.5,\"showarrow\":true,\"x\":-1.20296462505352,\"y\":-2.48531244020195},{\"arrowcolor\":\"red\",\"arrowhead\":0,\"arrowsize\":1,\"arrowwidth\":1,\"ax\":6.619668947201078,\"ay\":-18.872731202172666,\"opacity\":0.5,\"showarrow\":true,\"x\":-2.775570200510062,\"y\":-5.472851845680551},{\"arrowcolor\":\"red\",\"arrowhead\":0,\"arrowsize\":1,\"arrowwidth\":1,\"ax\":-1.041032912259404,\"ay\":-19.972887885220622,\"opacity\":0.5,\"showarrow\":true,\"x\":0.5774028359207777,\"y\":-2.956461283421654},{\"arrowcolor\":\"red\",\"arrowhead\":0,\"arrowsize\":1,\"arrowwidth\":1,\"ax\":0.45635162594117085,\"ay\":-19.994792901990778,\"opacity\":0.5,\"showarrow\":true,\"x\":0.0647980541248909,\"y\":-1.537742960160935},{\"arrowcolor\":\"red\",\"arrowhead\":0,\"arrowsize\":1,\"arrowwidth\":1,\"ax\":5.043622296730392,\"ay\":-19.353601063572743,\"opacity\":0.5,\"showarrow\":true,\"x\":-1.418872768336794,\"y\":-4.210316694374083},{\"arrowcolor\":\"red\",\"arrowhead\":0,\"arrowsize\":1,\"arrowwidth\":1,\"ax\":1.2018846691882057,\"ay\":-19.96385416802002,\"opacity\":0.5,\"showarrow\":true,\"x\":0.11930692545890637,\"y\":-1.602641189235715},{\"arrowcolor\":\"red\",\"arrowhead\":0,\"arrowsize\":1,\"arrowwidth\":1,\"ax\":2.9821486815158975,\"ay\":-19.776420030969533,\"opacity\":0.5,\"showarrow\":true,\"x\":-1.358217980879844,\"y\":-2.7556286907307177},{\"arrowcolor\":\"red\",\"arrowhead\":0,\"arrowsize\":1,\"arrowwidth\":1,\"ax\":-0.1942956372464591,\"ay\":-19.999056207865085,\"opacity\":0.5,\"showarrow\":true,\"x\":-0.6649822608390898,\"y\":-5.824971851005798},{\"arrowcolor\":\"red\",\"arrowhead\":0,\"arrowsize\":1,\"arrowwidth\":1,\"ax\":7.219124179506261,\"ay\":-18.651655317447513,\"opacity\":0.5,\"showarrow\":true,\"x\":-0.17030761029529307,\"y\":-3.2759329513989703},{\"arrowcolor\":\"red\",\"arrowhead\":0,\"arrowsize\":1,\"arrowwidth\":1,\"ax\":-6.660268795702178,\"ay\":-18.858441599692057,\"opacity\":0.5,\"showarrow\":true,\"x\":3.223285904551011,\"y\":-5.498402048981475},{\"arrowcolor\":\"red\",\"arrowhead\":0,\"arrowsize\":1,\"arrowwidth\":1,\"ax\":6.870221833711191,\"ay\":-18.782972394048766,\"opacity\":0.5,\"showarrow\":true,\"x\":-1.6248214731672264,\"y\":-3.218541947822595},{\"arrowcolor\":\"red\",\"arrowhead\":0,\"arrowsize\":1,\"arrowwidth\":1,\"ax\":-2.4246540375651007,\"ay\":-19.8524822830325,\"opacity\":0.5,\"showarrow\":true,\"x\":0.06308435522924086,\"y\":-1.3615110811921947},{\"arrowcolor\":\"red\",\"arrowhead\":0,\"arrowsize\":1,\"arrowwidth\":1,\"ax\":-5.872236938164961,\"ay\":-19.118494536496616,\"opacity\":0.5,\"showarrow\":true,\"x\":2.759724275483457,\"y\":-3.938477238144874},{\"arrowcolor\":\"red\",\"arrowhead\":0,\"arrowsize\":1,\"arrowwidth\":1,\"ax\":1.5547013967867973,\"ay\":-19.939481025513906,\"opacity\":0.5,\"showarrow\":true,\"x\":0.8121586663208988,\"y\":-0.7890706087065336},{\"arrowcolor\":\"red\",\"arrowhead\":0,\"arrowsize\":1,\"arrowwidth\":1,\"ax\":-3.7900026867206904,\"ay\":-19.637613898705972,\"opacity\":0.5,\"showarrow\":true,\"x\":2.015756012965926,\"y\":-6.1700801242693535},{\"arrowcolor\":\"red\",\"arrowhead\":0,\"arrowsize\":1,\"arrowwidth\":1,\"ax\":2.776980654065466,\"ay\":-19.80627118987686,\"opacity\":0.5,\"showarrow\":true,\"x\":-0.6823065677247178,\"y\":-2.0655259871364375},{\"arrowcolor\":\"red\",\"arrowhead\":0,\"arrowsize\":1,\"arrowwidth\":1,\"ax\":-1.8335226837266314,\"ay\":-19.915777528589235,\"opacity\":0.5,\"showarrow\":true,\"x\":-0.580948569570236,\"y\":-5.233534575512452},{\"arrowcolor\":\"red\",\"arrowhead\":0,\"arrowsize\":1,\"arrowwidth\":1,\"ax\":-0.5976949028957421,\"ay\":-19.991067025125307,\"opacity\":0.5,\"showarrow\":true,\"x\":1.3075816943674363,\"y\":-5.233515842525186},{\"arrowcolor\":\"red\",\"arrowhead\":0,\"arrowsize\":1,\"arrowwidth\":1,\"ax\":-6.355249221829913,\"ay\":-18.96340706013638,\"opacity\":0.5,\"showarrow\":true,\"x\":0.01544354036583793,\"y\":-5.679033559766064},{\"arrowcolor\":\"red\",\"arrowhead\":0,\"arrowsize\":1,\"arrowwidth\":1,\"ax\":3.0945379507504884,\"ay\":-19.75914560074309,\"opacity\":0.5,\"showarrow\":true,\"x\":-1.1933856105307101,\"y\":-2.381981373367141},{\"arrowcolor\":\"red\",\"arrowhead\":0,\"arrowsize\":1,\"arrowwidth\":1,\"ax\":2.7305351397287625,\"ay\":-19.81272767315764,\"opacity\":0.5,\"showarrow\":true,\"x\":-0.227281341868129,\"y\":-2.6234939029896416},{\"arrowcolor\":\"red\",\"arrowhead\":0,\"arrowsize\":1,\"arrowwidth\":1,\"ax\":-7.28833445110576,\"ay\":-18.62471962013992,\"opacity\":0.5,\"showarrow\":true,\"x\":5.194196219002173,\"y\":-6.52076903359772},{\"arrowcolor\":\"red\",\"arrowhead\":0,\"arrowsize\":1,\"arrowwidth\":1,\"ax\":-3.795086765176671,\"ay\":-19.636632003599313,\"opacity\":0.5,\"showarrow\":true,\"x\":1.4500029810336832,\"y\":-4.993521895304869},{\"arrowcolor\":\"red\",\"arrowhead\":0,\"arrowsize\":1,\"arrowwidth\":1,\"ax\":-5.412904167705638,\"ay\":-19.25358326315481,\"opacity\":0.5,\"showarrow\":true,\"x\":4.131826694048143,\"y\":-6.135753525441817},{\"arrowcolor\":\"red\",\"arrowhead\":0,\"arrowsize\":1,\"arrowwidth\":1,\"ax\":-3.1358658207267878,\"ay\":-19.752628826422004,\"opacity\":0.5,\"showarrow\":true,\"x\":-0.3928219284121292,\"y\":-2.3678736585781266},{\"arrowcolor\":\"red\",\"arrowhead\":0,\"arrowsize\":1,\"arrowwidth\":1,\"ax\":3.268568091135694,\"ay\":-19.73110393854357,\"opacity\":0.5,\"showarrow\":true,\"x\":-0.4274373144784816,\"y\":-1.8881225817975515},{\"arrowcolor\":\"red\",\"arrowhead\":0,\"arrowsize\":1,\"arrowwidth\":1,\"ax\":2.499368984899302,\"ay\":-19.843214323222018,\"opacity\":0.5,\"showarrow\":true,\"x\":0.9786081171239256,\"y\":-5.710839974866803},{\"arrowcolor\":\"red\",\"arrowhead\":0,\"arrowsize\":1,\"arrowwidth\":1,\"ax\":-0.02182813781051656,\"ay\":-19.999988088306445,\"opacity\":0.5,\"showarrow\":true,\"x\":-3.1255897358750433,\"y\":-5.1112512470482105},{\"arrowcolor\":\"red\",\"arrowhead\":0,\"arrowsize\":1,\"arrowwidth\":1,\"ax\":-6.035864498714686,\"ay\":-19.067468100226513,\"opacity\":0.5,\"showarrow\":true,\"x\":-0.17423551304996443,\"y\":-5.324742897399205},{\"arrowcolor\":\"red\",\"arrowhead\":0,\"arrowsize\":1,\"arrowwidth\":1,\"ax\":0.2394053903137121,\"ay\":-19.998567075145377,\"opacity\":0.5,\"showarrow\":true,\"x\":-2.962901196004382,\"y\":-5.033721248169005},{\"arrowcolor\":\"red\",\"arrowhead\":0,\"arrowsize\":1,\"arrowwidth\":1,\"ax\":8.13462468796258,\"ay\":-18.270957314437297,\"opacity\":0.5,\"showarrow\":true,\"x\":-1.4263023531730392,\"y\":-2.9572133133028577},{\"arrowcolor\":\"red\",\"arrowhead\":0,\"arrowsize\":1,\"arrowwidth\":1,\"ax\":-2.011398333523988,\"ay\":-19.898599868932912,\"opacity\":0.5,\"showarrow\":true,\"x\":0.5157661132680078,\"y\":-3.331497646104384},{\"arrowcolor\":\"red\",\"arrowhead\":0,\"arrowsize\":1,\"arrowwidth\":1,\"ax\":-3.7167328628226777,\"ay\":-19.65161308458962,\"opacity\":0.5,\"showarrow\":true,\"x\":-0.19909740900498657,\"y\":-1.1168691005901354},{\"arrowcolor\":\"red\",\"arrowhead\":0,\"arrowsize\":1,\"arrowwidth\":1,\"ax\":1.9518291438355675,\"ay\":-19.90453121762163,\"opacity\":0.5,\"showarrow\":true,\"x\":0.6478352865787538,\"y\":-5.392743326853317},{\"arrowcolor\":\"red\",\"arrowhead\":0,\"arrowsize\":1,\"arrowwidth\":1,\"ax\":-7.7415227808219145,\"ay\":-18.44095510091642,\"opacity\":0.5,\"showarrow\":true,\"x\":1.5753575034756702,\"y\":-6.589725813668949},{\"arrowcolor\":\"red\",\"arrowhead\":0,\"arrowsize\":1,\"arrowwidth\":1,\"ax\":4.7552572289976105,\"ay\":-19.426464647126764,\"opacity\":0.5,\"showarrow\":true,\"x\":-2.1806289177817613,\"y\":-5.665126630129862},{\"arrowcolor\":\"red\",\"arrowhead\":0,\"arrowsize\":1,\"arrowwidth\":1,\"ax\":-0.9671112930412405,\"ay\":-19.976603709011002,\"opacity\":0.5,\"showarrow\":true,\"x\":-0.14217995869701472,\"y\":-1.032507075680528},{\"arrowcolor\":\"red\",\"arrowhead\":0,\"arrowsize\":1,\"arrowwidth\":1,\"ax\":2.592474496906012,\"ay\":-19.831265113020194,\"opacity\":0.5,\"showarrow\":true,\"x\":-1.5525614772467726,\"y\":-3.2131895814140554},{\"arrowcolor\":\"red\",\"arrowhead\":0,\"arrowsize\":1,\"arrowwidth\":1,\"ax\":-7.223568074489634,\"ay\":-18.64993469889946,\"opacity\":0.5,\"showarrow\":true,\"x\":4.016123286548721,\"y\":-6.517933372680577},{\"arrowcolor\":\"red\",\"arrowhead\":0,\"arrowsize\":1,\"arrowwidth\":1,\"ax\":-1.6819048671383772,\"ay\":-19.92915442305308,\"opacity\":0.5,\"showarrow\":true,\"x\":1.038518750525667,\"y\":-2.7355570052132543},{\"arrowcolor\":\"red\",\"arrowhead\":0,\"arrowsize\":1,\"arrowwidth\":1,\"ax\":4.68678661849924,\"ay\":-19.443097263364614,\"opacity\":0.5,\"showarrow\":true,\"x\":-2.578414380726696,\"y\":-5.103478751790943},{\"arrowcolor\":\"red\",\"arrowhead\":0,\"arrowsize\":1,\"arrowwidth\":1,\"ax\":0.3586208815526038,\"ay\":-19.996784518099766,\"opacity\":0.5,\"showarrow\":true,\"x\":0.23003528381818772,\"y\":-1.261934983220301},{\"arrowcolor\":\"red\",\"arrowhead\":0,\"arrowsize\":1,\"arrowwidth\":1,\"ax\":1.3911741635740573,\"ay\":-19.951557193527627,\"opacity\":0.5,\"showarrow\":true,\"x\":0.04268445373311852,\"y\":-1.451775225081127},{\"arrowcolor\":\"red\",\"arrowhead\":0,\"arrowsize\":1,\"arrowwidth\":1,\"ax\":-1.4065705009932965,\"ay\":-19.950477674124382,\"opacity\":0.5,\"showarrow\":true,\"x\":-0.49678996062752623,\"y\":-1.2238368288095345},{\"arrowcolor\":\"red\",\"arrowhead\":0,\"arrowsize\":1,\"arrowwidth\":1,\"ax\":-2.583565611301772,\"ay\":-19.832427706463445,\"opacity\":0.5,\"showarrow\":true,\"x\":-0.3690276197668355,\"y\":-1.8348131364965354},{\"arrowcolor\":\"red\",\"arrowhead\":0,\"arrowsize\":1,\"arrowwidth\":1,\"ax\":6.548436299415168,\"ay\":-18.897565505442806,\"opacity\":0.5,\"showarrow\":true,\"x\":-2.934515378347046,\"y\":-4.2649628103537225},{\"arrowcolor\":\"red\",\"arrowhead\":0,\"arrowsize\":1,\"arrowwidth\":1,\"ax\":1.2812398120309596,\"ay\":-19.958918421198753,\"opacity\":0.5,\"showarrow\":true,\"x\":0.6284900680397686,\"y\":-3.5224116500264198},{\"arrowcolor\":\"red\",\"arrowhead\":0,\"arrowsize\":1,\"arrowwidth\":1,\"ax\":-2.3818014772326026,\"ay\":-19.857669090884073,\"opacity\":0.5,\"showarrow\":true,\"x\":0.26896913819379914,\"y\":-5.250917112601164},{\"arrowcolor\":\"red\",\"arrowhead\":0,\"arrowsize\":1,\"arrowwidth\":1,\"ax\":-5.450416148975631,\"ay\":-19.24299778628542,\"opacity\":0.5,\"showarrow\":true,\"x\":0.7455858692902493,\"y\":-2.763736320887213},{\"arrowcolor\":\"red\",\"arrowhead\":0,\"arrowsize\":1,\"arrowwidth\":1,\"ax\":-3.1422580196429877,\"ay\":-19.751612960413873,\"opacity\":0.5,\"showarrow\":true,\"x\":-0.943899291151712,\"y\":-2.921468617134114},{\"arrowcolor\":\"red\",\"arrowhead\":0,\"arrowsize\":1,\"arrowwidth\":1,\"ax\":2.9618548294441274,\"ay\":-19.779469557328845,\"opacity\":0.5,\"showarrow\":true,\"x\":-0.21582911964928905,\"y\":-3.5411983274960277},{\"arrowcolor\":\"red\",\"arrowhead\":0,\"arrowsize\":1,\"arrowwidth\":1,\"ax\":-4.640107815465865,\"ay\":-19.454290001458613,\"opacity\":0.5,\"showarrow\":true,\"x\":0.26219777515136283,\"y\":-3.2211847848778508},{\"arrowcolor\":\"red\",\"arrowhead\":0,\"arrowsize\":1,\"arrowwidth\":1,\"ax\":0.4156878469670927,\"ay\":-19.99567962370581,\"opacity\":0.5,\"showarrow\":true,\"x\":-0.38950852390931007,\"y\":-2.9389643935481287},{\"arrowcolor\":\"red\",\"arrowhead\":0,\"arrowsize\":1,\"arrowwidth\":1,\"ax\":-2.3403569892032365,\"ay\":-19.862596234205828,\"opacity\":0.5,\"showarrow\":true,\"x\":1.3267070967840728,\"y\":-3.731737955002591},{\"arrowcolor\":\"red\",\"arrowhead\":0,\"arrowsize\":1,\"arrowwidth\":1,\"ax\":-2.482992878514027,\"ay\":-19.845270125781827,\"opacity\":0.5,\"showarrow\":true,\"x\":0.6617172873938332,\"y\":-3.0958326945754986},{\"arrowcolor\":\"red\",\"arrowhead\":0,\"arrowsize\":1,\"arrowwidth\":1,\"ax\":-7.758177105363545,\"ay\":-18.433954757506946,\"opacity\":0.5,\"showarrow\":true,\"x\":0.7453565737334361,\"y\":-2.394581851244621},{\"arrowcolor\":\"red\",\"arrowhead\":0,\"arrowsize\":1,\"arrowwidth\":1,\"ax\":1.6108575740900533,\"ay\":-19.935022896299785,\"opacity\":0.5,\"showarrow\":true,\"x\":1.2070290921760665,\"y\":-4.9734060608278705},{\"arrowcolor\":\"red\",\"arrowhead\":0,\"arrowsize\":1,\"arrowwidth\":1,\"ax\":-2.9251894490381662,\"ay\":-19.784925238353463,\"opacity\":0.5,\"showarrow\":true,\"x\":-0.8535956868802456,\"y\":-4.610470433800951},{\"arrowcolor\":\"red\",\"arrowhead\":0,\"arrowsize\":1,\"arrowwidth\":1,\"ax\":-2.213036059247898,\"ay\":-19.877184695033364,\"opacity\":0.5,\"showarrow\":true,\"x\":0.9968447725324298,\"y\":-3.406464228773592},{\"arrowcolor\":\"red\",\"arrowhead\":0,\"arrowsize\":1,\"arrowwidth\":1,\"ax\":-1.6944315010327748,\"ay\":-19.928093282808263,\"opacity\":0.5,\"showarrow\":true,\"x\":0.03736089975172786,\"y\":-1.6565834080715236},{\"arrowcolor\":\"red\",\"arrowhead\":0,\"arrowsize\":1,\"arrowwidth\":1,\"ax\":0.7730398763990297,\"ay\":-19.98505464965,\"opacity\":0.5,\"showarrow\":true,\"x\":-2.412840552418717,\"y\":-4.8164787035239405},{\"arrowcolor\":\"red\",\"arrowhead\":0,\"arrowsize\":1,\"arrowwidth\":1,\"ax\":3.154442323357066,\"ay\":-19.749670722030118,\"opacity\":0.5,\"showarrow\":true,\"x\":0.588617122720197,\"y\":-1.124381052593068},{\"arrowcolor\":\"red\",\"arrowhead\":0,\"arrowsize\":1,\"arrowwidth\":1,\"ax\":3.024502760126321,\"ay\":-19.76998692599437,\"opacity\":0.5,\"showarrow\":true,\"x\":-1.881435060176756,\"y\":-3.6912705886917427},{\"arrowcolor\":\"red\",\"arrowhead\":0,\"arrowsize\":1,\"arrowwidth\":1,\"ax\":2.769349604739001,\"ay\":-19.80733961860431,\"opacity\":0.5,\"showarrow\":true,\"x\":0.015055593883974256,\"y\":-2.242861821028834},{\"arrowcolor\":\"red\",\"arrowhead\":0,\"arrowsize\":1,\"arrowwidth\":1,\"ax\":0.41714155530816177,\"ay\":-19.995649349866962,\"opacity\":0.5,\"showarrow\":true,\"x\":-0.7023639609225562,\"y\":-2.5102784379474246},{\"arrowcolor\":\"red\",\"arrowhead\":0,\"arrowsize\":1,\"arrowwidth\":1,\"ax\":-4.256036588741074,\"ay\":-19.541907597655282,\"opacity\":0.5,\"showarrow\":true,\"x\":-0.5999809872079568,\"y\":-3.3669492725052885},{\"arrowcolor\":\"red\",\"arrowhead\":0,\"arrowsize\":1,\"arrowwidth\":1,\"ax\":0.4616709160323116,\"ay\":-19.994670789120033,\"opacity\":0.5,\"showarrow\":true,\"x\":-0.18610306585256553,\"y\":-1.2646833528048669},{\"arrowcolor\":\"red\",\"arrowhead\":0,\"arrowsize\":1,\"arrowwidth\":1,\"ax\":-1.1811067739982546,\"ay\":-19.965094209354874,\"opacity\":0.5,\"showarrow\":true,\"x\":1.5521400280767463,\"y\":-4.202712061389981},{\"arrowcolor\":\"red\",\"arrowhead\":0,\"arrowsize\":1,\"arrowwidth\":1,\"ax\":-0.6682423800846883,\"ay\":-19.98883318559287,\"opacity\":0.5,\"showarrow\":true,\"x\":-0.6687341527973623,\"y\":-2.216444507421218},{\"arrowcolor\":\"red\",\"arrowhead\":0,\"arrowsize\":1,\"arrowwidth\":1,\"ax\":0.10584900199694978,\"ay\":-19.999719897757974,\"opacity\":0.5,\"showarrow\":true,\"x\":-0.3067280997538081,\"y\":-1.5431815669692146},{\"arrowcolor\":\"red\",\"arrowhead\":0,\"arrowsize\":1,\"arrowwidth\":1,\"ax\":2.028733866604005,\"ay\":-19.896839922422203,\"opacity\":0.5,\"showarrow\":true,\"x\":0.2975807242344632,\"y\":-1.6176138051948383},{\"arrowcolor\":\"red\",\"arrowhead\":0,\"arrowsize\":1,\"arrowwidth\":1,\"ax\":-0.22989824763671313,\"ay\":-19.998678626242622,\"opacity\":0.5,\"showarrow\":true,\"x\":0.9743299953975245,\"y\":-3.262901613568878},{\"arrowcolor\":\"red\",\"arrowhead\":0,\"arrowsize\":1,\"arrowwidth\":1,\"ax\":-1.3523697029816395,\"ay\":-19.954225020943742,\"opacity\":0.5,\"showarrow\":true,\"x\":0.21052611258420567,\"y\":-1.0173994917696971},{\"arrowcolor\":\"red\",\"arrowhead\":0,\"arrowsize\":1,\"arrowwidth\":1,\"ax\":-5.658907110248725,\"ay\":-19.182720618243295,\"opacity\":0.5,\"showarrow\":true,\"x\":1.2938261753560703,\"y\":-4.767106262064168},{\"arrowcolor\":\"red\",\"arrowhead\":0,\"arrowsize\":1,\"arrowwidth\":1,\"ax\":4.8165098586713135,\"ay\":-19.41136864781363,\"opacity\":0.5,\"showarrow\":true,\"x\":-0.07895488912768865,\"y\":-3.807751419235279},{\"arrowcolor\":\"red\",\"arrowhead\":0,\"arrowsize\":1,\"arrowwidth\":1,\"ax\":0.6698148971758405,\"ay\":-19.988780553188363,\"opacity\":0.5,\"showarrow\":true,\"x\":0.2884642798258221,\"y\":-3.121585711824886},{\"arrowcolor\":\"red\",\"arrowhead\":0,\"arrowsize\":1,\"arrowwidth\":1,\"ax\":1.754080646718357,\"ay\":-19.922931538425967,\"opacity\":0.5,\"showarrow\":true,\"x\":-0.12026019355250579,\"y\":-3.0608438499616866},{\"arrowcolor\":\"red\",\"arrowhead\":0,\"arrowsize\":1,\"arrowwidth\":1,\"ax\":-1.946102230441776,\"ay\":-19.9050919643359,\"opacity\":0.5,\"showarrow\":true,\"x\":1.2656549710223022,\"y\":-3.643787691682273},{\"arrowcolor\":\"red\",\"arrowhead\":0,\"arrowsize\":1,\"arrowwidth\":1,\"ax\":-2.840457351623757,\"ay\":-19.79726753957744,\"opacity\":0.5,\"showarrow\":true,\"x\":-0.5828393934898369,\"y\":-0.9954948761207217},{\"arrowcolor\":\"red\",\"arrowhead\":0,\"arrowsize\":1,\"arrowwidth\":1,\"ax\":3.708564691350445,\"ay\":-19.65315618240665,\"opacity\":0.5,\"showarrow\":true,\"x\":-0.28401312505482035,\"y\":-4.420149994557283},{\"arrowcolor\":\"red\",\"arrowhead\":0,\"arrowsize\":1,\"arrowwidth\":1,\"ax\":6.217945091512945,\"ay\":-19.00887053033215,\"opacity\":0.5,\"showarrow\":true,\"x\":-0.0546269912281825,\"y\":-4.5382374846263},{\"arrowcolor\":\"red\",\"arrowhead\":0,\"arrowsize\":1,\"arrowwidth\":1,\"ax\":2.214562800408027,\"ay\":-19.877014655200334,\"opacity\":0.5,\"showarrow\":true,\"x\":0.6912834803516359,\"y\":-0.7769076872972106},{\"arrowcolor\":\"red\",\"arrowhead\":0,\"arrowsize\":1,\"arrowwidth\":1,\"ax\":3.958707526179,\"ay\":-19.604301434179533,\"opacity\":0.5,\"showarrow\":true,\"x\":-5.193391297429218,\"y\":-6.21092980135887},{\"arrowcolor\":\"red\",\"arrowhead\":0,\"arrowsize\":1,\"arrowwidth\":1,\"ax\":7.452107142344491,\"ay\":-18.55979792829163,\"opacity\":0.5,\"showarrow\":true,\"x\":-1.1223583886172532,\"y\":-5.688495668906994},{\"arrowcolor\":\"red\",\"arrowhead\":0,\"arrowsize\":1,\"arrowwidth\":1,\"ax\":-7.151328793737017,\"ay\":-18.67775405352228,\"opacity\":0.5,\"showarrow\":true,\"x\":0.4941824955591249,\"y\":-6.435814494223989},{\"arrowcolor\":\"red\",\"arrowhead\":0,\"arrowsize\":1,\"arrowwidth\":1,\"ax\":-2.223614806407012,\"ay\":-19.87600405495852,\"opacity\":0.5,\"showarrow\":true,\"x\":-0.24539315599034237,\"y\":-5.826458868855538},{\"arrowcolor\":\"red\",\"arrowhead\":0,\"arrowsize\":1,\"arrowwidth\":1,\"ax\":-0.7195442036320465,\"ay\":-19.98705221234536,\"opacity\":0.5,\"showarrow\":true,\"x\":-0.9448234561380076,\"y\":-2.241860022656726},{\"arrowcolor\":\"red\",\"arrowhead\":0,\"arrowsize\":1,\"arrowwidth\":1,\"ax\":-4.979692402041578,\"ay\":-19.370148775397915,\"opacity\":0.5,\"showarrow\":true,\"x\":0.8307313606287926,\"y\":-2.1033597370246038},{\"arrowcolor\":\"red\",\"arrowhead\":0,\"arrowsize\":1,\"arrowwidth\":1,\"ax\":-2.7067389569099665,\"ay\":-19.815992637744543,\"opacity\":0.5,\"showarrow\":true,\"x\":0.19419760958383875,\"y\":-1.740123616171212},{\"arrowcolor\":\"red\",\"arrowhead\":0,\"arrowsize\":1,\"arrowwidth\":1,\"ax\":-5.272742282653232,\"ay\":-19.292438643694602,\"opacity\":0.5,\"showarrow\":true,\"x\":-0.3267320373105487,\"y\":-5.017608501379393},{\"arrowcolor\":\"red\",\"arrowhead\":0,\"arrowsize\":1,\"arrowwidth\":1,\"ax\":3.5420003870607624,\"ay\":-19.683857174295422,\"opacity\":0.5,\"showarrow\":true,\"x\":-0.7747625228102717,\"y\":-5.542055861800522},{\"arrowcolor\":\"red\",\"arrowhead\":0,\"arrowsize\":1,\"arrowwidth\":1,\"ax\":6.362423490795064,\"ay\":-18.96100122155418,\"opacity\":0.5,\"showarrow\":true,\"x\":0.11050688539743209,\"y\":-0.6795876216950609},{\"arrowcolor\":\"red\",\"arrowhead\":0,\"arrowsize\":1,\"arrowwidth\":1,\"ax\":-1.1658462017894653,\"ay\":-19.96599115079873,\"opacity\":0.5,\"showarrow\":true,\"x\":0.04692539226283975,\"y\":-1.904037045767382},{\"arrowcolor\":\"red\",\"arrowhead\":0,\"arrowsize\":1,\"arrowwidth\":1,\"ax\":-2.6242004802630543,\"ay\":-19.82709186540949,\"opacity\":0.5,\"showarrow\":true,\"x\":-1.7173877708438148,\"y\":-5.568908335321875},{\"arrowcolor\":\"red\",\"arrowhead\":0,\"arrowsize\":1,\"arrowwidth\":1,\"ax\":-5.949300935533256,\"ay\":-19.09465418326457,\"opacity\":0.5,\"showarrow\":true,\"x\":2.4507954110408847,\"y\":-5.371336139225627},{\"arrowcolor\":\"red\",\"arrowhead\":0,\"arrowsize\":1,\"arrowwidth\":1,\"ax\":0.8447577204897895,\"ay\":-19.982151645748086,\"opacity\":0.5,\"showarrow\":true,\"x\":0.9363730281730377,\"y\":-4.772011832070376},{\"arrowcolor\":\"red\",\"arrowhead\":0,\"arrowsize\":1,\"arrowwidth\":1,\"ax\":0.2931835608514427,\"ay\":-19.997850969532863,\"opacity\":0.5,\"showarrow\":true,\"x\":-2.625709928596238,\"y\":-5.712686251984339},{\"arrowcolor\":\"red\",\"arrowhead\":0,\"arrowsize\":1,\"arrowwidth\":1,\"ax\":-1.355633983598164,\"ay\":-19.954003520660052,\"opacity\":0.5,\"showarrow\":true,\"x\":-0.9844958571676222,\"y\":-2.5060238111187},{\"arrowcolor\":\"red\",\"arrowhead\":0,\"arrowsize\":1,\"arrowwidth\":1,\"ax\":-3.387993587641502,\"ay\":-19.710948720193556,\"opacity\":0.5,\"showarrow\":true,\"x\":-0.018229493434174328,\"y\":-1.7692006757052117},{\"arrowcolor\":\"red\",\"arrowhead\":0,\"arrowsize\":1,\"arrowwidth\":1,\"ax\":-1.1406768076036649,\"ay\":-19.967444914675365,\"opacity\":0.5,\"showarrow\":true,\"x\":-0.1434075384685369,\"y\":-1.404290984988077},{\"arrowcolor\":\"red\",\"arrowhead\":0,\"arrowsize\":1,\"arrowwidth\":1,\"ax\":1.3147412456399312,\"ay\":-19.956739599869845,\"opacity\":0.5,\"showarrow\":true,\"x\":-0.4364534178065108,\"y\":-0.7995989517391079},{\"arrowcolor\":\"red\",\"arrowhead\":0,\"arrowsize\":1,\"arrowwidth\":1,\"ax\":-7.227818629117031,\"ay\":-18.648287799811243,\"opacity\":0.5,\"showarrow\":true,\"x\":0.4966586592496519,\"y\":-3.713196753624598},{\"arrowcolor\":\"red\",\"arrowhead\":0,\"arrowsize\":1,\"arrowwidth\":1,\"ax\":-6.9228376426854314,\"ay\":-18.763643542047415,\"opacity\":0.5,\"showarrow\":true,\"x\":1.2939098444103663,\"y\":-4.081266905483362},{\"arrowcolor\":\"red\",\"arrowhead\":0,\"arrowsize\":1,\"arrowwidth\":1,\"ax\":-1.0108682219192187,\"ay\":-19.97443729965663,\"opacity\":0.5,\"showarrow\":true,\"x\":-0.8623638403964161,\"y\":-2.29552575809607},{\"arrowcolor\":\"red\",\"arrowhead\":0,\"arrowsize\":1,\"arrowwidth\":1,\"ax\":0.29417074856089365,\"ay\":-19.997836472245968,\"opacity\":0.5,\"showarrow\":true,\"x\":0.5532763885291718,\"y\":-1.7319604746260155},{\"arrowcolor\":\"red\",\"arrowhead\":0,\"arrowsize\":1,\"arrowwidth\":1,\"ax\":0.8095622014751911,\"ay\":-19.983608509024155,\"opacity\":0.5,\"showarrow\":true,\"x\":-0.5708870776175986,\"y\":-0.8582057005626577},{\"arrowcolor\":\"red\",\"arrowhead\":0,\"arrowsize\":1,\"arrowwidth\":1,\"ax\":-0.3607575666523153,\"ay\":-19.996746084753468,\"opacity\":0.5,\"showarrow\":true,\"x\":0.6296358124190252,\"y\":-1.9832661935674025}],\"width\":800,\"height\":800},                        {\"responsive\": true}                    ).then(function(){\n",
       "                            \n",
       "var gd = document.getElementById('d7d968ac-051e-4b5f-8128-77e58d190776');\n",
       "var x = new MutationObserver(function (mutations, observer) {{\n",
       "        var display = window.getComputedStyle(gd).display;\n",
       "        if (!display || display === 'none') {{\n",
       "            console.log([gd, 'removed!']);\n",
       "            Plotly.purge(gd);\n",
       "            observer.disconnect();\n",
       "        }}\n",
       "}});\n",
       "\n",
       "// Listen for the removal of the full notebook cells\n",
       "var notebookContainer = gd.closest('#notebook-container');\n",
       "if (notebookContainer) {{\n",
       "    x.observe(notebookContainer, {childList: true});\n",
       "}}\n",
       "\n",
       "// Listen for the clearing of the current output cell\n",
       "var outputEl = gd.closest('.output');\n",
       "if (outputEl) {{\n",
       "    x.observe(outputEl, {childList: true});\n",
       "}}\n",
       "\n",
       "                        })                };                });            </script>        </div>"
      ]
     },
     "metadata": {},
     "output_type": "display_data"
    }
   ],
   "source": [
    "fig = pose_utils.compare_optical_poses(\n",
    "    d_true, theta_true, yaw_true, \n",
    "    d_list, theta_list, yaw_list, \n",
    "    yaw_viz_offset=np.pi/2.,\n",
    "#     footprint='small_scout_1'\n",
    "#     footprint='processing_plant'\n",
    "    footprint='small_excavator_1'\n",
    ")\n",
    "fig"
   ]
  },
  {
   "cell_type": "code",
   "execution_count": 27,
   "id": "b2bafa2f",
   "metadata": {},
   "outputs": [],
   "source": [
    "run['test/compare_poses'].upload(neptune.types.File.as_html(fig))\n",
    "run['test/compare_poses_png'].upload(neptune.types.File.as_image(fig))"
   ]
  },
  {
   "cell_type": "code",
   "execution_count": 28,
   "id": "31a91e98",
   "metadata": {},
   "outputs": [
    {
     "data": {
      "image/png": "[encoded data removed]",
      "text/plain": [
       "<Figure size 1440x720 with 6 Axes>"
      ]
     },
     "metadata": {
      "needs_background": "light"
     },
     "output_type": "display_data"
    }
   ],
   "source": [
    "fig = pose_utils.hist_errors(\n",
    "    d_true, theta_true, yaw_true, \n",
    "    d_list, theta_list, yaw_list\n",
    ")"
   ]
  },
  {
   "cell_type": "code",
   "execution_count": 29,
   "id": "f24a7d90",
   "metadata": {},
   "outputs": [],
   "source": [
    "run['test/error_hist'].upload(neptune.types.File.as_image(fig))"
   ]
  },
  {
   "cell_type": "code",
   "execution_count": 30,
   "id": "a18a1f8b",
   "metadata": {},
   "outputs": [
    {
     "name": "stdout",
     "output_type": "stream",
     "text": [
      "Shutting down background jobs, please wait a moment...\n",
      "Done!\n"
     ]
    },
    {
     "name": "stderr",
     "output_type": "stream",
     "text": [
      "Waiting for the remaining 6 operations to synchronize with Neptune. Do not kill this process.\n"
     ]
    },
    {
     "name": "stdout",
     "output_type": "stream",
     "text": [
      "All 6 operations synced, thanks for waiting!\n"
     ]
    }
   ],
   "source": [
    "run.stop()"
   ]
  },
  {
   "cell_type": "code",
   "execution_count": null,
   "id": "ebfa8b84",
   "metadata": {},
   "outputs": [],
   "source": []
  },
  {
   "cell_type": "code",
   "execution_count": null,
   "id": "4132c58a",
   "metadata": {},
   "outputs": [],
   "source": []
  },
  {
   "cell_type": "code",
   "execution_count": null,
   "id": "bf382873",
   "metadata": {},
   "outputs": [],
   "source": []
  }
 ],
 "metadata": {
  "kernelspec": {
   "display_name": "Python 3 (ipykernel)",
   "language": "python",
   "name": "python3"
  },
  "language_info": {
   "codemirror_mode": {
    "name": "ipython",
    "version": 3
   },
   "file_extension": ".py",
   "mimetype": "text/x-python",
   "name": "python",
   "nbconvert_exporter": "python",
   "pygments_lexer": "ipython3",
   "version": "3.8.10"
  }
 },
 "nbformat": 4,
 "nbformat_minor": 5
}
